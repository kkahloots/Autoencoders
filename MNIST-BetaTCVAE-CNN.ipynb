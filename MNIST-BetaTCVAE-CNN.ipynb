{
 "cells": [
  {
   "cell_type": "code",
   "execution_count": 1,
   "metadata": {},
   "outputs": [],
   "source": [
    "import warnings\n",
    "warnings.filterwarnings('ignore')"
   ]
  },
  {
   "cell_type": "markdown",
   "metadata": {},
   "source": [
    "# Prepare the Dataset"
   ]
  },
  {
   "cell_type": "code",
   "execution_count": 2,
   "metadata": {},
   "outputs": [],
   "source": [
    "dataset_name = 'MNIST'"
   ]
  },
  {
   "cell_type": "code",
   "execution_count": 3,
   "metadata": {
    "scrolled": true
   },
   "outputs": [
    {
     "name": "stderr",
     "output_type": "stream",
     "text": [
      "Using TensorFlow backend.\n"
     ]
    },
    {
     "name": "stdout",
     "output_type": "stream",
     "text": [
      "Dataset size (70000, 28, 28)\n"
     ]
    }
   ],
   "source": [
    "import numpy as np\n",
    "from keras.datasets import mnist\n",
    "(X, y), (X_test, y_test) = mnist.load_data()\n",
    "X = np.concatenate((X, X_test))\n",
    "y = np.concatenate((y, y_test))\n",
    "imgs = X\n",
    "del X_test\n",
    "del y_test\n",
    "\n",
    "print('Dataset size {}'.format(X.shape))\n"
   ]
  },
  {
   "cell_type": "markdown",
   "metadata": {},
   "source": [
    "# Beta TC VAE CNN"
   ]
  },
  {
   "cell_type": "code",
   "execution_count": 4,
   "metadata": {},
   "outputs": [],
   "source": [
    "%load_ext autoreload\n",
    "%autoreload 2"
   ]
  },
  {
   "cell_type": "code",
   "execution_count": null,
   "metadata": {},
   "outputs": [
    {
     "name": "stdout",
     "output_type": "stream",
     "text": [
      "\n",
      "WARNING: The TensorFlow contrib module will not be included in TensorFlow 2.0.\n",
      "For more information, please see:\n",
      "  * https://github.com/tensorflow/community/blob/master/rfcs/20180907-contrib-sunset.md\n",
      "  * https://github.com/tensorflow/addons\n",
      "If you depend on functionality not listed there, please file an issue.\n",
      "\n"
     ]
    }
   ],
   "source": [
    "from utils.constants import Models as models\n",
    "from models.AE import AE"
   ]
  },
  {
   "cell_type": "code",
   "execution_count": null,
   "metadata": {},
   "outputs": [
    {
     "name": "stdout",
     "output_type": "stream",
     "text": [
      "Unable to load previous configuration ...\n",
      "Saving Model Arguments ...\n"
     ]
    }
   ],
   "source": [
    "ae = AE(model_type=models.BTCVAE, dataset_name=dataset_name, hidden_dim=500, plot=True, isConv=True)"
   ]
  },
  {
   "cell_type": "code",
   "execution_count": null,
   "metadata": {
    "scrolled": true
   },
   "outputs": [
    {
     "name": "stdout",
     "output_type": "stream",
     "text": [
      "\n",
      "Processing data...\n",
      "Scaling dataset ... \n",
      "Creating dask array ... \n",
      "Preparing samples ...\n"
     ]
    },
    {
     "name": "stderr",
     "output_type": "stream",
     "text": [
      "Mixture of types in 'arrays'. Falling back to scikit-learn.\n"
     ]
    },
    {
     "name": "stdout",
     "output_type": "stream",
     "text": [
      "Training dataset shape:  (56000, 28, 28, 3)\n",
      "Validation dataset shape:  (14000, 28, 28, 3)\n",
      "Sample dataset shape:  (200, 28, 28, 3)\n",
      "building BTCVAE graph ... \n",
      "WARNING:tensorflow:From C:\\ProgramData\\Anaconda34\\envs\\gpu_env\\lib\\site-packages\\tensorflow\\python\\framework\\op_def_library.py:263: colocate_with (from tensorflow.python.framework.ops) is deprecated and will be removed in a future version.\n",
      "Instructions for updating:\n",
      "Colocations handled automatically by placer.\n",
      "\n",
      "[*] Defining encoders...\n",
      "WARNING:tensorflow:From C:\\Users\\KhalidKahlootBME\\Documents\\projects\\Autoencoders\\networks\\conv_net.py:41: conv2d (from tensorflow.python.layers.convolutional) is deprecated and will be removed in a future version.\n",
      "Instructions for updating:\n",
      "Use keras.layers.conv2d instead.\n",
      "[*] Layer ( encoder_mean/enmean__conv_1/Relu:0 ) output shape: [64, 14, 14, 32]\n",
      "WARNING:tensorflow:From C:\\Users\\KhalidKahlootBME\\Documents\\projects\\Autoencoders\\networks\\conv_net.py:82: batch_normalization (from tensorflow.python.layers.normalization) is deprecated and will be removed in a future version.\n",
      "Instructions for updating:\n",
      "Use keras.layers.batch_normalization instead.\n",
      "[*] Layer ( encoder_mean/enmean__conv_2/Relu:0 ) output shape: [64, 7, 7, 32]\n",
      "[*] Layer ( encoder_mean/enmean__conv_3/Relu:0 ) output shape: [64, 4, 4, 32]\n",
      "[*] Layer ( encoder_mean/enmean__conv_4/Relu:0 ) output shape: [64, 2, 2, 32]\n",
      "[*] Layer ( encoder_mean/enmean__conv_5/Relu:0 ) output shape: [64, 1, 1, 32]\n",
      "WARNING:tensorflow:From C:\\Users\\KhalidKahlootBME\\Documents\\projects\\Autoencoders\\networks\\conv_net.py:84: flatten (from tensorflow.python.layers.core) is deprecated and will be removed in a future version.\n",
      "Instructions for updating:\n",
      "Use keras.layers.flatten instead.\n",
      "\n",
      "WARNING:tensorflow:From C:\\Users\\KhalidKahlootBME\\Documents\\projects\\Autoencoders\\networks\\dense_net.py:63: dense (from tensorflow.python.layers.core) is deprecated and will be removed in a future version.\n",
      "Instructions for updating:\n",
      "Use keras.layers.dense instead.\n",
      "[*] Layer ( encoder_mean/enmean_dense_1/Relu:0 ) output shape: [64, 500]\n",
      "WARNING:tensorflow:From C:\\Users\\KhalidKahlootBME\\Documents\\projects\\Autoencoders\\networks\\dense_net.py:78: dropout (from tensorflow.python.layers.core) is deprecated and will be removed in a future version.\n",
      "Instructions for updating:\n",
      "Use keras.layers.dropout instead.\n",
      "[*] Layer ( encoder_mean/enmean_dense_1_dropout/Identity:0 ) output shape: [64, 500]\n",
      "[*] Layer ( encoder_mean/enmean_dense_2/Relu:0 ) output shape: [64, 500]\n",
      "[*] Layer ( encoder_mean/enmean_dense_2_dropout/Identity:0 ) output shape: [64, 500]\n",
      "[*] Layer ( encoder_mean/enmean_H2_batch_norm/batchnorm/add_1:0 ) output shape: [64, 500]\n",
      "[*] Layer ( encoder_mean/enmean_dense_3/BiasAdd:0 ) output shape: [64, 15]\n",
      "[*] Layer ( encoder_var/envar__conv_1/Relu:0 ) output shape: [64, 14, 14, 32]\n",
      "[*] Layer ( encoder_var/envar__conv_2/Relu:0 ) output shape: [64, 7, 7, 32]\n",
      "[*] Layer ( encoder_var/envar__conv_3/Relu:0 ) output shape: [64, 4, 4, 32]\n",
      "[*] Layer ( encoder_var/envar__conv_4/Relu:0 ) output shape: [64, 2, 2, 32]\n",
      "[*] Layer ( encoder_var/envar__conv_5/Relu:0 ) output shape: [64, 1, 1, 32]\n",
      "\n",
      "[*] Layer ( encoder_var/envar_dense_1/Relu:0 ) output shape: [64, 500]\n",
      "[*] Layer ( encoder_var/envar_dense_1_dropout/Identity:0 ) output shape: [64, 500]\n",
      "[*] Layer ( encoder_var/envar_dense_2/Relu:0 ) output shape: [64, 500]\n",
      "[*] Layer ( encoder_var/envar_dense_2_dropout/Identity:0 ) output shape: [64, 500]\n",
      "[*] Layer ( encoder_var/envar_H2_batch_norm/batchnorm/add_1:0 ) output shape: [64, 500]\n",
      "[*] Layer ( encoder_var/envar_dense_3/Softplus:0 ) output shape: [64, 15]\n",
      "\n",
      "[*] Reparameterization trick...\n",
      "\n",
      "[*] Defining decoder...\n",
      "\n",
      "[*] Layer ( decoder_mean/de_dense_1/Relu:0 ) output shape: [64, 45]\n",
      "[*] Layer ( decoder_mean/de_dense_1_dropout/Identity:0 ) output shape: [64, 45]\n",
      "[*] Layer ( decoder_mean/de_dense_2/Relu:0 ) output shape: [64, 45]\n",
      "[*] Layer ( decoder_mean/de_dense_2_dropout/Identity:0 ) output shape: [64, 45]\n",
      "[*] Layer ( decoder_mean/de_H2_batch_norm/batchnorm/add_1:0 ) output shape: [64, 45]\n",
      "[*] Layer ( decoder_mean/de_dense_3/Relu:0 ) output shape: [64, 3136]\n",
      "WARNING:tensorflow:From C:\\Users\\KhalidKahlootBME\\Documents\\projects\\Autoencoders\\networks\\deconv_net.py:41: conv2d_transpose (from tensorflow.python.layers.convolutional) is deprecated and will be removed in a future version.\n",
      "Instructions for updating:\n",
      "Use keras.layers.conv2d_transpose instead.\n",
      "[*] Layer ( decoder_mean/de__de__deconv_1/Relu:0 ) output shape: [64, 14, 14, 64]\n",
      "[*] Layer ( decoder_mean/de__de__deconv_2/Relu:0 ) output shape: [64, 28, 28, 32]\n",
      "[*] Layer ( decoder_mean/de__de__deconv_3/Relu:0 ) output shape: [64, 28, 28, 3]\n",
      "[*] Layer ( decoder_mean/de__de__deconv_4/Relu:0 ) output shape: [64, 28, 28, 3]\n",
      "[*] Layer ( decoder_mean/de__de__deconv_5/Relu:0 ) output shape: [64, 28, 28, 3]\n",
      "[*] Layer ( decoder_mean/de__de__deconv_6/Sigmoid:0 ) output shape: [64, 28, 28, 3]\n",
      "[*] Defining Loss Functions and Optimizer...\n",
      "WARNING:tensorflow:From C:\\ProgramData\\Anaconda34\\envs\\gpu_env\\lib\\site-packages\\tensorflow\\python\\ops\\math_ops.py:3066: to_int32 (from tensorflow.python.ops.math_ops) is deprecated and will be removed in a future version.\n",
      "Instructions for updating:\n",
      "Use tf.cast instead.\n",
      "<graphs.BetaTCVAE_graph.BTCVAEGraph object at 0x0000024B800635C0>\n",
      "\n",
      "Number of trainable paramters 933860\n",
      "Model does NOT exist\n",
      "Initializing Variables ...\n",
      "random sample batch ...\n",
      "random sample shape (64, 28, 28, 3)\n",
      "Saving Model Arguments ...\n",
      "\n",
      "Training a model...\n",
      "Model does NOT exist\n",
      "Initializing Variables ...\n",
      "EPOCH:  0\n"
     ]
    },
    {
     "name": "stderr",
     "output_type": "stream",
     "text": [
      "100%|████████████████████████████████████████████████████████████████████████████████| 875/875 [02:49<00:00,  5.20it/s]\n",
      "100%|████████████████████████████████████████████████████████████████████████████████| 218/218 [00:12<00:00, 17.00it/s]\n"
     ]
    },
    {
     "name": "stdout",
     "output_type": "stream",
     "text": [
      "TRAIN: \n",
      "Beta-TCVAE: 809.6696 | Beta-VAE: 2132.4668 | VAE: 742.3655 | AE: 587.9103 | reconstruction: 587.9087 | L2: 1453.6058 | \n",
      "EVALUATE: \n",
      "Beta-TCVAE: 731.38763 | Beta-VAE: 2080.7585 | VAE: 691.3389 | AE: 536.9591 | reconstruction: 536.95776 | L2: 1423.3248 | \n",
      "\n",
      "EPOCH:  1\n"
     ]
    },
    {
     "name": "stderr",
     "output_type": "stream",
     "text": [
      "100%|████████████████████████████████████████████████████████████████████████████████| 875/875 [02:48<00:00,  5.24it/s]\n",
      "100%|████████████████████████████████████████████████████████████████████████████████| 218/218 [00:12<00:00, 17.35it/s]\n"
     ]
    },
    {
     "name": "stdout",
     "output_type": "stream",
     "text": [
      "TRAIN: \n",
      "Beta-TCVAE: 719.1864 | Beta-VAE: 2171.593 | VAE: 685.76807 | AE: 520.676 | reconstruction: 520.67456 | L2: 1486.5051 | \n",
      "EVALUATE: \n",
      "Beta-TCVAE: 704.0673 | Beta-VAE: 2158.8308 | VAE: 670.6086 | AE: 505.24997 | reconstruction: 505.2485 | L2: 1567.2837 | \n",
      "\n",
      "Saving model...\n",
      "Model saved\n",
      "Generating latent space ...\n",
      "Scaling dataset ... \n",
      "Creating dask array ... \n",
      "Loading model checkpoint experiments/checkpoint_dir/BTCVAE_Conv_MNIST_lat15_h500_lay3_b100/-1750 ...\n",
      "\n",
      "WARNING:tensorflow:From C:\\ProgramData\\Anaconda34\\envs\\gpu_env\\lib\\site-packages\\tensorflow\\python\\training\\saver.py:1266: checkpoint_exists (from tensorflow.python.training.checkpoint_management) is deprecated and will be removed in a future version.\n",
      "Instructions for updating:\n",
      "Use standard file APIs to check for files with this prefix.\n",
      "INFO:tensorflow:Restoring parameters from experiments/checkpoint_dir/BTCVAE_Conv_MNIST_lat15_h500_lay3_b100/-1750\n",
      "Model loaded\n",
      "EPOCHS trained:  1\n"
     ]
    },
    {
     "name": "stderr",
     "output_type": "stream",
     "text": [
      "100%|███████████████████████████████████████████████████████████████████████████████| 875/875 [00:08<00:00, 106.46it/s]\n"
     ]
    },
    {
     "name": "stdout",
     "output_type": "stream",
     "text": [
      "Latent space dimensions: (56000, 2)\n",
      "Plotting latent space ...\n",
      "data size (56000, 2)\n"
     ]
    },
    {
     "name": "stderr",
     "output_type": "stream",
     "text": [
      "100%|██████████████████████████████████████████████████████████████████████████| 56000/56000 [00:10<00:00, 5166.94it/s]\n"
     ]
    },
    {
     "name": "stdout",
     "output_type": "stream",
     "text": [
      "Saving Image experiments/log_dir/BTCVAE_Conv_MNIST_lat15_h500_lay3_b100/BTCVAE_Conv_MNIST_lat15_h500_lay3_b100 latent epoch 1.jpg ...\n",
      "latent space dimensions: (56000, 3)\n",
      "Plotting latent space ...\n",
      "data size (56000, 3)\n"
     ]
    },
    {
     "name": "stderr",
     "output_type": "stream",
     "text": [
      "100%|██████████████████████████████████████████████████████████████████████████████████| 10/10 [00:00<00:00, 91.11it/s]\n"
     ]
    },
    {
     "name": "stdout",
     "output_type": "stream",
     "text": [
      "Saving Image experiments/log_dir/BTCVAE_Conv_MNIST_lat15_h500_lay3_b100/BTCVAE_Conv_MNIST_lat15_h500_lay3_b100 latent_3d epoch 1.jpg ...\n",
      "Reconstructing samples from Data ...\n",
      "Scaling dataset ... \n",
      "Creating dask array ... \n",
      "Loading model checkpoint experiments/checkpoint_dir/BTCVAE_Conv_MNIST_lat15_h500_lay3_b100/-1750 ...\n",
      "\n",
      "INFO:tensorflow:Restoring parameters from experiments/checkpoint_dir/BTCVAE_Conv_MNIST_lat15_h500_lay3_b100/-1750\n",
      "Model loaded\n",
      "EPOCHS trained:  1\n"
     ]
    },
    {
     "name": "stderr",
     "output_type": "stream",
     "text": [
      "4it [00:00, 32.34it/s]                                                                                                 \n"
     ]
    },
    {
     "name": "stdout",
     "output_type": "stream",
     "text": [
      "Loading model checkpoint experiments/checkpoint_dir/BTCVAE_Conv_MNIST_lat15_h500_lay3_b100/-1750 ...\n",
      "\n",
      "INFO:tensorflow:Restoring parameters from experiments/checkpoint_dir/BTCVAE_Conv_MNIST_lat15_h500_lay3_b100/-1750\n",
      "Model loaded\n",
      "EPOCHS trained:  1\n"
     ]
    },
    {
     "name": "stderr",
     "output_type": "stream",
     "text": [
      "4it [00:00, 28.05it/s]                                                                                                 \n"
     ]
    },
    {
     "name": "stdout",
     "output_type": "stream",
     "text": [
      "Saving Image  experiments/log_dir/BTCVAE_Conv_MNIST_lat15_h500_lay3_b100/BTCVAE_Conv_MNIST_lat15_h500_lay3_b100 samples reconstruction epoch 1.jpg\n",
      "EPOCH:  2\n"
     ]
    },
    {
     "name": "stderr",
     "output_type": "stream",
     "text": [
      "100%|████████████████████████████████████████████████████████████████████████████████| 875/875 [02:47<00:00,  5.08it/s]\n",
      "100%|████████████████████████████████████████████████████████████████████████████████| 218/218 [00:12<00:00, 17.53it/s]\n"
     ]
    },
    {
     "name": "stdout",
     "output_type": "stream",
     "text": [
      "TRAIN: \n",
      "Beta-TCVAE: 685.21124 | Beta-VAE: 2119.8323 | VAE: 652.1219 | AE: 489.04254 | reconstruction: 489.04095 | L2: 1649.6206 | \n",
      "EVALUATE: \n",
      "Beta-TCVAE: 673.42267 | Beta-VAE: 2123.6497 | VAE: 640.90576 | AE: 476.15628 | reconstruction: 476.15472 | L2: 1728.5625 | \n",
      "\n",
      "EPOCH:  3\n"
     ]
    },
    {
     "name": "stderr",
     "output_type": "stream",
     "text": [
      "100%|████████████████████████████████████████████████████████████████████████████████| 875/875 [02:50<00:00,  5.09it/s]\n",
      "100%|████████████████████████████████████████████████████████████████████████████████| 218/218 [00:12<00:00, 16.66it/s]\n"
     ]
    },
    {
     "name": "stdout",
     "output_type": "stream",
     "text": [
      "TRAIN: \n",
      "Beta-TCVAE: 652.6485 | Beta-VAE: 2059.0857 | VAE: 619.6448 | AE: 459.70737 | reconstruction: 459.70547 | L2: 1795.5829 | \n",
      "EVALUATE: \n",
      "Beta-TCVAE: 654.89636 | Beta-VAE: 2096.237 | VAE: 623.741 | AE: 460.1305 | reconstruction: 460.12857 | L2: 1868.8337 | \n",
      "\n",
      "EPOCH:  4\n"
     ]
    },
    {
     "name": "stderr",
     "output_type": "stream",
     "text": [
      "100%|████████████████████████████████████████████████████████████████████████████████| 875/875 [02:51<00:00,  5.15it/s]\n",
      "100%|████████████████████████████████████████████████████████████████████████████████| 218/218 [00:12<00:00, 17.13it/s]\n"
     ]
    },
    {
     "name": "stdout",
     "output_type": "stream",
     "text": [
      "TRAIN: \n",
      "Beta-TCVAE: 646.71826 | Beta-VAE: 2058.8965 | VAE: 613.7944 | AE: 453.22757 | reconstruction: 453.22586 | L2: 1932.3057 | \n",
      "EVALUATE: \n",
      "Beta-TCVAE: 642.569 | Beta-VAE: 2023.8827 | VAE: 607.4948 | AE: 450.11844 | reconstruction: 450.11664 | L2: 2008.945 | \n",
      "\n",
      "EPOCH:  5\n"
     ]
    },
    {
     "name": "stderr",
     "output_type": "stream",
     "text": [
      "100%|████████████████████████████████████████████████████████████████████████████████| 875/875 [02:52<00:00,  5.18it/s]\n",
      "100%|████████████████████████████████████████████████████████████████████████████████| 218/218 [00:12<00:00, 16.63it/s]\n"
     ]
    },
    {
     "name": "stdout",
     "output_type": "stream",
     "text": [
      "TRAIN: \n",
      "Beta-TCVAE: 660.287 | Beta-VAE: 2098.625 | VAE: 626.9072 | AE: 463.38297 | reconstruction: 463.3808 | L2: 2122.228 | \n",
      "EVALUATE: \n",
      "Beta-TCVAE: 670.04034 | Beta-VAE: 2180.1199 | VAE: 634.5805 | AE: 462.85364 | reconstruction: 462.8514 | L2: 2238.1626 | \n",
      "\n",
      "total loss Patience count:  1\n",
      "EPOCH:  6\n"
     ]
    },
    {
     "name": "stderr",
     "output_type": "stream",
     "text": [
      "100%|████████████████████████████████████████████████████████████████████████████████| 875/875 [02:55<00:00,  5.17it/s]\n",
      "100%|████████████████████████████████████████████████████████████████████████████████| 218/218 [00:14<00:00, 15.28it/s]\n"
     ]
    },
    {
     "name": "stdout",
     "output_type": "stream",
     "text": [
      "TRAIN: \n",
      "Beta-TCVAE: 650.9508 | Beta-VAE: 2094.1953 | VAE: 617.8708 | AE: 453.83444 | reconstruction: 453.83206 | L2: 2335.016 | \n",
      "EVALUATE: \n",
      "Beta-TCVAE: 634.70776 | Beta-VAE: 2074.6516 | VAE: 605.19586 | AE: 441.92337 | reconstruction: 441.9208 | L2: 2425.033 | \n",
      "\n",
      "EPOCH:  7\n"
     ]
    },
    {
     "name": "stderr",
     "output_type": "stream",
     "text": [
      "100%|████████████████████████████████████████████████████████████████████████████████| 875/875 [03:03<00:00,  4.92it/s]\n",
      "100%|████████████████████████████████████████████████████████████████████████████████| 218/218 [00:15<00:00, 14.73it/s]\n"
     ]
    },
    {
     "name": "stdout",
     "output_type": "stream",
     "text": [
      "TRAIN: \n",
      "Beta-TCVAE: 625.1578 | Beta-VAE: 2028.8904 | VAE: 592.2717 | AE: 432.64783 | reconstruction: 432.64554 | L2: 2491.9922 | \n",
      "EVALUATE: \n",
      "Beta-TCVAE: 623.28424 | Beta-VAE: 2031.4624 | VAE: 589.4739 | AE: 429.25302 | reconstruction: 429.25027 | L2: 2560.4028 | \n",
      "\n",
      "EPOCH:  8\n"
     ]
    },
    {
     "name": "stderr",
     "output_type": "stream",
     "text": [
      "100%|████████████████████████████████████████████████████████████████████████████████| 875/875 [02:54<00:00,  5.11it/s]\n",
      "100%|████████████████████████████████████████████████████████████████████████████████| 218/218 [00:12<00:00, 16.50it/s]\n"
     ]
    },
    {
     "name": "stdout",
     "output_type": "stream",
     "text": [
      "TRAIN: \n",
      "Beta-TCVAE: 625.1601 | Beta-VAE: 2027.737 | VAE: 592.1557 | AE: 432.64676 | reconstruction: 432.64438 | L2: 2627.9224 | \n",
      "EVALUATE: \n",
      "Beta-TCVAE: 623.7598 | Beta-VAE: 2018.1859 | VAE: 587.88306 | AE: 428.96048 | reconstruction: 428.9577 | L2: 2696.8684 | \n",
      "\n",
      "total loss Patience count:  1\n",
      "EPOCH:  9\n"
     ]
    },
    {
     "name": "stderr",
     "output_type": "stream",
     "text": [
      "100%|████████████████████████████████████████████████████████████████████████████████| 875/875 [02:56<00:00,  5.01it/s]\n",
      "100%|████████████████████████████████████████████████████████████████████████████████| 218/218 [00:13<00:00, 15.58it/s]\n"
     ]
    },
    {
     "name": "stdout",
     "output_type": "stream",
     "text": [
      "TRAIN: \n",
      "Beta-TCVAE: 628.907 | Beta-VAE: 2040.6335 | VAE: 595.75836 | AE: 435.2171 | reconstruction: 435.21405 | L2: 2793.9583 | \n",
      "EVALUATE: \n",
      "Beta-TCVAE: 617.47546 | Beta-VAE: 2014.83 | VAE: 586.6072 | AE: 427.9157 | reconstruction: 427.91263 | L2: 2880.814 | \n",
      "\n",
      "EPOCH:  10\n"
     ]
    },
    {
     "name": "stderr",
     "output_type": "stream",
     "text": [
      "100%|████████████████████████████████████████████████████████████████████████████████| 875/875 [02:50<00:00,  5.18it/s]\n",
      "100%|████████████████████████████████████████████████████████████████████████████████| 218/218 [00:12<00:00, 16.93it/s]\n"
     ]
    },
    {
     "name": "stdout",
     "output_type": "stream",
     "text": [
      "TRAIN: \n",
      "Beta-TCVAE: 621.461 | Beta-VAE: 2034.2826 | VAE: 588.6196 | AE: 427.99008 | reconstruction: 427.98718 | L2: 2953.9583 | \n",
      "EVALUATE: \n",
      "Beta-TCVAE: 626.4206 | Beta-VAE: 2044.6543 | VAE: 593.7962 | AE: 432.58972 | reconstruction: 432.5868 | L2: 3041.9143 | \n",
      "\n",
      "total loss Patience count:  1\n",
      "EPOCH:  11\n"
     ]
    },
    {
     "name": "stderr",
     "output_type": "stream",
     "text": [
      "100%|████████████████████████████████████████████████████████████████████████████████| 875/875 [02:49<00:00,  5.24it/s]\n",
      "100%|████████████████████████████████████████████████████████████████████████████████| 218/218 [00:12<00:00, 17.48it/s]\n"
     ]
    },
    {
     "name": "stdout",
     "output_type": "stream",
     "text": [
      "TRAIN: \n",
      "Beta-TCVAE: 618.38257 | Beta-VAE: 2024.6941 | VAE: 585.57794 | AE: 425.676 | reconstruction: 425.6732 | L2: 3116.8083 | \n",
      "EVALUATE: \n",
      "Beta-TCVAE: 611.2586 | Beta-VAE: 2071.0674 | VAE: 583.3884 | AE: 418.0909 | reconstruction: 418.0877 | L2: 3193.0178 | \n",
      "\n",
      "EPOCH:  12\n"
     ]
    },
    {
     "name": "stderr",
     "output_type": "stream",
     "text": [
      "100%|████████████████████████████████████████████████████████████████████████████████| 875/875 [02:48<00:00,  5.20it/s]\n",
      "100%|████████████████████████████████████████████████████████████████████████████████| 218/218 [00:12<00:00, 17.08it/s]\n"
     ]
    },
    {
     "name": "stdout",
     "output_type": "stream",
     "text": [
      "TRAIN: \n",
      "Beta-TCVAE: 614.4406 | Beta-VAE: 2015.7198 | VAE: 581.61273 | AE: 422.2672 | reconstruction: 422.26428 | L2: 3249.4775 | \n",
      "EVALUATE: \n",
      "Beta-TCVAE: 619.78973 | Beta-VAE: 2040.0107 | VAE: 589.55 | AE: 428.3876 | reconstruction: 428.38425 | L2: 3321.3535 | \n",
      "\n",
      "total loss Patience count:  1\n",
      "EPOCH:  13\n"
     ]
    },
    {
     "name": "stderr",
     "output_type": "stream",
     "text": [
      "100%|████████████████████████████████████████████████████████████████████████████████| 875/875 [02:48<00:00,  5.23it/s]\n",
      "100%|████████████████████████████████████████████████████████████████████████████████| 218/218 [00:12<00:00, 17.19it/s]\n"
     ]
    },
    {
     "name": "stdout",
     "output_type": "stream",
     "text": [
      "TRAIN: \n",
      "Beta-TCVAE: 611.01605 | Beta-VAE: 2017.9622 | VAE: 578.17896 | AE: 418.20352 | reconstruction: 418.20035 | L2: 3380.1655 | \n",
      "EVALUATE: \n",
      "Beta-TCVAE: 601.20306 | Beta-VAE: 1991.3605 | VAE: 568.8933 | AE: 410.84146 | reconstruction: 410.8378 | L2: 3444.183 | \n",
      "\n",
      "EPOCH:  14\n"
     ]
    },
    {
     "name": "stderr",
     "output_type": "stream",
     "text": [
      "100%|████████████████████████████████████████████████████████████████████████████████| 875/875 [02:49<00:00,  5.05it/s]\n",
      "100%|████████████████████████████████████████████████████████████████████████████████| 218/218 [00:12<00:00, 16.37it/s]\n"
     ]
    },
    {
     "name": "stdout",
     "output_type": "stream",
     "text": [
      "TRAIN: \n",
      "Beta-TCVAE: 608.52484 | Beta-VAE: 2017.3861 | VAE: 575.51965 | AE: 415.31216 | reconstruction: 415.30878 | L2: 3544.4731 | \n",
      "EVALUATE: \n",
      "Beta-TCVAE: 610.4836 | Beta-VAE: 2062.261 | VAE: 581.0424 | AE: 416.46255 | reconstruction: 416.45883 | L2: 3645.6294 | \n",
      "\n",
      "total loss Patience count:  1\n",
      "EPOCH:  15\n"
     ]
    },
    {
     "name": "stderr",
     "output_type": "stream",
     "text": [
      "100%|████████████████████████████████████████████████████████████████████████████████| 875/875 [02:49<00:00,  5.25it/s]\n",
      "100%|████████████████████████████████████████████████████████████████████████████████| 218/218 [00:12<00:00, 17.28it/s]\n"
     ]
    },
    {
     "name": "stdout",
     "output_type": "stream",
     "text": [
      "TRAIN: \n",
      "Beta-TCVAE: 607.9424 | Beta-VAE: 2006.43 | VAE: 574.9995 | AE: 415.95132 | reconstruction: 415.94736 | L2: 3713.1934 | \n",
      "EVALUATE: \n",
      "Beta-TCVAE: 607.85913 | Beta-VAE: 2021.6472 | VAE: 576.5529 | AE: 415.98706 | reconstruction: 415.98322 | L2: 3784.395 | \n",
      "\n",
      "total loss Patience count:  2\n",
      "EPOCH:  16\n"
     ]
    },
    {
     "name": "stderr",
     "output_type": "stream",
     "text": [
      "100%|████████████████████████████████████████████████████████████████████████████████| 875/875 [02:49<00:00,  5.23it/s]\n",
      "100%|████████████████████████████████████████████████████████████████████████████████| 218/218 [00:12<00:00, 17.27it/s]\n"
     ]
    },
    {
     "name": "stdout",
     "output_type": "stream",
     "text": [
      "TRAIN: \n",
      "Beta-TCVAE: 598.047 | Beta-VAE: 1988.8446 | VAE: 565.21277 | AE: 407.0316 | reconstruction: 407.02762 | L2: 3841.699 | \n",
      "EVALUATE: \n",
      "Beta-TCVAE: 594.41223 | Beta-VAE: 1988.1259 | VAE: 562.94867 | AE: 404.59555 | reconstruction: 404.59164 | L2: 3898.0183 | \n",
      "\n",
      "EPOCH:  17\n"
     ]
    },
    {
     "name": "stderr",
     "output_type": "stream",
     "text": [
      "100%|████████████████████████████████████████████████████████████████████████████████| 875/875 [02:47<00:00,  5.23it/s]\n",
      "100%|████████████████████████████████████████████████████████████████████████████████| 218/218 [00:12<00:00, 17.46it/s]\n"
     ]
    },
    {
     "name": "stdout",
     "output_type": "stream",
     "text": [
      "TRAIN: \n",
      "Beta-TCVAE: 597.9114 | Beta-VAE: 1984.228 | VAE: 565.0177 | AE: 407.3276 | reconstruction: 407.32358 | L2: 3956.3372 | \n",
      "EVALUATE: \n",
      "Beta-TCVAE: 597.4885 | Beta-VAE: 1977.5741 | VAE: 564.0671 | AE: 407.01077 | reconstruction: 407.0067 | L2: 4020.1921 | \n",
      "\n",
      "total loss Patience count:  1\n",
      "EPOCH:  18\n"
     ]
    },
    {
     "name": "stderr",
     "output_type": "stream",
     "text": [
      "100%|████████████████████████████████████████████████████████████████████████████████| 875/875 [02:47<00:00,  5.23it/s]\n",
      "100%|████████████████████████████████████████████████████████████████████████████████| 218/218 [00:12<00:00, 17.42it/s]\n"
     ]
    },
    {
     "name": "stdout",
     "output_type": "stream",
     "text": [
      "TRAIN: \n",
      "Beta-TCVAE: 603.3152 | Beta-VAE: 2001.5294 | VAE: 570.7306 | AE: 411.75287 | reconstruction: 411.74878 | L2: 4096.4995 | \n",
      "EVALUATE: \n",
      "Beta-TCVAE: 600.7738 | Beta-VAE: 2000.8461 | VAE: 568.59576 | AE: 409.45718 | reconstruction: 409.45276 | L2: 4172.1396 | \n",
      "\n",
      "total loss Patience count:  2\n",
      "EPOCH:  19\n"
     ]
    },
    {
     "name": "stderr",
     "output_type": "stream",
     "text": [
      "100%|████████████████████████████████████████████████████████████████████████████████| 875/875 [02:48<00:00,  5.22it/s]\n",
      "100%|████████████████████████████████████████████████████████████████████████████████| 218/218 [00:12<00:00, 16.77it/s]\n"
     ]
    },
    {
     "name": "stdout",
     "output_type": "stream",
     "text": [
      "TRAIN: \n",
      "Beta-TCVAE: 598.2239 | Beta-VAE: 1985.7498 | VAE: 565.41376 | AE: 407.5984 | reconstruction: 407.59402 | L2: 4253.729 | \n",
      "EVALUATE: \n",
      "Beta-TCVAE: 596.1312 | Beta-VAE: 1959.2986 | VAE: 561.2221 | AE: 405.8803 | reconstruction: 405.87595 | L2: 4334.4365 | \n",
      "\n",
      "total loss Patience count:  3\n",
      "EPOCH:  20\n"
     ]
    },
    {
     "name": "stderr",
     "output_type": "stream",
     "text": [
      "100%|████████████████████████████████████████████████████████████████████████████████| 875/875 [02:49<00:00,  5.24it/s]\n",
      "100%|████████████████████████████████████████████████████████████████████████████████| 218/218 [00:12<00:00, 16.64it/s]\n"
     ]
    },
    {
     "name": "stdout",
     "output_type": "stream",
     "text": [
      "TRAIN: \n",
      "Beta-TCVAE: 595.2043 | Beta-VAE: 1984.6754 | VAE: 562.38074 | AE: 404.34814 | reconstruction: 404.3436 | L2: 4411.159 | \n",
      "EVALUATE: \n",
      "Beta-TCVAE: 591.6741 | Beta-VAE: 1958.5438 | VAE: 557.4971 | AE: 401.8252 | reconstruction: 401.8207 | L2: 4505.1255 | \n",
      "\n",
      "Saving model...\n",
      "Model saved\n",
      "Generating latent space ...\n",
      "Scaling dataset ... \n",
      "Creating dask array ... \n",
      "Loading model checkpoint experiments/checkpoint_dir/BTCVAE_Conv_MNIST_lat15_h500_lay3_b100/-18375 ...\n",
      "\n",
      "INFO:tensorflow:Restoring parameters from experiments/checkpoint_dir/BTCVAE_Conv_MNIST_lat15_h500_lay3_b100/-18375\n",
      "Model loaded\n",
      "EPOCHS trained:  20\n"
     ]
    },
    {
     "name": "stderr",
     "output_type": "stream",
     "text": [
      "100%|███████████████████████████████████████████████████████████████████████████████| 875/875 [00:08<00:00, 104.57it/s]\n"
     ]
    },
    {
     "name": "stdout",
     "output_type": "stream",
     "text": [
      "Latent space dimensions: (56000, 2)\n",
      "Plotting latent space ...\n",
      "data size (56000, 2)\n"
     ]
    },
    {
     "name": "stderr",
     "output_type": "stream",
     "text": [
      "100%|██████████████████████████████████████████████████████████████████████████| 56000/56000 [00:11<00:00, 4881.32it/s]\n"
     ]
    },
    {
     "name": "stdout",
     "output_type": "stream",
     "text": [
      "Saving Image experiments/log_dir/BTCVAE_Conv_MNIST_lat15_h500_lay3_b100/BTCVAE_Conv_MNIST_lat15_h500_lay3_b100 latent epoch 20.jpg ...\n",
      "latent space dimensions: (56000, 3)\n",
      "Plotting latent space ...\n",
      "data size (56000, 3)\n"
     ]
    },
    {
     "name": "stderr",
     "output_type": "stream",
     "text": [
      "100%|██████████████████████████████████████████████████████████████████████████████████| 10/10 [00:00<00:00, 91.13it/s]\n"
     ]
    },
    {
     "name": "stdout",
     "output_type": "stream",
     "text": [
      "Saving Image experiments/log_dir/BTCVAE_Conv_MNIST_lat15_h500_lay3_b100/BTCVAE_Conv_MNIST_lat15_h500_lay3_b100 latent_3d epoch 20.jpg ...\n",
      "Reconstructing samples from Data ...\n",
      "Scaling dataset ... \n",
      "Creating dask array ... \n",
      "Loading model checkpoint experiments/checkpoint_dir/BTCVAE_Conv_MNIST_lat15_h500_lay3_b100/-18375 ...\n",
      "\n",
      "INFO:tensorflow:Restoring parameters from experiments/checkpoint_dir/BTCVAE_Conv_MNIST_lat15_h500_lay3_b100/-18375\n",
      "Model loaded\n",
      "EPOCHS trained:  20\n"
     ]
    },
    {
     "name": "stderr",
     "output_type": "stream",
     "text": [
      "4it [00:00, 28.89it/s]                                                                                                 \n"
     ]
    },
    {
     "name": "stdout",
     "output_type": "stream",
     "text": [
      "Loading model checkpoint experiments/checkpoint_dir/BTCVAE_Conv_MNIST_lat15_h500_lay3_b100/-18375 ...\n",
      "\n",
      "INFO:tensorflow:Restoring parameters from experiments/checkpoint_dir/BTCVAE_Conv_MNIST_lat15_h500_lay3_b100/-18375\n",
      "Model loaded\n",
      "EPOCHS trained:  20\n"
     ]
    },
    {
     "name": "stderr",
     "output_type": "stream",
     "text": [
      "4it [00:00, 26.39it/s]                                                                                                 \n"
     ]
    },
    {
     "name": "stdout",
     "output_type": "stream",
     "text": [
      "Saving Image  experiments/log_dir/BTCVAE_Conv_MNIST_lat15_h500_lay3_b100/BTCVAE_Conv_MNIST_lat15_h500_lay3_b100 samples reconstruction epoch 20.jpg\n",
      "EPOCH:  21\n"
     ]
    },
    {
     "name": "stderr",
     "output_type": "stream",
     "text": [
      "100%|████████████████████████████████████████████████████████████████████████████████| 875/875 [02:50<00:00,  5.19it/s]\n",
      "100%|████████████████████████████████████████████████████████████████████████████████| 218/218 [00:12<00:00, 16.69it/s]\n"
     ]
    },
    {
     "name": "stdout",
     "output_type": "stream",
     "text": [
      "TRAIN: \n",
      "Beta-TCVAE: 601.1436 | Beta-VAE: 2003.5203 | VAE: 568.36316 | AE: 408.90182 | reconstruction: 408.8972 | L2: 4593.2734 | \n",
      "EVALUATE: \n",
      "Beta-TCVAE: 600.0221 | Beta-VAE: 1999.9683 | VAE: 568.0453 | AE: 408.94287 | reconstruction: 408.93814 | L2: 4686.7373 | \n",
      "\n",
      "total loss Patience count:  1\n",
      "EPOCH:  22\n"
     ]
    },
    {
     "name": "stderr",
     "output_type": "stream",
     "text": [
      "100%|████████████████████████████████████████████████████████████████████████████████| 875/875 [02:49<00:00,  5.15it/s]\n",
      "100%|████████████████████████████████████████████████████████████████████████████████| 218/218 [00:13<00:00, 16.80it/s]\n"
     ]
    },
    {
     "name": "stdout",
     "output_type": "stream",
     "text": [
      "TRAIN: \n",
      "Beta-TCVAE: 600.3935 | Beta-VAE: 1997.692 | VAE: 567.67224 | AE: 408.78064 | reconstruction: 408.77628 | L2: 4760.3516 | \n",
      "EVALUATE: \n",
      "Beta-TCVAE: 602.20807 | Beta-VAE: 2032.217 | VAE: 573.10736 | AE: 410.98425 | reconstruction: 410.9793 | L2: 4835.1914 | \n",
      "\n",
      "total loss Patience count:  2\n",
      "EPOCH:  23\n"
     ]
    },
    {
     "name": "stderr",
     "output_type": "stream",
     "text": [
      "100%|████████████████████████████████████████████████████████████████████████████████| 875/875 [02:50<00:00,  5.21it/s]\n",
      "100%|████████████████████████████████████████████████████████████████████████████████| 218/218 [00:12<00:00, 16.64it/s]\n"
     ]
    },
    {
     "name": "stdout",
     "output_type": "stream",
     "text": [
      "TRAIN: \n",
      "Beta-TCVAE: 597.3234 | Beta-VAE: 1991.8325 | VAE: 564.65607 | AE: 406.08054 | reconstruction: 406.0757 | L2: 4906.413 | \n",
      "EVALUATE: \n",
      "Beta-TCVAE: 592.2482 | Beta-VAE: 1968.349 | VAE: 558.40533 | AE: 401.74487 | reconstruction: 401.7398 | L2: 4977.6714 | \n",
      "\n",
      "total loss Patience count:  3\n",
      "EPOCH:  24\n"
     ]
    },
    {
     "name": "stderr",
     "output_type": "stream",
     "text": [
      "100%|████████████████████████████████████████████████████████████████████████████████| 875/875 [02:50<00:00,  5.14it/s]\n",
      "100%|████████████████████████████████████████████████████████████████████████████████| 218/218 [00:12<00:00, 17.06it/s]\n"
     ]
    },
    {
     "name": "stdout",
     "output_type": "stream",
     "text": [
      "TRAIN: \n",
      "Beta-TCVAE: 594.2983 | Beta-VAE: 1978.51 | VAE: 561.5491 | AE: 404.10907 | reconstruction: 404.1044 | L2: 5040.9736 | \n",
      "EVALUATE: \n",
      "Beta-TCVAE: 591.48004 | Beta-VAE: 1984.7352 | VAE: 559.20087 | AE: 400.80804 | reconstruction: 400.803 | L2: 5096.1807 | \n",
      "\n",
      "EPOCH:  25\n"
     ]
    },
    {
     "name": "stderr",
     "output_type": "stream",
     "text": [
      "100%|████████████████████████████████████████████████████████████████████████████████| 875/875 [02:52<00:00,  5.08it/s]\n",
      "100%|████████████████████████████████████████████████████████████████████████████████| 218/218 [00:12<00:00, 17.08it/s]\n"
     ]
    },
    {
     "name": "stdout",
     "output_type": "stream",
     "text": [
      "TRAIN: \n",
      "Beta-TCVAE: 590.9189 | Beta-VAE: 1974.746 | VAE: 558.4169 | AE: 401.0469 | reconstruction: 401.04187 | L2: 5160.5596 | \n",
      "EVALUATE: \n",
      "Beta-TCVAE: 590.38135 | Beta-VAE: 1927.449 | VAE: 553.5232 | AE: 400.86456 | reconstruction: 400.85922 | L2: 5228.4287 | \n",
      "\n",
      "EPOCH:  26\n"
     ]
    },
    {
     "name": "stderr",
     "output_type": "stream",
     "text": [
      "100%|████████████████████████████████████████████████████████████████████████████████| 875/875 [02:50<00:00,  4.87it/s]\n",
      "100%|████████████████████████████████████████████████████████████████████████████████| 218/218 [00:13<00:00, 16.83it/s]\n"
     ]
    },
    {
     "name": "stdout",
     "output_type": "stream",
     "text": [
      "TRAIN: \n",
      "Beta-TCVAE: 594.0985 | Beta-VAE: 1982.0563 | VAE: 561.2494 | AE: 403.38187 | reconstruction: 403.37628 | L2: 5298.656 | \n",
      "EVALUATE: \n",
      "Beta-TCVAE: 599.06055 | Beta-VAE: 1960.8511 | VAE: 562.8266 | AE: 407.4901 | reconstruction: 407.48495 | L2: 5385.114 | \n",
      "\n",
      "total loss Patience count:  1\n",
      "EPOCH:  27\n"
     ]
    },
    {
     "name": "stderr",
     "output_type": "stream",
     "text": [
      "100%|████████████████████████████████████████████████████████████████████████████████| 875/875 [02:53<00:00,  5.20it/s]\n",
      "100%|████████████████████████████████████████████████████████████████████████████████| 218/218 [00:12<00:00, 17.01it/s]\n"
     ]
    },
    {
     "name": "stdout",
     "output_type": "stream",
     "text": [
      "TRAIN: \n",
      "Beta-TCVAE: 601.42487 | Beta-VAE: 2010.2273 | VAE: 568.6562 | AE: 408.48148 | reconstruction: 408.4759 | L2: 5465.966 | \n",
      "EVALUATE: \n",
      "Beta-TCVAE: 601.3082 | Beta-VAE: 1966.0421 | VAE: 563.5182 | AE: 407.68228 | reconstruction: 407.67676 | L2: 5539.5005 | \n",
      "\n",
      "total loss Patience count:  2\n",
      "EPOCH:  28\n"
     ]
    },
    {
     "name": "stderr",
     "output_type": "stream",
     "text": [
      "100%|████████████████████████████████████████████████████████████████████████████████| 875/875 [02:51<00:00,  4.79it/s]\n",
      "100%|████████████████████████████████████████████████████████████████████████████████| 218/218 [00:13<00:00, 16.45it/s]\n"
     ]
    },
    {
     "name": "stdout",
     "output_type": "stream",
     "text": [
      "TRAIN: \n",
      "Beta-TCVAE: 594.9066 | Beta-VAE: 1987.515 | VAE: 562.0515 | AE: 403.6672 | reconstruction: 403.6615 | L2: 5586.2314 | \n",
      "EVALUATE: \n",
      "Beta-TCVAE: 598.4481 | Beta-VAE: 2016.6565 | VAE: 567.24133 | AE: 406.19547 | reconstruction: 406.1898 | L2: 5649.9272 | \n",
      "\n",
      "total loss Patience count:  3\n",
      "EPOCH:  29\n"
     ]
    },
    {
     "name": "stderr",
     "output_type": "stream",
     "text": [
      "100%|████████████████████████████████████████████████████████████████████████████████| 875/875 [02:57<00:00,  5.08it/s]\n",
      "100%|████████████████████████████████████████████████████████████████████████████████| 218/218 [00:12<00:00, 16.90it/s]\n"
     ]
    },
    {
     "name": "stdout",
     "output_type": "stream",
     "text": [
      "TRAIN: \n",
      "Beta-TCVAE: 595.2921 | Beta-VAE: 2001.9565 | VAE: 562.33105 | AE: 402.37286 | reconstruction: 402.36682 | L2: 5722.178 | \n",
      "EVALUATE: \n",
      "Beta-TCVAE: 592.9041 | Beta-VAE: 2019.0015 | VAE: 562.77124 | AE: 400.9677 | reconstruction: 400.96176 | L2: 5788.1763 | \n",
      "\n",
      "total loss Patience count:  4\n",
      "EPOCH:  30\n"
     ]
    },
    {
     "name": "stderr",
     "output_type": "stream",
     "text": [
      "100%|████████████████████████████████████████████████████████████████████████████████| 875/875 [02:52<00:00,  5.13it/s]\n",
      "100%|████████████████████████████████████████████████████████████████████████████████| 218/218 [00:12<00:00, 17.01it/s]\n"
     ]
    },
    {
     "name": "stdout",
     "output_type": "stream",
     "text": [
      "TRAIN: \n",
      "Beta-TCVAE: 587.9155 | Beta-VAE: 1976.3491 | VAE: 555.49023 | AE: 397.6174 | reconstruction: 397.61124 | L2: 5837.8926 | \n",
      "EVALUATE: \n",
      "Beta-TCVAE: 585.56885 | Beta-VAE: 1966.7917 | VAE: 552.80566 | AE: 395.6963 | reconstruction: 395.6902 | L2: 5889.135 | \n",
      "\n",
      "EPOCH:  31\n"
     ]
    },
    {
     "name": "stderr",
     "output_type": "stream",
     "text": [
      "100%|████████████████████████████████████████████████████████████████████████████████| 875/875 [02:48<00:00,  5.20it/s]\n",
      "100%|████████████████████████████████████████████████████████████████████████████████| 218/218 [00:12<00:00, 17.04it/s]\n"
     ]
    },
    {
     "name": "stdout",
     "output_type": "stream",
     "text": [
      "TRAIN: \n",
      "Beta-TCVAE: 586.59106 | Beta-VAE: 1971.9738 | VAE: 553.6667 | AE: 396.07727 | reconstruction: 396.0715 | L2: 5940.1743 | \n",
      "EVALUATE: \n",
      "Beta-TCVAE: 589.9777 | Beta-VAE: 2019.0477 | VAE: 560.11725 | AE: 398.01398 | reconstruction: 398.00793 | L2: 6005.0005 | \n",
      "\n",
      "total loss Patience count:  1\n",
      "EPOCH:  32\n"
     ]
    },
    {
     "name": "stderr",
     "output_type": "stream",
     "text": [
      "100%|████████████████████████████████████████████████████████████████████████████████| 875/875 [02:48<00:00,  5.21it/s]\n",
      "100%|████████████████████████████████████████████████████████████████████████████████| 218/218 [00:12<00:00, 16.73it/s]\n"
     ]
    },
    {
     "name": "stdout",
     "output_type": "stream",
     "text": [
      "TRAIN: \n",
      "Beta-TCVAE: 585.8761 | Beta-VAE: 1974.5619 | VAE: 552.83136 | AE: 394.86118 | reconstruction: 394.85535 | L2: 6084.412 | \n",
      "EVALUATE: \n",
      "Beta-TCVAE: 596.7969 | Beta-VAE: 2034.8784 | VAE: 564.38495 | AE: 400.99692 | reconstruction: 400.99066 | L2: 6182.863 | \n",
      "\n",
      "total loss Patience count:  2\n",
      "EPOCH:  33\n"
     ]
    },
    {
     "name": "stderr",
     "output_type": "stream",
     "text": [
      "100%|████████████████████████████████████████████████████████████████████████████████| 875/875 [02:49<00:00,  5.18it/s]\n",
      "100%|████████████████████████████████████████████████████████████████████████████████| 218/218 [00:12<00:00, 17.03it/s]\n"
     ]
    },
    {
     "name": "stdout",
     "output_type": "stream",
     "text": [
      "TRAIN: \n",
      "Beta-TCVAE: 586.8106 | Beta-VAE: 1998.3126 | VAE: 554.19135 | AE: 393.73285 | reconstruction: 393.72693 | L2: 6253.155 | \n",
      "EVALUATE: \n",
      "Beta-TCVAE: 583.2185 | Beta-VAE: 1959.2551 | VAE: 547.3539 | AE: 390.4757 | reconstruction: 390.46924 | L2: 6318.0864 | \n",
      "\n",
      "EPOCH:  34\n"
     ]
    },
    {
     "name": "stderr",
     "output_type": "stream",
     "text": [
      "100%|████████████████████████████████████████████████████████████████████████████████| 875/875 [02:48<00:00,  5.20it/s]\n",
      "100%|████████████████████████████████████████████████████████████████████████████████| 218/218 [00:12<00:00, 17.45it/s]\n"
     ]
    },
    {
     "name": "stdout",
     "output_type": "stream",
     "text": [
      "TRAIN: \n",
      "Beta-TCVAE: 575.4265 | Beta-VAE: 1964.9913 | VAE: 542.8011 | AE: 384.77997 | reconstruction: 384.77368 | L2: 6384.108 | \n",
      "EVALUATE: \n",
      "Beta-TCVAE: 571.94116 | Beta-VAE: 1921.626 | VAE: 536.6335 | AE: 382.7452 | reconstruction: 382.73874 | L2: 6443.636 | \n",
      "\n",
      "EPOCH:  35\n"
     ]
    },
    {
     "name": "stderr",
     "output_type": "stream",
     "text": [
      "100%|████████████████████████████████████████████████████████████████████████████████| 875/875 [02:48<00:00,  5.15it/s]\n",
      "100%|████████████████████████████████████████████████████████████████████████████████| 218/218 [00:12<00:00, 17.38it/s]\n"
     ]
    },
    {
     "name": "stdout",
     "output_type": "stream",
     "text": [
      "TRAIN: \n",
      "Beta-TCVAE: 571.50775 | Beta-VAE: 1959.7566 | VAE: 538.9702 | AE: 381.10526 | reconstruction: 381.099 | L2: 6508.81 | \n",
      "EVALUATE: \n",
      "Beta-TCVAE: 568.88196 | Beta-VAE: 1973.283 | VAE: 537.6876 | AE: 378.1771 | reconstruction: 378.17047 | L2: 6575.787 | \n",
      "\n",
      "EPOCH:  36\n"
     ]
    },
    {
     "name": "stderr",
     "output_type": "stream",
     "text": [
      "100%|████████████████████████████████████████████████████████████████████████████████| 875/875 [02:48<00:00,  5.24it/s]\n",
      "100%|████████████████████████████████████████████████████████████████████████████████| 218/218 [00:12<00:00, 17.21it/s]\n"
     ]
    },
    {
     "name": "stdout",
     "output_type": "stream",
     "text": [
      "TRAIN: \n",
      "Beta-TCVAE: 570.2011 | Beta-VAE: 1956.8936 | VAE: 537.9323 | AE: 380.27005 | reconstruction: 380.26385 | L2: 6637.329 | \n",
      "EVALUATE: \n",
      "Beta-TCVAE: 566.6429 | Beta-VAE: 1937.6486 | VAE: 533.6886 | AE: 377.69287 | reconstruction: 377.68622 | L2: 6704.3745 | \n",
      "\n",
      "EPOCH:  37\n"
     ]
    },
    {
     "name": "stderr",
     "output_type": "stream",
     "text": [
      "100%|████████████████████████████████████████████████████████████████████████████████| 875/875 [02:49<00:00,  4.76it/s]\n",
      "100%|████████████████████████████████████████████████████████████████████████████████| 218/218 [00:12<00:00, 17.31it/s]\n"
     ]
    },
    {
     "name": "stdout",
     "output_type": "stream",
     "text": [
      "TRAIN: \n",
      "Beta-TCVAE: 569.89343 | Beta-VAE: 1959.8337 | VAE: 537.2025 | AE: 379.13263 | reconstruction: 379.1257 | L2: 6770.0864 | \n",
      "EVALUATE: \n",
      "Beta-TCVAE: 569.47577 | Beta-VAE: 1952.6301 | VAE: 536.53784 | AE: 379.1942 | reconstruction: 379.18716 | L2: 6837.122 | \n",
      "\n",
      "total loss Patience count:  1\n",
      "EPOCH:  38\n"
     ]
    },
    {
     "name": "stderr",
     "output_type": "stream",
     "text": [
      "100%|████████████████████████████████████████████████████████████████████████████████| 875/875 [02:49<00:00,  5.05it/s]\n",
      "100%|████████████████████████████████████████████████████████████████████████████████| 218/218 [00:13<00:00, 17.02it/s]\n"
     ]
    },
    {
     "name": "stdout",
     "output_type": "stream",
     "text": [
      "TRAIN: \n",
      "Beta-TCVAE: 570.4323 | Beta-VAE: 1966.765 | VAE: 537.94995 | AE: 379.19226 | reconstruction: 379.18542 | L2: 6894.03 | \n",
      "EVALUATE: \n",
      "Beta-TCVAE: 573.20557 | Beta-VAE: 1978.2128 | VAE: 541.057 | AE: 381.37302 | reconstruction: 381.366 | L2: 6947.6577 | \n",
      "\n",
      "total loss Patience count:  2\n",
      "EPOCH:  39\n"
     ]
    },
    {
     "name": "stderr",
     "output_type": "stream",
     "text": [
      "100%|████████████████████████████████████████████████████████████████████████████████| 875/875 [02:51<00:00,  4.79it/s]\n",
      "100%|████████████████████████████████████████████████████████████████████████████████| 218/218 [00:13<00:00, 15.60it/s]\n"
     ]
    },
    {
     "name": "stdout",
     "output_type": "stream",
     "text": [
      "TRAIN: \n",
      "Beta-TCVAE: 567.2343 | Beta-VAE: 1960.0042 | VAE: 534.88495 | AE: 376.53836 | reconstruction: 376.532 | L2: 7008.105 | \n",
      "EVALUATE: \n",
      "Beta-TCVAE: 567.9824 | Beta-VAE: 1972.0848 | VAE: 537.3376 | AE: 377.92123 | reconstruction: 377.91412 | L2: 7063.009 | \n",
      "\n",
      "total loss Patience count:  3\n",
      "EPOCH:  40\n"
     ]
    },
    {
     "name": "stderr",
     "output_type": "stream",
     "text": [
      "100%|████████████████████████████████████████████████████████████████████████████████| 875/875 [02:51<00:00,  5.08it/s]\n",
      "100%|████████████████████████████████████████████████████████████████████████████████| 218/218 [00:13<00:00, 16.71it/s]\n"
     ]
    },
    {
     "name": "stdout",
     "output_type": "stream",
     "text": [
      "TRAIN: \n",
      "Beta-TCVAE: 566.325 | Beta-VAE: 1955.38 | VAE: 533.4475 | AE: 375.4547 | reconstruction: 375.4476 | L2: 7126.4004 | \n",
      "EVALUATE: \n",
      "Beta-TCVAE: 567.10535 | Beta-VAE: 1967.657 | VAE: 535.8732 | AE: 376.78625 | reconstruction: 376.77896 | L2: 7194.7495 | \n",
      "\n",
      "Saving model...\n",
      "Model saved\n",
      "Generating latent space ...\n",
      "Scaling dataset ... \n",
      "Creating dask array ... \n",
      "Loading model checkpoint experiments/checkpoint_dir/BTCVAE_Conv_MNIST_lat15_h500_lay3_b100/-35875 ...\n",
      "\n",
      "INFO:tensorflow:Restoring parameters from experiments/checkpoint_dir/BTCVAE_Conv_MNIST_lat15_h500_lay3_b100/-35875\n",
      "Model loaded\n",
      "EPOCHS trained:  40\n"
     ]
    },
    {
     "name": "stderr",
     "output_type": "stream",
     "text": [
      "100%|███████████████████████████████████████████████████████████████████████████████| 875/875 [00:08<00:00, 100.50it/s]\n"
     ]
    },
    {
     "name": "stdout",
     "output_type": "stream",
     "text": [
      "Latent space dimensions: (56000, 2)\n",
      "Plotting latent space ...\n",
      "data size (56000, 2)\n"
     ]
    },
    {
     "name": "stderr",
     "output_type": "stream",
     "text": [
      "100%|██████████████████████████████████████████████████████████████████████████| 56000/56000 [00:11<00:00, 4968.57it/s]\n"
     ]
    },
    {
     "name": "stdout",
     "output_type": "stream",
     "text": [
      "Saving Image experiments/log_dir/BTCVAE_Conv_MNIST_lat15_h500_lay3_b100/BTCVAE_Conv_MNIST_lat15_h500_lay3_b100 latent epoch 40.jpg ...\n",
      "latent space dimensions: (56000, 3)\n",
      "Plotting latent space ...\n",
      "data size (56000, 3)\n"
     ]
    },
    {
     "name": "stderr",
     "output_type": "stream",
     "text": [
      "100%|██████████████████████████████████████████████████████████████████████████████████| 10/10 [00:00<00:00, 91.97it/s]\n"
     ]
    },
    {
     "name": "stdout",
     "output_type": "stream",
     "text": [
      "Saving Image experiments/log_dir/BTCVAE_Conv_MNIST_lat15_h500_lay3_b100/BTCVAE_Conv_MNIST_lat15_h500_lay3_b100 latent_3d epoch 40.jpg ...\n",
      "Reconstructing samples from Data ...\n",
      "Scaling dataset ... \n",
      "Creating dask array ... \n",
      "Loading model checkpoint experiments/checkpoint_dir/BTCVAE_Conv_MNIST_lat15_h500_lay3_b100/-35875 ...\n",
      "\n",
      "INFO:tensorflow:Restoring parameters from experiments/checkpoint_dir/BTCVAE_Conv_MNIST_lat15_h500_lay3_b100/-35875\n",
      "Model loaded\n",
      "EPOCHS trained:  40\n"
     ]
    },
    {
     "name": "stderr",
     "output_type": "stream",
     "text": [
      "4it [00:00, 28.05it/s]                                                                                                 \n"
     ]
    },
    {
     "name": "stdout",
     "output_type": "stream",
     "text": [
      "Loading model checkpoint experiments/checkpoint_dir/BTCVAE_Conv_MNIST_lat15_h500_lay3_b100/-35875 ...\n",
      "\n",
      "INFO:tensorflow:Restoring parameters from experiments/checkpoint_dir/BTCVAE_Conv_MNIST_lat15_h500_lay3_b100/-35875\n",
      "Model loaded\n",
      "EPOCHS trained:  40\n"
     ]
    },
    {
     "name": "stderr",
     "output_type": "stream",
     "text": [
      "4it [00:00, 26.22it/s]                                                                                                 \n"
     ]
    },
    {
     "name": "stdout",
     "output_type": "stream",
     "text": [
      "Saving Image  experiments/log_dir/BTCVAE_Conv_MNIST_lat15_h500_lay3_b100/BTCVAE_Conv_MNIST_lat15_h500_lay3_b100 samples reconstruction epoch 40.jpg\n",
      "total loss Patience count:  4\n",
      "EPOCH:  41\n"
     ]
    },
    {
     "name": "stderr",
     "output_type": "stream",
     "text": [
      "100%|████████████████████████████████████████████████████████████████████████████████| 875/875 [02:48<00:00,  5.22it/s]\n",
      "100%|████████████████████████████████████████████████████████████████████████████████| 218/218 [00:12<00:00, 17.16it/s]\n"
     ]
    },
    {
     "name": "stdout",
     "output_type": "stream",
     "text": [
      "TRAIN: \n",
      "Beta-TCVAE: 566.2776 | Beta-VAE: 1954.5217 | VAE: 533.6125 | AE: 375.73383 | reconstruction: 375.72647 | L2: 7272.3213 | \n",
      "EVALUATE: \n",
      "Beta-TCVAE: 565.1887 | Beta-VAE: 1931.69 | VAE: 530.24554 | AE: 374.5296 | reconstruction: 374.52237 | L2: 7342.469 | \n",
      "\n",
      "EPOCH:  42\n"
     ]
    },
    {
     "name": "stderr",
     "output_type": "stream",
     "text": [
      "100%|████████████████████████████████████████████████████████████████████████████████| 875/875 [02:50<00:00,  5.19it/s]\n",
      "100%|████████████████████████████████████████████████████████████████████████████████| 218/218 [00:12<00:00, 17.23it/s]\n"
     ]
    },
    {
     "name": "stdout",
     "output_type": "stream",
     "text": [
      "TRAIN: \n",
      "Beta-TCVAE: 562.8871 | Beta-VAE: 1945.0221 | VAE: 530.1604 | AE: 372.954 | reconstruction: 372.9467 | L2: 7409.9937 | \n",
      "EVALUATE: \n",
      "Beta-TCVAE: 561.3781 | Beta-VAE: 1956.203 | VAE: 529.5739 | AE: 371.05978 | reconstruction: 371.05228 | L2: 7481.657 | \n",
      "\n",
      "EPOCH:  43\n"
     ]
    },
    {
     "name": "stderr",
     "output_type": "stream",
     "text": [
      "100%|████████████████████████████████████████████████████████████████████████████████| 875/875 [02:50<00:00,  5.10it/s]\n",
      "100%|████████████████████████████████████████████████████████████████████████████████| 218/218 [00:12<00:00, 16.95it/s]\n"
     ]
    },
    {
     "name": "stdout",
     "output_type": "stream",
     "text": [
      "TRAIN: \n",
      "Beta-TCVAE: 560.0648 | Beta-VAE: 1945.7089 | VAE: 527.39734 | AE: 369.80707 | reconstruction: 369.7991 | L2: 7537.776 | \n",
      "EVALUATE: \n",
      "Beta-TCVAE: 560.9489 | Beta-VAE: 1915.6726 | VAE: 525.9908 | AE: 371.5818 | reconstruction: 371.57416 | L2: 7598.537 | \n",
      "\n",
      "EPOCH:  44\n"
     ]
    },
    {
     "name": "stderr",
     "output_type": "stream",
     "text": [
      "100%|████████████████████████████████████████████████████████████████████████████████| 875/875 [02:49<00:00,  5.19it/s]\n",
      "100%|████████████████████████████████████████████████████████████████████████████████| 218/218 [00:12<00:00, 17.07it/s]\n"
     ]
    },
    {
     "name": "stdout",
     "output_type": "stream",
     "text": [
      "TRAIN: \n",
      "Beta-TCVAE: 559.48486 | Beta-VAE: 1944.0027 | VAE: 526.88354 | AE: 369.4262 | reconstruction: 369.41843 | L2: 7666.5244 | \n",
      "EVALUATE: \n",
      "Beta-TCVAE: 557.7826 | Beta-VAE: 1928.0713 | VAE: 523.8784 | AE: 367.85687 | reconstruction: 367.84912 | L2: 7731.883 | \n",
      "\n",
      "EPOCH:  45\n"
     ]
    },
    {
     "name": "stderr",
     "output_type": "stream",
     "text": [
      "100%|████████████████████████████████████████████████████████████████████████████████| 875/875 [02:49<00:00,  5.20it/s]\n",
      "100%|████████████████████████████████████████████████████████████████████████████████| 218/218 [00:12<00:00, 16.90it/s]\n"
     ]
    },
    {
     "name": "stdout",
     "output_type": "stream",
     "text": [
      "TRAIN: \n",
      "Beta-TCVAE: 555.1451 | Beta-VAE: 1933.1157 | VAE: 522.6815 | AE: 365.96707 | reconstruction: 365.95886 | L2: 7796.6904 | \n",
      "EVALUATE: \n",
      "Beta-TCVAE: 561.81055 | Beta-VAE: 1942.9265 | VAE: 528.57446 | AE: 371.42447 | reconstruction: 371.41656 | L2: 7869.656 | \n",
      "\n",
      "total loss Patience count:  1\n",
      "EPOCH:  46\n"
     ]
    },
    {
     "name": "stderr",
     "output_type": "stream",
     "text": [
      "100%|████████████████████████████████████████████████████████████████████████████████| 875/875 [02:52<00:00,  5.17it/s]\n",
      "100%|████████████████████████████████████████████████████████████████████████████████| 218/218 [00:12<00:00, 17.21it/s]\n"
     ]
    },
    {
     "name": "stdout",
     "output_type": "stream",
     "text": [
      "TRAIN: \n",
      "Beta-TCVAE: 559.0324 | Beta-VAE: 1939.4608 | VAE: 526.616 | AE: 369.63358 | reconstruction: 369.62527 | L2: 7962.4165 | \n",
      "EVALUATE: \n",
      "Beta-TCVAE: 559.6383 | Beta-VAE: 1950.7831 | VAE: 527.8142 | AE: 369.70676 | reconstruction: 369.69867 | L2: 8064.0967 | \n",
      "\n",
      "total loss Patience count:  2\n",
      "EPOCH:  47\n"
     ]
    },
    {
     "name": "stderr",
     "output_type": "stream",
     "text": [
      "100%|████████████████████████████████████████████████████████████████████████████████| 875/875 [02:51<00:00,  5.10it/s]\n",
      "100%|████████████████████████████████████████████████████████████████████████████████| 218/218 [00:13<00:00, 16.49it/s]\n"
     ]
    },
    {
     "name": "stdout",
     "output_type": "stream",
     "text": [
      "TRAIN: \n",
      "Beta-TCVAE: 561.037 | Beta-VAE: 1949.394 | VAE: 528.323 | AE: 370.42618 | reconstruction: 370.4179 | L2: 8126.4365 | \n",
      "EVALUATE: \n",
      "Beta-TCVAE: 561.17737 | Beta-VAE: 2001.3163 | VAE: 531.57623 | AE: 368.27164 | reconstruction: 368.26334 | L2: 8196.007 | \n",
      "\n",
      "total loss Patience count:  3\n",
      "EPOCH:  48\n"
     ]
    },
    {
     "name": "stderr",
     "output_type": "stream",
     "text": [
      "100%|████████████████████████████████████████████████████████████████████████████████| 875/875 [02:53<00:00,  5.21it/s]\n",
      "100%|████████████████████████████████████████████████████████████████████████████████| 218/218 [00:12<00:00, 17.12it/s]\n"
     ]
    },
    {
     "name": "stdout",
     "output_type": "stream",
     "text": [
      "TRAIN: \n",
      "Beta-TCVAE: 564.1253 | Beta-VAE: 1961.4078 | VAE: 531.56323 | AE: 372.69128 | reconstruction: 372.68323 | L2: 8256.334 | \n",
      "EVALUATE: \n",
      "Beta-TCVAE: 572.59064 | Beta-VAE: 2022.5895 | VAE: 543.9992 | AE: 379.71155 | reconstruction: 379.70334 | L2: 8311.759 | \n",
      "\n",
      "total loss Patience count:  4\n",
      "EPOCH:  49\n"
     ]
    },
    {
     "name": "stderr",
     "output_type": "stream",
     "text": [
      "100%|████████████████████████████████████████████████████████████████████████████████| 875/875 [02:50<00:00,  5.09it/s]\n",
      "100%|████████████████████████████████████████████████████████████████████████████████| 218/218 [00:12<00:00, 17.06it/s]\n"
     ]
    },
    {
     "name": "stdout",
     "output_type": "stream",
     "text": [
      "TRAIN: \n",
      "Beta-TCVAE: 557.3272 | Beta-VAE: 1944.797 | VAE: 524.60626 | AE: 366.8078 | reconstruction: 366.79953 | L2: 8367.482 | \n",
      "EVALUATE: \n",
      "Beta-TCVAE: 561.3755 | Beta-VAE: 1943.6283 | VAE: 527.58527 | AE: 370.24686 | reconstruction: 370.23846 | L2: 8415.998 | \n",
      "\n",
      "total loss Patience count:  5\n",
      "EPOCH:  50\n"
     ]
    },
    {
     "name": "stderr",
     "output_type": "stream",
     "text": [
      "100%|████████████████████████████████████████████████████████████████████████████████| 875/875 [02:50<00:00,  5.20it/s]\n",
      "100%|████████████████████████████████████████████████████████████████████████████████| 218/218 [00:12<00:00, 17.12it/s]\n"
     ]
    },
    {
     "name": "stdout",
     "output_type": "stream",
     "text": [
      "TRAIN: \n",
      "Beta-TCVAE: 555.52515 | Beta-VAE: 1942.3655 | VAE: 522.9916 | AE: 365.28397 | reconstruction: 365.2752 | L2: 8474.326 | \n",
      "EVALUATE: \n",
      "Beta-TCVAE: 553.02893 | Beta-VAE: 1973.0176 | VAE: 523.40576 | AE: 362.33798 | reconstruction: 362.32953 | L2: 8544.347 | \n",
      "\n",
      "EPOCH:  51\n"
     ]
    },
    {
     "name": "stderr",
     "output_type": "stream",
     "text": [
      "100%|████████████████████████████████████████████████████████████████████████████████| 875/875 [02:48<00:00,  5.25it/s]\n",
      "100%|████████████████████████████████████████████████████████████████████████████████| 218/218 [00:12<00:00, 16.81it/s]\n"
     ]
    },
    {
     "name": "stdout",
     "output_type": "stream",
     "text": [
      "TRAIN: \n",
      "Beta-TCVAE: 553.70245 | Beta-VAE: 1938.0787 | VAE: 520.8652 | AE: 363.3974 | reconstruction: 363.3884 | L2: 8616.289 | \n",
      "EVALUATE: \n",
      "Beta-TCVAE: 554.47375 | Beta-VAE: 1969.4258 | VAE: 524.93243 | AE: 364.43335 | reconstruction: 364.42462 | L2: 8696.132 | \n",
      "\n",
      "total loss Patience count:  1\n",
      "EPOCH:  52\n"
     ]
    },
    {
     "name": "stderr",
     "output_type": "stream",
     "text": [
      "100%|████████████████████████████████████████████████████████████████████████████████| 875/875 [02:50<00:00,  5.22it/s]\n",
      "100%|████████████████████████████████████████████████████████████████████████████████| 218/218 [00:12<00:00, 16.87it/s]\n"
     ]
    },
    {
     "name": "stdout",
     "output_type": "stream",
     "text": [
      "TRAIN: \n",
      "Beta-TCVAE: 555.3775 | Beta-VAE: 1951.8431 | VAE: 522.66785 | AE: 363.8704 | reconstruction: 363.8614 | L2: 8763.459 | \n",
      "EVALUATE: \n",
      "Beta-TCVAE: 555.8239 | Beta-VAE: 1956.3481 | VAE: 524.4662 | AE: 365.3685 | reconstruction: 365.35977 | L2: 8841.843 | \n",
      "\n",
      "total loss Patience count:  2\n",
      "EPOCH:  53\n"
     ]
    },
    {
     "name": "stderr",
     "output_type": "stream",
     "text": [
      "100%|████████████████████████████████████████████████████████████████████████████████| 875/875 [02:48<00:00,  5.21it/s]\n",
      "100%|████████████████████████████████████████████████████████████████████████████████| 218/218 [00:12<00:00, 17.30it/s]\n"
     ]
    },
    {
     "name": "stdout",
     "output_type": "stream",
     "text": [
      "TRAIN: \n",
      "Beta-TCVAE: 554.6417 | Beta-VAE: 1948.2668 | VAE: 521.5637 | AE: 363.04147 | reconstruction: 363.0321 | L2: 8942.048 | \n",
      "EVALUATE: \n",
      "Beta-TCVAE: 557.16504 | Beta-VAE: 1945.3314 | VAE: 523.1022 | AE: 365.0769 | reconstruction: 365.0677 | L2: 9057.969 | \n",
      "\n",
      "total loss Patience count:  3\n",
      "EPOCH:  54\n"
     ]
    },
    {
     "name": "stderr",
     "output_type": "stream",
     "text": [
      "100%|████████████████████████████████████████████████████████████████████████████████| 875/875 [02:48<00:00,  5.22it/s]\n",
      "100%|████████████████████████████████████████████████████████████████████████████████| 218/218 [00:12<00:00, 17.33it/s]\n"
     ]
    },
    {
     "name": "stdout",
     "output_type": "stream",
     "text": [
      "TRAIN: \n",
      "Beta-TCVAE: 557.5875 | Beta-VAE: 1953.539 | VAE: 524.6867 | AE: 365.92496 | reconstruction: 365.91562 | L2: 9132.198 | \n",
      "EVALUATE: \n",
      "Beta-TCVAE: 552.1559 | Beta-VAE: 1932.4956 | VAE: 518.94855 | AE: 361.8875 | reconstruction: 361.87814 | L2: 9212.35 | \n",
      "\n",
      "EPOCH:  55\n"
     ]
    },
    {
     "name": "stderr",
     "output_type": "stream",
     "text": [
      "100%|████████████████████████████████████████████████████████████████████████████████| 875/875 [02:48<00:00,  5.24it/s]\n",
      "100%|████████████████████████████████████████████████████████████████████████████████| 218/218 [00:12<00:00, 17.00it/s]\n"
     ]
    },
    {
     "name": "stdout",
     "output_type": "stream",
     "text": [
      "TRAIN: \n",
      "Beta-TCVAE: 547.87787 | Beta-VAE: 1937.66 | VAE: 515.2477 | AE: 357.20175 | reconstruction: 357.1928 | L2: 9279.214 | \n",
      "EVALUATE: \n",
      "Beta-TCVAE: 550.6747 | Beta-VAE: 1973.5511 | VAE: 519.9197 | AE: 358.40518 | reconstruction: 358.39578 | L2: 9350.623 | \n",
      "\n",
      "EPOCH:  56\n"
     ]
    },
    {
     "name": "stderr",
     "output_type": "stream",
     "text": [
      "100%|████████████████████████████████████████████████████████████████████████████████| 875/875 [02:48<00:00,  5.21it/s]\n",
      "100%|████████████████████████████████████████████████████████████████████████████████| 218/218 [00:12<00:00, 17.32it/s]\n"
     ]
    },
    {
     "name": "stdout",
     "output_type": "stream",
     "text": [
      "TRAIN: \n",
      "Beta-TCVAE: 547.0288 | Beta-VAE: 1939.777 | VAE: 514.38794 | AE: 356.01138 | reconstruction: 356.002 | L2: 9445.368 | \n",
      "EVALUATE: \n",
      "Beta-TCVAE: 544.72046 | Beta-VAE: 1951.6841 | VAE: 513.8696 | AE: 354.1126 | reconstruction: 354.1031 | L2: 9531.874 | \n",
      "\n",
      "EPOCH:  57\n"
     ]
    },
    {
     "name": "stderr",
     "output_type": "stream",
     "text": [
      "100%|████████████████████████████████████████████████████████████████████████████████| 875/875 [02:49<00:00,  5.07it/s]\n",
      "100%|████████████████████████████████████████████████████████████████████████████████| 218/218 [00:13<00:00, 17.22it/s]\n"
     ]
    },
    {
     "name": "stdout",
     "output_type": "stream",
     "text": [
      "TRAIN: \n",
      "Beta-TCVAE: 541.6805 | Beta-VAE: 1927.1282 | VAE: 509.2643 | AE: 351.72437 | reconstruction: 351.7145 | L2: 9602.505 | \n",
      "EVALUATE: \n",
      "Beta-TCVAE: 546.07697 | Beta-VAE: 1940.5519 | VAE: 512.3023 | AE: 353.60797 | reconstruction: 353.59814 | L2: 9679.124 | \n",
      "\n",
      "total loss Patience count:  1\n",
      "EPOCH:  58\n"
     ]
    },
    {
     "name": "stderr",
     "output_type": "stream",
     "text": [
      " 59%|███████████████████████████████████████████████                                 | 515/875 [01:43<01:10,  5.12it/s]"
     ]
    }
   ],
   "source": [
    "ae.fit(X,y)"
   ]
  },
  {
   "cell_type": "code",
   "execution_count": null,
   "metadata": {},
   "outputs": [],
   "source": [
    "from utils.plots import plot_samples, merge\n",
    "from skimage.transform import resize\n",
    "import matplotlib.pyplot as plt"
   ]
  },
  {
   "cell_type": "code",
   "execution_count": null,
   "metadata": {},
   "outputs": [],
   "source": [
    "for _ in range(5):\n",
    "    samples = ae.reconst_samples_out_data()\n",
    "    scale = 10\n",
    "    im = merge(samples, (10,10))\n",
    "    fig_width = int(im.shape[0] * scale)\n",
    "    fig_height = int(im.shape[1] * scale)\n",
    "    im = resize(im, (fig_width, fig_height), anti_aliasing=True)\n",
    "    plt.figure(dpi=150)\n",
    "    plt.imshow(im)\n",
    "    plt.axis('off')"
   ]
  },
  {
   "cell_type": "code",
   "execution_count": null,
   "metadata": {},
   "outputs": [],
   "source": []
  }
 ],
 "metadata": {
  "kernelspec": {
   "display_name": "Python 3",
   "language": "python",
   "name": "python3"
  },
  "language_info": {
   "codemirror_mode": {
    "name": "ipython",
    "version": 3
   },
   "file_extension": ".py",
   "mimetype": "text/x-python",
   "name": "python",
   "nbconvert_exporter": "python",
   "pygments_lexer": "ipython3",
   "version": "3.6.7"
  }
 },
 "nbformat": 4,
 "nbformat_minor": 2
}
