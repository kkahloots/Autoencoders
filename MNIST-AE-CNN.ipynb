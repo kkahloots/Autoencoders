{
 "cells": [
  {
   "cell_type": "code",
   "execution_count": 1,
   "metadata": {},
   "outputs": [],
   "source": [
    "import warnings\n",
    "warnings.filterwarnings('ignore')"
   ]
  },
  {
   "cell_type": "markdown",
   "metadata": {},
   "source": [
    "# Prepare the Dataset"
   ]
  },
  {
   "cell_type": "code",
   "execution_count": 2,
   "metadata": {},
   "outputs": [],
   "source": [
    "dataset_name = 'MNIST'"
   ]
  },
  {
   "cell_type": "code",
   "execution_count": 3,
   "metadata": {
    "scrolled": true
   },
   "outputs": [
    {
     "name": "stderr",
     "output_type": "stream",
     "text": [
      "Using TensorFlow backend.\n"
     ]
    },
    {
     "name": "stdout",
     "output_type": "stream",
     "text": [
      "Dataset size (70000, 28, 28)\n"
     ]
    }
   ],
   "source": [
    "import numpy as np\n",
    "from keras.datasets import mnist\n",
    "(X, y), (X_test, y_test) = mnist.load_data()\n",
    "X = np.concatenate((X, X_test))\n",
    "y = np.concatenate((y, y_test))\n",
    "imgs = X\n",
    "del X_test\n",
    "del y_test\n",
    "\n",
    "print('Dataset size {}'.format(X.shape))\n"
   ]
  },
  {
   "cell_type": "markdown",
   "metadata": {},
   "source": [
    "# AE"
   ]
  },
  {
   "cell_type": "code",
   "execution_count": 4,
   "metadata": {},
   "outputs": [],
   "source": [
    "%load_ext autoreload\n",
    "%autoreload 2"
   ]
  },
  {
   "cell_type": "code",
   "execution_count": 5,
   "metadata": {},
   "outputs": [
    {
     "name": "stdout",
     "output_type": "stream",
     "text": [
      "\n",
      "WARNING: The TensorFlow contrib module will not be included in TensorFlow 2.0.\n",
      "For more information, please see:\n",
      "  * https://github.com/tensorflow/community/blob/master/rfcs/20180907-contrib-sunset.md\n",
      "  * https://github.com/tensorflow/addons\n",
      "If you depend on functionality not listed there, please file an issue.\n",
      "\n"
     ]
    }
   ],
   "source": [
    "from utils.constants import Models as models\n",
    "from models.AE import AE"
   ]
  },
  {
   "cell_type": "code",
   "execution_count": 6,
   "metadata": {},
   "outputs": [
    {
     "name": "stdout",
     "output_type": "stream",
     "text": [
      "Unable to load previous configuration ...\n",
      "Saving Model Arguments ...\n"
     ]
    }
   ],
   "source": [
    "ae = AE(model_type=models.AE, dataset_name=dataset_name,hidden_dim=500, plot=True, isConv=True)"
   ]
  },
  {
   "cell_type": "code",
   "execution_count": 7,
   "metadata": {
    "scrolled": true
   },
   "outputs": [
    {
     "name": "stdout",
     "output_type": "stream",
     "text": [
      "\n",
      "Processing data...\n",
      "Scaling dataset ... \n",
      "Creating dask array ... \n",
      "Preparing samples ...\n"
     ]
    },
    {
     "name": "stderr",
     "output_type": "stream",
     "text": [
      "Mixture of types in 'arrays'. Falling back to scikit-learn.\n"
     ]
    },
    {
     "name": "stdout",
     "output_type": "stream",
     "text": [
      "Training dataset shape:  (56000, 28, 28, 3)\n",
      "Validation dataset shape:  (14000, 28, 28, 3)\n",
      "Sample dataset shape:  (200, 28, 28, 3)\n",
      "building AE graph ... \n",
      "WARNING:tensorflow:From C:\\ProgramData\\Anaconda34\\envs\\gpu_env\\lib\\site-packages\\tensorflow\\python\\framework\\op_def_library.py:263: colocate_with (from tensorflow.python.framework.ops) is deprecated and will be removed in a future version.\n",
      "Instructions for updating:\n",
      "Colocations handled automatically by placer.\n",
      "\n",
      "[*] Defining encoder...\n",
      "WARNING:tensorflow:From C:\\Users\\KhalidKahlootBME\\Documents\\projects\\Autoencoders\\networks\\conv_net.py:41: conv2d (from tensorflow.python.layers.convolutional) is deprecated and will be removed in a future version.\n",
      "Instructions for updating:\n",
      "Use keras.layers.conv2d instead.\n",
      "[*] Layer ( encoder/en__conv_1/Relu:0 ) output shape: [64, 14, 14, 32]\n",
      "WARNING:tensorflow:From C:\\Users\\KhalidKahlootBME\\Documents\\projects\\Autoencoders\\networks\\conv_net.py:82: batch_normalization (from tensorflow.python.layers.normalization) is deprecated and will be removed in a future version.\n",
      "Instructions for updating:\n",
      "Use keras.layers.batch_normalization instead.\n",
      "[*] Layer ( encoder/en__conv_2/Relu:0 ) output shape: [64, 7, 7, 32]\n",
      "[*] Layer ( encoder/en__conv_3/Relu:0 ) output shape: [64, 4, 4, 32]\n",
      "[*] Layer ( encoder/en__conv_4/Relu:0 ) output shape: [64, 2, 2, 32]\n",
      "[*] Layer ( encoder/en__conv_5/Relu:0 ) output shape: [64, 1, 1, 32]\n",
      "WARNING:tensorflow:From C:\\Users\\KhalidKahlootBME\\Documents\\projects\\Autoencoders\\networks\\conv_net.py:84: flatten (from tensorflow.python.layers.core) is deprecated and will be removed in a future version.\n",
      "Instructions for updating:\n",
      "Use keras.layers.flatten instead.\n",
      "\n",
      "WARNING:tensorflow:From C:\\Users\\KhalidKahlootBME\\Documents\\projects\\Autoencoders\\networks\\dense_net.py:63: dense (from tensorflow.python.layers.core) is deprecated and will be removed in a future version.\n",
      "Instructions for updating:\n",
      "Use keras.layers.dense instead.\n",
      "[*] Layer ( encoder/en_dense_1/Relu:0 ) output shape: [64, 500]\n",
      "WARNING:tensorflow:From C:\\Users\\KhalidKahlootBME\\Documents\\projects\\Autoencoders\\networks\\dense_net.py:78: dropout (from tensorflow.python.layers.core) is deprecated and will be removed in a future version.\n",
      "Instructions for updating:\n",
      "Use keras.layers.dropout instead.\n",
      "[*] Layer ( encoder/en_dense_1_dropout/Identity:0 ) output shape: [64, 500]\n",
      "[*] Layer ( encoder/en_dense_2/Relu:0 ) output shape: [64, 500]\n",
      "[*] Layer ( encoder/en_dense_2_dropout/Identity:0 ) output shape: [64, 500]\n",
      "[*] Layer ( encoder/en_H2_batch_norm/batchnorm/add_1:0 ) output shape: [64, 500]\n",
      "[*] Layer ( encoder/en_dense_3/BiasAdd:0 ) output shape: [64, 15]\n",
      "\n",
      "[*] Defining decoder...\n",
      "\n",
      "[*] Layer ( decoder/de_dense_1/Relu:0 ) output shape: [64, 45]\n",
      "[*] Layer ( decoder/de_dense_1_dropout/Identity:0 ) output shape: [64, 45]\n",
      "[*] Layer ( decoder/de_dense_2/Relu:0 ) output shape: [64, 45]\n",
      "[*] Layer ( decoder/de_dense_2_dropout/Identity:0 ) output shape: [64, 45]\n",
      "[*] Layer ( decoder/de_H2_batch_norm/batchnorm/add_1:0 ) output shape: [64, 45]\n",
      "[*] Layer ( decoder/de_dense_3/Relu:0 ) output shape: [64, 3136]\n",
      "WARNING:tensorflow:From C:\\Users\\KhalidKahlootBME\\Documents\\projects\\Autoencoders\\networks\\deconv_net.py:41: conv2d_transpose (from tensorflow.python.layers.convolutional) is deprecated and will be removed in a future version.\n",
      "Instructions for updating:\n",
      "Use keras.layers.conv2d_transpose instead.\n",
      "[*] Layer ( decoder/de__de__deconv_1/Relu:0 ) output shape: [64, 14, 14, 64]\n",
      "[*] Layer ( decoder/de__de__deconv_2/Relu:0 ) output shape: [64, 28, 28, 32]\n",
      "[*] Layer ( decoder/de__de__deconv_3/Relu:0 ) output shape: [64, 28, 28, 3]\n",
      "[*] Layer ( decoder/de__de__deconv_4/Relu:0 ) output shape: [64, 28, 28, 3]\n",
      "[*] Layer ( decoder/de__de__deconv_5/Relu:0 ) output shape: [64, 28, 28, 3]\n",
      "[*] Layer ( decoder/de__de__deconv_6/Sigmoid:0 ) output shape: [64, 28, 28, 3]\n",
      "[*] Defining Loss Functions and Optimizer...\n",
      "WARNING:tensorflow:From C:\\ProgramData\\Anaconda34\\envs\\gpu_env\\lib\\site-packages\\tensorflow\\python\\ops\\math_ops.py:3066: to_int32 (from tensorflow.python.ops.math_ops) is deprecated and will be removed in a future version.\n",
      "Instructions for updating:\n",
      "Use tf.cast instead.\n",
      "<graphs.AE_graph.AEGraph object at 0x000001D380072198>\n",
      "\n",
      "Number of trainable paramters 590793\n",
      "Model does NOT exist\n",
      "Initializing Variables ...\n",
      "random sample batch ...\n",
      "random sample shape (64, 28, 28, 3)\n",
      "Saving Model Arguments ...\n",
      "\n",
      "Training a model...\n",
      "Model does NOT exist\n",
      "Initializing Variables ...\n",
      "EPOCH:  0\n"
     ]
    },
    {
     "name": "stderr",
     "output_type": "stream",
     "text": [
      "100%|████████████████████████████████████████████████████████████████████████████████| 875/875 [02:48<00:00,  5.15it/s]\n",
      "100%|████████████████████████████████████████████████████████████████████████████████| 218/218 [00:12<00:00, 16.99it/s]\n"
     ]
    },
    {
     "name": "stdout",
     "output_type": "stream",
     "text": [
      "TRAIN: \n",
      "AE: 500.87122 | reconstruction: 500.87036 | L2: 855.60645 | \n",
      "EVALUATE: \n",
      "AE: 375.91907 | reconstruction: 375.91818 | L2: 927.92194 | \n",
      "\n",
      "EPOCH:  1\n"
     ]
    },
    {
     "name": "stderr",
     "output_type": "stream",
     "text": [
      "100%|████████████████████████████████████████████████████████████████████████████████| 875/875 [02:50<00:00,  4.87it/s]\n",
      "100%|████████████████████████████████████████████████████████████████████████████████| 218/218 [00:13<00:00, 16.56it/s]\n"
     ]
    },
    {
     "name": "stdout",
     "output_type": "stream",
     "text": [
      "TRAIN: \n",
      "AE: 353.56122 | reconstruction: 353.5602 | L2: 981.03235 | \n",
      "EVALUATE: \n",
      "AE: 320.87607 | reconstruction: 320.87515 | L2: 1033.7821 | \n",
      "\n",
      "Saving model...\n",
      "Model saved\n",
      "Generating latent space ...\n",
      "Scaling dataset ... \n",
      "Creating dask array ... \n",
      "Loading model checkpoint experiments/checkpoint_dir/AE_Conv_MNIST_lat15_h500_lay3/-1750 ...\n",
      "\n",
      "WARNING:tensorflow:From C:\\ProgramData\\Anaconda34\\envs\\gpu_env\\lib\\site-packages\\tensorflow\\python\\training\\saver.py:1266: checkpoint_exists (from tensorflow.python.training.checkpoint_management) is deprecated and will be removed in a future version.\n",
      "Instructions for updating:\n",
      "Use standard file APIs to check for files with this prefix.\n",
      "INFO:tensorflow:Restoring parameters from experiments/checkpoint_dir/AE_Conv_MNIST_lat15_h500_lay3/-1750\n",
      "Model loaded\n",
      "EPOCHS trained:  1\n"
     ]
    },
    {
     "name": "stderr",
     "output_type": "stream",
     "text": [
      "100%|███████████████████████████████████████████████████████████████████████████████| 875/875 [00:05<00:00, 152.04it/s]\n"
     ]
    },
    {
     "name": "stdout",
     "output_type": "stream",
     "text": [
      "Latent space dimensions: (56000, 2)\n",
      "Plotting latent space ...\n",
      "data size (56000, 2)\n"
     ]
    },
    {
     "name": "stderr",
     "output_type": "stream",
     "text": [
      "100%|██████████████████████████████████████████████████████████████████████████| 56000/56000 [00:11<00:00, 5048.71it/s]\n"
     ]
    },
    {
     "name": "stdout",
     "output_type": "stream",
     "text": [
      "Saving Image experiments/log_dir/AE_Conv_MNIST_lat15_h500_lay3/AE_Conv_MNIST_lat15_h500_lay3 latent epoch 1.jpg ...\n",
      "latent space dimensions: (56000, 3)\n",
      "Plotting latent space ...\n",
      "data size (56000, 3)\n"
     ]
    },
    {
     "name": "stderr",
     "output_type": "stream",
     "text": [
      "100%|██████████████████████████████████████████████████████████████████████████████████| 10/10 [00:00<00:00, 87.15it/s]\n"
     ]
    },
    {
     "name": "stdout",
     "output_type": "stream",
     "text": [
      "Saving Image experiments/log_dir/AE_Conv_MNIST_lat15_h500_lay3/AE_Conv_MNIST_lat15_h500_lay3 latent_3d epoch 1.jpg ...\n",
      "Reconstructing samples from Data ...\n",
      "Scaling dataset ... \n",
      "Creating dask array ... \n",
      "Loading model checkpoint experiments/checkpoint_dir/AE_Conv_MNIST_lat15_h500_lay3/-1750 ...\n",
      "\n",
      "INFO:tensorflow:Restoring parameters from experiments/checkpoint_dir/AE_Conv_MNIST_lat15_h500_lay3/-1750\n",
      "Model loaded\n",
      "EPOCHS trained:  1\n"
     ]
    },
    {
     "name": "stderr",
     "output_type": "stream",
     "text": [
      "4it [00:00, 51.23it/s]                                                                                                 \n"
     ]
    },
    {
     "name": "stdout",
     "output_type": "stream",
     "text": [
      "Loading model checkpoint experiments/checkpoint_dir/AE_Conv_MNIST_lat15_h500_lay3/-1750 ...\n",
      "\n",
      "INFO:tensorflow:Restoring parameters from experiments/checkpoint_dir/AE_Conv_MNIST_lat15_h500_lay3/-1750\n",
      "Model loaded\n",
      "EPOCHS trained:  1\n"
     ]
    },
    {
     "name": "stderr",
     "output_type": "stream",
     "text": [
      "4it [00:00, 27.85it/s]                                                                                                 \n"
     ]
    },
    {
     "name": "stdout",
     "output_type": "stream",
     "text": [
      "Saving Image  experiments/log_dir/AE_Conv_MNIST_lat15_h500_lay3/AE_Conv_MNIST_lat15_h500_lay3 samples reconstruction epoch 1.jpg\n",
      "EPOCH:  2\n"
     ]
    },
    {
     "name": "stderr",
     "output_type": "stream",
     "text": [
      "100%|████████████████████████████████████████████████████████████████████████████████| 875/875 [02:47<00:00,  5.35it/s]\n",
      "100%|████████████████████████████████████████████████████████████████████████████████| 218/218 [00:12<00:00, 17.62it/s]\n"
     ]
    },
    {
     "name": "stdout",
     "output_type": "stream",
     "text": [
      "TRAIN: \n",
      "AE: 308.94107 | reconstruction: 308.94003 | L2: 1080.0015 | \n",
      "EVALUATE: \n",
      "AE: 296.79208 | reconstruction: 296.79092 | L2: 1124.001 | \n",
      "\n",
      "EPOCH:  3\n"
     ]
    },
    {
     "name": "stderr",
     "output_type": "stream",
     "text": [
      "100%|████████████████████████████████████████████████████████████████████████████████| 875/875 [02:44<00:00,  5.34it/s]\n",
      "100%|████████████████████████████████████████████████████████████████████████████████| 218/218 [00:12<00:00, 17.29it/s]\n"
     ]
    },
    {
     "name": "stdout",
     "output_type": "stream",
     "text": [
      "TRAIN: \n",
      "AE: 288.08572 | reconstruction: 288.0846 | L2: 1165.4591 | \n",
      "EVALUATE: \n",
      "AE: 284.4202 | reconstruction: 284.41907 | L2: 1207.9697 | \n",
      "\n",
      "EPOCH:  4\n"
     ]
    },
    {
     "name": "stderr",
     "output_type": "stream",
     "text": [
      "100%|████████████████████████████████████████████████████████████████████████████████| 875/875 [02:44<00:00,  5.30it/s]\n",
      "100%|████████████████████████████████████████████████████████████████████████████████| 218/218 [00:12<00:00, 17.73it/s]\n"
     ]
    },
    {
     "name": "stdout",
     "output_type": "stream",
     "text": [
      "TRAIN: \n",
      "AE: 276.90048 | reconstruction: 276.89902 | L2: 1248.934 | \n",
      "EVALUATE: \n",
      "AE: 275.97827 | reconstruction: 275.97705 | L2: 1289.5634 | \n",
      "\n",
      "EPOCH:  5\n"
     ]
    },
    {
     "name": "stderr",
     "output_type": "stream",
     "text": [
      "100%|████████████████████████████████████████████████████████████████████████████████| 875/875 [02:43<00:00,  5.34it/s]\n",
      "100%|████████████████████████████████████████████████████████████████████████████████| 218/218 [00:12<00:00, 17.71it/s]\n"
     ]
    },
    {
     "name": "stdout",
     "output_type": "stream",
     "text": [
      "TRAIN: \n",
      "AE: 270.9997 | reconstruction: 270.99826 | L2: 1329.5677 | \n",
      "EVALUATE: \n",
      "AE: 271.52994 | reconstruction: 271.52856 | L2: 1369.5903 | \n",
      "\n",
      "EPOCH:  6\n"
     ]
    },
    {
     "name": "stderr",
     "output_type": "stream",
     "text": [
      "100%|████████████████████████████████████████████████████████████████████████████████| 875/875 [02:44<00:00,  5.41it/s]\n",
      "100%|████████████████████████████████████████████████████████████████████████████████| 218/218 [00:12<00:00, 17.74it/s]\n"
     ]
    },
    {
     "name": "stdout",
     "output_type": "stream",
     "text": [
      "TRAIN: \n",
      "AE: 266.66763 | reconstruction: 266.66626 | L2: 1410.2107 | \n",
      "EVALUATE: \n",
      "AE: 268.28275 | reconstruction: 268.2813 | L2: 1451.315 | \n",
      "\n",
      "EPOCH:  7\n"
     ]
    },
    {
     "name": "stderr",
     "output_type": "stream",
     "text": [
      "100%|████████████████████████████████████████████████████████████████████████████████| 875/875 [02:43<00:00,  5.40it/s]\n",
      "100%|████████████████████████████████████████████████████████████████████████████████| 218/218 [00:12<00:00, 17.72it/s]\n"
     ]
    },
    {
     "name": "stdout",
     "output_type": "stream",
     "text": [
      "TRAIN: \n",
      "AE: 263.42892 | reconstruction: 263.42755 | L2: 1492.3114 | \n",
      "EVALUATE: \n",
      "AE: 268.72574 | reconstruction: 268.7242 | L2: 1535.2073 | \n",
      "\n",
      "total loss Patience count:  1\n",
      "EPOCH:  8\n"
     ]
    },
    {
     "name": "stderr",
     "output_type": "stream",
     "text": [
      "100%|████████████████████████████████████████████████████████████████████████████████| 875/875 [02:43<00:00,  5.37it/s]\n",
      "100%|████████████████████████████████████████████████████████████████████████████████| 218/218 [00:13<00:00, 15.35it/s]\n"
     ]
    },
    {
     "name": "stdout",
     "output_type": "stream",
     "text": [
      "TRAIN: \n",
      "AE: 261.22794 | reconstruction: 261.22635 | L2: 1576.8732 | \n",
      "EVALUATE: \n",
      "AE: 268.23834 | reconstruction: 268.23648 | L2: 1620.0845 | \n",
      "\n",
      "EPOCH:  9\n"
     ]
    },
    {
     "name": "stderr",
     "output_type": "stream",
     "text": [
      "100%|████████████████████████████████████████████████████████████████████████████████| 875/875 [02:43<00:00,  5.34it/s]\n",
      "100%|████████████████████████████████████████████████████████████████████████████████| 218/218 [00:12<00:00, 17.47it/s]\n"
     ]
    },
    {
     "name": "stdout",
     "output_type": "stream",
     "text": [
      "TRAIN: \n",
      "AE: 259.00668 | reconstruction: 259.00522 | L2: 1662.4548 | \n",
      "EVALUATE: \n",
      "AE: 265.6161 | reconstruction: 265.61432 | L2: 1705.6589 | \n",
      "\n",
      "EPOCH:  10\n"
     ]
    },
    {
     "name": "stderr",
     "output_type": "stream",
     "text": [
      "100%|████████████████████████████████████████████████████████████████████████████████| 875/875 [02:43<00:00,  5.36it/s]\n",
      "100%|████████████████████████████████████████████████████████████████████████████████| 218/218 [00:12<00:00, 17.71it/s]\n"
     ]
    },
    {
     "name": "stdout",
     "output_type": "stream",
     "text": [
      "TRAIN: \n",
      "AE: 256.79965 | reconstruction: 256.79785 | L2: 1749.791 | \n",
      "EVALUATE: \n",
      "AE: 261.87576 | reconstruction: 261.87393 | L2: 1794.9163 | \n",
      "\n",
      "EPOCH:  11\n"
     ]
    },
    {
     "name": "stderr",
     "output_type": "stream",
     "text": [
      "100%|████████████████████████████████████████████████████████████████████████████████| 875/875 [02:44<00:00,  5.43it/s]\n",
      "100%|████████████████████████████████████████████████████████████████████████████████| 218/218 [00:12<00:00, 17.58it/s]\n"
     ]
    },
    {
     "name": "stdout",
     "output_type": "stream",
     "text": [
      "TRAIN: \n",
      "AE: 252.72589 | reconstruction: 252.7241 | L2: 1839.29 | \n",
      "EVALUATE: \n",
      "AE: 251.9868 | reconstruction: 251.98482 | L2: 1883.3201 | \n",
      "\n",
      "EPOCH:  12\n"
     ]
    },
    {
     "name": "stderr",
     "output_type": "stream",
     "text": [
      "100%|████████████████████████████████████████████████████████████████████████████████| 875/875 [02:43<00:00,  5.39it/s]\n",
      "100%|████████████████████████████████████████████████████████████████████████████████| 218/218 [00:12<00:00, 17.56it/s]\n"
     ]
    },
    {
     "name": "stdout",
     "output_type": "stream",
     "text": [
      "TRAIN: \n",
      "AE: 245.01572 | reconstruction: 245.01373 | L2: 1921.7992 | \n",
      "EVALUATE: \n",
      "AE: 244.53166 | reconstruction: 244.52977 | L2: 1961.2886 | \n",
      "\n",
      "EPOCH:  13\n"
     ]
    },
    {
     "name": "stderr",
     "output_type": "stream",
     "text": [
      "100%|████████████████████████████████████████████████████████████████████████████████| 875/875 [02:44<00:00,  5.30it/s]\n",
      "100%|████████████████████████████████████████████████████████████████████████████████| 218/218 [00:12<00:00, 17.58it/s]\n"
     ]
    },
    {
     "name": "stdout",
     "output_type": "stream",
     "text": [
      "TRAIN: \n",
      "AE: 238.4627 | reconstruction: 238.46082 | L2: 1999.9088 | \n",
      "EVALUATE: \n",
      "AE: 240.09059 | reconstruction: 240.08853 | L2: 2040.8052 | \n",
      "\n",
      "EPOCH:  14\n"
     ]
    },
    {
     "name": "stderr",
     "output_type": "stream",
     "text": [
      "100%|████████████████████████████████████████████████████████████████████████████████| 875/875 [02:43<00:00,  5.30it/s]\n",
      "100%|████████████████████████████████████████████████████████████████████████████████| 218/218 [00:12<00:00, 17.85it/s]\n"
     ]
    },
    {
     "name": "stdout",
     "output_type": "stream",
     "text": [
      "TRAIN: \n",
      "AE: 233.75623 | reconstruction: 233.75441 | L2: 2079.6873 | \n",
      "EVALUATE: \n",
      "AE: 235.23769 | reconstruction: 235.23564 | L2: 2121.5017 | \n",
      "\n",
      "EPOCH:  15\n"
     ]
    },
    {
     "name": "stderr",
     "output_type": "stream",
     "text": [
      "100%|████████████████████████████████████████████████████████████████████████████████| 875/875 [02:43<00:00,  5.35it/s]\n",
      "100%|████████████████████████████████████████████████████████████████████████████████| 218/218 [00:12<00:00, 17.58it/s]\n"
     ]
    },
    {
     "name": "stdout",
     "output_type": "stream",
     "text": [
      "TRAIN: \n",
      "AE: 230.23746 | reconstruction: 230.23546 | L2: 2161.8174 | \n",
      "EVALUATE: \n",
      "AE: 234.32256 | reconstruction: 234.32019 | L2: 2204.3755 | \n",
      "\n",
      "EPOCH:  16\n"
     ]
    },
    {
     "name": "stderr",
     "output_type": "stream",
     "text": [
      "100%|████████████████████████████████████████████████████████████████████████████████| 875/875 [02:44<00:00,  5.42it/s]\n",
      "100%|████████████████████████████████████████████████████████████████████████████████| 218/218 [00:12<00:00, 17.69it/s]\n"
     ]
    },
    {
     "name": "stdout",
     "output_type": "stream",
     "text": [
      "TRAIN: \n",
      "AE: 227.58763 | reconstruction: 227.58522 | L2: 2244.6514 | \n",
      "EVALUATE: \n",
      "AE: 232.20422 | reconstruction: 232.2018 | L2: 2286.8145 | \n",
      "\n",
      "EPOCH:  17\n"
     ]
    },
    {
     "name": "stderr",
     "output_type": "stream",
     "text": [
      "100%|████████████████████████████████████████████████████████████████████████████████| 875/875 [02:43<00:00,  5.32it/s]\n",
      "100%|████████████████████████████████████████████████████████████████████████████████| 218/218 [00:12<00:00, 17.51it/s]\n"
     ]
    },
    {
     "name": "stdout",
     "output_type": "stream",
     "text": [
      "TRAIN: \n",
      "AE: 225.75848 | reconstruction: 225.7564 | L2: 2327.8293 | \n",
      "EVALUATE: \n",
      "AE: 230.38467 | reconstruction: 230.38222 | L2: 2371.881 | \n",
      "\n",
      "EPOCH:  18\n"
     ]
    },
    {
     "name": "stderr",
     "output_type": "stream",
     "text": [
      "100%|████████████████████████████████████████████████████████████████████████████████| 875/875 [02:44<00:00,  5.33it/s]\n",
      "100%|████████████████████████████████████████████████████████████████████████████████| 218/218 [00:12<00:00, 17.47it/s]\n"
     ]
    },
    {
     "name": "stdout",
     "output_type": "stream",
     "text": [
      "TRAIN: \n",
      "AE: 223.61084 | reconstruction: 223.60855 | L2: 2413.0134 | \n",
      "EVALUATE: \n",
      "AE: 229.56972 | reconstruction: 229.56729 | L2: 2456.123 | \n",
      "\n",
      "EPOCH:  19\n"
     ]
    },
    {
     "name": "stderr",
     "output_type": "stream",
     "text": [
      "100%|████████████████████████████████████████████████████████████████████████████████| 875/875 [02:43<00:00,  5.38it/s]\n",
      "100%|████████████████████████████████████████████████████████████████████████████████| 218/218 [00:12<00:00, 17.80it/s]\n"
     ]
    },
    {
     "name": "stdout",
     "output_type": "stream",
     "text": [
      "TRAIN: \n",
      "AE: 220.98753 | reconstruction: 220.98502 | L2: 2495.9692 | \n",
      "EVALUATE: \n",
      "AE: 226.50551 | reconstruction: 226.50288 | L2: 2537.467 | \n",
      "\n",
      "EPOCH:  20\n"
     ]
    },
    {
     "name": "stderr",
     "output_type": "stream",
     "text": [
      "100%|████████████████████████████████████████████████████████████████████████████████| 875/875 [02:44<00:00,  5.40it/s]\n",
      "100%|████████████████████████████████████████████████████████████████████████████████| 218/218 [00:12<00:00, 17.72it/s]\n"
     ]
    },
    {
     "name": "stdout",
     "output_type": "stream",
     "text": [
      "TRAIN: \n",
      "AE: 218.48166 | reconstruction: 218.479 | L2: 2577.1382 | \n",
      "EVALUATE: \n",
      "AE: 223.2859 | reconstruction: 223.28333 | L2: 2618.377 | \n",
      "\n",
      "Saving model...\n",
      "Model saved\n",
      "Generating latent space ...\n",
      "Scaling dataset ... \n",
      "Creating dask array ... \n",
      "Loading model checkpoint experiments/checkpoint_dir/AE_Conv_MNIST_lat15_h500_lay3/-18375 ...\n",
      "\n",
      "INFO:tensorflow:Restoring parameters from experiments/checkpoint_dir/AE_Conv_MNIST_lat15_h500_lay3/-18375\n",
      "Model loaded\n",
      "EPOCHS trained:  20\n"
     ]
    },
    {
     "name": "stderr",
     "output_type": "stream",
     "text": [
      "100%|███████████████████████████████████████████████████████████████████████████████| 875/875 [00:05<00:00, 155.36it/s]\n"
     ]
    },
    {
     "name": "stdout",
     "output_type": "stream",
     "text": [
      "Latent space dimensions: (56000, 2)\n",
      "Plotting latent space ...\n",
      "data size (56000, 2)\n"
     ]
    },
    {
     "name": "stderr",
     "output_type": "stream",
     "text": [
      "100%|██████████████████████████████████████████████████████████████████████████| 56000/56000 [00:12<00:00, 4541.38it/s]\n"
     ]
    },
    {
     "name": "stdout",
     "output_type": "stream",
     "text": [
      "Saving Image experiments/log_dir/AE_Conv_MNIST_lat15_h500_lay3/AE_Conv_MNIST_lat15_h500_lay3 latent epoch 20.jpg ...\n",
      "latent space dimensions: (56000, 3)\n",
      "Plotting latent space ...\n",
      "data size (56000, 3)\n"
     ]
    },
    {
     "name": "stderr",
     "output_type": "stream",
     "text": [
      "100%|██████████████████████████████████████████████████████████████████████████████████| 10/10 [00:00<00:00, 95.49it/s]\n"
     ]
    },
    {
     "name": "stdout",
     "output_type": "stream",
     "text": [
      "Saving Image experiments/log_dir/AE_Conv_MNIST_lat15_h500_lay3/AE_Conv_MNIST_lat15_h500_lay3 latent_3d epoch 20.jpg ...\n",
      "Reconstructing samples from Data ...\n",
      "Scaling dataset ... \n",
      "Creating dask array ... \n",
      "Loading model checkpoint experiments/checkpoint_dir/AE_Conv_MNIST_lat15_h500_lay3/-18375 ...\n",
      "\n",
      "INFO:tensorflow:Restoring parameters from experiments/checkpoint_dir/AE_Conv_MNIST_lat15_h500_lay3/-18375\n",
      "Model loaded\n",
      "EPOCHS trained:  20\n"
     ]
    },
    {
     "name": "stderr",
     "output_type": "stream",
     "text": [
      "4it [00:00, 50.11it/s]                                                                                                 \n"
     ]
    },
    {
     "name": "stdout",
     "output_type": "stream",
     "text": [
      "Loading model checkpoint experiments/checkpoint_dir/AE_Conv_MNIST_lat15_h500_lay3/-18375 ...\n",
      "\n",
      "INFO:tensorflow:Restoring parameters from experiments/checkpoint_dir/AE_Conv_MNIST_lat15_h500_lay3/-18375\n",
      "Model loaded\n",
      "EPOCHS trained:  20\n"
     ]
    },
    {
     "name": "stderr",
     "output_type": "stream",
     "text": [
      "4it [00:00, 28.65it/s]                                                                                                 \n"
     ]
    },
    {
     "name": "stdout",
     "output_type": "stream",
     "text": [
      "Saving Image  experiments/log_dir/AE_Conv_MNIST_lat15_h500_lay3/AE_Conv_MNIST_lat15_h500_lay3 samples reconstruction epoch 20.jpg\n",
      "EPOCH:  21\n"
     ]
    },
    {
     "name": "stderr",
     "output_type": "stream",
     "text": [
      "100%|████████████████████████████████████████████████████████████████████████████████| 875/875 [02:42<00:00,  5.41it/s]\n",
      "100%|████████████████████████████████████████████████████████████████████████████████| 218/218 [00:12<00:00, 17.72it/s]\n"
     ]
    },
    {
     "name": "stdout",
     "output_type": "stream",
     "text": [
      "TRAIN: \n",
      "AE: 216.85275 | reconstruction: 216.85017 | L2: 2660.0486 | \n",
      "EVALUATE: \n",
      "AE: 223.19232 | reconstruction: 223.18951 | L2: 2702.8745 | \n",
      "\n",
      "EPOCH:  22\n"
     ]
    },
    {
     "name": "stderr",
     "output_type": "stream",
     "text": [
      "100%|████████████████████████████████████████████████████████████████████████████████| 875/875 [02:42<00:00,  5.36it/s]\n",
      "100%|████████████████████████████████████████████████████████████████████████████████| 218/218 [00:12<00:00, 17.65it/s]\n"
     ]
    },
    {
     "name": "stdout",
     "output_type": "stream",
     "text": [
      "TRAIN: \n",
      "AE: 215.90703 | reconstruction: 215.90425 | L2: 2745.9543 | \n",
      "EVALUATE: \n",
      "AE: 222.62607 | reconstruction: 222.62338 | L2: 2789.4626 | \n",
      "\n",
      "EPOCH:  23\n"
     ]
    },
    {
     "name": "stderr",
     "output_type": "stream",
     "text": [
      "100%|████████████████████████████████████████████████████████████████████████████████| 875/875 [02:42<00:00,  5.33it/s]\n",
      "100%|████████████████████████████████████████████████████████████████████████████████| 218/218 [00:12<00:00, 17.74it/s]\n"
     ]
    },
    {
     "name": "stdout",
     "output_type": "stream",
     "text": [
      "TRAIN: \n",
      "AE: 215.56468 | reconstruction: 215.56206 | L2: 2833.4912 | \n",
      "EVALUATE: \n",
      "AE: 222.90514 | reconstruction: 222.90215 | L2: 2877.7485 | \n",
      "\n",
      "total loss Patience count:  1\n",
      "EPOCH:  24\n"
     ]
    },
    {
     "name": "stderr",
     "output_type": "stream",
     "text": [
      "100%|████████████████████████████████████████████████████████████████████████████████| 875/875 [02:43<00:00,  5.36it/s]\n",
      "100%|████████████████████████████████████████████████████████████████████████████████| 218/218 [00:13<00:00, 17.38it/s]\n"
     ]
    },
    {
     "name": "stdout",
     "output_type": "stream",
     "text": [
      "TRAIN: \n",
      "AE: 214.57358 | reconstruction: 214.57057 | L2: 2921.0195 | \n",
      "EVALUATE: \n",
      "AE: 219.82678 | reconstruction: 219.82387 | L2: 2965.256 | \n",
      "\n",
      "EPOCH:  25\n"
     ]
    },
    {
     "name": "stderr",
     "output_type": "stream",
     "text": [
      "100%|████████████████████████████████████████████████████████████████████████████████| 875/875 [02:42<00:00,  5.47it/s]\n",
      "100%|████████████████████████████████████████████████████████████████████████████████| 218/218 [00:12<00:00, 17.56it/s]\n"
     ]
    },
    {
     "name": "stdout",
     "output_type": "stream",
     "text": [
      "TRAIN: \n",
      "AE: 212.84026 | reconstruction: 212.83702 | L2: 3007.107 | \n",
      "EVALUATE: \n",
      "AE: 217.8953 | reconstruction: 217.89218 | L2: 3051.5579 | \n",
      "\n",
      "EPOCH:  26\n"
     ]
    },
    {
     "name": "stderr",
     "output_type": "stream",
     "text": [
      "100%|████████████████████████████████████████████████████████████████████████████████| 875/875 [02:43<00:00,  5.46it/s]\n",
      "100%|████████████████████████████████████████████████████████████████████████████████| 218/218 [00:12<00:00, 17.40it/s]\n"
     ]
    },
    {
     "name": "stdout",
     "output_type": "stream",
     "text": [
      "TRAIN: \n",
      "AE: 210.579 | reconstruction: 210.57585 | L2: 3092.8308 | \n",
      "EVALUATE: \n",
      "AE: 218.12646 | reconstruction: 218.12334 | L2: 3136.332 | \n",
      "\n",
      "total loss Patience count:  1\n",
      "EPOCH:  27\n"
     ]
    },
    {
     "name": "stderr",
     "output_type": "stream",
     "text": [
      "100%|████████████████████████████████████████████████████████████████████████████████| 875/875 [02:42<00:00,  5.29it/s]\n",
      "100%|████████████████████████████████████████████████████████████████████████████████| 218/218 [00:12<00:00, 17.70it/s]\n"
     ]
    },
    {
     "name": "stdout",
     "output_type": "stream",
     "text": [
      "TRAIN: \n",
      "AE: 209.55887 | reconstruction: 209.55547 | L2: 3179.7246 | \n",
      "EVALUATE: \n",
      "AE: 217.25768 | reconstruction: 217.25449 | L2: 3225.38 | \n",
      "\n",
      "EPOCH:  28\n"
     ]
    },
    {
     "name": "stderr",
     "output_type": "stream",
     "text": [
      "100%|████████████████████████████████████████████████████████████████████████████████| 875/875 [02:42<00:00,  5.39it/s]\n",
      "100%|████████████████████████████████████████████████████████████████████████████████| 218/218 [00:13<00:00, 17.52it/s]\n"
     ]
    },
    {
     "name": "stdout",
     "output_type": "stream",
     "text": [
      "TRAIN: \n",
      "AE: 209.222 | reconstruction: 209.21878 | L2: 3270.381 | \n",
      "EVALUATE: \n",
      "AE: 218.45335 | reconstruction: 218.45004 | L2: 3317.5002 | \n",
      "\n",
      "total loss Patience count:  1\n",
      "EPOCH:  29\n"
     ]
    },
    {
     "name": "stderr",
     "output_type": "stream",
     "text": [
      "100%|████████████████████████████████████████████████████████████████████████████████| 875/875 [02:42<00:00,  5.42it/s]\n",
      "100%|████████████████████████████████████████████████████████████████████████████████| 218/218 [00:12<00:00, 17.76it/s]\n"
     ]
    },
    {
     "name": "stdout",
     "output_type": "stream",
     "text": [
      "TRAIN: \n",
      "AE: 209.00156 | reconstruction: 208.99812 | L2: 3362.9011 | \n",
      "EVALUATE: \n",
      "AE: 217.97244 | reconstruction: 217.969 | L2: 3410.3582 | \n",
      "\n",
      "total loss Patience count:  2\n",
      "EPOCH:  30\n"
     ]
    },
    {
     "name": "stderr",
     "output_type": "stream",
     "text": [
      "100%|████████████████████████████████████████████████████████████████████████████████| 875/875 [02:42<00:00,  5.31it/s]\n",
      "100%|████████████████████████████████████████████████████████████████████████████████| 218/218 [00:12<00:00, 17.53it/s]\n"
     ]
    },
    {
     "name": "stdout",
     "output_type": "stream",
     "text": [
      "TRAIN: \n",
      "AE: 208.61665 | reconstruction: 208.61311 | L2: 3455.4868 | \n",
      "EVALUATE: \n",
      "AE: 215.62694 | reconstruction: 215.62346 | L2: 3501.938 | \n",
      "\n",
      "EPOCH:  31\n"
     ]
    },
    {
     "name": "stderr",
     "output_type": "stream",
     "text": [
      "100%|████████████████████████████████████████████████████████████████████████████████| 875/875 [02:42<00:00,  5.59it/s]\n",
      "100%|████████████████████████████████████████████████████████████████████████████████| 218/218 [00:12<00:00, 17.54it/s]\n"
     ]
    },
    {
     "name": "stdout",
     "output_type": "stream",
     "text": [
      "TRAIN: \n",
      "AE: 207.96767 | reconstruction: 207.96432 | L2: 3546.2788 | \n",
      "EVALUATE: \n",
      "AE: 216.58754 | reconstruction: 216.58391 | L2: 3591.546 | \n",
      "\n",
      "total loss Patience count:  1\n",
      "EPOCH:  32\n"
     ]
    },
    {
     "name": "stderr",
     "output_type": "stream",
     "text": [
      "100%|████████████████████████████████████████████████████████████████████████████████| 875/875 [02:43<00:00,  5.33it/s]\n",
      "100%|████████████████████████████████████████████████████████████████████████████████| 218/218 [00:13<00:00, 17.57it/s]\n"
     ]
    },
    {
     "name": "stdout",
     "output_type": "stream",
     "text": [
      "TRAIN: \n",
      "AE: 206.63095 | reconstruction: 206.62749 | L2: 3634.5977 | \n",
      "EVALUATE: \n",
      "AE: 214.52055 | reconstruction: 214.51692 | L2: 3677.5044 | \n",
      "\n",
      "EPOCH:  33\n"
     ]
    },
    {
     "name": "stderr",
     "output_type": "stream",
     "text": [
      "100%|████████████████████████████████████████████████████████████████████████████████| 875/875 [02:46<00:00,  5.41it/s]\n",
      "100%|████████████████████████████████████████████████████████████████████████████████| 218/218 [00:12<00:00, 17.47it/s]\n"
     ]
    },
    {
     "name": "stdout",
     "output_type": "stream",
     "text": [
      "TRAIN: \n",
      "AE: 205.3668 | reconstruction: 205.36305 | L2: 3721.3362 | \n",
      "EVALUATE: \n",
      "AE: 210.91177 | reconstruction: 210.908 | L2: 3763.505 | \n",
      "\n",
      "EPOCH:  34\n"
     ]
    },
    {
     "name": "stderr",
     "output_type": "stream",
     "text": [
      "100%|████████████████████████████████████████████████████████████████████████████████| 875/875 [02:43<00:00,  5.31it/s]\n",
      "100%|████████████████████████████████████████████████████████████████████████████████| 218/218 [00:12<00:00, 17.47it/s]\n"
     ]
    },
    {
     "name": "stdout",
     "output_type": "stream",
     "text": [
      "TRAIN: \n",
      "AE: 203.56076 | reconstruction: 203.55705 | L2: 3806.7148 | \n",
      "EVALUATE: \n",
      "AE: 210.29948 | reconstruction: 210.29565 | L2: 3849.2307 | \n",
      "\n",
      "EPOCH:  35\n"
     ]
    },
    {
     "name": "stderr",
     "output_type": "stream",
     "text": [
      "100%|████████████████████████████████████████████████████████████████████████████████| 875/875 [02:45<00:00,  5.31it/s]\n",
      "100%|████████████████████████████████████████████████████████████████████████████████| 218/218 [00:12<00:00, 16.84it/s]\n"
     ]
    },
    {
     "name": "stdout",
     "output_type": "stream",
     "text": [
      "TRAIN: \n",
      "AE: 202.00839 | reconstruction: 202.00455 | L2: 3891.3525 | \n",
      "EVALUATE: \n",
      "AE: 210.63515 | reconstruction: 210.6312 | L2: 3934.4565 | \n",
      "\n",
      "total loss Patience count:  1\n",
      "EPOCH:  36\n"
     ]
    },
    {
     "name": "stderr",
     "output_type": "stream",
     "text": [
      "100%|████████████████████████████████████████████████████████████████████████████████| 875/875 [02:44<00:00,  5.37it/s]\n",
      "100%|████████████████████████████████████████████████████████████████████████████████| 218/218 [00:14<00:00, 17.28it/s]\n"
     ]
    },
    {
     "name": "stdout",
     "output_type": "stream",
     "text": [
      "TRAIN: \n",
      "AE: 201.4662 | reconstruction: 201.46234 | L2: 3978.9128 | \n",
      "EVALUATE: \n",
      "AE: 210.72429 | reconstruction: 210.72021 | L2: 4025.2676 | \n",
      "\n",
      "total loss Patience count:  2\n",
      "EPOCH:  37\n"
     ]
    },
    {
     "name": "stderr",
     "output_type": "stream",
     "text": [
      "100%|████████████████████████████████████████████████████████████████████████████████| 875/875 [02:45<00:00,  5.32it/s]\n",
      "100%|████████████████████████████████████████████████████████████████████████████████| 218/218 [00:12<00:00, 16.69it/s]\n"
     ]
    },
    {
     "name": "stdout",
     "output_type": "stream",
     "text": [
      "TRAIN: \n",
      "AE: 200.92627 | reconstruction: 200.9222 | L2: 4070.6296 | \n",
      "EVALUATE: \n",
      "AE: 210.31743 | reconstruction: 210.31334 | L2: 4117.11 | \n",
      "\n",
      "total loss Patience count:  3\n",
      "EPOCH:  38\n"
     ]
    },
    {
     "name": "stderr",
     "output_type": "stream",
     "text": [
      "100%|████████████████████████████████████████████████████████████████████████████████| 875/875 [02:43<00:00,  5.30it/s]\n",
      "100%|████████████████████████████████████████████████████████████████████████████████| 218/218 [00:12<00:00, 17.31it/s]\n"
     ]
    },
    {
     "name": "stdout",
     "output_type": "stream",
     "text": [
      "TRAIN: \n",
      "AE: 200.91377 | reconstruction: 200.90967 | L2: 4164.214 | \n",
      "EVALUATE: \n",
      "AE: 208.5997 | reconstruction: 208.59541 | L2: 4212.1387 | \n",
      "\n",
      "EPOCH:  39\n"
     ]
    },
    {
     "name": "stderr",
     "output_type": "stream",
     "text": [
      "100%|████████████████████████████████████████████████████████████████████████████████| 875/875 [02:46<00:00,  5.38it/s]\n",
      "100%|████████████████████████████████████████████████████████████████████████████████| 218/218 [00:12<00:00, 17.42it/s]\n"
     ]
    },
    {
     "name": "stdout",
     "output_type": "stream",
     "text": [
      "TRAIN: \n",
      "AE: 200.82373 | reconstruction: 200.8194 | L2: 4259.0835 | \n",
      "EVALUATE: \n",
      "AE: 209.23148 | reconstruction: 209.2272 | L2: 4307.0786 | \n",
      "\n",
      "total loss Patience count:  1\n",
      "EPOCH:  40\n"
     ]
    },
    {
     "name": "stderr",
     "output_type": "stream",
     "text": [
      "100%|████████████████████████████████████████████████████████████████████████████████| 875/875 [02:45<00:00,  5.33it/s]\n",
      "100%|████████████████████████████████████████████████████████████████████████████████| 218/218 [00:14<00:00, 16.88it/s]\n"
     ]
    },
    {
     "name": "stdout",
     "output_type": "stream",
     "text": [
      "TRAIN: \n",
      "AE: 200.05136 | reconstruction: 200.0471 | L2: 4353.0664 | \n",
      "EVALUATE: \n",
      "AE: 207.04982 | reconstruction: 207.04541 | L2: 4400.251 | \n",
      "\n",
      "Saving model...\n",
      "Model saved\n",
      "Generating latent space ...\n",
      "Scaling dataset ... \n",
      "Creating dask array ... \n",
      "Loading model checkpoint experiments/checkpoint_dir/AE_Conv_MNIST_lat15_h500_lay3/-35875 ...\n",
      "\n",
      "INFO:tensorflow:Restoring parameters from experiments/checkpoint_dir/AE_Conv_MNIST_lat15_h500_lay3/-35875\n",
      "Model loaded\n",
      "EPOCHS trained:  40\n"
     ]
    },
    {
     "name": "stderr",
     "output_type": "stream",
     "text": [
      "100%|███████████████████████████████████████████████████████████████████████████████| 875/875 [00:05<00:00, 151.43it/s]\n"
     ]
    },
    {
     "name": "stdout",
     "output_type": "stream",
     "text": [
      "Latent space dimensions: (56000, 2)\n",
      "Plotting latent space ...\n",
      "data size (56000, 2)\n"
     ]
    },
    {
     "name": "stderr",
     "output_type": "stream",
     "text": [
      "100%|██████████████████████████████████████████████████████████████████████████| 56000/56000 [00:11<00:00, 4924.09it/s]\n"
     ]
    },
    {
     "name": "stdout",
     "output_type": "stream",
     "text": [
      "Saving Image experiments/log_dir/AE_Conv_MNIST_lat15_h500_lay3/AE_Conv_MNIST_lat15_h500_lay3 latent epoch 40.jpg ...\n",
      "latent space dimensions: (56000, 3)\n",
      "Plotting latent space ...\n",
      "data size (56000, 3)\n"
     ]
    },
    {
     "name": "stderr",
     "output_type": "stream",
     "text": [
      "100%|██████████████████████████████████████████████████████████████████████████████████| 10/10 [00:00<00:00, 87.19it/s]\n"
     ]
    },
    {
     "name": "stdout",
     "output_type": "stream",
     "text": [
      "Saving Image experiments/log_dir/AE_Conv_MNIST_lat15_h500_lay3/AE_Conv_MNIST_lat15_h500_lay3 latent_3d epoch 40.jpg ...\n",
      "Reconstructing samples from Data ...\n",
      "Scaling dataset ... \n",
      "Creating dask array ... \n",
      "Loading model checkpoint experiments/checkpoint_dir/AE_Conv_MNIST_lat15_h500_lay3/-35875 ...\n",
      "\n",
      "INFO:tensorflow:Restoring parameters from experiments/checkpoint_dir/AE_Conv_MNIST_lat15_h500_lay3/-35875\n",
      "Model loaded\n",
      "EPOCHS trained:  40\n"
     ]
    },
    {
     "name": "stderr",
     "output_type": "stream",
     "text": [
      "4it [00:00, 43.15it/s]                                                                                                 \n"
     ]
    },
    {
     "name": "stdout",
     "output_type": "stream",
     "text": [
      "Loading model checkpoint experiments/checkpoint_dir/AE_Conv_MNIST_lat15_h500_lay3/-35875 ...\n",
      "\n",
      "INFO:tensorflow:Restoring parameters from experiments/checkpoint_dir/AE_Conv_MNIST_lat15_h500_lay3/-35875\n",
      "Model loaded\n",
      "EPOCHS trained:  40\n"
     ]
    },
    {
     "name": "stderr",
     "output_type": "stream",
     "text": [
      "4it [00:00, 27.47it/s]                                                                                                 \n"
     ]
    },
    {
     "name": "stdout",
     "output_type": "stream",
     "text": [
      "Saving Image  experiments/log_dir/AE_Conv_MNIST_lat15_h500_lay3/AE_Conv_MNIST_lat15_h500_lay3 samples reconstruction epoch 40.jpg\n",
      "EPOCH:  41\n"
     ]
    },
    {
     "name": "stderr",
     "output_type": "stream",
     "text": [
      "100%|████████████████████████████████████████████████████████████████████████████████| 875/875 [02:46<00:00,  5.32it/s]\n",
      "100%|████████████████████████████████████████████████████████████████████████████████| 218/218 [00:12<00:00, 17.23it/s]\n"
     ]
    },
    {
     "name": "stdout",
     "output_type": "stream",
     "text": [
      "TRAIN: \n",
      "AE: 199.36427 | reconstruction: 199.35957 | L2: 4447.448 | \n",
      "EVALUATE: \n",
      "AE: 205.72575 | reconstruction: 205.72119 | L2: 4495.247 | \n",
      "\n",
      "EPOCH:  42\n"
     ]
    },
    {
     "name": "stderr",
     "output_type": "stream",
     "text": [
      "100%|████████████████████████████████████████████████████████████████████████████████| 875/875 [02:43<00:00,  5.35it/s]\n",
      "100%|████████████████████████████████████████████████████████████████████████████████| 218/218 [00:12<00:00, 16.97it/s]\n"
     ]
    },
    {
     "name": "stdout",
     "output_type": "stream",
     "text": [
      "TRAIN: \n",
      "AE: 198.20499 | reconstruction: 198.2004 | L2: 4541.2754 | \n",
      "EVALUATE: \n",
      "AE: 204.9934 | reconstruction: 204.98886 | L2: 4587.5586 | \n",
      "\n",
      "EPOCH:  43\n"
     ]
    },
    {
     "name": "stderr",
     "output_type": "stream",
     "text": [
      "100%|████████████████████████████████████████████████████████████████████████████████| 875/875 [02:46<00:00,  5.23it/s]\n",
      "100%|████████████████████████████████████████████████████████████████████████████████| 218/218 [00:12<00:00, 17.04it/s]\n"
     ]
    },
    {
     "name": "stdout",
     "output_type": "stream",
     "text": [
      "TRAIN: \n",
      "AE: 197.17477 | reconstruction: 197.17029 | L2: 4633.1523 | \n",
      "EVALUATE: \n",
      "AE: 204.87943 | reconstruction: 204.87476 | L2: 4680.1714 | \n",
      "\n",
      "EPOCH:  44\n"
     ]
    },
    {
     "name": "stderr",
     "output_type": "stream",
     "text": [
      "100%|████████████████████████████████████████████████████████████████████████████████| 875/875 [03:08<00:00,  3.92it/s]\n",
      "100%|████████████████████████████████████████████████████████████████████████████████| 218/218 [00:17<00:00, 12.36it/s]\n"
     ]
    },
    {
     "name": "stdout",
     "output_type": "stream",
     "text": [
      "TRAIN: \n",
      "AE: 196.8579 | reconstruction: 196.85321 | L2: 4725.566 | \n",
      "EVALUATE: \n",
      "AE: 204.61664 | reconstruction: 204.61203 | L2: 4774.3276 | \n",
      "\n",
      "EPOCH:  45\n"
     ]
    },
    {
     "name": "stderr",
     "output_type": "stream",
     "text": [
      "100%|████████████████████████████████████████████████████████████████████████████████| 875/875 [03:16<00:00,  5.05it/s]\n",
      "100%|████████████████████████████████████████████████████████████████████████████████| 218/218 [00:13<00:00, 16.14it/s]\n"
     ]
    },
    {
     "name": "stdout",
     "output_type": "stream",
     "text": [
      "TRAIN: \n",
      "AE: 196.6425 | reconstruction: 196.63799 | L2: 4821.598 | \n",
      "EVALUATE: \n",
      "AE: 205.76343 | reconstruction: 205.75851 | L2: 4871.9385 | \n",
      "\n",
      "total loss Patience count:  1\n",
      "EPOCH:  46\n"
     ]
    },
    {
     "name": "stderr",
     "output_type": "stream",
     "text": [
      "100%|████████████████████████████████████████████████████████████████████████████████| 875/875 [03:09<00:00,  5.28it/s]\n",
      "100%|████████████████████████████████████████████████████████████████████████████████| 218/218 [00:12<00:00, 17.01it/s]\n"
     ]
    },
    {
     "name": "stdout",
     "output_type": "stream",
     "text": [
      "TRAIN: \n",
      "AE: 197.30621 | reconstruction: 197.30113 | L2: 4921.439 | \n",
      "EVALUATE: \n",
      "AE: 205.89728 | reconstruction: 205.89235 | L2: 4973.011 | \n",
      "\n",
      "total loss Patience count:  2\n",
      "EPOCH:  47\n"
     ]
    },
    {
     "name": "stderr",
     "output_type": "stream",
     "text": [
      "100%|████████████████████████████████████████████████████████████████████████████████| 875/875 [02:45<00:00,  5.29it/s]\n",
      "100%|████████████████████████████████████████████████████████████████████████████████| 218/218 [00:13<00:00, 16.82it/s]\n"
     ]
    },
    {
     "name": "stdout",
     "output_type": "stream",
     "text": [
      "TRAIN: \n",
      "AE: 197.56302 | reconstruction: 197.55823 | L2: 5020.0537 | \n",
      "EVALUATE: \n",
      "AE: 205.02614 | reconstruction: 205.02109 | L2: 5068.7983 | \n",
      "\n",
      "total loss Patience count:  3\n",
      "EPOCH:  48\n"
     ]
    },
    {
     "name": "stderr",
     "output_type": "stream",
     "text": [
      "100%|████████████████████████████████████████████████████████████████████████████████| 875/875 [02:48<00:00,  5.14it/s]\n",
      "100%|████████████████████████████████████████████████████████████████████████████████| 218/218 [00:12<00:00, 17.20it/s]\n"
     ]
    },
    {
     "name": "stdout",
     "output_type": "stream",
     "text": [
      "TRAIN: \n",
      "AE: 197.37852 | reconstruction: 197.37361 | L2: 5115.583 | \n",
      "EVALUATE: \n",
      "AE: 205.09468 | reconstruction: 205.08955 | L2: 5164.43 | \n",
      "\n",
      "total loss Patience count:  4\n",
      "EPOCH:  49\n"
     ]
    },
    {
     "name": "stderr",
     "output_type": "stream",
     "text": [
      "100%|████████████████████████████████████████████████████████████████████████████████| 875/875 [02:47<00:00,  5.25it/s]\n",
      "100%|████████████████████████████████████████████████████████████████████████████████| 218/218 [00:12<00:00, 17.07it/s]\n"
     ]
    },
    {
     "name": "stdout",
     "output_type": "stream",
     "text": [
      "TRAIN: \n",
      "AE: 196.85077 | reconstruction: 196.84567 | L2: 5208.64 | \n",
      "EVALUATE: \n",
      "AE: 206.01952 | reconstruction: 206.01436 | L2: 5257.0566 | \n",
      "\n",
      "total loss Patience count:  5\n",
      "EPOCH:  50\n"
     ]
    },
    {
     "name": "stderr",
     "output_type": "stream",
     "text": [
      "100%|████████████████████████████████████████████████████████████████████████████████| 875/875 [02:45<00:00,  5.33it/s]\n",
      "100%|████████████████████████████████████████████████████████████████████████████████| 218/218 [00:12<00:00, 17.64it/s]\n"
     ]
    },
    {
     "name": "stdout",
     "output_type": "stream",
     "text": [
      "TRAIN: \n",
      "AE: 195.68004 | reconstruction: 195.6749 | L2: 5301.9424 | \n",
      "EVALUATE: \n",
      "AE: 203.55472 | reconstruction: 203.54938 | L2: 5349.626 | \n",
      "\n",
      "EPOCH:  51\n"
     ]
    },
    {
     "name": "stderr",
     "output_type": "stream",
     "text": [
      "100%|████████████████████████████████████████████████████████████████████████████████| 875/875 [02:44<00:00,  5.31it/s]\n",
      "100%|████████████████████████████████████████████████████████████████████████████████| 218/218 [00:12<00:00, 17.33it/s]\n"
     ]
    },
    {
     "name": "stdout",
     "output_type": "stream",
     "text": [
      "TRAIN: \n",
      "AE: 193.6085 | reconstruction: 193.60323 | L2: 5391.9404 | \n",
      "EVALUATE: \n",
      "AE: 203.11172 | reconstruction: 203.10623 | L2: 5438.195 | \n",
      "\n",
      "EPOCH:  52\n"
     ]
    },
    {
     "name": "stderr",
     "output_type": "stream",
     "text": [
      "100%|████████████████████████████████████████████████████████████████████████████████| 875/875 [02:45<00:00,  5.35it/s]\n",
      "100%|████████████████████████████████████████████████████████████████████████████████| 218/218 [00:12<00:00, 17.33it/s]\n"
     ]
    },
    {
     "name": "stdout",
     "output_type": "stream",
     "text": [
      "TRAIN: \n",
      "AE: 193.18419 | reconstruction: 193.17876 | L2: 5483.1807 | \n",
      "EVALUATE: \n",
      "AE: 202.82922 | reconstruction: 202.82373 | L2: 5531.208 | \n",
      "\n",
      "EPOCH:  53\n"
     ]
    },
    {
     "name": "stderr",
     "output_type": "stream",
     "text": [
      "100%|████████████████████████████████████████████████████████████████████████████████| 875/875 [02:43<00:00,  5.35it/s]\n",
      "100%|████████████████████████████████████████████████████████████████████████████████| 218/218 [00:12<00:00, 17.25it/s]\n"
     ]
    },
    {
     "name": "stdout",
     "output_type": "stream",
     "text": [
      "TRAIN: \n",
      "AE: 193.0859 | reconstruction: 193.08046 | L2: 5579.496 | \n",
      "EVALUATE: \n",
      "AE: 204.69592 | reconstruction: 204.69029 | L2: 5630.0107 | \n",
      "\n",
      "total loss Patience count:  1\n",
      "EPOCH:  54\n"
     ]
    },
    {
     "name": "stderr",
     "output_type": "stream",
     "text": [
      "100%|████████████████████████████████████████████████████████████████████████████████| 875/875 [02:43<00:00,  5.43it/s]\n",
      "100%|████████████████████████████████████████████████████████████████████████████████| 218/218 [00:12<00:00, 17.59it/s]\n"
     ]
    },
    {
     "name": "stdout",
     "output_type": "stream",
     "text": [
      "TRAIN: \n",
      "AE: 192.98708 | reconstruction: 192.98135 | L2: 5680.2866 | \n",
      "EVALUATE: \n",
      "AE: 203.0384 | reconstruction: 203.0327 | L2: 5731.638 | \n",
      "\n",
      "total loss Patience count:  2\n",
      "EPOCH:  55\n"
     ]
    },
    {
     "name": "stderr",
     "output_type": "stream",
     "text": [
      "100%|████████████████████████████████████████████████████████████████████████████████| 875/875 [02:43<00:00,  5.32it/s]\n",
      "100%|████████████████████████████████████████████████████████████████████████████████| 218/218 [00:12<00:00, 17.44it/s]\n"
     ]
    },
    {
     "name": "stdout",
     "output_type": "stream",
     "text": [
      "TRAIN: \n",
      "AE: 193.44757 | reconstruction: 193.44171 | L2: 5782.936 | \n",
      "EVALUATE: \n",
      "AE: 204.78024 | reconstruction: 204.77443 | L2: 5835.8354 | \n",
      "\n",
      "total loss Patience count:  3\n",
      "EPOCH:  56\n"
     ]
    },
    {
     "name": "stderr",
     "output_type": "stream",
     "text": [
      "100%|████████████████████████████████████████████████████████████████████████████████| 875/875 [02:43<00:00,  5.43it/s]\n",
      "100%|████████████████████████████████████████████████████████████████████████████████| 218/218 [00:12<00:00, 17.13it/s]\n"
     ]
    },
    {
     "name": "stdout",
     "output_type": "stream",
     "text": [
      "TRAIN: \n",
      "AE: 193.59343 | reconstruction: 193.58768 | L2: 5886.0894 | \n",
      "EVALUATE: \n",
      "AE: 204.40822 | reconstruction: 204.40228 | L2: 5937.575 | \n",
      "\n",
      "total loss Patience count:  4\n",
      "EPOCH:  57\n"
     ]
    },
    {
     "name": "stderr",
     "output_type": "stream",
     "text": [
      "100%|████████████████████████████████████████████████████████████████████████████████| 875/875 [02:43<00:00,  5.45it/s]\n",
      "100%|████████████████████████████████████████████████████████████████████████████████| 218/218 [00:14<00:00, 17.64it/s]\n"
     ]
    },
    {
     "name": "stdout",
     "output_type": "stream",
     "text": [
      "TRAIN: \n",
      "AE: 193.287 | reconstruction: 193.28119 | L2: 5987.278 | \n",
      "EVALUATE: \n",
      "AE: 202.4755 | reconstruction: 202.4694 | L2: 6040.003 | \n",
      "\n",
      "EPOCH:  58\n"
     ]
    },
    {
     "name": "stderr",
     "output_type": "stream",
     "text": [
      "100%|████████████████████████████████████████████████████████████████████████████████| 875/875 [02:43<00:00,  5.45it/s]\n",
      "100%|████████████████████████████████████████████████████████████████████████████████| 218/218 [00:12<00:00, 17.52it/s]\n"
     ]
    },
    {
     "name": "stdout",
     "output_type": "stream",
     "text": [
      "TRAIN: \n",
      "AE: 192.80838 | reconstruction: 192.8024 | L2: 6089.135 | \n",
      "EVALUATE: \n",
      "AE: 202.2084 | reconstruction: 202.20227 | L2: 6142.079 | \n",
      "\n",
      "EPOCH:  59\n"
     ]
    },
    {
     "name": "stderr",
     "output_type": "stream",
     "text": [
      "100%|████████████████████████████████████████████████████████████████████████████████| 875/875 [02:43<00:00,  5.33it/s]\n",
      "100%|████████████████████████████████████████████████████████████████████████████████| 218/218 [00:12<00:00, 17.62it/s]\n"
     ]
    },
    {
     "name": "stdout",
     "output_type": "stream",
     "text": [
      "TRAIN: \n",
      "AE: 192.34062 | reconstruction: 192.33438 | L2: 6191.1646 | \n",
      "EVALUATE: \n",
      "AE: 201.84782 | reconstruction: 201.8416 | L2: 6243.922 | \n",
      "\n",
      "EPOCH:  60\n"
     ]
    },
    {
     "name": "stderr",
     "output_type": "stream",
     "text": [
      "100%|████████████████████████████████████████████████████████████████████████████████| 875/875 [02:43<00:00,  5.42it/s]\n",
      "100%|████████████████████████████████████████████████████████████████████████████████| 218/218 [00:12<00:00, 17.51it/s]\n"
     ]
    },
    {
     "name": "stdout",
     "output_type": "stream",
     "text": [
      "TRAIN: \n",
      "AE: 191.6787 | reconstruction: 191.67238 | L2: 6292.423 | \n",
      "EVALUATE: \n",
      "AE: 202.22017 | reconstruction: 202.21378 | L2: 6345.253 | \n",
      "\n",
      "Saving model...\n",
      "Model saved\n",
      "Generating latent space ...\n",
      "Scaling dataset ... \n",
      "Creating dask array ... \n",
      "Loading model checkpoint experiments/checkpoint_dir/AE_Conv_MNIST_lat15_h500_lay3/-53375 ...\n",
      "\n",
      "INFO:tensorflow:Restoring parameters from experiments/checkpoint_dir/AE_Conv_MNIST_lat15_h500_lay3/-53375\n",
      "Model loaded\n",
      "EPOCHS trained:  60\n"
     ]
    },
    {
     "name": "stderr",
     "output_type": "stream",
     "text": [
      "100%|███████████████████████████████████████████████████████████████████████████████| 875/875 [00:05<00:00, 150.31it/s]\n"
     ]
    },
    {
     "name": "stdout",
     "output_type": "stream",
     "text": [
      "Latent space dimensions: (56000, 2)\n",
      "Plotting latent space ...\n",
      "data size (56000, 2)\n"
     ]
    },
    {
     "name": "stderr",
     "output_type": "stream",
     "text": [
      "100%|██████████████████████████████████████████████████████████████████████████| 56000/56000 [00:12<00:00, 4638.17it/s]\n"
     ]
    },
    {
     "name": "stdout",
     "output_type": "stream",
     "text": [
      "Saving Image experiments/log_dir/AE_Conv_MNIST_lat15_h500_lay3/AE_Conv_MNIST_lat15_h500_lay3 latent epoch 60.jpg ...\n",
      "latent space dimensions: (56000, 3)\n",
      "Plotting latent space ...\n",
      "data size (56000, 3)\n"
     ]
    },
    {
     "name": "stderr",
     "output_type": "stream",
     "text": [
      "100%|██████████████████████████████████████████████████████████████████████████████████| 10/10 [00:00<00:00, 89.50it/s]\n"
     ]
    },
    {
     "name": "stdout",
     "output_type": "stream",
     "text": [
      "Saving Image experiments/log_dir/AE_Conv_MNIST_lat15_h500_lay3/AE_Conv_MNIST_lat15_h500_lay3 latent_3d epoch 60.jpg ...\n",
      "Reconstructing samples from Data ...\n",
      "Scaling dataset ... \n",
      "Creating dask array ... \n",
      "Loading model checkpoint experiments/checkpoint_dir/AE_Conv_MNIST_lat15_h500_lay3/-53375 ...\n",
      "\n",
      "INFO:tensorflow:Restoring parameters from experiments/checkpoint_dir/AE_Conv_MNIST_lat15_h500_lay3/-53375\n",
      "Model loaded\n",
      "EPOCHS trained:  60\n"
     ]
    },
    {
     "name": "stderr",
     "output_type": "stream",
     "text": [
      "4it [00:00, 40.05it/s]                                                                                                 \n"
     ]
    },
    {
     "name": "stdout",
     "output_type": "stream",
     "text": [
      "Loading model checkpoint experiments/checkpoint_dir/AE_Conv_MNIST_lat15_h500_lay3/-53375 ...\n",
      "\n",
      "INFO:tensorflow:Restoring parameters from experiments/checkpoint_dir/AE_Conv_MNIST_lat15_h500_lay3/-53375\n",
      "Model loaded\n",
      "EPOCHS trained:  60\n"
     ]
    },
    {
     "name": "stderr",
     "output_type": "stream",
     "text": [
      "4it [00:00, 27.04it/s]                                                                                                 \n"
     ]
    },
    {
     "name": "stdout",
     "output_type": "stream",
     "text": [
      "Saving Image  experiments/log_dir/AE_Conv_MNIST_lat15_h500_lay3/AE_Conv_MNIST_lat15_h500_lay3 samples reconstruction epoch 60.jpg\n",
      "total loss Patience count:  1\n",
      "EPOCH:  61\n"
     ]
    },
    {
     "name": "stderr",
     "output_type": "stream",
     "text": [
      "100%|████████████████████████████████████████████████████████████████████████████████| 875/875 [02:43<00:00,  5.21it/s]\n",
      "100%|████████████████████████████████████████████████████████████████████████████████| 218/218 [00:12<00:00, 17.47it/s]\n"
     ]
    },
    {
     "name": "stdout",
     "output_type": "stream",
     "text": [
      "TRAIN: \n",
      "AE: 190.92212 | reconstruction: 190.91562 | L2: 6393.9023 | \n",
      "EVALUATE: \n",
      "AE: 201.3736 | reconstruction: 201.36713 | L2: 6445.8745 | \n",
      "\n",
      "EPOCH:  62\n"
     ]
    },
    {
     "name": "stderr",
     "output_type": "stream",
     "text": [
      "100%|████████████████████████████████████████████████████████████████████████████████| 875/875 [02:43<00:00,  5.21it/s]\n",
      "100%|████████████████████████████████████████████████████████████████████████████████| 218/218 [00:12<00:00, 17.45it/s]\n"
     ]
    },
    {
     "name": "stdout",
     "output_type": "stream",
     "text": [
      "TRAIN: \n",
      "AE: 190.81421 | reconstruction: 190.80785 | L2: 6496.319 | \n",
      "EVALUATE: \n",
      "AE: 202.37161 | reconstruction: 202.36514 | L2: 6550.114 | \n",
      "\n",
      "total loss Patience count:  1\n",
      "EPOCH:  63\n"
     ]
    },
    {
     "name": "stderr",
     "output_type": "stream",
     "text": [
      "100%|████████████████████████████████████████████████████████████████████████████████| 875/875 [02:43<00:00,  5.37it/s]\n",
      "100%|████████████████████████████████████████████████████████████████████████████████| 218/218 [00:12<00:00, 17.36it/s]\n"
     ]
    },
    {
     "name": "stdout",
     "output_type": "stream",
     "text": [
      "TRAIN: \n",
      "AE: 190.78583 | reconstruction: 190.779 | L2: 6601.961 | \n",
      "EVALUATE: \n",
      "AE: 201.49002 | reconstruction: 201.48338 | L2: 6657.3726 | \n",
      "\n",
      "total loss Patience count:  2\n",
      "EPOCH:  64\n"
     ]
    },
    {
     "name": "stderr",
     "output_type": "stream",
     "text": [
      "100%|████████████████████████████████████████████████████████████████████████████████| 875/875 [02:43<00:00,  5.33it/s]\n",
      "100%|████████████████████████████████████████████████████████████████████████████████| 218/218 [00:12<00:00, 17.23it/s]\n"
     ]
    },
    {
     "name": "stdout",
     "output_type": "stream",
     "text": [
      "TRAIN: \n",
      "AE: 190.98586 | reconstruction: 190.97913 | L2: 6710.7944 | \n",
      "EVALUATE: \n",
      "AE: 203.4365 | reconstruction: 203.42987 | L2: 6767.2476 | \n",
      "\n",
      "total loss Patience count:  3\n",
      "EPOCH:  65\n"
     ]
    },
    {
     "name": "stderr",
     "output_type": "stream",
     "text": [
      "100%|████████████████████████████████████████████████████████████████████████████████| 875/875 [02:43<00:00,  5.34it/s]\n",
      "100%|████████████████████████████████████████████████████████████████████████████████| 218/218 [00:12<00:00, 17.56it/s]\n"
     ]
    },
    {
     "name": "stdout",
     "output_type": "stream",
     "text": [
      "TRAIN: \n",
      "AE: 191.40366 | reconstruction: 191.397 | L2: 6820.1606 | \n",
      "EVALUATE: \n",
      "AE: 205.43834 | reconstruction: 205.43147 | L2: 6877.3843 | \n",
      "\n",
      "total loss Patience count:  4\n",
      "EPOCH:  66\n"
     ]
    },
    {
     "name": "stderr",
     "output_type": "stream",
     "text": [
      "100%|████████████████████████████████████████████████████████████████████████████████| 875/875 [02:43<00:00,  5.36it/s]\n",
      "100%|████████████████████████████████████████████████████████████████████████████████| 218/218 [00:12<00:00, 17.58it/s]\n"
     ]
    },
    {
     "name": "stdout",
     "output_type": "stream",
     "text": [
      "TRAIN: \n",
      "AE: 192.48604 | reconstruction: 192.47913 | L2: 6930.5674 | \n",
      "EVALUATE: \n",
      "AE: 203.99478 | reconstruction: 203.9877 | L2: 6986.6255 | \n",
      "\n",
      "total loss Patience count:  5\n",
      "EPOCH:  67\n"
     ]
    },
    {
     "name": "stderr",
     "output_type": "stream",
     "text": [
      "100%|████████████████████████████████████████████████████████████████████████████████| 875/875 [02:43<00:00,  5.33it/s]\n",
      "100%|████████████████████████████████████████████████████████████████████████████████| 218/218 [00:12<00:00, 17.45it/s]\n"
     ]
    },
    {
     "name": "stdout",
     "output_type": "stream",
     "text": [
      "TRAIN: \n",
      "AE: 193.192 | reconstruction: 193.1849 | L2: 7037.3667 | \n",
      "EVALUATE: \n",
      "AE: 204.42793 | reconstruction: 204.42094 | L2: 7091.615 | \n",
      "\n",
      "total loss Patience count:  6\n",
      "EPOCH:  68\n"
     ]
    },
    {
     "name": "stderr",
     "output_type": "stream",
     "text": [
      "100%|████████████████████████████████████████████████████████████████████████████████| 875/875 [02:46<00:00,  5.43it/s]\n",
      "100%|████████████████████████████████████████████████████████████████████████████████| 218/218 [00:12<00:00, 17.51it/s]\n"
     ]
    },
    {
     "name": "stdout",
     "output_type": "stream",
     "text": [
      "TRAIN: \n",
      "AE: 192.15121 | reconstruction: 192.14407 | L2: 7138.6196 | \n",
      "EVALUATE: \n",
      "AE: 202.96783 | reconstruction: 202.96074 | L2: 7190.7837 | \n",
      "\n",
      "total loss Patience count:  7\n",
      "EPOCH:  69\n"
     ]
    },
    {
     "name": "stderr",
     "output_type": "stream",
     "text": [
      "100%|████████████████████████████████████████████████████████████████████████████████| 875/875 [02:43<00:00,  5.28it/s]\n",
      "100%|████████████████████████████████████████████████████████████████████████████████| 218/218 [00:12<00:00, 17.41it/s]\n"
     ]
    },
    {
     "name": "stdout",
     "output_type": "stream",
     "text": [
      "TRAIN: \n",
      "AE: 190.59703 | reconstruction: 190.58978 | L2: 7237.376 | \n",
      "EVALUATE: \n",
      "AE: 201.84644 | reconstruction: 201.83923 | L2: 7289.633 | \n",
      "\n",
      "total loss Patience count:  8\n",
      "decaying learning rate ... \n",
      "new learning rate: 9.999999747378752e-05\n",
      "EPOCH:  70\n"
     ]
    },
    {
     "name": "stderr",
     "output_type": "stream",
     "text": [
      "100%|████████████████████████████████████████████████████████████████████████████████| 875/875 [02:43<00:00,  5.31it/s]\n",
      "100%|████████████████████████████████████████████████████████████████████████████████| 218/218 [00:12<00:00, 17.00it/s]\n"
     ]
    },
    {
     "name": "stdout",
     "output_type": "stream",
     "text": [
      "TRAIN: \n",
      "AE: 189.08853 | reconstruction: 189.08138 | L2: 7336.6064 | \n",
      "EVALUATE: \n",
      "AE: 200.80089 | reconstruction: 200.79356 | L2: 7388.4614 | \n",
      "\n",
      "EPOCH:  71\n"
     ]
    },
    {
     "name": "stderr",
     "output_type": "stream",
     "text": [
      "100%|████████████████████████████████████████████████████████████████████████████████| 875/875 [02:43<00:00,  5.38it/s]\n",
      "100%|████████████████████████████████████████████████████████████████████████████████| 218/218 [00:12<00:00, 17.28it/s]\n"
     ]
    },
    {
     "name": "stdout",
     "output_type": "stream",
     "text": [
      "TRAIN: \n",
      "AE: 188.81258 | reconstruction: 188.80519 | L2: 7437.623 | \n",
      "EVALUATE: \n",
      "AE: 200.51279 | reconstruction: 200.50526 | L2: 7492.633 | \n",
      "\n",
      "EPOCH:  72\n"
     ]
    },
    {
     "name": "stderr",
     "output_type": "stream",
     "text": [
      "100%|████████████████████████████████████████████████████████████████████████████████| 875/875 [02:43<00:00,  5.32it/s]\n",
      "100%|████████████████████████████████████████████████████████████████████████████████| 218/218 [00:12<00:00, 17.09it/s]\n"
     ]
    },
    {
     "name": "stdout",
     "output_type": "stream",
     "text": [
      "TRAIN: \n",
      "AE: 188.6911 | reconstruction: 188.68375 | L2: 7544.2607 | \n",
      "EVALUATE: \n",
      "AE: 201.62389 | reconstruction: 201.61629 | L2: 7601.9697 | \n",
      "\n",
      "total loss Patience count:  1\n",
      "EPOCH:  73\n"
     ]
    },
    {
     "name": "stderr",
     "output_type": "stream",
     "text": [
      "100%|████████████████████████████████████████████████████████████████████████████████| 875/875 [02:43<00:00,  5.35it/s]\n",
      "100%|████████████████████████████████████████████████████████████████████████████████| 218/218 [00:12<00:00, 17.55it/s]\n"
     ]
    },
    {
     "name": "stdout",
     "output_type": "stream",
     "text": [
      "TRAIN: \n",
      "AE: 188.88805 | reconstruction: 188.88037 | L2: 7655.3413 | \n",
      "EVALUATE: \n",
      "AE: 199.78374 | reconstruction: 199.77605 | L2: 7712.6616 | \n",
      "\n",
      "EPOCH:  74\n"
     ]
    },
    {
     "name": "stderr",
     "output_type": "stream",
     "text": [
      "100%|████████████████████████████████████████████████████████████████████████████████| 875/875 [02:43<00:00,  5.37it/s]\n",
      "100%|████████████████████████████████████████████████████████████████████████████████| 218/218 [00:12<00:00, 17.31it/s]\n"
     ]
    },
    {
     "name": "stdout",
     "output_type": "stream",
     "text": [
      "TRAIN: \n",
      "AE: 189.23795 | reconstruction: 189.23012 | L2: 7767.5034 | \n",
      "EVALUATE: \n",
      "AE: 202.501 | reconstruction: 202.49318 | L2: 7826.0093 | \n",
      "\n",
      "total loss Patience count:  1\n",
      "EPOCH:  75\n"
     ]
    },
    {
     "name": "stderr",
     "output_type": "stream",
     "text": [
      "100%|████████████████████████████████████████████████████████████████████████████████| 875/875 [02:46<00:00,  5.43it/s]\n",
      "100%|████████████████████████████████████████████████████████████████████████████████| 218/218 [00:12<00:00, 17.46it/s]\n"
     ]
    },
    {
     "name": "stdout",
     "output_type": "stream",
     "text": [
      "TRAIN: \n",
      "AE: 189.38895 | reconstruction: 189.38101 | L2: 7879.5977 | \n",
      "EVALUATE: \n",
      "AE: 200.61792 | reconstruction: 200.60991 | L2: 7938.372 | \n",
      "\n",
      "total loss Patience count:  2\n",
      "EPOCH:  76\n"
     ]
    },
    {
     "name": "stderr",
     "output_type": "stream",
     "text": [
      "100%|████████████████████████████████████████████████████████████████████████████████| 875/875 [02:43<00:00,  5.40it/s]\n",
      "100%|████████████████████████████████████████████████████████████████████████████████| 218/218 [00:12<00:00, 17.47it/s]\n"
     ]
    },
    {
     "name": "stdout",
     "output_type": "stream",
     "text": [
      "TRAIN: \n",
      "AE: 189.35085 | reconstruction: 189.34262 | L2: 7992.0425 | \n",
      "EVALUATE: \n",
      "AE: 199.61638 | reconstruction: 199.60838 | L2: 8050.963 | \n",
      "\n",
      "EPOCH:  77\n"
     ]
    },
    {
     "name": "stderr",
     "output_type": "stream",
     "text": [
      "100%|████████████████████████████████████████████████████████████████████████████████| 875/875 [02:43<00:00,  5.37it/s]\n",
      "100%|████████████████████████████████████████████████████████████████████████████████| 218/218 [00:12<00:00, 17.52it/s]\n"
     ]
    },
    {
     "name": "stdout",
     "output_type": "stream",
     "text": [
      "TRAIN: \n",
      "AE: 189.37163 | reconstruction: 189.36356 | L2: 8104.9395 | \n",
      "EVALUATE: \n",
      "AE: 200.26924 | reconstruction: 200.26112 | L2: 8164.0005 | \n",
      "\n",
      "total loss Patience count:  1\n",
      "EPOCH:  78\n"
     ]
    },
    {
     "name": "stderr",
     "output_type": "stream",
     "text": [
      "100%|████████████████████████████████████████████████████████████████████████████████| 875/875 [02:43<00:00,  5.35it/s]\n",
      "100%|████████████████████████████████████████████████████████████████████████████████| 218/218 [00:12<00:00, 17.40it/s]\n"
     ]
    },
    {
     "name": "stdout",
     "output_type": "stream",
     "text": [
      "TRAIN: \n",
      "AE: 189.844 | reconstruction: 189.83575 | L2: 8218.729 | \n",
      "EVALUATE: \n",
      "AE: 202.91203 | reconstruction: 202.90382 | L2: 8277.716 | \n",
      "\n",
      "total loss Patience count:  2\n",
      "EPOCH:  79\n"
     ]
    },
    {
     "name": "stderr",
     "output_type": "stream",
     "text": [
      "100%|████████████████████████████████████████████████████████████████████████████████| 875/875 [02:43<00:00,  5.46it/s]\n",
      "100%|████████████████████████████████████████████████████████████████████████████████| 218/218 [00:12<00:00, 17.19it/s]\n"
     ]
    },
    {
     "name": "stdout",
     "output_type": "stream",
     "text": [
      "TRAIN: \n",
      "AE: 190.437 | reconstruction: 190.42868 | L2: 8333.367 | \n",
      "EVALUATE: \n",
      "AE: 200.63356 | reconstruction: 200.62521 | L2: 8391.847 | \n",
      "\n",
      "total loss Patience count:  3\n",
      "EPOCH:  80\n"
     ]
    },
    {
     "name": "stderr",
     "output_type": "stream",
     "text": [
      "100%|████████████████████████████████████████████████████████████████████████████████| 875/875 [02:43<00:00,  5.42it/s]\n",
      "100%|████████████████████████████████████████████████████████████████████████████████| 218/218 [00:12<00:00, 17.37it/s]\n"
     ]
    },
    {
     "name": "stdout",
     "output_type": "stream",
     "text": [
      "TRAIN: \n",
      "AE: 189.77814 | reconstruction: 189.76964 | L2: 8445.52 | \n",
      "EVALUATE: \n",
      "AE: 200.90509 | reconstruction: 200.89662 | L2: 8504.134 | \n",
      "\n",
      "Saving model...\n",
      "Model saved\n",
      "Generating latent space ...\n",
      "Scaling dataset ... \n",
      "Creating dask array ... \n",
      "Loading model checkpoint experiments/checkpoint_dir/AE_Conv_MNIST_lat15_h500_lay3/-70875 ...\n",
      "\n",
      "INFO:tensorflow:Restoring parameters from experiments/checkpoint_dir/AE_Conv_MNIST_lat15_h500_lay3/-70875\n",
      "Model loaded\n",
      "EPOCHS trained:  80\n"
     ]
    },
    {
     "name": "stderr",
     "output_type": "stream",
     "text": [
      "100%|███████████████████████████████████████████████████████████████████████████████| 875/875 [00:05<00:00, 149.24it/s]\n"
     ]
    },
    {
     "name": "stdout",
     "output_type": "stream",
     "text": [
      "Latent space dimensions: (56000, 2)\n",
      "Plotting latent space ...\n",
      "data size (56000, 2)\n"
     ]
    },
    {
     "name": "stderr",
     "output_type": "stream",
     "text": [
      "100%|██████████████████████████████████████████████████████████████████████████| 56000/56000 [00:12<00:00, 4438.37it/s]\n"
     ]
    },
    {
     "name": "stdout",
     "output_type": "stream",
     "text": [
      "Saving Image experiments/log_dir/AE_Conv_MNIST_lat15_h500_lay3/AE_Conv_MNIST_lat15_h500_lay3 latent epoch 80.jpg ...\n",
      "latent space dimensions: (56000, 3)\n",
      "Plotting latent space ...\n",
      "data size (56000, 3)\n"
     ]
    },
    {
     "name": "stderr",
     "output_type": "stream",
     "text": [
      "100%|██████████████████████████████████████████████████████████████████████████████████| 10/10 [00:00<00:00, 88.73it/s]\n"
     ]
    },
    {
     "name": "stdout",
     "output_type": "stream",
     "text": [
      "Saving Image experiments/log_dir/AE_Conv_MNIST_lat15_h500_lay3/AE_Conv_MNIST_lat15_h500_lay3 latent_3d epoch 80.jpg ...\n",
      "Reconstructing samples from Data ...\n",
      "Scaling dataset ... \n",
      "Creating dask array ... \n",
      "Loading model checkpoint experiments/checkpoint_dir/AE_Conv_MNIST_lat15_h500_lay3/-70875 ...\n",
      "\n",
      "INFO:tensorflow:Restoring parameters from experiments/checkpoint_dir/AE_Conv_MNIST_lat15_h500_lay3/-70875\n",
      "Model loaded\n",
      "EPOCHS trained:  80\n"
     ]
    },
    {
     "name": "stderr",
     "output_type": "stream",
     "text": [
      "4it [00:00, 38.93it/s]                                                                                                 \n"
     ]
    },
    {
     "name": "stdout",
     "output_type": "stream",
     "text": [
      "Loading model checkpoint experiments/checkpoint_dir/AE_Conv_MNIST_lat15_h500_lay3/-70875 ...\n",
      "\n",
      "INFO:tensorflow:Restoring parameters from experiments/checkpoint_dir/AE_Conv_MNIST_lat15_h500_lay3/-70875\n",
      "Model loaded\n",
      "EPOCHS trained:  80\n"
     ]
    },
    {
     "name": "stderr",
     "output_type": "stream",
     "text": [
      "4it [00:00, 25.89it/s]                                                                                                 \n"
     ]
    },
    {
     "name": "stdout",
     "output_type": "stream",
     "text": [
      "Saving Image  experiments/log_dir/AE_Conv_MNIST_lat15_h500_lay3/AE_Conv_MNIST_lat15_h500_lay3 samples reconstruction epoch 80.jpg\n",
      "total loss Patience count:  4\n",
      "EPOCH:  81\n"
     ]
    },
    {
     "name": "stderr",
     "output_type": "stream",
     "text": [
      "100%|████████████████████████████████████████████████████████████████████████████████| 875/875 [02:49<00:00,  5.22it/s]\n",
      "100%|████████████████████████████████████████████████████████████████████████████████| 218/218 [00:13<00:00, 16.82it/s]\n"
     ]
    },
    {
     "name": "stdout",
     "output_type": "stream",
     "text": [
      "TRAIN: \n",
      "AE: 188.35907 | reconstruction: 188.3505 | L2: 8557.281 | \n",
      "EVALUATE: \n",
      "AE: 199.75943 | reconstruction: 199.75085 | L2: 8613.091 | \n",
      "\n",
      "total loss Patience count:  5\n",
      "EPOCH:  82\n"
     ]
    },
    {
     "name": "stderr",
     "output_type": "stream",
     "text": [
      "100%|████████████████████████████████████████████████████████████████████████████████| 875/875 [02:49<00:00,  5.15it/s]\n",
      "100%|████████████████████████████████████████████████████████████████████████████████| 218/218 [00:13<00:00, 16.64it/s]\n"
     ]
    },
    {
     "name": "stdout",
     "output_type": "stream",
     "text": [
      "TRAIN: \n",
      "AE: 186.99194 | reconstruction: 186.98335 | L2: 8663.927 | \n",
      "EVALUATE: \n",
      "AE: 199.19696 | reconstruction: 199.18831 | L2: 8719.123 | \n",
      "\n",
      "EPOCH:  83\n"
     ]
    },
    {
     "name": "stderr",
     "output_type": "stream",
     "text": [
      "100%|████████████████████████████████████████████████████████████████████████████████| 875/875 [02:48<00:00,  5.18it/s]\n",
      "100%|████████████████████████████████████████████████████████████████████████████████| 218/218 [00:13<00:00, 16.83it/s]\n"
     ]
    },
    {
     "name": "stdout",
     "output_type": "stream",
     "text": [
      "TRAIN: \n",
      "AE: 186.80789 | reconstruction: 186.799 | L2: 8772.633 | \n",
      "EVALUATE: \n",
      "AE: 199.46588 | reconstruction: 199.45703 | L2: 8830.624 | \n",
      "\n",
      "total loss Patience count:  1\n",
      "EPOCH:  84\n"
     ]
    },
    {
     "name": "stderr",
     "output_type": "stream",
     "text": [
      "100%|████████████████████████████████████████████████████████████████████████████████| 875/875 [02:49<00:00,  5.22it/s]\n",
      "100%|████████████████████████████████████████████████████████████████████████████████| 218/218 [00:12<00:00, 16.92it/s]\n"
     ]
    },
    {
     "name": "stdout",
     "output_type": "stream",
     "text": [
      "TRAIN: \n",
      "AE: 186.96506 | reconstruction: 186.95618 | L2: 8887.649 | \n",
      "EVALUATE: \n",
      "AE: 199.38475 | reconstruction: 199.37573 | L2: 8947.748 | \n",
      "\n",
      "total loss Patience count:  2\n",
      "EPOCH:  85\n"
     ]
    },
    {
     "name": "stderr",
     "output_type": "stream",
     "text": [
      "100%|████████████████████████████████████████████████████████████████████████████████| 875/875 [02:58<00:00,  3.83it/s]\n",
      "100%|████████████████████████████████████████████████████████████████████████████████| 218/218 [00:18<00:00, 12.08it/s]\n"
     ]
    },
    {
     "name": "stdout",
     "output_type": "stream",
     "text": [
      "TRAIN: \n",
      "AE: 187.15079 | reconstruction: 187.14188 | L2: 9005.693 | \n",
      "EVALUATE: \n",
      "AE: 198.86781 | reconstruction: 198.85872 | L2: 9067.123 | \n",
      "\n",
      "EPOCH:  86\n"
     ]
    },
    {
     "name": "stderr",
     "output_type": "stream",
     "text": [
      "100%|████████████████████████████████████████████████████████████████████████████████| 875/875 [03:28<00:00,  4.95it/s]\n",
      "100%|████████████████████████████████████████████████████████████████████████████████| 218/218 [00:13<00:00, 16.43it/s]\n"
     ]
    },
    {
     "name": "stdout",
     "output_type": "stream",
     "text": [
      "TRAIN: \n",
      "AE: 187.2155 | reconstruction: 187.20634 | L2: 9124.686 | \n",
      "EVALUATE: \n",
      "AE: 199.21329 | reconstruction: 199.20412 | L2: 9186.025 | \n",
      "\n",
      "total loss Patience count:  1\n",
      "EPOCH:  87\n"
     ]
    },
    {
     "name": "stderr",
     "output_type": "stream",
     "text": [
      "100%|████████████████████████████████████████████████████████████████████████████████| 875/875 [03:34<00:00,  4.32it/s]\n",
      "100%|████████████████████████████████████████████████████████████████████████████████| 218/218 [00:17<00:00, 11.51it/s]\n"
     ]
    },
    {
     "name": "stdout",
     "output_type": "stream",
     "text": [
      "TRAIN: \n",
      "AE: 187.11772 | reconstruction: 187.10852 | L2: 9243.7295 | \n",
      "EVALUATE: \n",
      "AE: 198.4482 | reconstruction: 198.43896 | L2: 9304.35 | \n",
      "\n",
      "EPOCH:  88\n"
     ]
    },
    {
     "name": "stderr",
     "output_type": "stream",
     "text": [
      "100%|████████████████████████████████████████████████████████████████████████████████| 875/875 [03:43<00:00,  3.84it/s]\n",
      "100%|████████████████████████████████████████████████████████████████████████████████| 218/218 [00:15<00:00, 12.35it/s]\n"
     ]
    },
    {
     "name": "stdout",
     "output_type": "stream",
     "text": [
      "TRAIN: \n",
      "AE: 186.61505 | reconstruction: 186.60556 | L2: 9362.622 | \n",
      "EVALUATE: \n",
      "AE: 197.97781 | reconstruction: 197.96854 | L2: 9424.117 | \n",
      "\n",
      "EPOCH:  89\n"
     ]
    },
    {
     "name": "stderr",
     "output_type": "stream",
     "text": [
      "100%|████████████████████████████████████████████████████████████████████████████████| 875/875 [03:41<00:00,  3.88it/s]\n",
      "100%|████████████████████████████████████████████████████████████████████████████████| 218/218 [00:23<00:00, 15.08it/s]\n"
     ]
    },
    {
     "name": "stdout",
     "output_type": "stream",
     "text": [
      "TRAIN: \n",
      "AE: 186.0782 | reconstruction: 186.06862 | L2: 9481.492 | \n",
      "EVALUATE: \n",
      "AE: 198.18379 | reconstruction: 198.17424 | L2: 9543.094 | \n",
      "\n",
      "total loss Patience count:  1\n",
      "EPOCH:  90\n"
     ]
    },
    {
     "name": "stderr",
     "output_type": "stream",
     "text": [
      "100%|████████████████████████████████████████████████████████████████████████████████| 875/875 [03:39<00:00,  3.84it/s]\n",
      "100%|████████████████████████████████████████████████████████████████████████████████| 218/218 [00:17<00:00, 12.44it/s]\n"
     ]
    },
    {
     "name": "stdout",
     "output_type": "stream",
     "text": [
      "TRAIN: \n",
      "AE: 185.90822 | reconstruction: 185.8988 | L2: 9602.255 | \n",
      "EVALUATE: \n",
      "AE: 198.44365 | reconstruction: 198.43391 | L2: 9665.757 | \n",
      "\n",
      "total loss Patience count:  2\n",
      "EPOCH:  91\n"
     ]
    },
    {
     "name": "stderr",
     "output_type": "stream",
     "text": [
      "100%|████████████████████████████████████████████████████████████████████████████████| 875/875 [03:39<00:00,  3.92it/s]\n",
      "100%|████████████████████████████████████████████████████████████████████████████████| 218/218 [00:17<00:00, 12.26it/s]\n"
     ]
    },
    {
     "name": "stdout",
     "output_type": "stream",
     "text": [
      "TRAIN: \n",
      "AE: 186.01741 | reconstruction: 186.00764 | L2: 9726.523 | \n",
      "EVALUATE: \n",
      "AE: 198.37398 | reconstruction: 198.36424 | L2: 9791.743 | \n",
      "\n",
      "total loss Patience count:  3\n",
      "EPOCH:  92\n"
     ]
    },
    {
     "name": "stderr",
     "output_type": "stream",
     "text": [
      "100%|████████████████████████████████████████████████████████████████████████████████| 875/875 [03:34<00:00,  4.01it/s]\n",
      "100%|████████████████████████████████████████████████████████████████████████████████| 218/218 [00:16<00:00, 13.06it/s]\n"
     ]
    },
    {
     "name": "stdout",
     "output_type": "stream",
     "text": [
      "TRAIN: \n",
      "AE: 186.35077 | reconstruction: 186.34088 | L2: 9854.303 | \n",
      "EVALUATE: \n",
      "AE: 198.4895 | reconstruction: 198.47977 | L2: 9921.593 | \n",
      "\n",
      "total loss Patience count:  4\n",
      "EPOCH:  93\n"
     ]
    },
    {
     "name": "stderr",
     "output_type": "stream",
     "text": [
      "100%|████████████████████████████████████████████████████████████████████████████████| 875/875 [03:33<00:00,  4.74it/s]\n",
      "100%|████████████████████████████████████████████████████████████████████████████████| 218/218 [00:13<00:00, 17.31it/s]\n"
     ]
    },
    {
     "name": "stdout",
     "output_type": "stream",
     "text": [
      "TRAIN: \n",
      "AE: 187.11774 | reconstruction: 187.10759 | L2: 9985.578 | \n",
      "EVALUATE: \n",
      "AE: 199.56609 | reconstruction: 199.55595 | L2: 10054.243 | \n",
      "\n",
      "total loss Patience count:  5\n",
      "EPOCH:  94\n"
     ]
    },
    {
     "name": "stderr",
     "output_type": "stream",
     "text": [
      "100%|████████████████████████████████████████████████████████████████████████████████| 875/875 [03:06<00:00,  3.97it/s]\n",
      "100%|████████████████████████████████████████████████████████████████████████████████| 218/218 [00:15<00:00, 13.07it/s]\n"
     ]
    },
    {
     "name": "stdout",
     "output_type": "stream",
     "text": [
      "TRAIN: \n",
      "AE: 188.09154 | reconstruction: 188.08145 | L2: 10114.595 | \n",
      "EVALUATE: \n",
      "AE: 198.74135 | reconstruction: 198.73111 | L2: 10180.132 | \n",
      "\n",
      "total loss Patience count:  6\n",
      "EPOCH:  95\n"
     ]
    },
    {
     "name": "stderr",
     "output_type": "stream",
     "text": [
      "100%|████████████████████████████████████████████████████████████████████████████████| 875/875 [03:34<00:00,  4.01it/s]\n",
      "100%|████████████████████████████████████████████████████████████████████████████████| 218/218 [00:16<00:00, 13.16it/s]\n"
     ]
    },
    {
     "name": "stdout",
     "output_type": "stream",
     "text": [
      "TRAIN: \n",
      "AE: 188.25934 | reconstruction: 188.24908 | L2: 10240.155 | \n",
      "EVALUATE: \n",
      "AE: 199.78972 | reconstruction: 199.77942 | L2: 10303.59 | \n",
      "\n",
      "total loss Patience count:  7\n",
      "EPOCH:  96\n"
     ]
    },
    {
     "name": "stderr",
     "output_type": "stream",
     "text": [
      "100%|████████████████████████████████████████████████████████████████████████████████| 875/875 [03:31<00:00,  4.14it/s]\n",
      "100%|████████████████████████████████████████████████████████████████████████████████| 218/218 [00:16<00:00, 13.04it/s]\n"
     ]
    },
    {
     "name": "stdout",
     "output_type": "stream",
     "text": [
      "TRAIN: \n",
      "AE: 188.07071 | reconstruction: 188.06017 | L2: 10361.939 | \n",
      "EVALUATE: \n",
      "AE: 199.35918 | reconstruction: 199.34888 | L2: 10425.594 | \n",
      "\n",
      "total loss Patience count:  8\n",
      "decaying learning rate ... \n",
      "new learning rate: 9.999999747378752e-06\n",
      "EPOCH:  97\n"
     ]
    },
    {
     "name": "stderr",
     "output_type": "stream",
     "text": [
      "100%|████████████████████████████████████████████████████████████████████████████████| 875/875 [03:31<00:00,  4.07it/s]\n",
      "100%|████████████████████████████████████████████████████████████████████████████████| 218/218 [00:16<00:00, 12.98it/s]\n"
     ]
    },
    {
     "name": "stdout",
     "output_type": "stream",
     "text": [
      "TRAIN: \n",
      "AE: 187.34824 | reconstruction: 187.33765 | L2: 10483.152 | \n",
      "EVALUATE: \n",
      "AE: 198.85802 | reconstruction: 198.84749 | L2: 10545.112 | \n",
      "\n",
      "total loss Patience count:  9\n",
      "EPOCH:  98\n"
     ]
    },
    {
     "name": "stderr",
     "output_type": "stream",
     "text": [
      "100%|████████████████████████████████████████████████████████████████████████████████| 875/875 [03:32<00:00,  4.02it/s]\n",
      "100%|████████████████████████████████████████████████████████████████████████████████| 218/218 [00:21<00:00, 12.97it/s]\n"
     ]
    },
    {
     "name": "stdout",
     "output_type": "stream",
     "text": [
      "TRAIN: \n",
      "AE: 186.04543 | reconstruction: 186.03467 | L2: 10602.743 | \n",
      "EVALUATE: \n",
      "AE: 197.64552 | reconstruction: 197.63487 | L2: 10663.251 | \n",
      "\n",
      "EPOCH:  99\n"
     ]
    },
    {
     "name": "stderr",
     "output_type": "stream",
     "text": [
      "100%|████████████████████████████████████████████████████████████████████████████████| 875/875 [03:32<00:00,  4.63it/s]\n",
      "100%|████████████████████████████████████████████████████████████████████████████████| 218/218 [00:16<00:00, 12.92it/s]\n"
     ]
    },
    {
     "name": "stdout",
     "output_type": "stream",
     "text": [
      "TRAIN: \n",
      "AE: 184.7558 | reconstruction: 184.74498 | L2: 10719.626 | \n",
      "EVALUATE: \n",
      "AE: 197.3207 | reconstruction: 197.30992 | L2: 10780.277 | \n",
      "\n",
      "EPOCH:  100\n"
     ]
    },
    {
     "name": "stderr",
     "output_type": "stream",
     "text": [
      "100%|████████████████████████████████████████████████████████████████████████████████| 875/875 [03:33<00:00,  4.09it/s]\n",
      "100%|████████████████████████████████████████████████████████████████████████████████| 218/218 [00:15<00:00, 15.15it/s]\n"
     ]
    },
    {
     "name": "stdout",
     "output_type": "stream",
     "text": [
      "TRAIN: \n",
      "AE: 184.57318 | reconstruction: 184.56256 | L2: 10839.254 | \n",
      "EVALUATE: \n",
      "AE: 196.90839 | reconstruction: 196.89755 | L2: 10904.11 | \n",
      "\n",
      "Saving model...\n",
      "WARNING:tensorflow:From C:\\ProgramData\\Anaconda34\\envs\\gpu_env\\lib\\site-packages\\tensorflow\\python\\training\\saver.py:966: remove_checkpoint (from tensorflow.python.training.checkpoint_management) is deprecated and will be removed in a future version.\n",
      "Instructions for updating:\n",
      "Use standard file APIs to delete files with this prefix.\n",
      "Model saved\n",
      "Generating latent space ...\n",
      "Scaling dataset ... \n",
      "Creating dask array ... \n",
      "Loading model checkpoint experiments/checkpoint_dir/AE_Conv_MNIST_lat15_h500_lay3/-88375 ...\n",
      "\n",
      "INFO:tensorflow:Restoring parameters from experiments/checkpoint_dir/AE_Conv_MNIST_lat15_h500_lay3/-88375\n",
      "Model loaded\n",
      "EPOCHS trained:  100\n"
     ]
    },
    {
     "name": "stderr",
     "output_type": "stream",
     "text": [
      "100%|███████████████████████████████████████████████████████████████████████████████| 875/875 [00:08<00:00, 108.73it/s]\n"
     ]
    },
    {
     "name": "stdout",
     "output_type": "stream",
     "text": [
      "Latent space dimensions: (56000, 2)\n",
      "Plotting latent space ...\n",
      "data size (56000, 2)\n"
     ]
    },
    {
     "name": "stderr",
     "output_type": "stream",
     "text": [
      "100%|██████████████████████████████████████████████████████████████████████████| 56000/56000 [00:13<00:00, 4250.34it/s]\n"
     ]
    },
    {
     "name": "stdout",
     "output_type": "stream",
     "text": [
      "Saving Image experiments/log_dir/AE_Conv_MNIST_lat15_h500_lay3/AE_Conv_MNIST_lat15_h500_lay3 latent epoch 100.jpg ...\n",
      "latent space dimensions: (56000, 3)\n",
      "Plotting latent space ...\n",
      "data size (56000, 3)\n"
     ]
    },
    {
     "name": "stderr",
     "output_type": "stream",
     "text": [
      "100%|██████████████████████████████████████████████████████████████████████████████████| 10/10 [00:00<00:00, 71.13it/s]\n"
     ]
    },
    {
     "name": "stdout",
     "output_type": "stream",
     "text": [
      "Saving Image experiments/log_dir/AE_Conv_MNIST_lat15_h500_lay3/AE_Conv_MNIST_lat15_h500_lay3 latent_3d epoch 100.jpg ...\n",
      "Reconstructing samples from Data ...\n",
      "Scaling dataset ... \n",
      "Creating dask array ... \n",
      "Loading model checkpoint experiments/checkpoint_dir/AE_Conv_MNIST_lat15_h500_lay3/-88375 ...\n",
      "\n",
      "INFO:tensorflow:Restoring parameters from experiments/checkpoint_dir/AE_Conv_MNIST_lat15_h500_lay3/-88375\n",
      "Model loaded\n",
      "EPOCHS trained:  100\n"
     ]
    },
    {
     "name": "stderr",
     "output_type": "stream",
     "text": [
      "4it [00:00, 36.58it/s]                                                                                                 \n"
     ]
    },
    {
     "name": "stdout",
     "output_type": "stream",
     "text": [
      "Loading model checkpoint experiments/checkpoint_dir/AE_Conv_MNIST_lat15_h500_lay3/-88375 ...\n",
      "\n",
      "INFO:tensorflow:Restoring parameters from experiments/checkpoint_dir/AE_Conv_MNIST_lat15_h500_lay3/-88375\n",
      "Model loaded\n",
      "EPOCHS trained:  100\n"
     ]
    },
    {
     "name": "stderr",
     "output_type": "stream",
     "text": [
      "4it [00:00, 23.28it/s]                                                                                                 \n"
     ]
    },
    {
     "name": "stdout",
     "output_type": "stream",
     "text": [
      "Saving Image  experiments/log_dir/AE_Conv_MNIST_lat15_h500_lay3/AE_Conv_MNIST_lat15_h500_lay3 samples reconstruction epoch 100.jpg\n",
      "EPOCH:  101\n"
     ]
    },
    {
     "name": "stderr",
     "output_type": "stream",
     "text": [
      "100%|████████████████████████████████████████████████████████████████████████████████| 875/875 [03:08<00:00,  4.73it/s]\n",
      "100%|████████████████████████████████████████████████████████████████████████████████| 218/218 [00:16<00:00, 12.85it/s]\n"
     ]
    },
    {
     "name": "stdout",
     "output_type": "stream",
     "text": [
      "TRAIN: \n",
      "AE: 184.59521 | reconstruction: 184.58441 | L2: 10966.375 | \n",
      "EVALUATE: \n",
      "AE: 197.16722 | reconstruction: 197.15604 | L2: 11034.002 | \n",
      "\n",
      "total loss Patience count:  1\n",
      "EPOCH:  102\n"
     ]
    },
    {
     "name": "stderr",
     "output_type": "stream",
     "text": [
      "100%|████████████████████████████████████████████████████████████████████████████████| 875/875 [03:34<00:00,  4.05it/s]\n",
      "100%|████████████████████████████████████████████████████████████████████████████████| 218/218 [00:15<00:00, 15.26it/s]\n"
     ]
    },
    {
     "name": "stdout",
     "output_type": "stream",
     "text": [
      "TRAIN: \n",
      "AE: 184.71965 | reconstruction: 184.70837 | L2: 11098.776 | \n",
      "EVALUATE: \n",
      "AE: 197.47325 | reconstruction: 197.46207 | L2: 11168.999 | \n",
      "\n",
      "total loss Patience count:  2\n",
      "EPOCH:  103\n"
     ]
    },
    {
     "name": "stderr",
     "output_type": "stream",
     "text": [
      "100%|████████████████████████████████████████████████████████████████████████████████| 875/875 [03:33<00:00,  4.03it/s]\n",
      "100%|████████████████████████████████████████████████████████████████████████████████| 218/218 [00:16<00:00, 13.00it/s]\n"
     ]
    },
    {
     "name": "stdout",
     "output_type": "stream",
     "text": [
      "TRAIN: \n",
      "AE: 185.03035 | reconstruction: 185.01923 | L2: 11233.397 | \n",
      "EVALUATE: \n",
      "AE: 197.6809 | reconstruction: 197.66957 | L2: 11301.919 | \n",
      "\n",
      "total loss Patience count:  3\n",
      "EPOCH:  104\n"
     ]
    },
    {
     "name": "stderr",
     "output_type": "stream",
     "text": [
      "100%|████████████████████████████████████████████████████████████████████████████████| 875/875 [03:32<00:00,  4.02it/s]\n",
      "100%|████████████████████████████████████████████████████████████████████████████████| 218/218 [00:16<00:00, 12.58it/s]\n"
     ]
    },
    {
     "name": "stdout",
     "output_type": "stream",
     "text": [
      "TRAIN: \n",
      "AE: 185.3161 | reconstruction: 185.30466 | L2: 11368.032 | \n",
      "EVALUATE: \n",
      "AE: 198.68553 | reconstruction: 198.67406 | L2: 11437.6455 | \n",
      "\n",
      "total loss Patience count:  4\n",
      "EPOCH:  105\n"
     ]
    },
    {
     "name": "stderr",
     "output_type": "stream",
     "text": [
      "100%|████████████████████████████████████████████████████████████████████████████████| 875/875 [03:31<00:00,  4.01it/s]\n",
      "100%|████████████████████████████████████████████████████████████████████████████████| 218/218 [00:16<00:00, 12.88it/s]\n"
     ]
    },
    {
     "name": "stdout",
     "output_type": "stream",
     "text": [
      "TRAIN: \n",
      "AE: 185.5354 | reconstruction: 185.52386 | L2: 11503.84 | \n",
      "EVALUATE: \n",
      "AE: 198.72768 | reconstruction: 198.7161 | L2: 11573.744 | \n",
      "\n",
      "total loss Patience count:  5\n",
      "EPOCH:  106\n"
     ]
    },
    {
     "name": "stderr",
     "output_type": "stream",
     "text": [
      "100%|████████████████████████████████████████████████████████████████████████████████| 875/875 [03:32<00:00,  4.20it/s]\n",
      "100%|████████████████████████████████████████████████████████████████████████████████| 218/218 [00:16<00:00, 13.07it/s]\n"
     ]
    },
    {
     "name": "stdout",
     "output_type": "stream",
     "text": [
      "TRAIN: \n",
      "AE: 185.85081 | reconstruction: 185.83907 | L2: 11640.624 | \n",
      "EVALUATE: \n",
      "AE: 197.85318 | reconstruction: 197.84146 | L2: 11712.243 | \n",
      "\n",
      "total loss Patience count:  6\n",
      "EPOCH:  107\n"
     ]
    },
    {
     "name": "stderr",
     "output_type": "stream",
     "text": [
      "100%|████████████████████████████████████████████████████████████████████████████████| 875/875 [03:33<00:00,  3.94it/s]\n",
      "100%|████████████████████████████████████████████████████████████████████████████████| 218/218 [00:15<00:00, 13.50it/s]\n"
     ]
    },
    {
     "name": "stdout",
     "output_type": "stream",
     "text": [
      "TRAIN: \n",
      "AE: 186.19757 | reconstruction: 186.18573 | L2: 11777.38 | \n",
      "EVALUATE: \n",
      "AE: 197.62411 | reconstruction: 197.61224 | L2: 11845.833 | \n",
      "\n",
      "total loss Patience count:  7\n",
      "EPOCH:  108\n"
     ]
    },
    {
     "name": "stderr",
     "output_type": "stream",
     "text": [
      "100%|████████████████████████████████████████████████████████████████████████████████| 875/875 [03:24<00:00,  5.05it/s]\n",
      "100%|████████████████████████████████████████████████████████████████████████████████| 218/218 [00:12<00:00, 17.48it/s]\n"
     ]
    },
    {
     "name": "stdout",
     "output_type": "stream",
     "text": [
      "TRAIN: \n",
      "AE: 186.10832 | reconstruction: 186.09636 | L2: 11911.188 | \n",
      "EVALUATE: \n",
      "AE: 198.07074 | reconstruction: 198.05873 | L2: 11980.48 | \n",
      "\n",
      "total loss Patience count:  8\n",
      "decaying learning rate ... \n",
      "new learning rate: 9.999999974752427e-07\n",
      "EPOCH:  109\n"
     ]
    },
    {
     "name": "stderr",
     "output_type": "stream",
     "text": [
      "100%|████████████████████████████████████████████████████████████████████████████████| 875/875 [03:12<00:00,  4.06it/s]\n",
      "100%|████████████████████████████████████████████████████████████████████████████████| 218/218 [00:16<00:00, 12.67it/s]\n"
     ]
    },
    {
     "name": "stdout",
     "output_type": "stream",
     "text": [
      "TRAIN: \n",
      "AE: 186.163 | reconstruction: 186.15102 | L2: 12047.26 | \n",
      "EVALUATE: \n",
      "AE: 198.71721 | reconstruction: 198.705 | L2: 12117.2295 | \n",
      "\n",
      "total loss Patience count:  9\n",
      "EPOCH:  110\n"
     ]
    },
    {
     "name": "stderr",
     "output_type": "stream",
     "text": [
      "100%|████████████████████████████████████████████████████████████████████████████████| 875/875 [03:32<00:00,  4.06it/s]\n",
      "100%|████████████████████████████████████████████████████████████████████████████████| 218/218 [00:16<00:00, 12.37it/s]\n"
     ]
    },
    {
     "name": "stdout",
     "output_type": "stream",
     "text": [
      "TRAIN: \n",
      "AE: 186.5538 | reconstruction: 186.54155 | L2: 12183.394 | \n",
      "EVALUATE: \n",
      "AE: 198.53406 | reconstruction: 198.52179 | L2: 12252.593 | \n",
      "\n",
      "total loss Patience count:  10\n",
      "EPOCH:  111\n"
     ]
    },
    {
     "name": "stderr",
     "output_type": "stream",
     "text": [
      "100%|████████████████████████████████████████████████████████████████████████████████| 875/875 [03:39<00:00,  4.08it/s]\n",
      "100%|████████████████████████████████████████████████████████████████████████████████| 218/218 [00:15<00:00, 13.55it/s]\n"
     ]
    },
    {
     "name": "stdout",
     "output_type": "stream",
     "text": [
      "TRAIN: \n",
      "AE: 187.15826 | reconstruction: 187.14583 | L2: 12318.434 | \n",
      "EVALUATE: \n",
      "AE: 199.63707 | reconstruction: 199.62468 | L2: 12385.022 | \n",
      "\n",
      "total loss Patience count:  11\n",
      "EPOCH:  112\n"
     ]
    },
    {
     "name": "stderr",
     "output_type": "stream",
     "text": [
      "100%|████████████████████████████████████████████████████████████████████████████████| 875/875 [03:34<00:00,  3.95it/s]\n",
      "100%|████████████████████████████████████████████████████████████████████████████████| 218/218 [00:15<00:00, 12.60it/s]\n"
     ]
    },
    {
     "name": "stdout",
     "output_type": "stream",
     "text": [
      "TRAIN: \n",
      "AE: 186.34814 | reconstruction: 186.33574 | L2: 12449.505 | \n",
      "EVALUATE: \n",
      "AE: 198.02473 | reconstruction: 198.01222 | L2: 12516.155 | \n",
      "\n",
      "total loss Patience count:  12\n",
      "EPOCH:  113\n"
     ]
    },
    {
     "name": "stderr",
     "output_type": "stream",
     "text": [
      "100%|████████████████████████████████████████████████████████████████████████████████| 875/875 [03:34<00:00,  3.98it/s]\n",
      "100%|████████████████████████████████████████████████████████████████████████████████| 218/218 [00:16<00:00, 14.04it/s]\n"
     ]
    },
    {
     "name": "stdout",
     "output_type": "stream",
     "text": [
      "TRAIN: \n",
      "AE: 184.52193 | reconstruction: 184.50941 | L2: 12579.779 | \n",
      "EVALUATE: \n",
      "AE: 196.70045 | reconstruction: 196.6879 | L2: 12645.094 | \n",
      "\n",
      "EPOCH:  114\n"
     ]
    },
    {
     "name": "stderr",
     "output_type": "stream",
     "text": [
      "100%|████████████████████████████████████████████████████████████████████████████████| 875/875 [03:32<00:00,  4.04it/s]\n",
      "100%|████████████████████████████████████████████████████████████████████████████████| 218/218 [00:16<00:00, 12.95it/s]\n"
     ]
    },
    {
     "name": "stdout",
     "output_type": "stream",
     "text": [
      "TRAIN: \n",
      "AE: 183.1149 | reconstruction: 183.10225 | L2: 12703.932 | \n",
      "EVALUATE: \n",
      "AE: 196.29752 | reconstruction: 196.28467 | L2: 12767.662 | \n",
      "\n",
      "EPOCH:  115\n"
     ]
    },
    {
     "name": "stderr",
     "output_type": "stream",
     "text": [
      "100%|████████████████████████████████████████████████████████████████████████████████| 875/875 [03:32<00:00,  4.08it/s]\n",
      "100%|████████████████████████████████████████████████████████████████████████████████| 218/218 [00:16<00:00, 12.86it/s]\n"
     ]
    },
    {
     "name": "stdout",
     "output_type": "stream",
     "text": [
      "TRAIN: \n",
      "AE: 183.09456 | reconstruction: 183.08171 | L2: 12831.517 | \n",
      "EVALUATE: \n",
      "AE: 196.28122 | reconstruction: 196.26823 | L2: 12900.821 | \n",
      "\n",
      "EPOCH:  116\n"
     ]
    },
    {
     "name": "stderr",
     "output_type": "stream",
     "text": [
      "100%|████████████████████████████████████████████████████████████████████████████████| 875/875 [03:16<00:00,  5.15it/s]\n",
      "100%|████████████████████████████████████████████████████████████████████████████████| 218/218 [00:13<00:00, 16.91it/s]\n"
     ]
    },
    {
     "name": "stdout",
     "output_type": "stream",
     "text": [
      "TRAIN: \n",
      "AE: 183.09137 | reconstruction: 183.07845 | L2: 12967.139 | \n",
      "EVALUATE: \n",
      "AE: 196.4267 | reconstruction: 196.41354 | L2: 13041.068 | \n",
      "\n",
      "total loss Patience count:  1\n",
      "EPOCH:  117\n"
     ]
    },
    {
     "name": "stderr",
     "output_type": "stream",
     "text": [
      "100%|████████████████████████████████████████████████████████████████████████████████| 875/875 [03:21<00:00,  4.08it/s]\n",
      "100%|████████████████████████████████████████████████████████████████████████████████| 218/218 [00:15<00:00, 15.42it/s]\n"
     ]
    },
    {
     "name": "stdout",
     "output_type": "stream",
     "text": [
      "TRAIN: \n",
      "AE: 183.31136 | reconstruction: 183.29839 | L2: 13108.917 | \n",
      "EVALUATE: \n",
      "AE: 197.32213 | reconstruction: 197.30898 | L2: 13183.769 | \n",
      "\n",
      "total loss Patience count:  2\n",
      "EPOCH:  118\n"
     ]
    },
    {
     "name": "stderr",
     "output_type": "stream",
     "text": [
      "100%|████████████████████████████████████████████████████████████████████████████████| 875/875 [02:52<00:00,  4.85it/s]\n",
      "100%|████████████████████████████████████████████████████████████████████████████████| 218/218 [00:14<00:00, 16.83it/s]\n"
     ]
    },
    {
     "name": "stdout",
     "output_type": "stream",
     "text": [
      "TRAIN: \n",
      "AE: 183.58612 | reconstruction: 183.57303 | L2: 13253.572 | \n",
      "EVALUATE: \n",
      "AE: 197.46072 | reconstruction: 197.44743 | L2: 13328.506 | \n",
      "\n",
      "total loss Patience count:  3\n",
      "EPOCH:  119\n"
     ]
    },
    {
     "name": "stderr",
     "output_type": "stream",
     "text": [
      "100%|████████████████████████████████████████████████████████████████████████████████| 875/875 [02:44<00:00,  5.25it/s]\n",
      "100%|████████████████████████████████████████████████████████████████████████████████| 218/218 [00:12<00:00, 17.02it/s]\n"
     ]
    },
    {
     "name": "stdout",
     "output_type": "stream",
     "text": [
      "TRAIN: \n",
      "AE: 183.71234 | reconstruction: 183.69873 | L2: 13399.738 | \n",
      "EVALUATE: \n",
      "AE: 196.96399 | reconstruction: 196.95045 | L2: 13474.519 | \n",
      "\n",
      "total loss Patience count:  4\n",
      "EPOCH:  120\n"
     ]
    },
    {
     "name": "stderr",
     "output_type": "stream",
     "text": [
      "100%|████████████████████████████████████████████████████████████████████████████████| 875/875 [02:42<00:00,  5.46it/s]\n",
      "100%|████████████████████████████████████████████████████████████████████████████████| 218/218 [00:12<00:00, 17.43it/s]\n"
     ]
    },
    {
     "name": "stdout",
     "output_type": "stream",
     "text": [
      "TRAIN: \n",
      "AE: 183.49442 | reconstruction: 183.4808 | L2: 13544.209 | \n",
      "EVALUATE: \n",
      "AE: 196.7201 | reconstruction: 196.70638 | L2: 13618.183 | \n",
      "\n",
      "Saving model...\n",
      "Model saved\n",
      "Generating latent space ...\n",
      "Scaling dataset ... \n",
      "Creating dask array ... \n",
      "Loading model checkpoint experiments/checkpoint_dir/AE_Conv_MNIST_lat15_h500_lay3/-105875 ...\n",
      "\n",
      "INFO:tensorflow:Restoring parameters from experiments/checkpoint_dir/AE_Conv_MNIST_lat15_h500_lay3/-105875\n",
      "Model loaded\n",
      "EPOCHS trained:  120\n"
     ]
    },
    {
     "name": "stderr",
     "output_type": "stream",
     "text": [
      "100%|███████████████████████████████████████████████████████████████████████████████| 875/875 [00:05<00:00, 151.57it/s]\n"
     ]
    },
    {
     "name": "stdout",
     "output_type": "stream",
     "text": [
      "Latent space dimensions: (56000, 2)\n",
      "Plotting latent space ...\n",
      "data size (56000, 2)\n"
     ]
    },
    {
     "name": "stderr",
     "output_type": "stream",
     "text": [
      "100%|██████████████████████████████████████████████████████████████████████████| 56000/56000 [00:13<00:00, 4026.63it/s]\n"
     ]
    },
    {
     "name": "stdout",
     "output_type": "stream",
     "text": [
      "Saving Image experiments/log_dir/AE_Conv_MNIST_lat15_h500_lay3/AE_Conv_MNIST_lat15_h500_lay3 latent epoch 120.jpg ...\n",
      "latent space dimensions: (56000, 3)\n",
      "Plotting latent space ...\n",
      "data size (56000, 3)\n"
     ]
    },
    {
     "name": "stderr",
     "output_type": "stream",
     "text": [
      "100%|██████████████████████████████████████████████████████████████████████████████████| 10/10 [00:00<00:00, 86.31it/s]\n"
     ]
    },
    {
     "name": "stdout",
     "output_type": "stream",
     "text": [
      "Saving Image experiments/log_dir/AE_Conv_MNIST_lat15_h500_lay3/AE_Conv_MNIST_lat15_h500_lay3 latent_3d epoch 120.jpg ...\n",
      "Reconstructing samples from Data ...\n",
      "Scaling dataset ... \n",
      "Creating dask array ... \n",
      "Loading model checkpoint experiments/checkpoint_dir/AE_Conv_MNIST_lat15_h500_lay3/-105875 ...\n",
      "\n",
      "INFO:tensorflow:Restoring parameters from experiments/checkpoint_dir/AE_Conv_MNIST_lat15_h500_lay3/-105875\n",
      "Model loaded\n",
      "EPOCHS trained:  120\n"
     ]
    },
    {
     "name": "stderr",
     "output_type": "stream",
     "text": [
      "4it [00:00, 34.52it/s]                                                                                                 \n"
     ]
    },
    {
     "name": "stdout",
     "output_type": "stream",
     "text": [
      "Loading model checkpoint experiments/checkpoint_dir/AE_Conv_MNIST_lat15_h500_lay3/-105875 ...\n",
      "\n",
      "INFO:tensorflow:Restoring parameters from experiments/checkpoint_dir/AE_Conv_MNIST_lat15_h500_lay3/-105875\n",
      "Model loaded\n",
      "EPOCHS trained:  120\n"
     ]
    },
    {
     "name": "stderr",
     "output_type": "stream",
     "text": [
      "4it [00:00, 23.63it/s]                                                                                                 \n"
     ]
    },
    {
     "name": "stdout",
     "output_type": "stream",
     "text": [
      "Saving Image  experiments/log_dir/AE_Conv_MNIST_lat15_h500_lay3/AE_Conv_MNIST_lat15_h500_lay3 samples reconstruction epoch 120.jpg\n",
      "total loss Patience count:  5\n",
      "EPOCH:  121\n"
     ]
    },
    {
     "name": "stderr",
     "output_type": "stream",
     "text": [
      "100%|████████████████████████████████████████████████████████████████████████████████| 875/875 [02:44<00:00,  5.35it/s]\n",
      "100%|████████████████████████████████████████████████████████████████████████████████| 218/218 [00:12<00:00, 17.53it/s]\n"
     ]
    },
    {
     "name": "stdout",
     "output_type": "stream",
     "text": [
      "TRAIN: \n",
      "AE: 183.08652 | reconstruction: 183.0727 | L2: 13689.38 | \n",
      "EVALUATE: \n",
      "AE: 196.5228 | reconstruction: 196.50911 | L2: 13762.586 | \n",
      "\n",
      "total loss Patience count:  6\n",
      "EPOCH:  122\n"
     ]
    },
    {
     "name": "stderr",
     "output_type": "stream",
     "text": [
      "100%|████████████████████████████████████████████████████████████████████████████████| 875/875 [02:43<00:00,  5.42it/s]\n",
      "100%|████████████████████████████████████████████████████████████████████████████████| 218/218 [00:12<00:00, 17.27it/s]\n"
     ]
    },
    {
     "name": "stdout",
     "output_type": "stream",
     "text": [
      "TRAIN: \n",
      "AE: 182.78387 | reconstruction: 182.77002 | L2: 13834.174 | \n",
      "EVALUATE: \n",
      "AE: 196.37329 | reconstruction: 196.35931 | L2: 13909.482 | \n",
      "\n",
      "total loss Patience count:  7\n",
      "EPOCH:  123\n"
     ]
    },
    {
     "name": "stderr",
     "output_type": "stream",
     "text": [
      "100%|████████████████████████████████████████████████████████████████████████████████| 875/875 [02:43<00:00,  5.38it/s]\n",
      "100%|████████████████████████████████████████████████████████████████████████████████| 218/218 [00:12<00:00, 16.72it/s]\n"
     ]
    },
    {
     "name": "stdout",
     "output_type": "stream",
     "text": [
      "TRAIN: \n",
      "AE: 182.533 | reconstruction: 182.519 | L2: 13981.127 | \n",
      "EVALUATE: \n",
      "AE: 196.05841 | reconstruction: 196.04422 | L2: 14056.57 | \n",
      "\n",
      "EPOCH:  124\n"
     ]
    },
    {
     "name": "stderr",
     "output_type": "stream",
     "text": [
      "100%|████████████████████████████████████████████████████████████████████████████████| 875/875 [02:43<00:00,  5.43it/s]\n",
      "100%|████████████████████████████████████████████████████████████████████████████████| 218/218 [00:12<00:00, 17.35it/s]\n"
     ]
    },
    {
     "name": "stdout",
     "output_type": "stream",
     "text": [
      "TRAIN: \n",
      "AE: 182.5715 | reconstruction: 182.55734 | L2: 14129.267 | \n",
      "EVALUATE: \n",
      "AE: 195.90927 | reconstruction: 195.89517 | L2: 14207.2705 | \n",
      "\n",
      "EPOCH:  125\n"
     ]
    },
    {
     "name": "stderr",
     "output_type": "stream",
     "text": [
      "100%|████████████████████████████████████████████████████████████████████████████████| 875/875 [02:42<00:00,  5.41it/s]\n",
      "100%|████████████████████████████████████████████████████████████████████████████████| 218/218 [00:12<00:00, 17.23it/s]\n"
     ]
    },
    {
     "name": "stdout",
     "output_type": "stream",
     "text": [
      "TRAIN: \n",
      "AE: 182.71117 | reconstruction: 182.69696 | L2: 14280.085 | \n",
      "EVALUATE: \n",
      "AE: 196.40349 | reconstruction: 196.38918 | L2: 14359.666 | \n",
      "\n",
      "total loss Patience count:  1\n",
      "EPOCH:  126\n"
     ]
    },
    {
     "name": "stderr",
     "output_type": "stream",
     "text": [
      "100%|████████████████████████████████████████████████████████████████████████████████| 875/875 [02:43<00:00,  5.28it/s]\n",
      "100%|████████████████████████████████████████████████████████████████████████████████| 218/218 [00:12<00:00, 17.45it/s]\n"
     ]
    },
    {
     "name": "stdout",
     "output_type": "stream",
     "text": [
      "TRAIN: \n",
      "AE: 183.09987 | reconstruction: 183.08557 | L2: 14434.163 | \n",
      "EVALUATE: \n",
      "AE: 197.02635 | reconstruction: 197.01195 | L2: 14513.063 | \n",
      "\n",
      "total loss Patience count:  2\n",
      "EPOCH:  127\n"
     ]
    },
    {
     "name": "stderr",
     "output_type": "stream",
     "text": [
      "100%|████████████████████████████████████████████████████████████████████████████████| 875/875 [02:42<00:00,  5.32it/s]\n",
      "100%|████████████████████████████████████████████████████████████████████████████████| 218/218 [00:12<00:00, 17.24it/s]\n"
     ]
    },
    {
     "name": "stdout",
     "output_type": "stream",
     "text": [
      "TRAIN: \n",
      "AE: 184.24602 | reconstruction: 184.23134 | L2: 14589.305 | \n",
      "EVALUATE: \n",
      "AE: 196.63445 | reconstruction: 196.61984 | L2: 14666.5205 | \n",
      "\n",
      "total loss Patience count:  3\n",
      "EPOCH:  128\n"
     ]
    },
    {
     "name": "stderr",
     "output_type": "stream",
     "text": [
      "100%|████████████████████████████████████████████████████████████████████████████████| 875/875 [02:43<00:00,  5.40it/s]\n",
      "100%|████████████████████████████████████████████████████████████████████████████████| 218/218 [00:12<00:00, 17.12it/s]\n"
     ]
    },
    {
     "name": "stdout",
     "output_type": "stream",
     "text": [
      "TRAIN: \n",
      "AE: 184.12758 | reconstruction: 184.11285 | L2: 14736.875 | \n",
      "EVALUATE: \n",
      "AE: 197.41512 | reconstruction: 197.40025 | L2: 14812.77 | \n",
      "\n",
      "total loss Patience count:  4\n",
      "EPOCH:  129\n"
     ]
    },
    {
     "name": "stderr",
     "output_type": "stream",
     "text": [
      "100%|████████████████████████████████████████████████████████████████████████████████| 875/875 [02:42<00:00,  5.46it/s]\n",
      "100%|████████████████████████████████████████████████████████████████████████████████| 218/218 [00:12<00:00, 17.38it/s]\n"
     ]
    },
    {
     "name": "stdout",
     "output_type": "stream",
     "text": [
      "TRAIN: \n",
      "AE: 183.60237 | reconstruction: 183.5875 | L2: 14881.796 | \n",
      "EVALUATE: \n",
      "AE: 196.99144 | reconstruction: 196.97644 | L2: 14957.4795 | \n",
      "\n",
      "total loss Patience count:  5\n",
      "EPOCH:  130\n"
     ]
    },
    {
     "name": "stderr",
     "output_type": "stream",
     "text": [
      "100%|████████████████████████████████████████████████████████████████████████████████| 875/875 [02:42<00:00,  5.37it/s]\n",
      "100%|████████████████████████████████████████████████████████████████████████████████| 218/218 [00:12<00:00, 17.07it/s]\n"
     ]
    },
    {
     "name": "stdout",
     "output_type": "stream",
     "text": [
      "TRAIN: \n",
      "AE: 182.9124 | reconstruction: 182.89737 | L2: 15028.162 | \n",
      "EVALUATE: \n",
      "AE: 196.34912 | reconstruction: 196.334 | L2: 15104.48 | \n",
      "\n",
      "total loss Patience count:  6\n",
      "EPOCH:  131\n"
     ]
    },
    {
     "name": "stderr",
     "output_type": "stream",
     "text": [
      "100%|████████████████████████████████████████████████████████████████████████████████| 875/875 [02:43<00:00,  5.31it/s]\n",
      "100%|████████████████████████████████████████████████████████████████████████████████| 218/218 [00:12<00:00, 17.78it/s]\n"
     ]
    },
    {
     "name": "stdout",
     "output_type": "stream",
     "text": [
      "TRAIN: \n",
      "AE: 181.907 | reconstruction: 181.89189 | L2: 15174.388 | \n",
      "EVALUATE: \n",
      "AE: 196.02365 | reconstruction: 196.00845 | L2: 15249.766 | \n",
      "\n",
      "total loss Patience count:  7\n",
      "EPOCH:  132\n"
     ]
    },
    {
     "name": "stderr",
     "output_type": "stream",
     "text": [
      "100%|████████████████████████████████████████████████████████████████████████████████| 875/875 [02:43<00:00,  5.31it/s]\n",
      "100%|████████████████████████████████████████████████████████████████████████████████| 218/218 [00:12<00:00, 17.14it/s]\n"
     ]
    },
    {
     "name": "stdout",
     "output_type": "stream",
     "text": [
      "TRAIN: \n",
      "AE: 181.67972 | reconstruction: 181.66435 | L2: 15319.854 | \n",
      "EVALUATE: \n",
      "AE: 196.33096 | reconstruction: 196.3156 | L2: 15396.751 | \n",
      "\n",
      "total loss Patience count:  8\n",
      "decaying learning rate ... \n",
      "new learning rate: 1.0000000116860974e-07\n",
      "EPOCH:  133\n"
     ]
    },
    {
     "name": "stderr",
     "output_type": "stream",
     "text": [
      "100%|████████████████████████████████████████████████████████████████████████████████| 875/875 [02:47<00:00,  5.32it/s]\n",
      "100%|████████████████████████████████████████████████████████████████████████████████| 218/218 [00:12<00:00, 17.22it/s]\n"
     ]
    },
    {
     "name": "stdout",
     "output_type": "stream",
     "text": [
      "TRAIN: \n",
      "AE: 181.78012 | reconstruction: 181.76468 | L2: 15471.086 | \n",
      "EVALUATE: \n",
      "AE: 196.32713 | reconstruction: 196.31161 | L2: 15551.327 | \n",
      "\n",
      "total loss Patience count:  9\n",
      "EPOCH:  134\n"
     ]
    },
    {
     "name": "stderr",
     "output_type": "stream",
     "text": [
      "100%|████████████████████████████████████████████████████████████████████████████████| 875/875 [02:43<00:00,  5.24it/s]\n",
      "100%|████████████████████████████████████████████████████████████████████████████████| 218/218 [00:12<00:00, 17.02it/s]\n"
     ]
    },
    {
     "name": "stdout",
     "output_type": "stream",
     "text": [
      "TRAIN: \n",
      "AE: 181.92834 | reconstruction: 181.91273 | L2: 15627.525 | \n",
      "EVALUATE: \n",
      "AE: 196.00543 | reconstruction: 195.98975 | L2: 15711.231 | \n",
      "\n",
      "total loss Patience count:  10\n",
      "EPOCH:  135\n"
     ]
    },
    {
     "name": "stderr",
     "output_type": "stream",
     "text": [
      "100%|████████████████████████████████████████████████████████████████████████████████| 875/875 [02:48<00:00,  5.35it/s]\n",
      "100%|████████████████████████████████████████████████████████████████████████████████| 218/218 [00:12<00:00, 17.03it/s]\n"
     ]
    },
    {
     "name": "stdout",
     "output_type": "stream",
     "text": [
      "TRAIN: \n",
      "AE: 182.05313 | reconstruction: 182.03734 | L2: 15784.974 | \n",
      "EVALUATE: \n",
      "AE: 196.23181 | reconstruction: 196.21594 | L2: 15866.995 | \n",
      "\n",
      "total loss Patience count:  11\n",
      "EPOCH:  136\n"
     ]
    },
    {
     "name": "stderr",
     "output_type": "stream",
     "text": [
      "100%|████████████████████████████████████████████████████████████████████████████████| 875/875 [02:45<00:00,  5.24it/s]\n",
      "100%|████████████████████████████████████████████████████████████████████████████████| 218/218 [00:12<00:00, 17.04it/s]\n"
     ]
    },
    {
     "name": "stdout",
     "output_type": "stream",
     "text": [
      "TRAIN: \n",
      "AE: 182.4105 | reconstruction: 182.39452 | L2: 15941.001 | \n",
      "EVALUATE: \n",
      "AE: 196.6621 | reconstruction: 196.64604 | L2: 16022.246 | \n",
      "\n",
      "total loss Patience count:  12\n",
      "EPOCH:  137\n"
     ]
    },
    {
     "name": "stderr",
     "output_type": "stream",
     "text": [
      "100%|████████████████████████████████████████████████████████████████████████████████| 875/875 [02:46<00:00,  5.36it/s]\n",
      "100%|████████████████████████████████████████████████████████████████████████████████| 218/218 [00:12<00:00, 16.50it/s]\n"
     ]
    },
    {
     "name": "stdout",
     "output_type": "stream",
     "text": [
      "TRAIN: \n",
      "AE: 182.54811 | reconstruction: 182.532 | L2: 16098.294 | \n",
      "EVALUATE: \n",
      "AE: 196.36606 | reconstruction: 196.3499 | L2: 16180.94 | \n",
      "\n",
      "total loss Patience count:  13\n",
      "EPOCH:  138\n"
     ]
    },
    {
     "name": "stderr",
     "output_type": "stream",
     "text": [
      "100%|████████████████████████████████████████████████████████████████████████████████| 875/875 [02:45<00:00,  5.35it/s]\n",
      "100%|████████████████████████████████████████████████████████████████████████████████| 218/218 [00:12<00:00, 17.07it/s]\n"
     ]
    },
    {
     "name": "stdout",
     "output_type": "stream",
     "text": [
      "TRAIN: \n",
      "AE: 182.77304 | reconstruction: 182.75664 | L2: 16256.918 | \n",
      "EVALUATE: \n",
      "AE: 197.00952 | reconstruction: 196.99313 | L2: 16339.765 | \n",
      "\n",
      "total loss Patience count:  14\n",
      "EPOCH:  139\n"
     ]
    },
    {
     "name": "stderr",
     "output_type": "stream",
     "text": [
      "100%|████████████████████████████████████████████████████████████████████████████████| 875/875 [02:44<00:00,  5.32it/s]\n",
      "100%|████████████████████████████████████████████████████████████████████████████████| 218/218 [00:12<00:00, 17.22it/s]\n"
     ]
    },
    {
     "name": "stdout",
     "output_type": "stream",
     "text": [
      "TRAIN: \n",
      "AE: 183.38455 | reconstruction: 183.36823 | L2: 16416.797 | \n",
      "EVALUATE: \n",
      "AE: 197.16583 | reconstruction: 197.14934 | L2: 16500.941 | \n",
      "\n",
      "total loss Patience count:  15\n",
      "EPOCH:  140\n"
     ]
    },
    {
     "name": "stderr",
     "output_type": "stream",
     "text": [
      "100%|████████████████████████████████████████████████████████████████████████████████| 875/875 [02:44<00:00,  5.35it/s]\n",
      "100%|████████████████████████████████████████████████████████████████████████████████| 218/218 [00:12<00:00, 17.41it/s]\n"
     ]
    },
    {
     "name": "stdout",
     "output_type": "stream",
     "text": [
      "TRAIN: \n",
      "AE: 184.77823 | reconstruction: 184.7617 | L2: 16575.05 | \n",
      "EVALUATE: \n",
      "AE: 197.95757 | reconstruction: 197.94077 | L2: 16654.693 | \n",
      "\n",
      "Saving model...\n",
      "Model saved\n",
      "Generating latent space ...\n",
      "Scaling dataset ... \n",
      "Creating dask array ... \n",
      "Loading model checkpoint experiments/checkpoint_dir/AE_Conv_MNIST_lat15_h500_lay3/-123375 ...\n",
      "\n",
      "INFO:tensorflow:Restoring parameters from experiments/checkpoint_dir/AE_Conv_MNIST_lat15_h500_lay3/-123375\n",
      "Model loaded\n",
      "EPOCHS trained:  140\n"
     ]
    },
    {
     "name": "stderr",
     "output_type": "stream",
     "text": [
      "100%|███████████████████████████████████████████████████████████████████████████████| 875/875 [00:06<00:00, 142.96it/s]\n"
     ]
    },
    {
     "name": "stdout",
     "output_type": "stream",
     "text": [
      "Latent space dimensions: (56000, 2)\n",
      "Plotting latent space ...\n",
      "data size (56000, 2)\n"
     ]
    },
    {
     "name": "stderr",
     "output_type": "stream",
     "text": [
      "100%|██████████████████████████████████████████████████████████████████████████| 56000/56000 [00:09<00:00, 5663.98it/s]\n"
     ]
    },
    {
     "name": "stdout",
     "output_type": "stream",
     "text": [
      "Saving Image experiments/log_dir/AE_Conv_MNIST_lat15_h500_lay3/AE_Conv_MNIST_lat15_h500_lay3 latent epoch 140.jpg ...\n",
      "latent space dimensions: (56000, 3)\n",
      "Plotting latent space ...\n",
      "data size (56000, 3)\n"
     ]
    },
    {
     "name": "stderr",
     "output_type": "stream",
     "text": [
      "100%|██████████████████████████████████████████████████████████████████████████████████| 10/10 [00:00<00:00, 91.97it/s]\n"
     ]
    },
    {
     "name": "stdout",
     "output_type": "stream",
     "text": [
      "Saving Image experiments/log_dir/AE_Conv_MNIST_lat15_h500_lay3/AE_Conv_MNIST_lat15_h500_lay3 latent_3d epoch 140.jpg ...\n",
      "Reconstructing samples from Data ...\n",
      "Scaling dataset ... \n",
      "Creating dask array ... \n",
      "Loading model checkpoint experiments/checkpoint_dir/AE_Conv_MNIST_lat15_h500_lay3/-123375 ...\n",
      "\n",
      "INFO:tensorflow:Restoring parameters from experiments/checkpoint_dir/AE_Conv_MNIST_lat15_h500_lay3/-123375\n",
      "Model loaded\n",
      "EPOCHS trained:  140\n"
     ]
    },
    {
     "name": "stderr",
     "output_type": "stream",
     "text": [
      "4it [00:00, 32.26it/s]                                                                                                 \n"
     ]
    },
    {
     "name": "stdout",
     "output_type": "stream",
     "text": [
      "Loading model checkpoint experiments/checkpoint_dir/AE_Conv_MNIST_lat15_h500_lay3/-123375 ...\n",
      "\n",
      "INFO:tensorflow:Restoring parameters from experiments/checkpoint_dir/AE_Conv_MNIST_lat15_h500_lay3/-123375\n",
      "Model loaded\n",
      "EPOCHS trained:  140\n"
     ]
    },
    {
     "name": "stderr",
     "output_type": "stream",
     "text": [
      "4it [00:00, 24.39it/s]                                                                                                 \n"
     ]
    },
    {
     "name": "stdout",
     "output_type": "stream",
     "text": [
      "Saving Image  experiments/log_dir/AE_Conv_MNIST_lat15_h500_lay3/AE_Conv_MNIST_lat15_h500_lay3 samples reconstruction epoch 140.jpg\n",
      "total loss Patience count:  16\n",
      "Early Stopping!\n",
      "Saving model...\n",
      "Model saved\n",
      "Generating latent space ...\n",
      "Scaling dataset ... \n",
      "Creating dask array ... \n",
      "Loading model checkpoint experiments/checkpoint_dir/AE_Conv_MNIST_lat15_h500_lay3/-123375 ...\n",
      "\n",
      "INFO:tensorflow:Restoring parameters from experiments/checkpoint_dir/AE_Conv_MNIST_lat15_h500_lay3/-123375\n",
      "Model loaded\n",
      "EPOCHS trained:  141\n"
     ]
    },
    {
     "name": "stderr",
     "output_type": "stream",
     "text": [
      "100%|███████████████████████████████████████████████████████████████████████████████| 875/875 [00:05<00:00, 146.36it/s]\n"
     ]
    },
    {
     "name": "stdout",
     "output_type": "stream",
     "text": [
      "Latent space dimensions: (56000, 2)\n",
      "Plotting latent space ...\n",
      "data size (56000, 2)\n"
     ]
    },
    {
     "name": "stderr",
     "output_type": "stream",
     "text": [
      "100%|██████████████████████████████████████████████████████████████████████████| 56000/56000 [00:15<00:00, 3698.12it/s]\n"
     ]
    },
    {
     "name": "stdout",
     "output_type": "stream",
     "text": [
      "Saving Image experiments/log_dir/AE_Conv_MNIST_lat15_h500_lay3/AE_Conv_MNIST_lat15_h500_lay3 latent epoch 140.jpg ...\n",
      "latent space dimensions: (56000, 3)\n",
      "Plotting latent space ...\n",
      "data size (56000, 3)\n"
     ]
    },
    {
     "name": "stderr",
     "output_type": "stream",
     "text": [
      "100%|██████████████████████████████████████████████████████████████████████████████████| 10/10 [00:00<00:00, 91.15it/s]\n"
     ]
    },
    {
     "name": "stdout",
     "output_type": "stream",
     "text": [
      "Saving Image experiments/log_dir/AE_Conv_MNIST_lat15_h500_lay3/AE_Conv_MNIST_lat15_h500_lay3 latent_3d epoch 140.jpg ...\n",
      "Reconstructing samples from Data ...\n",
      "Scaling dataset ... \n",
      "Creating dask array ... \n",
      "Loading model checkpoint experiments/checkpoint_dir/AE_Conv_MNIST_lat15_h500_lay3/-123375 ...\n",
      "\n",
      "INFO:tensorflow:Restoring parameters from experiments/checkpoint_dir/AE_Conv_MNIST_lat15_h500_lay3/-123375\n",
      "Model loaded\n",
      "EPOCHS trained:  141\n"
     ]
    },
    {
     "name": "stderr",
     "output_type": "stream",
     "text": [
      "4it [00:00, 29.41it/s]                                                                                                 \n"
     ]
    },
    {
     "name": "stdout",
     "output_type": "stream",
     "text": [
      "Loading model checkpoint experiments/checkpoint_dir/AE_Conv_MNIST_lat15_h500_lay3/-123375 ...\n",
      "\n",
      "INFO:tensorflow:Restoring parameters from experiments/checkpoint_dir/AE_Conv_MNIST_lat15_h500_lay3/-123375\n",
      "Model loaded\n",
      "EPOCHS trained:  141\n"
     ]
    },
    {
     "name": "stderr",
     "output_type": "stream",
     "text": [
      "4it [00:00, 23.77it/s]                                                                                                 \n"
     ]
    },
    {
     "name": "stdout",
     "output_type": "stream",
     "text": [
      "Saving Image  experiments/log_dir/AE_Conv_MNIST_lat15_h500_lay3/AE_Conv_MNIST_lat15_h500_lay3 samples reconstruction epoch 140.jpg\n",
      "Scaling dataset ... \n",
      "Creating dask array ... \n",
      "Loading model checkpoint experiments/checkpoint_dir/AE_Conv_MNIST_lat15_h500_lay3/-123375 ...\n",
      "\n",
      "INFO:tensorflow:Restoring parameters from experiments/checkpoint_dir/AE_Conv_MNIST_lat15_h500_lay3/-123375\n",
      "Model loaded\n",
      "EPOCHS trained:  141\n"
     ]
    },
    {
     "name": "stderr",
     "output_type": "stream",
     "text": [
      "100%|███████████████████████████████████████████████████████████████████████████████| 875/875 [00:06<00:00, 141.49it/s]\n"
     ]
    },
    {
     "data": {
      "image/png": "[encoded data removed]",
      "text/plain": [
       "<matplotlib.figure.Figure at 0x1d3855b9978>"
      ]
     },
     "metadata": {
      "needs_background": "light"
     },
     "output_type": "display_data"
    }
   ],
   "source": [
    "ae.fit(X,y)"
   ]
  },
  {
   "cell_type": "code",
   "execution_count": 8,
   "metadata": {},
   "outputs": [],
   "source": [
    "from utils.plots import plot_samples, merge\n",
    "from skimage.transform import resize\n",
    "import matplotlib.pyplot as plt"
   ]
  },
  {
   "cell_type": "code",
   "execution_count": 9,
   "metadata": {
    "scrolled": false
   },
   "outputs": [
    {
     "name": "stdout",
     "output_type": "stream",
     "text": [
      "Loading model checkpoint experiments/checkpoint_dir/AE_Conv_MNIST_lat15_h500_lay3/-44625 ...\n",
      "\n",
      "INFO:tensorflow:Restoring parameters from experiments/checkpoint_dir/AE_Conv_MNIST_lat15_h500_lay3/-44625\n",
      "Model loaded\n",
      "EPOCHS trained:  50\n",
      "random sample batch ...\n",
      "Loading model checkpoint experiments/checkpoint_dir/AE_Conv_MNIST_lat15_h500_lay3/-44625 ...\n",
      "\n",
      "INFO:tensorflow:Restoring parameters from experiments/checkpoint_dir/AE_Conv_MNIST_lat15_h500_lay3/-44625\n",
      "Model loaded\n",
      "EPOCHS trained:  50\n",
      "random sample batch ...\n",
      "Loading model checkpoint experiments/checkpoint_dir/AE_Conv_MNIST_lat15_h500_lay3/-44625 ...\n",
      "\n",
      "INFO:tensorflow:Restoring parameters from experiments/checkpoint_dir/AE_Conv_MNIST_lat15_h500_lay3/-44625\n",
      "Model loaded\n",
      "EPOCHS trained:  50\n",
      "random sample batch ...\n",
      "Loading model checkpoint experiments/checkpoint_dir/AE_Conv_MNIST_lat15_h500_lay3/-44625 ...\n",
      "\n",
      "INFO:tensorflow:Restoring parameters from experiments/checkpoint_dir/AE_Conv_MNIST_lat15_h500_lay3/-44625\n",
      "Model loaded\n",
      "EPOCHS trained:  50\n",
      "random sample batch ...\n",
      "Loading model checkpoint experiments/checkpoint_dir/AE_Conv_MNIST_lat15_h500_lay3/-44625 ...\n",
      "\n",
      "INFO:tensorflow:Restoring parameters from experiments/checkpoint_dir/AE_Conv_MNIST_lat15_h500_lay3/-44625\n",
      "Model loaded\n",
      "EPOCHS trained:  50\n",
      "random sample batch ...\n"
     ]
    },
    {
     "data": {
      "image/png": "[encoded data removed]",
      "text/plain": [
       "<matplotlib.figure.Figure at 0x1654433b358>"
      ]
     },
     "metadata": {
      "needs_background": "light"
     },
     "output_type": "display_data"
    },
    {
     "data": {
      "image/png": "[encoded data removed]",
      "text/plain": [
       "<matplotlib.figure.Figure at 0x16594504080>"
      ]
     },
     "metadata": {
      "needs_background": "light"
     },
     "output_type": "display_data"
    },
    {
     "data": {
      "image/png": "[encoded data removed]",
      "text/plain": [
       "<matplotlib.figure.Figure at 0x165a354d128>"
      ]
     },
     "metadata": {
      "needs_background": "light"
     },
     "output_type": "display_data"
    },
    {
     "data": {
      "image/png": "[encoded data removed]",
      "text/plain": [
       "<matplotlib.figure.Figure at 0x165a38462b0>"
      ]
     },
     "metadata": {
      "needs_background": "light"
     },
     "output_type": "display_data"
    },
    {
     "data": {
      "image/png": "[encoded data removed]",
      "text/plain": [
       "<matplotlib.figure.Figure at 0x165a543e978>"
      ]
     },
     "metadata": {
      "needs_background": "light"
     },
     "output_type": "display_data"
    }
   ],
   "source": [
    "for _ in range(5):\n",
    "    samples = ae.reconst_samples_out_data()\n",
    "    scale = 10\n",
    "    im = merge(samples, (10,10))\n",
    "    fig_width = int(im.shape[0] * scale)\n",
    "    fig_height = int(im.shape[1] * scale)\n",
    "    im = resize(im, (fig_width, fig_height), anti_aliasing=True)\n",
    "    plt.figure(dpi=150)\n",
    "    plt.imshow(im)\n",
    "    plt.axis('off')"
   ]
  },
  {
   "cell_type": "code",
   "execution_count": null,
   "metadata": {},
   "outputs": [],
   "source": []
  }
 ],
 "metadata": {
  "kernelspec": {
   "display_name": "Python 3",
   "language": "python",
   "name": "python3"
  },
  "language_info": {
   "codemirror_mode": {
    "name": "ipython",
    "version": 3
   },
   "file_extension": ".py",
   "mimetype": "text/x-python",
   "name": "python",
   "nbconvert_exporter": "python",
   "pygments_lexer": "ipython3",
   "version": "3.6.7"
  }
 },
 "nbformat": 4,
 "nbformat_minor": 2
}
