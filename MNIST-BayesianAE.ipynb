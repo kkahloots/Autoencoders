{
 "cells": [
  {
   "cell_type": "code",
   "execution_count": 1,
   "metadata": {},
   "outputs": [],
   "source": [
    "import warnings\n",
    "warnings.filterwarnings('ignore')"
   ]
  },
  {
   "cell_type": "markdown",
   "metadata": {},
   "source": [
    "# Prepare the Dataset"
   ]
  },
  {
   "cell_type": "code",
   "execution_count": 2,
   "metadata": {},
   "outputs": [],
   "source": [
    "dataset_name = 'MNIST'"
   ]
  },
  {
   "cell_type": "code",
   "execution_count": 3,
   "metadata": {
    "scrolled": true
   },
   "outputs": [
    {
     "name": "stderr",
     "output_type": "stream",
     "text": [
      "Using TensorFlow backend.\n"
     ]
    },
    {
     "name": "stdout",
     "output_type": "stream",
     "text": [
      "Dataset size (70000, 28, 28)\n"
     ]
    }
   ],
   "source": [
    "import numpy as np\n",
    "from keras.datasets import mnist\n",
    "(X, y), (X_test, y_test) = mnist.load_data()\n",
    "X = np.concatenate((X, X_test))\n",
    "y = np.concatenate((y, y_test))\n",
    "imgs = X\n",
    "del X_test\n",
    "del y_test\n",
    "\n",
    "print('Dataset size {}'.format(X.shape))\n"
   ]
  },
  {
   "cell_type": "markdown",
   "metadata": {},
   "source": [
    "# BayesianAE"
   ]
  },
  {
   "cell_type": "code",
   "execution_count": 4,
   "metadata": {},
   "outputs": [],
   "source": [
    "%load_ext autoreload\n",
    "%autoreload 2"
   ]
  },
  {
   "cell_type": "code",
   "execution_count": null,
   "metadata": {},
   "outputs": [
    {
     "name": "stdout",
     "output_type": "stream",
     "text": [
      "\n",
      "WARNING: The TensorFlow contrib module will not be included in TensorFlow 2.0.\n",
      "For more information, please see:\n",
      "  * https://github.com/tensorflow/community/blob/master/rfcs/20180907-contrib-sunset.md\n",
      "  * https://github.com/tensorflow/addons\n",
      "If you depend on functionality not listed there, please file an issue.\n",
      "\n"
     ]
    }
   ],
   "source": [
    "from utils.constants import Models as models\n",
    "from models.AE import AE"
   ]
  },
  {
   "cell_type": "code",
   "execution_count": null,
   "metadata": {},
   "outputs": [
    {
     "name": "stdout",
     "output_type": "stream",
     "text": [
      "Unable to load previous configuration ...\n",
      "Saving Model Arguments ...\n"
     ]
    }
   ],
   "source": [
    "ae = AE(model_type=models.BayAE, dataset_name=dataset_name,hidden_dim=500, plot=True, isConv=False)"
   ]
  },
  {
   "cell_type": "code",
   "execution_count": null,
   "metadata": {
    "scrolled": true
   },
   "outputs": [
    {
     "name": "stdout",
     "output_type": "stream",
     "text": [
      "\n",
      "Processing data...\n",
      "Scaling dataset ... \n",
      "Creating dask array ... \n",
      "Preparing samples ...\n"
     ]
    },
    {
     "name": "stderr",
     "output_type": "stream",
     "text": [
      "Mixture of types in 'arrays'. Falling back to scikit-learn.\n"
     ]
    },
    {
     "name": "stdout",
     "output_type": "stream",
     "text": [
      "Training dataset shape:  (56000, 28, 28, 3)\n",
      "Validation dataset shape:  (14000, 28, 28, 3)\n",
      "Sample dataset shape:  (200, 28, 28, 3)\n",
      "building BayAE graph ... \n",
      "WARNING:tensorflow:From C:\\ProgramData\\Anaconda34\\envs\\gpu_env\\lib\\site-packages\\tensorflow\\python\\framework\\op_def_library.py:263: colocate_with (from tensorflow.python.framework.ops) is deprecated and will be removed in a future version.\n",
      "Instructions for updating:\n",
      "Colocations handled automatically by placer.\n",
      "\n",
      "[*] Defining sample from X...\n",
      "\n",
      "[*] sample shape [10, 64, 2352]\n",
      "\n",
      "[*] Defining prior ...\n",
      "\n",
      "[*] Defining prior encoder...\n",
      "\n",
      "WARNING:tensorflow:From C:\\Users\\KhalidKahlootBME\\Documents\\projects\\Autoencoders\\networks\\dense_net.py:63: dense (from tensorflow.python.layers.core) is deprecated and will be removed in a future version.\n",
      "Instructions for updating:\n",
      "Use keras.layers.dense instead.\n",
      "[*] Layer ( prior_encoder/prior_en_dense_1/Relu:0 ) output shape: [10, 64, 500]\n",
      "WARNING:tensorflow:From C:\\Users\\KhalidKahlootBME\\Documents\\projects\\Autoencoders\\networks\\dense_net.py:78: dropout (from tensorflow.python.layers.core) is deprecated and will be removed in a future version.\n",
      "Instructions for updating:\n",
      "Use keras.layers.dropout instead.\n",
      "[*] Layer ( prior_encoder/prior_en_dense_1_dropout/Identity:0 ) output shape: [10, 64, 500]\n",
      "[*] Layer ( prior_encoder/prior_en_dense_2/Relu:0 ) output shape: [10, 64, 500]\n",
      "[*] Layer ( prior_encoder/prior_en_dense_2_dropout/Identity:0 ) output shape: [10, 64, 500]\n",
      "WARNING:tensorflow:From C:\\Users\\KhalidKahlootBME\\Documents\\projects\\Autoencoders\\networks\\dense_net.py:69: batch_normalization (from tensorflow.python.layers.normalization) is deprecated and will be removed in a future version.\n",
      "Instructions for updating:\n",
      "Use keras.layers.batch_normalization instead.\n",
      "[*] Layer ( prior_encoder/prior_en_H2_batch_norm/batchnorm/add_1:0 ) output shape: [10, 64, 500]\n",
      "[*] Layer ( prior_encoder/prior_en_dense_3/BiasAdd:0 ) output shape: [10, 64, 15]\n",
      "\n",
      "[*] Defining prior decoder...\n",
      "\n",
      "[*] Layer ( prior_decoder/prior_de_dense_1/Relu:0 ) output shape: [10, 64, 500]\n",
      "[*] Layer ( prior_decoder/prior_de_dense_1_dropout/Identity:0 ) output shape: [10, 64, 500]\n",
      "[*] Layer ( prior_decoder/prior_de_dense_2/Relu:0 ) output shape: [10, 64, 500]\n",
      "[*] Layer ( prior_decoder/prior_de_dense_2_dropout/Identity:0 ) output shape: [10, 64, 500]\n",
      "[*] Layer ( prior_decoder/prior_de_H2_batch_norm/batchnorm/add_1:0 ) output shape: [10, 64, 500]\n",
      "[*] Layer ( prior_decoder/prior_de_dense_3/Sigmoid:0 ) output shape: [10, 64, 2352]\n",
      "\n",
      "[*] Defining posterior ...\n",
      "\n",
      "[*] Defining posterior encoder...\n",
      "\n",
      "[*] Layer ( post_encoder/post_en_dense_1/Relu:0 ) output shape: [64, 500]\n",
      "[*] Layer ( post_encoder/post_en_dense_1_dropout/Identity:0 ) output shape: [64, 500]\n",
      "[*] Layer ( post_encoder/post_en_dense_2/Relu:0 ) output shape: [64, 500]\n",
      "[*] Layer ( post_encoder/post_en_dense_2_dropout/Identity:0 ) output shape: [64, 500]\n",
      "[*] Layer ( post_encoder/post_en_H2_batch_norm/batchnorm/add_1:0 ) output shape: [64, 500]\n",
      "[*] Layer ( post_encoder/post_en_dense_3/BiasAdd:0 ) output shape: [64, 15]\n",
      "\n",
      "[*] Defining posterior decoder...\n",
      "\n",
      "[*] Layer ( post_decoder/post_de_dense_1/Relu:0 ) output shape: [64, 500]\n",
      "[*] Layer ( post_decoder/post_de_dense_1_dropout/Identity:0 ) output shape: [64, 500]\n",
      "[*] Layer ( post_decoder/post_de_dense_2/Relu:0 ) output shape: [64, 500]\n",
      "[*] Layer ( post_decoder/post_de_dense_2_dropout/Identity:0 ) output shape: [64, 500]\n",
      "[*] Layer ( post_decoder/post_de_H2_batch_norm/batchnorm/add_1:0 ) output shape: [64, 500]\n",
      "[*] Layer ( post_decoder/post_de_dense_3/Sigmoid:0 ) output shape: [64, 2352]\n",
      "[*] Defining Loss Functions and Optimizer...\n",
      "WARNING:tensorflow:From C:\\ProgramData\\Anaconda34\\envs\\gpu_env\\lib\\site-packages\\tensorflow\\python\\ops\\math_ops.py:3066: to_int32 (from tensorflow.python.ops.math_ops) is deprecated and will be removed in a future version.\n",
      "Instructions for updating:\n",
      "Use tf.cast instead.\n",
      "<graphs.BayesianAE_graph.BayesianAEGraph object at 0x000001C3BE683748>\n",
      "\n",
      "Number of trainable paramters 5746734\n",
      "Model does NOT exist\n",
      "Initializing Variables ...\n",
      "random sample batch ...\n",
      "random sample shape (64, 28, 28, 3)\n",
      "Saving Model Arguments ...\n",
      "\n",
      "Training a model...\n",
      "Model does NOT exist\n",
      "Initializing Variables ...\n",
      "EPOCH:  0\n"
     ]
    },
    {
     "name": "stderr",
     "output_type": "stream",
     "text": [
      "100%|███████████████████████████████████████████████████████████████████████████████▋| 871/875 [01:44<00:00,  7.33it/s]"
     ]
    }
   ],
   "source": [
    "ae.fit(X,y)"
   ]
  },
  {
   "cell_type": "code",
   "execution_count": null,
   "metadata": {},
   "outputs": [],
   "source": [
    "2352*10*64"
   ]
  },
  {
   "cell_type": "code",
   "execution_count": null,
   "metadata": {},
   "outputs": [],
   "source": []
  }
 ],
 "metadata": {
  "kernelspec": {
   "display_name": "Python 3",
   "language": "python",
   "name": "python3"
  },
  "language_info": {
   "codemirror_mode": {
    "name": "ipython",
    "version": 3
   },
   "file_extension": ".py",
   "mimetype": "text/x-python",
   "name": "python",
   "nbconvert_exporter": "python",
   "pygments_lexer": "ipython3",
   "version": "3.6.7"
  }
 },
 "nbformat": 4,
 "nbformat_minor": 2
}
