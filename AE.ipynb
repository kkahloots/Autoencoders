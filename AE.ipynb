{
 "cells": [
  {
   "cell_type": "code",
   "execution_count": 1,
   "metadata": {},
   "outputs": [],
   "source": [
    "import warnings\n",
    "warnings.filterwarnings('ignore')"
   ]
  },
  {
   "cell_type": "markdown",
   "metadata": {},
   "source": [
    "# Prepare the Dataset"
   ]
  },
  {
   "cell_type": "code",
   "execution_count": 2,
   "metadata": {},
   "outputs": [],
   "source": [
    "dataset_name = 'MNIST'"
   ]
  },
  {
   "cell_type": "code",
   "execution_count": 3,
   "metadata": {
    "scrolled": true
   },
   "outputs": [
    {
     "name": "stderr",
     "output_type": "stream",
     "text": [
      "Using TensorFlow backend.\n"
     ]
    },
    {
     "name": "stdout",
     "output_type": "stream",
     "text": [
      "Dataset size (70000, 28, 28)\n"
     ]
    }
   ],
   "source": [
    "import numpy as np\n",
    "from keras.datasets import mnist\n",
    "(X, y), (X_test, y_test) = mnist.load_data()\n",
    "X = np.concatenate((X, X_test))\n",
    "y = np.concatenate((y, y_test))\n",
    "imgs = X\n",
    "del X_test\n",
    "del y_test\n",
    "\n",
    "print('Dataset size {}'.format(X.shape))\n"
   ]
  },
  {
   "cell_type": "markdown",
   "metadata": {},
   "source": [
    "# AE"
   ]
  },
  {
   "cell_type": "code",
   "execution_count": 4,
   "metadata": {},
   "outputs": [],
   "source": [
    "%load_ext autoreload\n",
    "%autoreload 2"
   ]
  },
  {
   "cell_type": "code",
   "execution_count": 5,
   "metadata": {},
   "outputs": [
    {
     "name": "stdout",
     "output_type": "stream",
     "text": [
      "\n",
      "WARNING: The TensorFlow contrib module will not be included in TensorFlow 2.0.\n",
      "For more information, please see:\n",
      "  * https://github.com/tensorflow/community/blob/master/rfcs/20180907-contrib-sunset.md\n",
      "  * https://github.com/tensorflow/addons\n",
      "If you depend on functionality not listed there, please file an issue.\n",
      "\n"
     ]
    }
   ],
   "source": [
    "from utils.constants import Models as models\n",
    "from models.AE import AE"
   ]
  },
  {
   "cell_type": "code",
   "execution_count": 6,
   "metadata": {},
   "outputs": [
    {
     "name": "stdout",
     "output_type": "stream",
     "text": [
      "Unable to load previous configuration ...\n",
      "Saving Model Arguments ...\n"
     ]
    }
   ],
   "source": [
    "ae = AE(model_type=models.AE, dataset_name=dataset_name,hidden_dim=500, plot=True, isConv=False)"
   ]
  },
  {
   "cell_type": "code",
   "execution_count": 7,
   "metadata": {
    "scrolled": true
   },
   "outputs": [
    {
     "name": "stdout",
     "output_type": "stream",
     "text": [
      "\n",
      "Processing data...\n",
      "Scaling dataset ... \n",
      "Creating dask array ... \n",
      "Preparing samples ...\n"
     ]
    },
    {
     "name": "stderr",
     "output_type": "stream",
     "text": [
      "Mixture of types in 'arrays'. Falling back to scikit-learn.\n"
     ]
    },
    {
     "name": "stdout",
     "output_type": "stream",
     "text": [
      "Training dataset shape:  (56000, 28, 28, 3)\n",
      "Validation dataset shape:  (14000, 28, 28, 3)\n",
      "Sample dataset shape:  (200, 28, 28, 3)\n",
      "building AE graph ... \n",
      "WARNING:tensorflow:From C:\\ProgramData\\Anaconda34\\envs\\gpu_env\\lib\\site-packages\\tensorflow\\python\\framework\\op_def_library.py:263: colocate_with (from tensorflow.python.framework.ops) is deprecated and will be removed in a future version.\n",
      "Instructions for updating:\n",
      "Colocations handled automatically by placer.\n",
      "\n",
      "[*] Defining encoder...\n",
      "\n",
      "WARNING:tensorflow:From C:\\Users\\KhalidKahlootBME\\Documents\\projects\\Autoencoders\\networks\\dense_net.py:63: dense (from tensorflow.python.layers.core) is deprecated and will be removed in a future version.\n",
      "Instructions for updating:\n",
      "Use keras.layers.dense instead.\n",
      "[*] Layer ( encoder/en_dense_1/Relu:0 ) output shape: [64, 500]\n",
      "WARNING:tensorflow:From C:\\Users\\KhalidKahlootBME\\Documents\\projects\\Autoencoders\\networks\\dense_net.py:78: dropout (from tensorflow.python.layers.core) is deprecated and will be removed in a future version.\n",
      "Instructions for updating:\n",
      "Use keras.layers.dropout instead.\n",
      "[*] Layer ( encoder/en_dense_1_dropout/Identity:0 ) output shape: [64, 500]\n",
      "[*] Layer ( encoder/en_dense_2/Relu:0 ) output shape: [64, 500]\n",
      "[*] Layer ( encoder/en_dense_2_dropout/Identity:0 ) output shape: [64, 500]\n",
      "WARNING:tensorflow:From C:\\Users\\KhalidKahlootBME\\Documents\\projects\\Autoencoders\\networks\\dense_net.py:69: batch_normalization (from tensorflow.python.layers.normalization) is deprecated and will be removed in a future version.\n",
      "Instructions for updating:\n",
      "Use keras.layers.batch_normalization instead.\n",
      "[*] Layer ( encoder/en_H2_batch_norm/batchnorm/add_1:0 ) output shape: [64, 500]\n",
      "[*] Layer ( encoder/en_dense_3/BiasAdd:0 ) output shape: [64, 15]\n",
      "\n",
      "[*] Defining decoder...\n",
      "\n",
      "[*] Layer ( decoder/de_dense_1/Relu:0 ) output shape: [64, 500]\n",
      "[*] Layer ( decoder/de_dense_1_dropout/Identity:0 ) output shape: [64, 500]\n",
      "[*] Layer ( decoder/de_dense_2/Relu:0 ) output shape: [64, 500]\n",
      "[*] Layer ( decoder/de_dense_2_dropout/Identity:0 ) output shape: [64, 500]\n",
      "[*] Layer ( decoder/de_H2_batch_norm/batchnorm/add_1:0 ) output shape: [64, 500]\n",
      "[*] Layer ( decoder/de_dense_3/Sigmoid:0 ) output shape: [64, 2352]\n",
      "[*] Defining Loss Functions and Optimizer...\n",
      "WARNING:tensorflow:From C:\\ProgramData\\Anaconda34\\envs\\gpu_env\\lib\\site-packages\\tensorflow\\python\\ops\\math_ops.py:3066: to_int32 (from tensorflow.python.ops.math_ops) is deprecated and will be removed in a future version.\n",
      "Instructions for updating:\n",
      "Use tf.cast instead.\n",
      "<graphs.AE_graph.AEGraph object at 0x000001E8304E79B0>\n",
      "\n",
      "Number of trainable paramters 2873367\n",
      "Model does NOT exist\n",
      "Initializing Variables ...\n",
      "random sample batch ...\n",
      "random sample shape (64, 28, 28, 3)\n",
      "Saving Model Arguments ...\n",
      "\n",
      "Training a model...\n",
      "Model does NOT exist\n",
      "Initializing Variables ...\n",
      "EPOCH:  0\n"
     ]
    },
    {
     "name": "stderr",
     "output_type": "stream",
     "text": [
      "100%|████████████████████████████████████████████████████████████████████████████████| 875/875 [00:47<00:00, 18.40it/s]\n",
      "100%|████████████████████████████████████████████████████████████████████████████████| 218/218 [00:06<00:00, 35.71it/s]\n"
     ]
    },
    {
     "name": "stdout",
     "output_type": "stream",
     "text": [
      "TRAIN: \n",
      "AE: 330.0421 | reconstruction: 330.03964 | L2: 2498.35 | \n",
      "EVALUATE: \n",
      "AE: 250.00854 | reconstruction: 250.00551 | L2: 2944.8994 | \n",
      "\n",
      "EPOCH:  1\n"
     ]
    },
    {
     "name": "stderr",
     "output_type": "stream",
     "text": [
      "100%|████████████████████████████████████████████████████████████████████████████████| 875/875 [00:47<00:00, 18.58it/s]\n",
      "100%|████████████████████████████████████████████████████████████████████████████████| 218/218 [00:06<00:00, 35.96it/s]\n"
     ]
    },
    {
     "name": "stdout",
     "output_type": "stream",
     "text": [
      "TRAIN: \n",
      "AE: 238.3422 | reconstruction: 238.33925 | L2: 3279.441 | \n",
      "EVALUATE: \n",
      "AE: 229.96095 | reconstruction: 229.95738 | L2: 3613.939 | \n",
      "\n",
      "Saving model...\n",
      "Model saved\n",
      "Generating latent space ...\n",
      "Scaling dataset ... \n",
      "Creating dask array ... \n",
      "Loading model checkpoint experiments/checkpoint_dir/AE__MNIST_lat15_h500_lay3/-1750 ...\n",
      "\n",
      "WARNING:tensorflow:From C:\\ProgramData\\Anaconda34\\envs\\gpu_env\\lib\\site-packages\\tensorflow\\python\\training\\saver.py:1266: checkpoint_exists (from tensorflow.python.training.checkpoint_management) is deprecated and will be removed in a future version.\n",
      "Instructions for updating:\n",
      "Use standard file APIs to check for files with this prefix.\n",
      "INFO:tensorflow:Restoring parameters from experiments/checkpoint_dir/AE__MNIST_lat15_h500_lay3/-1750\n",
      "Model loaded\n",
      "EPOCHS trained:  1\n"
     ]
    },
    {
     "name": "stderr",
     "output_type": "stream",
     "text": [
      "100%|███████████████████████████████████████████████████████████████████████████████| 875/875 [00:02<00:00, 310.75it/s]\n"
     ]
    },
    {
     "name": "stdout",
     "output_type": "stream",
     "text": [
      "Latent space dimensions: (56000, 2)\n",
      "Plotting latent space ...\n",
      "data size (56000, 2)\n"
     ]
    },
    {
     "name": "stderr",
     "output_type": "stream",
     "text": [
      "100%|██████████████████████████████████████████████████████████████████████████| 56000/56000 [00:10<00:00, 5237.86it/s]\n"
     ]
    },
    {
     "name": "stdout",
     "output_type": "stream",
     "text": [
      "Saving Image experiments/log_dir/AE__MNIST_lat15_h500_lay3/AE__MNIST_lat15_h500_lay3 latent epoch 1.jpg ...\n",
      "latent space dimensions: (56000, 3)\n",
      "Plotting latent space ...\n",
      "data size (56000, 3)\n"
     ]
    },
    {
     "name": "stderr",
     "output_type": "stream",
     "text": [
      "100%|██████████████████████████████████████████████████████████████████████████████████| 10/10 [00:00<00:00, 91.56it/s]\n"
     ]
    },
    {
     "name": "stdout",
     "output_type": "stream",
     "text": [
      "Saving Image experiments/log_dir/AE__MNIST_lat15_h500_lay3/AE__MNIST_lat15_h500_lay3 latent_3d epoch 1.jpg ...\n",
      "Reconstructing samples from Data ...\n",
      "Scaling dataset ... \n",
      "Creating dask array ... \n",
      "Loading model checkpoint experiments/checkpoint_dir/AE__MNIST_lat15_h500_lay3/-1750 ...\n",
      "\n",
      "INFO:tensorflow:Restoring parameters from experiments/checkpoint_dir/AE__MNIST_lat15_h500_lay3/-1750\n",
      "Model loaded\n",
      "EPOCHS trained:  1\n"
     ]
    },
    {
     "name": "stderr",
     "output_type": "stream",
     "text": [
      "4it [00:00, 128.31it/s]                                                                                                \n"
     ]
    },
    {
     "name": "stdout",
     "output_type": "stream",
     "text": [
      "Loading model checkpoint experiments/checkpoint_dir/AE__MNIST_lat15_h500_lay3/-1750 ...\n",
      "\n",
      "INFO:tensorflow:Restoring parameters from experiments/checkpoint_dir/AE__MNIST_lat15_h500_lay3/-1750\n",
      "Model loaded\n",
      "EPOCHS trained:  1\n"
     ]
    },
    {
     "name": "stderr",
     "output_type": "stream",
     "text": [
      "4it [00:00, 182.08it/s]                                                                                                \n"
     ]
    },
    {
     "name": "stdout",
     "output_type": "stream",
     "text": [
      "Saving Image  experiments/log_dir/AE__MNIST_lat15_h500_lay3/AE__MNIST_lat15_h500_lay3 samples reconstruction epoch 1.jpg\n",
      "EPOCH:  2\n"
     ]
    },
    {
     "name": "stderr",
     "output_type": "stream",
     "text": [
      "100%|████████████████████████████████████████████████████████████████████████████████| 875/875 [00:47<00:00, 18.47it/s]\n",
      "100%|████████████████████████████████████████████████████████████████████████████████| 218/218 [00:06<00:00, 34.66it/s]\n"
     ]
    },
    {
     "name": "stdout",
     "output_type": "stream",
     "text": [
      "TRAIN: \n",
      "AE: 225.34238 | reconstruction: 225.33842 | L2: 3940.3438 | \n",
      "EVALUATE: \n",
      "AE: 222.91245 | reconstruction: 222.90814 | L2: 4276.058 | \n",
      "\n",
      "EPOCH:  3\n"
     ]
    },
    {
     "name": "stderr",
     "output_type": "stream",
     "text": [
      "100%|████████████████████████████████████████████████████████████████████████████████| 875/875 [00:46<00:00, 18.82it/s]\n",
      "100%|████████████████████████████████████████████████████████████████████████████████| 218/218 [00:06<00:00, 34.87it/s]\n"
     ]
    },
    {
     "name": "stdout",
     "output_type": "stream",
     "text": [
      "TRAIN: \n",
      "AE: 218.85841 | reconstruction: 218.85367 | L2: 4611.787 | \n",
      "EVALUATE: \n",
      "AE: 218.82762 | reconstruction: 218.8227 | L2: 4963.942 | \n",
      "\n",
      "EPOCH:  4\n"
     ]
    },
    {
     "name": "stderr",
     "output_type": "stream",
     "text": [
      "100%|████████████████████████████████████████████████████████████████████████████████| 875/875 [00:47<00:00, 18.58it/s]\n",
      "100%|████████████████████████████████████████████████████████████████████████████████| 218/218 [00:06<00:00, 35.49it/s]\n"
     ]
    },
    {
     "name": "stdout",
     "output_type": "stream",
     "text": [
      "TRAIN: \n",
      "AE: 214.73622 | reconstruction: 214.73074 | L2: 5322.4507 | \n",
      "EVALUATE: \n",
      "AE: 218.12338 | reconstruction: 218.11763 | L2: 5703.417 | \n",
      "\n",
      "EPOCH:  5\n"
     ]
    },
    {
     "name": "stderr",
     "output_type": "stream",
     "text": [
      "100%|████████████████████████████████████████████████████████████████████████████████| 875/875 [00:47<00:00, 18.47it/s]\n",
      "100%|████████████████████████████████████████████████████████████████████████████████| 218/218 [00:06<00:00, 35.14it/s]\n"
     ]
    },
    {
     "name": "stdout",
     "output_type": "stream",
     "text": [
      "TRAIN: \n",
      "AE: 211.88084 | reconstruction: 211.87486 | L2: 6080.42 | \n",
      "EVALUATE: \n",
      "AE: 215.01317 | reconstruction: 215.00674 | L2: 6482.087 | \n",
      "\n",
      "EPOCH:  6\n"
     ]
    },
    {
     "name": "stderr",
     "output_type": "stream",
     "text": [
      "100%|████████████████████████████████████████████████████████████████████████████████| 875/875 [00:48<00:00, 17.90it/s]\n",
      "100%|████████████████████████████████████████████████████████████████████████████████| 218/218 [00:06<00:00, 33.89it/s]\n"
     ]
    },
    {
     "name": "stdout",
     "output_type": "stream",
     "text": [
      "TRAIN: \n",
      "AE: 209.503 | reconstruction: 209.49619 | L2: 6877.529 | \n",
      "EVALUATE: \n",
      "AE: 213.50845 | reconstruction: 213.50119 | L2: 7300.6245 | \n",
      "\n",
      "EPOCH:  7\n"
     ]
    },
    {
     "name": "stderr",
     "output_type": "stream",
     "text": [
      "100%|████████████████████████████████████████████████████████████████████████████████| 875/875 [00:49<00:00, 17.64it/s]\n",
      "100%|████████████████████████████████████████████████████████████████████████████████| 218/218 [00:06<00:00, 35.10it/s]\n"
     ]
    },
    {
     "name": "stdout",
     "output_type": "stream",
     "text": [
      "TRAIN: \n",
      "AE: 207.61115 | reconstruction: 207.60329 | L2: 7715.372 | \n",
      "EVALUATE: \n",
      "AE: 211.63023 | reconstruction: 211.62201 | L2: 8162.655 | \n",
      "\n",
      "EPOCH:  8\n"
     ]
    },
    {
     "name": "stderr",
     "output_type": "stream",
     "text": [
      "100%|████████████████████████████████████████████████████████████████████████████████| 875/875 [00:48<00:00, 18.20it/s]\n",
      "100%|████████████████████████████████████████████████████████████████████████████████| 218/218 [00:06<00:00, 35.63it/s]\n"
     ]
    },
    {
     "name": "stdout",
     "output_type": "stream",
     "text": [
      "TRAIN: \n",
      "AE: 206.1155 | reconstruction: 206.10695 | L2: 8594.636 | \n",
      "EVALUATE: \n",
      "AE: 210.79443 | reconstruction: 210.78537 | L2: 9056.025 | \n",
      "\n",
      "EPOCH:  9\n"
     ]
    },
    {
     "name": "stderr",
     "output_type": "stream",
     "text": [
      "100%|████████████████████████████████████████████████████████████████████████████████| 875/875 [00:46<00:00, 18.65it/s]\n",
      "100%|████████████████████████████████████████████████████████████████████████████████| 218/218 [00:06<00:00, 34.81it/s]\n"
     ]
    },
    {
     "name": "stdout",
     "output_type": "stream",
     "text": [
      "TRAIN: \n",
      "AE: 204.91177 | reconstruction: 204.90202 | L2: 9507.877 | \n",
      "EVALUATE: \n",
      "AE: 209.9937 | reconstruction: 209.9838 | L2: 9991.402 | \n",
      "\n",
      "EPOCH:  10\n"
     ]
    },
    {
     "name": "stderr",
     "output_type": "stream",
     "text": [
      "100%|████████████████████████████████████████████████████████████████████████████████| 875/875 [00:46<00:00, 18.63it/s]\n",
      "100%|████████████████████████████████████████████████████████████████████████████████| 218/218 [00:06<00:00, 31.33it/s]\n"
     ]
    },
    {
     "name": "stdout",
     "output_type": "stream",
     "text": [
      "TRAIN: \n",
      "AE: 204.03043 | reconstruction: 204.02025 | L2: 10446.987 | \n",
      "EVALUATE: \n",
      "AE: 209.16254 | reconstruction: 209.1515 | L2: 10926.334 | \n",
      "\n",
      "EPOCH:  11\n"
     ]
    },
    {
     "name": "stderr",
     "output_type": "stream",
     "text": [
      "100%|████████████████████████████████████████████████████████████████████████████████| 875/875 [00:46<00:00, 18.74it/s]\n",
      "100%|████████████████████████████████████████████████████████████████████████████████| 218/218 [00:06<00:00, 35.93it/s]\n"
     ]
    },
    {
     "name": "stdout",
     "output_type": "stream",
     "text": [
      "TRAIN: \n",
      "AE: 202.89064 | reconstruction: 202.87932 | L2: 11395.153 | \n",
      "EVALUATE: \n",
      "AE: 208.51329 | reconstruction: 208.50137 | L2: 11882.423 | \n",
      "\n",
      "EPOCH:  12\n"
     ]
    },
    {
     "name": "stderr",
     "output_type": "stream",
     "text": [
      "100%|████████████████████████████████████████████████████████████████████████████████| 875/875 [00:46<00:00, 18.63it/s]\n",
      "100%|████████████████████████████████████████████████████████████████████████████████| 218/218 [00:06<00:00, 35.65it/s]\n"
     ]
    },
    {
     "name": "stdout",
     "output_type": "stream",
     "text": [
      "TRAIN: \n",
      "AE: 201.55847 | reconstruction: 201.54617 | L2: 12368.582 | \n",
      "EVALUATE: \n",
      "AE: 207.9309 | reconstruction: 207.91809 | L2: 12871.248 | \n",
      "\n",
      "EPOCH:  13\n"
     ]
    },
    {
     "name": "stderr",
     "output_type": "stream",
     "text": [
      "100%|████████████████████████████████████████████████████████████████████████████████| 875/875 [00:47<00:00, 18.48it/s]\n",
      "100%|████████████████████████████████████████████████████████████████████████████████| 218/218 [00:06<00:00, 35.09it/s]\n"
     ]
    },
    {
     "name": "stdout",
     "output_type": "stream",
     "text": [
      "TRAIN: \n",
      "AE: 200.36977 | reconstruction: 200.3563 | L2: 13376.911 | \n",
      "EVALUATE: \n",
      "AE: 207.30939 | reconstruction: 207.29536 | L2: 13897.182 | \n",
      "\n",
      "EPOCH:  14\n"
     ]
    },
    {
     "name": "stderr",
     "output_type": "stream",
     "text": [
      "100%|████████████████████████████████████████████████████████████████████████████████| 875/875 [00:47<00:00, 18.29it/s]\n",
      "100%|████████████████████████████████████████████████████████████████████████████████| 218/218 [00:06<00:00, 34.92it/s]\n"
     ]
    },
    {
     "name": "stdout",
     "output_type": "stream",
     "text": [
      "TRAIN: \n",
      "AE: 199.4304 | reconstruction: 199.41612 | L2: 14419.807 | \n",
      "EVALUATE: \n",
      "AE: 207.23424 | reconstruction: 207.21936 | L2: 14964.244 | \n",
      "\n",
      "EPOCH:  15\n"
     ]
    },
    {
     "name": "stderr",
     "output_type": "stream",
     "text": [
      "100%|████████████████████████████████████████████████████████████████████████████████| 875/875 [00:49<00:00, 17.64it/s]\n",
      "100%|████████████████████████████████████████████████████████████████████████████████| 218/218 [00:06<00:00, 33.48it/s]\n"
     ]
    },
    {
     "name": "stdout",
     "output_type": "stream",
     "text": [
      "TRAIN: \n",
      "AE: 198.61674 | reconstruction: 198.60127 | L2: 15510.468 | \n",
      "EVALUATE: \n",
      "AE: 207.40663 | reconstruction: 207.39052 | L2: 16073.561 | \n",
      "\n",
      "total loss Patience count:  1\n",
      "EPOCH:  16\n"
     ]
    },
    {
     "name": "stderr",
     "output_type": "stream",
     "text": [
      "100%|████████████████████████████████████████████████████████████████████████████████| 875/875 [00:48<00:00, 18.09it/s]\n",
      "100%|████████████████████████████████████████████████████████████████████████████████| 218/218 [00:06<00:00, 34.88it/s]\n"
     ]
    },
    {
     "name": "stdout",
     "output_type": "stream",
     "text": [
      "TRAIN: \n",
      "AE: 198.11633 | reconstruction: 198.09973 | L2: 16627.068 | \n",
      "EVALUATE: \n",
      "AE: 207.71677 | reconstruction: 207.69955 | L2: 17203.557 | \n",
      "\n",
      "total loss Patience count:  2\n",
      "EPOCH:  17\n"
     ]
    },
    {
     "name": "stderr",
     "output_type": "stream",
     "text": [
      "100%|████████████████████████████████████████████████████████████████████████████████| 875/875 [00:48<00:00, 17.98it/s]\n",
      "100%|████████████████████████████████████████████████████████████████████████████████| 218/218 [00:06<00:00, 34.90it/s]\n"
     ]
    },
    {
     "name": "stdout",
     "output_type": "stream",
     "text": [
      "TRAIN: \n",
      "AE: 198.07773 | reconstruction: 198.05998 | L2: 17763.318 | \n",
      "EVALUATE: \n",
      "AE: 209.04968 | reconstruction: 209.03134 | L2: 18359.766 | \n",
      "\n",
      "total loss Patience count:  3\n",
      "EPOCH:  18\n"
     ]
    },
    {
     "name": "stderr",
     "output_type": "stream",
     "text": [
      "100%|████████████████████████████████████████████████████████████████████████████████| 875/875 [00:48<00:00, 18.09it/s]\n",
      "100%|████████████████████████████████████████████████████████████████████████████████| 218/218 [00:06<00:00, 34.77it/s]\n"
     ]
    },
    {
     "name": "stdout",
     "output_type": "stream",
     "text": [
      "TRAIN: \n",
      "AE: 199.25244 | reconstruction: 199.2334 | L2: 18919.498 | \n",
      "EVALUATE: \n",
      "AE: 208.43977 | reconstruction: 208.42027 | L2: 19477.812 | \n",
      "\n",
      "total loss Patience count:  4\n",
      "EPOCH:  19\n"
     ]
    },
    {
     "name": "stderr",
     "output_type": "stream",
     "text": [
      "100%|████████████████████████████████████████████████████████████████████████████████| 875/875 [00:47<00:00, 18.25it/s]\n",
      "100%|████████████████████████████████████████████████████████████████████████████████| 218/218 [00:07<00:00, 30.81it/s]\n"
     ]
    },
    {
     "name": "stdout",
     "output_type": "stream",
     "text": [
      "TRAIN: \n",
      "AE: 198.35706 | reconstruction: 198.3368 | L2: 19988.797 | \n",
      "EVALUATE: \n",
      "AE: 207.73409 | reconstruction: 207.71352 | L2: 20533.049 | \n",
      "\n",
      "total loss Patience count:  5\n",
      "EPOCH:  20\n"
     ]
    },
    {
     "name": "stderr",
     "output_type": "stream",
     "text": [
      "100%|████████████████████████████████████████████████████████████████████████████████| 875/875 [00:48<00:00, 17.96it/s]\n",
      "100%|████████████████████████████████████████████████████████████████████████████████| 218/218 [00:06<00:00, 34.08it/s]\n"
     ]
    },
    {
     "name": "stdout",
     "output_type": "stream",
     "text": [
      "TRAIN: \n",
      "AE: 196.97014 | reconstruction: 196.94914 | L2: 21043.398 | \n",
      "EVALUATE: \n",
      "AE: 207.45778 | reconstruction: 207.43625 | L2: 21597.213 | \n",
      "\n",
      "Saving model...\n",
      "Model saved\n",
      "Generating latent space ...\n",
      "Scaling dataset ... \n",
      "Creating dask array ... \n",
      "Loading model checkpoint experiments/checkpoint_dir/AE__MNIST_lat15_h500_lay3/-18375 ...\n",
      "\n",
      "INFO:tensorflow:Restoring parameters from experiments/checkpoint_dir/AE__MNIST_lat15_h500_lay3/-18375\n",
      "Model loaded\n",
      "EPOCHS trained:  20\n"
     ]
    },
    {
     "name": "stderr",
     "output_type": "stream",
     "text": [
      "100%|███████████████████████████████████████████████████████████████████████████████| 875/875 [00:03<00:00, 269.37it/s]\n"
     ]
    },
    {
     "name": "stdout",
     "output_type": "stream",
     "text": [
      "Latent space dimensions: (56000, 2)\n",
      "Plotting latent space ...\n",
      "data size (56000, 2)\n"
     ]
    },
    {
     "name": "stderr",
     "output_type": "stream",
     "text": [
      "100%|██████████████████████████████████████████████████████████████████████████| 56000/56000 [00:11<00:00, 4775.99it/s]\n"
     ]
    },
    {
     "name": "stdout",
     "output_type": "stream",
     "text": [
      "Saving Image experiments/log_dir/AE__MNIST_lat15_h500_lay3/AE__MNIST_lat15_h500_lay3 latent epoch 20.jpg ...\n",
      "latent space dimensions: (56000, 3)\n",
      "Plotting latent space ...\n",
      "data size (56000, 3)\n"
     ]
    },
    {
     "name": "stderr",
     "output_type": "stream",
     "text": [
      "100%|██████████████████████████████████████████████████████████████████████████████████| 10/10 [00:00<00:00, 85.08it/s]\n"
     ]
    },
    {
     "name": "stdout",
     "output_type": "stream",
     "text": [
      "Saving Image experiments/log_dir/AE__MNIST_lat15_h500_lay3/AE__MNIST_lat15_h500_lay3 latent_3d epoch 20.jpg ...\n",
      "Reconstructing samples from Data ...\n",
      "Scaling dataset ... \n",
      "Creating dask array ... \n",
      "Loading model checkpoint experiments/checkpoint_dir/AE__MNIST_lat15_h500_lay3/-18375 ...\n",
      "\n",
      "INFO:tensorflow:Restoring parameters from experiments/checkpoint_dir/AE__MNIST_lat15_h500_lay3/-18375\n",
      "Model loaded\n",
      "EPOCHS trained:  20\n"
     ]
    },
    {
     "name": "stderr",
     "output_type": "stream",
     "text": [
      "4it [00:00, 128.81it/s]                                                                                                \n"
     ]
    },
    {
     "name": "stdout",
     "output_type": "stream",
     "text": [
      "Loading model checkpoint experiments/checkpoint_dir/AE__MNIST_lat15_h500_lay3/-18375 ...\n",
      "\n",
      "INFO:tensorflow:Restoring parameters from experiments/checkpoint_dir/AE__MNIST_lat15_h500_lay3/-18375\n",
      "Model loaded\n",
      "EPOCHS trained:  20\n"
     ]
    },
    {
     "name": "stderr",
     "output_type": "stream",
     "text": [
      "4it [00:00, 154.25it/s]                                                                                                \n"
     ]
    },
    {
     "name": "stdout",
     "output_type": "stream",
     "text": [
      "Saving Image  experiments/log_dir/AE__MNIST_lat15_h500_lay3/AE__MNIST_lat15_h500_lay3 samples reconstruction epoch 20.jpg\n",
      "total loss Patience count:  6\n",
      "EPOCH:  21\n"
     ]
    },
    {
     "name": "stderr",
     "output_type": "stream",
     "text": [
      "100%|████████████████████████████████████████████████████████████████████████████████| 875/875 [00:48<00:00, 18.13it/s]\n",
      "100%|████████████████████████████████████████████████████████████████████████████████| 218/218 [00:06<00:00, 34.28it/s]\n"
     ]
    },
    {
     "name": "stdout",
     "output_type": "stream",
     "text": [
      "TRAIN: \n",
      "AE: 195.77425 | reconstruction: 195.7521 | L2: 22136.809 | \n",
      "EVALUATE: \n",
      "AE: 206.77045 | reconstruction: 206.74774 | L2: 22712.553 | \n",
      "\n",
      "EPOCH:  22\n"
     ]
    },
    {
     "name": "stderr",
     "output_type": "stream",
     "text": [
      "100%|████████████████████████████████████████████████████████████████████████████████| 875/875 [00:47<00:00, 18.47it/s]\n",
      "100%|████████████████████████████████████████████████████████████████████████████████| 218/218 [00:06<00:00, 34.90it/s]\n"
     ]
    },
    {
     "name": "stdout",
     "output_type": "stream",
     "text": [
      "TRAIN: \n",
      "AE: 194.74184 | reconstruction: 194.71852 | L2: 23282.682 | \n",
      "EVALUATE: \n",
      "AE: 206.48723 | reconstruction: 206.46341 | L2: 23889.502 | \n",
      "\n",
      "EPOCH:  23\n"
     ]
    },
    {
     "name": "stderr",
     "output_type": "stream",
     "text": [
      "100%|████████████████████████████████████████████████████████████████████████████████| 875/875 [00:47<00:00, 18.50it/s]\n",
      "100%|████████████████████████████████████████████████████████████████████████████████| 218/218 [00:06<00:00, 35.19it/s]\n"
     ]
    },
    {
     "name": "stdout",
     "output_type": "stream",
     "text": [
      "TRAIN: \n",
      "AE: 194.14778 | reconstruction: 194.12315 | L2: 24477.408 | \n",
      "EVALUATE: \n",
      "AE: 206.15749 | reconstruction: 206.13246 | L2: 25085.488 | \n",
      "\n",
      "EPOCH:  24\n"
     ]
    },
    {
     "name": "stderr",
     "output_type": "stream",
     "text": [
      "100%|████████████████████████████████████████████████████████████████████████████████| 875/875 [00:46<00:00, 18.95it/s]\n",
      "100%|████████████████████████████████████████████████████████████████████████████████| 218/218 [00:07<00:00, 29.09it/s]\n"
     ]
    },
    {
     "name": "stdout",
     "output_type": "stream",
     "text": [
      "TRAIN: \n",
      "AE: 193.8751 | reconstruction: 193.84944 | L2: 25685.035 | \n",
      "EVALUATE: \n",
      "AE: 206.11298 | reconstruction: 206.08664 | L2: 26308.86 | \n",
      "\n",
      "EPOCH:  25\n"
     ]
    },
    {
     "name": "stderr",
     "output_type": "stream",
     "text": [
      "100%|████████████████████████████████████████████████████████████████████████████████| 875/875 [00:46<00:00, 18.91it/s]\n",
      "100%|████████████████████████████████████████████████████████████████████████████████| 218/218 [00:06<00:00, 35.39it/s]\n"
     ]
    },
    {
     "name": "stdout",
     "output_type": "stream",
     "text": [
      "TRAIN: \n",
      "AE: 193.65167 | reconstruction: 193.62473 | L2: 26909.28 | \n",
      "EVALUATE: \n",
      "AE: 206.56395 | reconstruction: 206.53639 | L2: 27533.672 | \n",
      "\n",
      "total loss Patience count:  1\n",
      "EPOCH:  26\n"
     ]
    },
    {
     "name": "stderr",
     "output_type": "stream",
     "text": [
      "100%|████████████████████████████████████████████████████████████████████████████████| 875/875 [00:46<00:00, 18.75it/s]\n",
      "100%|████████████████████████████████████████████████████████████████████████████████| 218/218 [00:06<00:00, 35.04it/s]\n"
     ]
    },
    {
     "name": "stdout",
     "output_type": "stream",
     "text": [
      "TRAIN: \n",
      "AE: 193.7346 | reconstruction: 193.70654 | L2: 28155.596 | \n",
      "EVALUATE: \n",
      "AE: 206.25124 | reconstruction: 206.22241 | L2: 28798.342 | \n",
      "\n",
      "total loss Patience count:  2\n",
      "EPOCH:  27\n"
     ]
    },
    {
     "name": "stderr",
     "output_type": "stream",
     "text": [
      "100%|████████████████████████████████████████████████████████████████████████████████| 875/875 [00:46<00:00, 18.79it/s]\n",
      "100%|████████████████████████████████████████████████████████████████████████████████| 218/218 [00:06<00:00, 35.64it/s]\n"
     ]
    },
    {
     "name": "stdout",
     "output_type": "stream",
     "text": [
      "TRAIN: \n",
      "AE: 194.01234 | reconstruction: 193.98297 | L2: 29412.56 | \n",
      "EVALUATE: \n",
      "AE: 207.45094 | reconstruction: 207.42085 | L2: 30035.848 | \n",
      "\n",
      "total loss Patience count:  3\n",
      "EPOCH:  28\n"
     ]
    },
    {
     "name": "stderr",
     "output_type": "stream",
     "text": [
      "100%|████████████████████████████████████████████████████████████████████████████████| 875/875 [00:47<00:00, 18.48it/s]\n",
      "100%|████████████████████████████████████████████████████████████████████████████████| 218/218 [00:06<00:00, 35.63it/s]\n"
     ]
    },
    {
     "name": "stdout",
     "output_type": "stream",
     "text": [
      "TRAIN: \n",
      "AE: 195.0682 | reconstruction: 195.03758 | L2: 30627.092 | \n",
      "EVALUATE: \n",
      "AE: 207.94469 | reconstruction: 207.91344 | L2: 31256.04 | \n",
      "\n",
      "total loss Patience count:  4\n",
      "EPOCH:  29\n"
     ]
    },
    {
     "name": "stderr",
     "output_type": "stream",
     "text": [
      "100%|████████████████████████████████████████████████████████████████████████████████| 875/875 [00:46<00:00, 18.99it/s]\n",
      "100%|████████████████████████████████████████████████████████████████████████████████| 218/218 [00:06<00:00, 35.55it/s]\n"
     ]
    },
    {
     "name": "stdout",
     "output_type": "stream",
     "text": [
      "TRAIN: \n",
      "AE: 195.25789 | reconstruction: 195.22597 | L2: 31779.877 | \n",
      "EVALUATE: \n",
      "AE: 206.2673 | reconstruction: 206.23502 | L2: 32335.86 | \n",
      "\n",
      "total loss Patience count:  5\n",
      "EPOCH:  30\n"
     ]
    },
    {
     "name": "stderr",
     "output_type": "stream",
     "text": [
      "100%|████████████████████████████████████████████████████████████████████████████████| 875/875 [00:46<00:00, 19.28it/s]\n",
      "100%|████████████████████████████████████████████████████████████████████████████████| 218/218 [00:06<00:00, 35.91it/s]\n"
     ]
    },
    {
     "name": "stdout",
     "output_type": "stream",
     "text": [
      "TRAIN: \n",
      "AE: 193.75691 | reconstruction: 193.72389 | L2: 32843.348 | \n",
      "EVALUATE: \n",
      "AE: 205.87317 | reconstruction: 205.83987 | L2: 33402.008 | \n",
      "\n",
      "EPOCH:  31\n"
     ]
    },
    {
     "name": "stderr",
     "output_type": "stream",
     "text": [
      "100%|████████████████████████████████████████████████████████████████████████████████| 875/875 [00:45<00:00, 19.33it/s]\n",
      "100%|████████████████████████████████████████████████████████████████████████████████| 218/218 [00:06<00:00, 35.87it/s]\n"
     ]
    },
    {
     "name": "stdout",
     "output_type": "stream",
     "text": [
      "TRAIN: \n",
      "AE: 192.29951 | reconstruction: 192.26581 | L2: 33947.28 | \n",
      "EVALUATE: \n",
      "AE: 205.13098 | reconstruction: 205.09644 | L2: 34547.492 | \n",
      "\n",
      "EPOCH:  32\n"
     ]
    },
    {
     "name": "stderr",
     "output_type": "stream",
     "text": [
      "100%|████████████████████████████████████████████████████████████████████████████████| 875/875 [00:46<00:00, 18.69it/s]\n",
      "100%|████████████████████████████████████████████████████████████████████████████████| 218/218 [00:06<00:00, 35.82it/s]\n"
     ]
    },
    {
     "name": "stdout",
     "output_type": "stream",
     "text": [
      "TRAIN: \n",
      "AE: 191.30974 | reconstruction: 191.27458 | L2: 35119.137 | \n",
      "EVALUATE: \n",
      "AE: 205.14665 | reconstruction: 205.11092 | L2: 35732.023 | \n",
      "\n",
      "total loss Patience count:  1\n",
      "EPOCH:  33\n"
     ]
    },
    {
     "name": "stderr",
     "output_type": "stream",
     "text": [
      "100%|████████████████████████████████████████████████████████████████████████████████| 875/875 [00:45<00:00, 19.30it/s]\n",
      "100%|████████████████████████████████████████████████████████████████████████████████| 218/218 [00:06<00:00, 35.90it/s]\n"
     ]
    },
    {
     "name": "stdout",
     "output_type": "stream",
     "text": [
      "TRAIN: \n",
      "AE: 190.82373 | reconstruction: 190.78737 | L2: 36337.777 | \n",
      "EVALUATE: \n",
      "AE: 205.3495 | reconstruction: 205.31267 | L2: 36984.508 | \n",
      "\n",
      "total loss Patience count:  2\n",
      "EPOCH:  34\n"
     ]
    },
    {
     "name": "stderr",
     "output_type": "stream",
     "text": [
      "100%|████████████████████████████████████████████████████████████████████████████████| 875/875 [00:45<00:00, 18.98it/s]\n",
      "100%|████████████████████████████████████████████████████████████████████████████████| 218/218 [00:06<00:00, 35.99it/s]\n"
     ]
    },
    {
     "name": "stdout",
     "output_type": "stream",
     "text": [
      "TRAIN: \n",
      "AE: 190.65617 | reconstruction: 190.6187 | L2: 37598.38 | \n",
      "EVALUATE: \n",
      "AE: 205.5971 | reconstruction: 205.55884 | L2: 38244.4 | \n",
      "\n",
      "total loss Patience count:  3\n",
      "EPOCH:  35\n"
     ]
    },
    {
     "name": "stderr",
     "output_type": "stream",
     "text": [
      "100%|████████████████████████████████████████████████████████████████████████████████| 875/875 [00:45<00:00, 19.40it/s]\n",
      "100%|████████████████████████████████████████████████████████████████████████████████| 218/218 [00:06<00:00, 36.01it/s]\n"
     ]
    },
    {
     "name": "stdout",
     "output_type": "stream",
     "text": [
      "TRAIN: \n",
      "AE: 190.5199 | reconstruction: 190.48102 | L2: 38877.297 | \n",
      "EVALUATE: \n",
      "AE: 205.21193 | reconstruction: 205.17235 | L2: 39554.12 | \n",
      "\n",
      "total loss Patience count:  4\n",
      "EPOCH:  36\n"
     ]
    },
    {
     "name": "stderr",
     "output_type": "stream",
     "text": [
      "100%|████████████████████████████████████████████████████████████████████████████████| 875/875 [00:46<00:00, 19.44it/s]\n",
      "100%|████████████████████████████████████████████████████████████████████████████████| 218/218 [00:06<00:00, 35.89it/s]\n"
     ]
    },
    {
     "name": "stdout",
     "output_type": "stream",
     "text": [
      "TRAIN: \n",
      "AE: 190.41162 | reconstruction: 190.37143 | L2: 40175.7 | \n",
      "EVALUATE: \n",
      "AE: 205.78476 | reconstruction: 205.7438 | L2: 40843.113 | \n",
      "\n",
      "total loss Patience count:  5\n",
      "EPOCH:  37\n"
     ]
    },
    {
     "name": "stderr",
     "output_type": "stream",
     "text": [
      "100%|████████████████████████████████████████████████████████████████████████████████| 875/875 [00:45<00:00, 19.32it/s]\n",
      "100%|████████████████████████████████████████████████████████████████████████████████| 218/218 [00:06<00:00, 35.94it/s]\n"
     ]
    },
    {
     "name": "stdout",
     "output_type": "stream",
     "text": [
      "TRAIN: \n",
      "AE: 190.66922 | reconstruction: 190.62775 | L2: 41474.426 | \n",
      "EVALUATE: \n",
      "AE: 206.5525 | reconstruction: 206.51045 | L2: 42148.977 | \n",
      "\n",
      "total loss Patience count:  6\n",
      "EPOCH:  38\n"
     ]
    },
    {
     "name": "stderr",
     "output_type": "stream",
     "text": [
      "100%|████████████████████████████████████████████████████████████████████████████████| 875/875 [00:45<00:00, 19.34it/s]\n",
      "100%|████████████████████████████████████████████████████████████████████████████████| 218/218 [00:06<00:00, 35.96it/s]\n"
     ]
    },
    {
     "name": "stdout",
     "output_type": "stream",
     "text": [
      "TRAIN: \n",
      "AE: 191.06732 | reconstruction: 191.02463 | L2: 42753.242 | \n",
      "EVALUATE: \n",
      "AE: 206.74661 | reconstruction: 206.70325 | L2: 43404.44 | \n",
      "\n",
      "total loss Patience count:  7\n",
      "EPOCH:  39\n"
     ]
    },
    {
     "name": "stderr",
     "output_type": "stream",
     "text": [
      "100%|████████████████████████████████████████████████████████████████████████████████| 875/875 [00:45<00:00, 19.44it/s]\n",
      "100%|████████████████████████████████████████████████████████████████████████████████| 218/218 [00:06<00:00, 36.04it/s]\n"
     ]
    },
    {
     "name": "stdout",
     "output_type": "stream",
     "text": [
      "TRAIN: \n",
      "AE: 191.78847 | reconstruction: 191.7444 | L2: 44023.41 | \n",
      "EVALUATE: \n",
      "AE: 206.59305 | reconstruction: 206.5484 | L2: 44670.668 | \n",
      "\n",
      "total loss Patience count:  8\n",
      "decaying learning rate ... \n",
      "new learning rate: 9.999999747378752e-05\n",
      "EPOCH:  40\n"
     ]
    },
    {
     "name": "stderr",
     "output_type": "stream",
     "text": [
      "100%|████████████████████████████████████████████████████████████████████████████████| 875/875 [00:46<00:00, 19.48it/s]\n",
      "100%|████████████████████████████████████████████████████████████████████████████████| 218/218 [00:06<00:00, 35.93it/s]\n"
     ]
    },
    {
     "name": "stdout",
     "output_type": "stream",
     "text": [
      "TRAIN: \n",
      "AE: 191.95157 | reconstruction: 191.90637 | L2: 45215.84 | \n",
      "EVALUATE: \n",
      "AE: 208.11726 | reconstruction: 208.07153 | L2: 45789.977 | \n",
      "\n",
      "Saving model...\n",
      "Model saved\n",
      "Generating latent space ...\n",
      "Scaling dataset ... \n",
      "Creating dask array ... \n",
      "Loading model checkpoint experiments/checkpoint_dir/AE__MNIST_lat15_h500_lay3/-35875 ...\n",
      "\n",
      "INFO:tensorflow:Restoring parameters from experiments/checkpoint_dir/AE__MNIST_lat15_h500_lay3/-35875\n",
      "Model loaded\n",
      "EPOCHS trained:  40\n"
     ]
    },
    {
     "name": "stderr",
     "output_type": "stream",
     "text": [
      "100%|███████████████████████████████████████████████████████████████████████████████| 875/875 [00:02<00:00, 321.11it/s]\n"
     ]
    },
    {
     "name": "stdout",
     "output_type": "stream",
     "text": [
      "Latent space dimensions: (56000, 2)\n",
      "Plotting latent space ...\n",
      "data size (56000, 2)\n"
     ]
    },
    {
     "name": "stderr",
     "output_type": "stream",
     "text": [
      "100%|██████████████████████████████████████████████████████████████████████████| 56000/56000 [00:12<00:00, 4419.84it/s]\n"
     ]
    },
    {
     "name": "stdout",
     "output_type": "stream",
     "text": [
      "Saving Image experiments/log_dir/AE__MNIST_lat15_h500_lay3/AE__MNIST_lat15_h500_lay3 latent epoch 40.jpg ...\n",
      "latent space dimensions: (56000, 3)\n",
      "Plotting latent space ...\n",
      "data size (56000, 3)\n"
     ]
    },
    {
     "name": "stderr",
     "output_type": "stream",
     "text": [
      "100%|██████████████████████████████████████████████████████████████████████████████████| 10/10 [00:00<00:00, 94.49it/s]\n"
     ]
    },
    {
     "name": "stdout",
     "output_type": "stream",
     "text": [
      "Saving Image experiments/log_dir/AE__MNIST_lat15_h500_lay3/AE__MNIST_lat15_h500_lay3 latent_3d epoch 40.jpg ...\n",
      "Reconstructing samples from Data ...\n",
      "Scaling dataset ... \n",
      "Creating dask array ... \n",
      "Loading model checkpoint experiments/checkpoint_dir/AE__MNIST_lat15_h500_lay3/-35875 ...\n",
      "\n",
      "INFO:tensorflow:Restoring parameters from experiments/checkpoint_dir/AE__MNIST_lat15_h500_lay3/-35875\n",
      "Model loaded\n",
      "EPOCHS trained:  40\n"
     ]
    },
    {
     "name": "stderr",
     "output_type": "stream",
     "text": [
      "4it [00:00, 123.49it/s]                                                                                                \n"
     ]
    },
    {
     "name": "stdout",
     "output_type": "stream",
     "text": [
      "Loading model checkpoint experiments/checkpoint_dir/AE__MNIST_lat15_h500_lay3/-35875 ...\n",
      "\n",
      "INFO:tensorflow:Restoring parameters from experiments/checkpoint_dir/AE__MNIST_lat15_h500_lay3/-35875\n",
      "Model loaded\n",
      "EPOCHS trained:  40\n"
     ]
    },
    {
     "name": "stderr",
     "output_type": "stream",
     "text": [
      "4it [00:00, 170.03it/s]                                                                                                \n"
     ]
    },
    {
     "name": "stdout",
     "output_type": "stream",
     "text": [
      "Saving Image  experiments/log_dir/AE__MNIST_lat15_h500_lay3/AE__MNIST_lat15_h500_lay3 samples reconstruction epoch 40.jpg\n",
      "total loss Patience count:  9\n",
      "EPOCH:  41\n"
     ]
    },
    {
     "name": "stderr",
     "output_type": "stream",
     "text": [
      "100%|████████████████████████████████████████████████████████████████████████████████| 875/875 [00:45<00:00, 19.35it/s]\n",
      "100%|████████████████████████████████████████████████████████████████████████████████| 218/218 [00:06<00:00, 35.61it/s]\n"
     ]
    },
    {
     "name": "stdout",
     "output_type": "stream",
     "text": [
      "TRAIN: \n",
      "AE: 191.23431 | reconstruction: 191.188 | L2: 46347.566 | \n",
      "EVALUATE: \n",
      "AE: 206.78822 | reconstruction: 206.7413 | L2: 46925.08 | \n",
      "\n",
      "total loss Patience count:  10\n",
      "EPOCH:  42\n"
     ]
    },
    {
     "name": "stderr",
     "output_type": "stream",
     "text": [
      "100%|████████████████████████████████████████████████████████████████████████████████| 875/875 [00:45<00:00, 19.33it/s]\n",
      "100%|████████████████████████████████████████████████████████████████████████████████| 218/218 [00:06<00:00, 35.70it/s]\n"
     ]
    },
    {
     "name": "stdout",
     "output_type": "stream",
     "text": [
      "TRAIN: \n",
      "AE: 190.15393 | reconstruction: 190.10637 | L2: 47501.418 | \n",
      "EVALUATE: \n",
      "AE: 206.5596 | reconstruction: 206.51149 | L2: 48109.625 | \n",
      "\n",
      "total loss Patience count:  11\n",
      "EPOCH:  43\n"
     ]
    },
    {
     "name": "stderr",
     "output_type": "stream",
     "text": [
      "100%|████████████████████████████████████████████████████████████████████████████████| 875/875 [00:45<00:00, 19.43it/s]\n",
      "100%|████████████████████████████████████████████████████████████████████████████████| 218/218 [00:06<00:00, 35.87it/s]\n"
     ]
    },
    {
     "name": "stdout",
     "output_type": "stream",
     "text": [
      "TRAIN: \n",
      "AE: 189.20992 | reconstruction: 189.16125 | L2: 48708.297 | \n",
      "EVALUATE: \n",
      "AE: 206.06519 | reconstruction: 206.01572 | L2: 49339.902 | \n",
      "\n",
      "total loss Patience count:  12\n",
      "EPOCH:  44\n"
     ]
    },
    {
     "name": "stderr",
     "output_type": "stream",
     "text": [
      "100%|████████████████████████████████████████████████████████████████████████████████| 875/875 [00:45<00:00, 19.28it/s]\n",
      "100%|████████████████████████████████████████████████████████████████████████████████| 218/218 [00:06<00:00, 35.95it/s]\n"
     ]
    },
    {
     "name": "stdout",
     "output_type": "stream",
     "text": [
      "TRAIN: \n",
      "AE: 188.58746 | reconstruction: 188.53746 | L2: 49959.184 | \n",
      "EVALUATE: \n",
      "AE: 205.92087 | reconstruction: 205.87035 | L2: 50607.695 | \n",
      "\n",
      "total loss Patience count:  13\n",
      "EPOCH:  45\n"
     ]
    },
    {
     "name": "stderr",
     "output_type": "stream",
     "text": [
      "100%|████████████████████████████████████████████████████████████████████████████████| 875/875 [00:45<00:00, 19.30it/s]\n",
      "100%|████████████████████████████████████████████████████████████████████████████████| 218/218 [00:06<00:00, 35.90it/s]\n"
     ]
    },
    {
     "name": "stdout",
     "output_type": "stream",
     "text": [
      "TRAIN: \n",
      "AE: 188.31242 | reconstruction: 188.26112 | L2: 51235.97 | \n",
      "EVALUATE: \n",
      "AE: 205.6852 | reconstruction: 205.6333 | L2: 51893.92 | \n",
      "\n",
      "total loss Patience count:  14\n",
      "EPOCH:  46\n"
     ]
    },
    {
     "name": "stderr",
     "output_type": "stream",
     "text": [
      "100%|████████████████████████████████████████████████████████████████████████████████| 875/875 [00:47<00:00, 18.56it/s]\n",
      "100%|████████████████████████████████████████████████████████████████████████████████| 218/218 [00:06<00:00, 35.81it/s]\n"
     ]
    },
    {
     "name": "stdout",
     "output_type": "stream",
     "text": [
      "TRAIN: \n",
      "AE: 188.17137 | reconstruction: 188.11871 | L2: 52527.15 | \n",
      "EVALUATE: \n",
      "AE: 206.05191 | reconstruction: 205.9988 | L2: 53182.36 | \n",
      "\n",
      "total loss Patience count:  15\n",
      "EPOCH:  47\n"
     ]
    },
    {
     "name": "stderr",
     "output_type": "stream",
     "text": [
      "100%|████████████████████████████████████████████████████████████████████████████████| 875/875 [00:45<00:00, 19.25it/s]\n",
      "100%|████████████████████████████████████████████████████████████████████████████████| 218/218 [00:06<00:00, 35.96it/s]\n"
     ]
    },
    {
     "name": "stdout",
     "output_type": "stream",
     "text": [
      "TRAIN: \n",
      "AE: 188.08737 | reconstruction: 188.03368 | L2: 53829.453 | \n",
      "EVALUATE: \n",
      "AE: 206.00502 | reconstruction: 205.95053 | L2: 54504.086 | \n",
      "\n",
      "total loss Patience count:  16\n",
      "Early Stopping!\n",
      "Saving model...\n",
      "Model saved\n",
      "Generating latent space ...\n",
      "Scaling dataset ... \n",
      "Creating dask array ... \n",
      "Loading model checkpoint experiments/checkpoint_dir/AE__MNIST_lat15_h500_lay3/-42000 ...\n",
      "\n",
      "INFO:tensorflow:Restoring parameters from experiments/checkpoint_dir/AE__MNIST_lat15_h500_lay3/-42000\n",
      "Model loaded\n",
      "EPOCHS trained:  48\n"
     ]
    },
    {
     "name": "stderr",
     "output_type": "stream",
     "text": [
      "100%|███████████████████████████████████████████████████████████████████████████████| 875/875 [00:02<00:00, 320.75it/s]\n"
     ]
    },
    {
     "name": "stdout",
     "output_type": "stream",
     "text": [
      "Latent space dimensions: (56000, 2)\n",
      "Plotting latent space ...\n",
      "data size (56000, 2)\n"
     ]
    },
    {
     "name": "stderr",
     "output_type": "stream",
     "text": [
      "100%|██████████████████████████████████████████████████████████████████████████| 56000/56000 [00:13<00:00, 4066.89it/s]\n"
     ]
    },
    {
     "name": "stdout",
     "output_type": "stream",
     "text": [
      "Saving Image experiments/log_dir/AE__MNIST_lat15_h500_lay3/AE__MNIST_lat15_h500_lay3 latent epoch 47.jpg ...\n",
      "latent space dimensions: (56000, 3)\n",
      "Plotting latent space ...\n",
      "data size (56000, 3)\n"
     ]
    },
    {
     "name": "stderr",
     "output_type": "stream",
     "text": [
      "100%|██████████████████████████████████████████████████████████████████████████████████| 10/10 [00:00<00:00, 95.01it/s]\n"
     ]
    },
    {
     "name": "stdout",
     "output_type": "stream",
     "text": [
      "Saving Image experiments/log_dir/AE__MNIST_lat15_h500_lay3/AE__MNIST_lat15_h500_lay3 latent_3d epoch 47.jpg ...\n",
      "Reconstructing samples from Data ...\n",
      "Scaling dataset ... \n",
      "Creating dask array ... \n",
      "Loading model checkpoint experiments/checkpoint_dir/AE__MNIST_lat15_h500_lay3/-42000 ...\n",
      "\n",
      "INFO:tensorflow:Restoring parameters from experiments/checkpoint_dir/AE__MNIST_lat15_h500_lay3/-42000\n",
      "Model loaded\n",
      "EPOCHS trained:  48\n"
     ]
    },
    {
     "name": "stderr",
     "output_type": "stream",
     "text": [
      "4it [00:00, 114.52it/s]                                                                                                \n"
     ]
    },
    {
     "name": "stdout",
     "output_type": "stream",
     "text": [
      "Loading model checkpoint experiments/checkpoint_dir/AE__MNIST_lat15_h500_lay3/-42000 ...\n",
      "\n",
      "INFO:tensorflow:Restoring parameters from experiments/checkpoint_dir/AE__MNIST_lat15_h500_lay3/-42000\n",
      "Model loaded\n",
      "EPOCHS trained:  48\n"
     ]
    },
    {
     "name": "stderr",
     "output_type": "stream",
     "text": [
      "4it [00:00, 162.35it/s]                                                                                                \n"
     ]
    },
    {
     "name": "stdout",
     "output_type": "stream",
     "text": [
      "Saving Image  experiments/log_dir/AE__MNIST_lat15_h500_lay3/AE__MNIST_lat15_h500_lay3 samples reconstruction epoch 47.jpg\n"
     ]
    },
    {
     "data": {
      "image/png": "[encoded data removed]",
      "text/plain": [
       "<matplotlib.figure.Figure at 0x1e831535a20>"
      ]
     },
     "metadata": {
      "needs_background": "light"
     },
     "output_type": "display_data"
    }
   ],
   "source": [
    "ae.fit(X,y)"
   ]
  },
  {
   "cell_type": "code",
   "execution_count": null,
   "metadata": {},
   "outputs": [],
   "source": []
  },
  {
   "cell_type": "code",
   "execution_count": null,
   "metadata": {},
   "outputs": [],
   "source": []
  },
  {
   "cell_type": "code",
   "execution_count": null,
   "metadata": {},
   "outputs": [],
   "source": []
  }
 ],
 "metadata": {
  "kernelspec": {
   "display_name": "Python 3",
   "language": "python",
   "name": "python3"
  },
  "language_info": {
   "codemirror_mode": {
    "name": "ipython",
    "version": 3
   },
   "file_extension": ".py",
   "mimetype": "text/x-python",
   "name": "python",
   "nbconvert_exporter": "python",
   "pygments_lexer": "ipython3",
   "version": "3.6.7"
  }
 },
 "nbformat": 4,
 "nbformat_minor": 2
}
