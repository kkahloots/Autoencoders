{
 "cells": [
  {
   "cell_type": "code",
   "execution_count": 1,
   "metadata": {},
   "outputs": [],
   "source": [
    "import warnings\n",
    "warnings.filterwarnings('ignore')"
   ]
  },
  {
   "cell_type": "markdown",
   "metadata": {},
   "source": [
    "# Prepare the Dataset"
   ]
  },
  {
   "cell_type": "code",
   "execution_count": 2,
   "metadata": {},
   "outputs": [],
   "source": [
    "dataset_name = 'MNIST'"
   ]
  },
  {
   "cell_type": "code",
   "execution_count": 3,
   "metadata": {
    "scrolled": true
   },
   "outputs": [
    {
     "name": "stderr",
     "output_type": "stream",
     "text": [
      "Using TensorFlow backend.\n"
     ]
    },
    {
     "name": "stdout",
     "output_type": "stream",
     "text": [
      "Dataset size (70000, 28, 28)\n"
     ]
    }
   ],
   "source": [
    "import numpy as np\n",
    "from keras.datasets import mnist\n",
    "(X, y), (X_test, y_test) = mnist.load_data()\n",
    "X = np.concatenate((X, X_test))\n",
    "y = np.concatenate((y, y_test))\n",
    "imgs = X\n",
    "del X_test\n",
    "del y_test\n",
    "\n",
    "print('Dataset size {}'.format(X.shape))\n"
   ]
  },
  {
   "cell_type": "markdown",
   "metadata": {},
   "source": [
    "# BayesianAE CNN"
   ]
  },
  {
   "cell_type": "code",
   "execution_count": 4,
   "metadata": {},
   "outputs": [],
   "source": [
    "%load_ext autoreload\n",
    "%autoreload 2"
   ]
  },
  {
   "cell_type": "code",
   "execution_count": null,
   "metadata": {},
   "outputs": [
    {
     "name": "stdout",
     "output_type": "stream",
     "text": [
      "\n",
      "WARNING: The TensorFlow contrib module will not be included in TensorFlow 2.0.\n",
      "For more information, please see:\n",
      "  * https://github.com/tensorflow/community/blob/master/rfcs/20180907-contrib-sunset.md\n",
      "  * https://github.com/tensorflow/addons\n",
      "If you depend on functionality not listed there, please file an issue.\n",
      "\n"
     ]
    }
   ],
   "source": [
    "from utils.constants import Models as models\n",
    "from models.AE import AE"
   ]
  },
  {
   "cell_type": "code",
   "execution_count": null,
   "metadata": {},
   "outputs": [
    {
     "name": "stdout",
     "output_type": "stream",
     "text": [
      "Loading previous configuration ...\n",
      "Saving Model Arguments ...\n"
     ]
    }
   ],
   "source": [
    "ae = AE(model_type=models.BayAE, dataset_name=dataset_name,hidden_dim=500, plot=True, isConv=True)"
   ]
  },
  {
   "cell_type": "code",
   "execution_count": null,
   "metadata": {
    "scrolled": true
   },
   "outputs": [
    {
     "name": "stdout",
     "output_type": "stream",
     "text": [
      "\n",
      "Processing data...\n",
      "Scaling dataset ... \n",
      "Creating dask array ... \n",
      "Preparing samples ...\n"
     ]
    },
    {
     "name": "stderr",
     "output_type": "stream",
     "text": [
      "Mixture of types in 'arrays'. Falling back to scikit-learn.\n"
     ]
    },
    {
     "name": "stdout",
     "output_type": "stream",
     "text": [
      "Training dataset shape:  (56000, 28, 28, 3)\n",
      "Validation dataset shape:  (14000, 28, 28, 3)\n",
      "Sample dataset shape:  (200, 28, 28, 3)\n",
      "building BayAE graph ... \n",
      "WARNING:tensorflow:From C:\\ProgramData\\Anaconda34\\envs\\gpu_env\\lib\\site-packages\\tensorflow\\python\\framework\\op_def_library.py:263: colocate_with (from tensorflow.python.framework.ops) is deprecated and will be removed in a future version.\n",
      "Instructions for updating:\n",
      "Colocations handled automatically by placer.\n",
      "\n",
      "[*] Defining sample from X...\n",
      "\n",
      "[*] sample shape (640, 28, 28, 3)\n",
      "\n",
      "[*] Defining prior ...\n",
      "\n",
      "[*] Defining prior encoder...\n",
      "WARNING:tensorflow:From C:\\Users\\KhalidKahlootBME\\Documents\\projects\\Autoencoders\\networks\\conv_net.py:41: conv2d (from tensorflow.python.layers.convolutional) is deprecated and will be removed in a future version.\n",
      "Instructions for updating:\n",
      "Use keras.layers.conv2d instead.\n",
      "[*] Layer ( prior_encoder/prior_en__conv_1/Relu:0 ) output shape: [640, 14, 14, 32]\n",
      "WARNING:tensorflow:From C:\\Users\\KhalidKahlootBME\\Documents\\projects\\Autoencoders\\networks\\conv_net.py:82: batch_normalization (from tensorflow.python.layers.normalization) is deprecated and will be removed in a future version.\n",
      "Instructions for updating:\n",
      "Use keras.layers.batch_normalization instead.\n",
      "[*] Layer ( prior_encoder/prior_en__conv_2/Relu:0 ) output shape: [640, 7, 7, 32]\n",
      "[*] Layer ( prior_encoder/prior_en__conv_3/Relu:0 ) output shape: [640, 4, 4, 32]\n",
      "[*] Layer ( prior_encoder/prior_en__conv_4/Relu:0 ) output shape: [640, 2, 2, 32]\n",
      "[*] Layer ( prior_encoder/prior_en__conv_5/Relu:0 ) output shape: [640, 1, 1, 32]\n",
      "WARNING:tensorflow:From C:\\Users\\KhalidKahlootBME\\Documents\\projects\\Autoencoders\\networks\\conv_net.py:84: flatten (from tensorflow.python.layers.core) is deprecated and will be removed in a future version.\n",
      "Instructions for updating:\n",
      "Use keras.layers.flatten instead.\n",
      "\n",
      "WARNING:tensorflow:From C:\\Users\\KhalidKahlootBME\\Documents\\projects\\Autoencoders\\networks\\dense_net.py:63: dense (from tensorflow.python.layers.core) is deprecated and will be removed in a future version.\n",
      "Instructions for updating:\n",
      "Use keras.layers.dense instead.\n",
      "[*] Layer ( prior_encoder/prior_en_dense_1/Relu:0 ) output shape: [640, 500]\n",
      "WARNING:tensorflow:From C:\\Users\\KhalidKahlootBME\\Documents\\projects\\Autoencoders\\networks\\dense_net.py:78: dropout (from tensorflow.python.layers.core) is deprecated and will be removed in a future version.\n",
      "Instructions for updating:\n",
      "Use keras.layers.dropout instead.\n",
      "[*] Layer ( prior_encoder/prior_en_dense_1_dropout/Identity:0 ) output shape: [640, 500]\n",
      "[*] Layer ( prior_encoder/prior_en_dense_2/Relu:0 ) output shape: [640, 500]\n",
      "[*] Layer ( prior_encoder/prior_en_dense_2_dropout/Identity:0 ) output shape: [640, 500]\n",
      "[*] Layer ( prior_encoder/prior_en_H2_batch_norm/batchnorm/add_1:0 ) output shape: [640, 500]\n",
      "[*] Layer ( prior_encoder/prior_en_dense_3/BiasAdd:0 ) output shape: [640, 15]\n",
      "\n",
      "[*] Defining prior decoder...\n",
      "\n",
      "[*] Layer ( prior_decoder/prior_de_dense_1/Relu:0 ) output shape: [640, 45]\n",
      "[*] Layer ( prior_decoder/prior_de_dense_1_dropout/Identity:0 ) output shape: [640, 45]\n",
      "[*] Layer ( prior_decoder/prior_de_dense_2/Relu:0 ) output shape: [640, 45]\n",
      "[*] Layer ( prior_decoder/prior_de_dense_2_dropout/Identity:0 ) output shape: [640, 45]\n",
      "[*] Layer ( prior_decoder/prior_de_H2_batch_norm/batchnorm/add_1:0 ) output shape: [640, 45]\n",
      "[*] Layer ( prior_decoder/prior_de_dense_3/Relu:0 ) output shape: [640, 3136]\n",
      "WARNING:tensorflow:From C:\\Users\\KhalidKahlootBME\\Documents\\projects\\Autoencoders\\networks\\deconv_net.py:41: conv2d_transpose (from tensorflow.python.layers.convolutional) is deprecated and will be removed in a future version.\n",
      "Instructions for updating:\n",
      "Use keras.layers.conv2d_transpose instead.\n",
      "[*] Layer ( prior_decoder/prior_de__prior_de__deconv_1/Relu:0 ) output shape: [640, 14, 14, 64]\n",
      "[*] Layer ( prior_decoder/prior_de__prior_de__deconv_2/Relu:0 ) output shape: [640, 28, 28, 32]\n",
      "[*] Layer ( prior_decoder/prior_de__prior_de__deconv_3/Relu:0 ) output shape: [640, 28, 28, 3]\n",
      "[*] Layer ( prior_decoder/prior_de__prior_de__deconv_4/Relu:0 ) output shape: [640, 28, 28, 3]\n",
      "[*] Layer ( prior_decoder/prior_de__prior_de__deconv_5/Relu:0 ) output shape: [640, 28, 28, 3]\n",
      "[*] Layer ( prior_decoder/prior_de__prior_de__deconv_6/Sigmoid:0 ) output shape: [640, 28, 28, 3]\n",
      "\n",
      "[*] sample reconstruction shape (10, 64, 2352)\n",
      "\n",
      "[*] Defining posterior ...\n",
      "\n",
      "[*] Defining posterior encoder...\n",
      "[*] Layer ( post_encoder/post_en__conv_1/Relu:0 ) output shape: [64, 14, 14, 32]\n",
      "[*] Layer ( post_encoder/post_en__conv_2/Relu:0 ) output shape: [64, 7, 7, 32]\n",
      "[*] Layer ( post_encoder/post_en__conv_3/Relu:0 ) output shape: [64, 4, 4, 32]\n",
      "[*] Layer ( post_encoder/post_en__conv_4/Relu:0 ) output shape: [64, 2, 2, 32]\n",
      "[*] Layer ( post_encoder/post_en__conv_5/Relu:0 ) output shape: [64, 1, 1, 32]\n",
      "\n",
      "[*] Layer ( post_encoder/post_en_dense_1/Relu:0 ) output shape: [64, 500]\n",
      "[*] Layer ( post_encoder/post_en_dense_1_dropout/Identity:0 ) output shape: [64, 500]\n",
      "[*] Layer ( post_encoder/post_en_dense_2/Relu:0 ) output shape: [64, 500]\n",
      "[*] Layer ( post_encoder/post_en_dense_2_dropout/Identity:0 ) output shape: [64, 500]\n",
      "[*] Layer ( post_encoder/post_en_H2_batch_norm/batchnorm/add_1:0 ) output shape: [64, 500]\n",
      "[*] Layer ( post_encoder/post_en_dense_3/BiasAdd:0 ) output shape: [64, 15]\n",
      "\n",
      "[*] Defining posterior decoder...\n",
      "\n",
      "[*] Layer ( post_decoder/post_de_dense_1/Relu:0 ) output shape: [64, 45]\n",
      "[*] Layer ( post_decoder/post_de_dense_1_dropout/Identity:0 ) output shape: [64, 45]\n",
      "[*] Layer ( post_decoder/post_de_dense_2/Relu:0 ) output shape: [64, 45]\n",
      "[*] Layer ( post_decoder/post_de_dense_2_dropout/Identity:0 ) output shape: [64, 45]\n",
      "[*] Layer ( post_decoder/post_de_H2_batch_norm/batchnorm/add_1:0 ) output shape: [64, 45]\n",
      "[*] Layer ( post_decoder/post_de_dense_3/Relu:0 ) output shape: [64, 3136]\n",
      "[*] Layer ( post_decoder/post_de__post_de__deconv_1/Relu:0 ) output shape: [64, 14, 14, 64]\n",
      "[*] Layer ( post_decoder/post_de__post_de__deconv_2/Relu:0 ) output shape: [64, 28, 28, 32]\n",
      "[*] Layer ( post_decoder/post_de__post_de__deconv_3/Relu:0 ) output shape: [64, 28, 28, 3]\n",
      "[*] Layer ( post_decoder/post_de__post_de__deconv_4/Relu:0 ) output shape: [64, 28, 28, 3]\n",
      "[*] Layer ( post_decoder/post_de__post_de__deconv_5/Relu:0 ) output shape: [64, 28, 28, 3]\n",
      "[*] Layer ( post_decoder/post_de__post_de__deconv_6/Sigmoid:0 ) output shape: [64, 28, 28, 3]\n",
      "[*] Defining Loss Functions and Optimizer...\n",
      "self.post_mean (64, 15)\n",
      "self.prior_mean (640, 15)\n",
      "self.post_var (64, 15)\n",
      "self.prior_var (640, 15)\n",
      "WARNING:tensorflow:From C:\\ProgramData\\Anaconda34\\envs\\gpu_env\\lib\\site-packages\\tensorflow\\python\\ops\\math_ops.py:3066: to_int32 (from tensorflow.python.ops.math_ops) is deprecated and will be removed in a future version.\n",
      "Instructions for updating:\n",
      "Use tf.cast instead.\n",
      "<graphs.BayesianAE_graph.BayesianAEGraph object at 0x000001B0C5925240>\n",
      "\n",
      "Number of trainable paramters 1181586\n",
      "Model does NOT exist\n",
      "Initializing Variables ...\n",
      "random sample batch ...\n",
      "random sample shape (64, 28, 28, 3)\n",
      "Saving Model Arguments ...\n",
      "\n",
      "Training a model...\n",
      "Model does NOT exist\n",
      "Initializing Variables ...\n",
      "EPOCH:  0\n"
     ]
    },
    {
     "name": "stderr",
     "output_type": "stream",
     "text": [
      " 25%|███████████████████▋                                                            | 216/875 [04:54<15:43,  1.43s/it]"
     ]
    }
   ],
   "source": [
    "ae.fit(X,y)"
   ]
  },
  {
   "cell_type": "code",
   "execution_count": null,
   "metadata": {},
   "outputs": [],
   "source": [
    "from utils.plots import plot_samples, merge\n",
    "from skimage.transform import resize\n",
    "import matplotlib.pyplot as plt"
   ]
  },
  {
   "cell_type": "code",
   "execution_count": null,
   "metadata": {},
   "outputs": [],
   "source": [
    "for _ in range(5):\n",
    "    samples = ae.reconst_samples_out_data()\n",
    "    scale = 10\n",
    "    im = merge(samples, (10,10))\n",
    "    fig_width = int(im.shape[0] * scale)\n",
    "    fig_height = int(im.shape[1] * scale)\n",
    "    im = resize(im, (fig_width, fig_height), anti_aliasing=True)\n",
    "    plt.figure(dpi=150)\n",
    "    plt.imshow(im)\n",
    "    plt.axis('off')"
   ]
  },
  {
   "cell_type": "code",
   "execution_count": null,
   "metadata": {},
   "outputs": [],
   "source": []
  }
 ],
 "metadata": {
  "kernelspec": {
   "display_name": "Python 3",
   "language": "python",
   "name": "python3"
  },
  "language_info": {
   "codemirror_mode": {
    "name": "ipython",
    "version": 3
   },
   "file_extension": ".py",
   "mimetype": "text/x-python",
   "name": "python",
   "nbconvert_exporter": "python",
   "pygments_lexer": "ipython3",
   "version": "3.6.7"
  }
 },
 "nbformat": 4,
 "nbformat_minor": 2
}
