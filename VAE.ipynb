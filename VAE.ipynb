{
 "cells": [
  {
   "cell_type": "code",
   "execution_count": 1,
   "metadata": {},
   "outputs": [],
   "source": [
    "import warnings\n",
    "warnings.filterwarnings('ignore')"
   ]
  },
  {
   "cell_type": "markdown",
   "metadata": {},
   "source": [
    "# Prepare the Dataset"
   ]
  },
  {
   "cell_type": "code",
   "execution_count": 2,
   "metadata": {},
   "outputs": [],
   "source": [
    "dataset_name = 'MNIST'"
   ]
  },
  {
   "cell_type": "code",
   "execution_count": 3,
   "metadata": {
    "scrolled": true
   },
   "outputs": [
    {
     "name": "stderr",
     "output_type": "stream",
     "text": [
      "Using TensorFlow backend.\n"
     ]
    },
    {
     "name": "stdout",
     "output_type": "stream",
     "text": [
      "Dataset size (70000, 28, 28)\n"
     ]
    }
   ],
   "source": [
    "import numpy as np\n",
    "from keras.datasets import mnist\n",
    "(X, y), (X_test, y_test) = mnist.load_data()\n",
    "X = np.concatenate((X, X_test))\n",
    "y = np.concatenate((y, y_test))\n",
    "imgs = X\n",
    "del X_test\n",
    "del y_test\n",
    "\n",
    "print('Dataset size {}'.format(X.shape))\n"
   ]
  },
  {
   "cell_type": "markdown",
   "metadata": {},
   "source": [
    "# VAE"
   ]
  },
  {
   "cell_type": "code",
   "execution_count": 4,
   "metadata": {},
   "outputs": [],
   "source": [
    "%load_ext autoreload\n",
    "%autoreload 2"
   ]
  },
  {
   "cell_type": "code",
   "execution_count": 5,
   "metadata": {},
   "outputs": [
    {
     "name": "stdout",
     "output_type": "stream",
     "text": [
      "\n",
      "WARNING: The TensorFlow contrib module will not be included in TensorFlow 2.0.\n",
      "For more information, please see:\n",
      "  * https://github.com/tensorflow/community/blob/master/rfcs/20180907-contrib-sunset.md\n",
      "  * https://github.com/tensorflow/addons\n",
      "If you depend on functionality not listed there, please file an issue.\n",
      "\n"
     ]
    }
   ],
   "source": [
    "from utils.constants import Models as models\n",
    "from models.AE import AE"
   ]
  },
  {
   "cell_type": "code",
   "execution_count": 6,
   "metadata": {},
   "outputs": [
    {
     "name": "stdout",
     "output_type": "stream",
     "text": [
      "Unable to load previous configuration ...\n",
      "Saving Model Arguments ...\n"
     ]
    }
   ],
   "source": [
    "ae = AE(model_type=models.VAE, dataset_name=dataset_name,hidden_dim=500, plot=True, isConv=False)"
   ]
  },
  {
   "cell_type": "code",
   "execution_count": 7,
   "metadata": {
    "scrolled": true
   },
   "outputs": [
    {
     "name": "stdout",
     "output_type": "stream",
     "text": [
      "\n",
      "Processing data...\n",
      "Scaling dataset ... \n",
      "Creating dask array ... \n",
      "Preparing samples ...\n"
     ]
    },
    {
     "name": "stderr",
     "output_type": "stream",
     "text": [
      "Mixture of types in 'arrays'. Falling back to scikit-learn.\n"
     ]
    },
    {
     "name": "stdout",
     "output_type": "stream",
     "text": [
      "Training dataset shape:  (56000, 28, 28, 3)\n",
      "Validation dataset shape:  (14000, 28, 28, 3)\n",
      "Sample dataset shape:  (200, 28, 28, 3)\n",
      "building VAE graph ... \n",
      "WARNING:tensorflow:From C:\\ProgramData\\Anaconda34\\envs\\gpu_env\\lib\\site-packages\\tensorflow\\python\\framework\\op_def_library.py:263: colocate_with (from tensorflow.python.framework.ops) is deprecated and will be removed in a future version.\n",
      "Instructions for updating:\n",
      "Colocations handled automatically by placer.\n",
      "\n",
      "[*] Defining encoders...\n",
      "\n",
      "WARNING:tensorflow:From C:\\Users\\KhalidKahlootBME\\Documents\\projects\\Autoencoders\\networks\\dense_net.py:63: dense (from tensorflow.python.layers.core) is deprecated and will be removed in a future version.\n",
      "Instructions for updating:\n",
      "Use keras.layers.dense instead.\n",
      "[*] Layer ( encoder_mean/enmean_dense_1/Relu:0 ) output shape: [64, 500]\n",
      "WARNING:tensorflow:From C:\\Users\\KhalidKahlootBME\\Documents\\projects\\Autoencoders\\networks\\dense_net.py:78: dropout (from tensorflow.python.layers.core) is deprecated and will be removed in a future version.\n",
      "Instructions for updating:\n",
      "Use keras.layers.dropout instead.\n",
      "[*] Layer ( encoder_mean/enmean_dense_1_dropout/Identity:0 ) output shape: [64, 500]\n",
      "[*] Layer ( encoder_mean/enmean_dense_2/Relu:0 ) output shape: [64, 500]\n",
      "[*] Layer ( encoder_mean/enmean_dense_2_dropout/Identity:0 ) output shape: [64, 500]\n",
      "WARNING:tensorflow:From C:\\Users\\KhalidKahlootBME\\Documents\\projects\\Autoencoders\\networks\\dense_net.py:69: batch_normalization (from tensorflow.python.layers.normalization) is deprecated and will be removed in a future version.\n",
      "Instructions for updating:\n",
      "Use keras.layers.batch_normalization instead.\n",
      "[*] Layer ( encoder_mean/enmean_H2_batch_norm/batchnorm/add_1:0 ) output shape: [64, 500]\n",
      "[*] Layer ( encoder_mean/enmean_dense_3/BiasAdd:0 ) output shape: [64, 15]\n",
      "\n",
      "[*] Layer ( encoder_mean/envar_dense_1/Relu:0 ) output shape: [64, 500]\n",
      "[*] Layer ( encoder_mean/envar_dense_1_dropout/Identity:0 ) output shape: [64, 500]\n",
      "[*] Layer ( encoder_mean/envar_dense_2/Relu:0 ) output shape: [64, 500]\n",
      "[*] Layer ( encoder_mean/envar_dense_2_dropout/Identity:0 ) output shape: [64, 500]\n",
      "[*] Layer ( encoder_mean/envar_H2_batch_norm/batchnorm/add_1:0 ) output shape: [64, 500]\n",
      "[*] Layer ( encoder_mean/envar_dense_3/Softplus:0 ) output shape: [64, 15]\n",
      "\n",
      "[*] Reparameterization trick...\n",
      "\n",
      "[*] Defining decoder...\n",
      "\n",
      "[*] Layer ( decoder_mean/de_dense_1/Relu:0 ) output shape: [64, 500]\n",
      "[*] Layer ( decoder_mean/de_dense_1_dropout/Identity:0 ) output shape: [64, 500]\n",
      "[*] Layer ( decoder_mean/de_dense_2/Relu:0 ) output shape: [64, 500]\n",
      "[*] Layer ( decoder_mean/de_dense_2_dropout/Identity:0 ) output shape: [64, 500]\n",
      "[*] Layer ( decoder_mean/de_H2_batch_norm/batchnorm/add_1:0 ) output shape: [64, 500]\n",
      "[*] Layer ( decoder_mean/de_dense_3/Sigmoid:0 ) output shape: [64, 2352]\n",
      "[*] Defining Loss Functions and Optimizer...\n",
      "WARNING:tensorflow:From C:\\ProgramData\\Anaconda34\\envs\\gpu_env\\lib\\site-packages\\tensorflow\\python\\ops\\math_ops.py:3066: to_int32 (from tensorflow.python.ops.math_ops) is deprecated and will be removed in a future version.\n",
      "Instructions for updating:\n",
      "Use tf.cast instead.\n",
      "<graphs.VAE_graph.VAEGraph object at 0x000001D918264A90>\n",
      "\n",
      "Number of trainable paramters 4308882\n",
      "Model does NOT exist\n",
      "Initializing Variables ...\n",
      "random sample batch ...\n",
      "random sample shape (64, 28, 28, 3)\n",
      "Saving Model Arguments ...\n",
      "\n",
      "Training a model...\n",
      "Model does NOT exist\n",
      "Initializing Variables ...\n",
      "EPOCH:  0\n"
     ]
    },
    {
     "name": "stderr",
     "output_type": "stream",
     "text": [
      "100%|████████████████████████████████████████████████████████████████████████████████| 875/875 [00:51<00:00, 17.37it/s]\n",
      "100%|████████████████████████████████████████████████████████████████████████████████| 218/218 [00:06<00:00, 34.73it/s]\n"
     ]
    },
    {
     "name": "stdout",
     "output_type": "stream",
     "text": [
      "TRAIN: \n",
      "VAE: 406.26273 | AE: 374.32803 | reconstruction: 374.32523 | L2: 3255.3796 | \n",
      "EVALUATE: \n",
      "VAE: 325.22464 | AE: 283.57416 | reconstruction: 283.57047 | L2: 3730.6404 | \n",
      "\n",
      "EPOCH:  1\n"
     ]
    },
    {
     "name": "stderr",
     "output_type": "stream",
     "text": [
      "100%|████████████████████████████████████████████████████████████████████████████████| 875/875 [00:51<00:00, 17.02it/s]\n",
      "100%|████████████████████████████████████████████████████████████████████████████████| 218/218 [00:06<00:00, 34.48it/s]\n"
     ]
    },
    {
     "name": "stdout",
     "output_type": "stream",
     "text": [
      "TRAIN: \n",
      "VAE: 312.1803 | AE: 268.8156 | reconstruction: 268.81158 | L2: 4101.0557 | \n",
      "EVALUATE: \n",
      "VAE: 302.0606 | AE: 257.57788 | reconstruction: 257.57346 | L2: 4460.5044 | \n",
      "\n",
      "Saving model...\n",
      "Model saved\n",
      "Generating latent space ...\n",
      "Scaling dataset ... \n",
      "Creating dask array ... \n",
      "Loading model checkpoint experiments/checkpoint_dir/VAE__MNIST_lat15_h500_lay3/-1750 ...\n",
      "\n",
      "WARNING:tensorflow:From C:\\ProgramData\\Anaconda34\\envs\\gpu_env\\lib\\site-packages\\tensorflow\\python\\training\\saver.py:1266: checkpoint_exists (from tensorflow.python.training.checkpoint_management) is deprecated and will be removed in a future version.\n",
      "Instructions for updating:\n",
      "Use standard file APIs to check for files with this prefix.\n",
      "INFO:tensorflow:Restoring parameters from experiments/checkpoint_dir/VAE__MNIST_lat15_h500_lay3/-1750\n",
      "Model loaded\n",
      "EPOCHS trained:  1\n"
     ]
    },
    {
     "name": "stderr",
     "output_type": "stream",
     "text": [
      "100%|███████████████████████████████████████████████████████████████████████████████| 875/875 [00:03<00:00, 235.85it/s]\n"
     ]
    },
    {
     "name": "stdout",
     "output_type": "stream",
     "text": [
      "Latent space dimensions: (56000, 2)\n",
      "Plotting latent space ...\n",
      "data size (56000, 2)\n"
     ]
    },
    {
     "name": "stderr",
     "output_type": "stream",
     "text": [
      "100%|██████████████████████████████████████████████████████████████████████████| 56000/56000 [00:10<00:00, 5283.27it/s]\n"
     ]
    },
    {
     "name": "stdout",
     "output_type": "stream",
     "text": [
      "Saving Image experiments/log_dir/VAE__MNIST_lat15_h500_lay3/VAE__MNIST_lat15_h500_lay3 latent epoch 1.jpg ...\n",
      "latent space dimensions: (56000, 3)\n",
      "Plotting latent space ...\n",
      "data size (56000, 3)\n"
     ]
    },
    {
     "name": "stderr",
     "output_type": "stream",
     "text": [
      "100%|██████████████████████████████████████████████████████████████████████████████████| 10/10 [00:00<00:00, 88.71it/s]\n"
     ]
    },
    {
     "name": "stdout",
     "output_type": "stream",
     "text": [
      "Saving Image experiments/log_dir/VAE__MNIST_lat15_h500_lay3/VAE__MNIST_lat15_h500_lay3 latent_3d epoch 1.jpg ...\n",
      "Reconstructing samples from Data ...\n",
      "Scaling dataset ... \n",
      "Creating dask array ... \n",
      "Loading model checkpoint experiments/checkpoint_dir/VAE__MNIST_lat15_h500_lay3/-1750 ...\n",
      "\n",
      "INFO:tensorflow:Restoring parameters from experiments/checkpoint_dir/VAE__MNIST_lat15_h500_lay3/-1750\n",
      "Model loaded\n",
      "EPOCHS trained:  1\n"
     ]
    },
    {
     "name": "stderr",
     "output_type": "stream",
     "text": [
      "4it [00:00, 88.50it/s]                                                                                                 \n"
     ]
    },
    {
     "name": "stdout",
     "output_type": "stream",
     "text": [
      "Loading model checkpoint experiments/checkpoint_dir/VAE__MNIST_lat15_h500_lay3/-1750 ...\n",
      "\n",
      "INFO:tensorflow:Restoring parameters from experiments/checkpoint_dir/VAE__MNIST_lat15_h500_lay3/-1750\n",
      "Model loaded\n",
      "EPOCHS trained:  1\n"
     ]
    },
    {
     "name": "stderr",
     "output_type": "stream",
     "text": [
      "4it [00:00, 174.38it/s]                                                                                                \n"
     ]
    },
    {
     "name": "stdout",
     "output_type": "stream",
     "text": [
      "Saving Image  experiments/log_dir/VAE__MNIST_lat15_h500_lay3/VAE__MNIST_lat15_h500_lay3 samples reconstruction epoch 1.jpg\n",
      "EPOCH:  2\n"
     ]
    },
    {
     "name": "stderr",
     "output_type": "stream",
     "text": [
      "100%|████████████████████████████████████████████████████████████████████████████████| 875/875 [00:51<00:00, 17.02it/s]\n",
      "100%|████████████████████████████████████████████████████████████████████████████████| 218/218 [00:06<00:00, 33.94it/s]\n"
     ]
    },
    {
     "name": "stdout",
     "output_type": "stream",
     "text": [
      "TRAIN: \n",
      "VAE: 298.21127 | AE: 252.96478 | reconstruction: 252.96013 | L2: 4811.684 | \n",
      "EVALUATE: \n",
      "VAE: 295.44498 | AE: 250.39508 | reconstruction: 250.3899 | L2: 5169.497 | \n",
      "\n",
      "EPOCH:  3\n"
     ]
    },
    {
     "name": "stderr",
     "output_type": "stream",
     "text": [
      "100%|████████████████████████████████████████████████████████████████████████████████| 875/875 [00:51<00:00, 17.13it/s]\n",
      "100%|████████████████████████████████████████████████████████████████████████████████| 218/218 [00:06<00:00, 34.73it/s]\n"
     ]
    },
    {
     "name": "stdout",
     "output_type": "stream",
     "text": [
      "TRAIN: \n",
      "VAE: 291.50937 | AE: 245.52335 | reconstruction: 245.51772 | L2: 5529.725 | \n",
      "EVALUATE: \n",
      "VAE: 290.289 | AE: 244.35909 | reconstruction: 244.35321 | L2: 5904.6665 | \n",
      "\n",
      "EPOCH:  4\n"
     ]
    },
    {
     "name": "stderr",
     "output_type": "stream",
     "text": [
      "100%|████████████████████████████████████████████████████████████████████████████████| 875/875 [00:51<00:00, 16.99it/s]\n",
      "100%|████████████████████████████████████████████████████████████████████████████████| 218/218 [00:06<00:00, 34.51it/s]\n"
     ]
    },
    {
     "name": "stdout",
     "output_type": "stream",
     "text": [
      "TRAIN: \n",
      "VAE: 286.7696 | AE: 240.40518 | reconstruction: 240.39856 | L2: 6286.4863 | \n",
      "EVALUATE: \n",
      "VAE: 286.85037 | AE: 239.85828 | reconstruction: 239.85173 | L2: 6683.2075 | \n",
      "\n",
      "EPOCH:  5\n"
     ]
    },
    {
     "name": "stderr",
     "output_type": "stream",
     "text": [
      "100%|████████████████████████████████████████████████████████████████████████████████| 875/875 [00:51<00:00, 17.16it/s]\n",
      "100%|████████████████████████████████████████████████████████████████████████████████| 218/218 [00:06<00:00, 34.68it/s]\n"
     ]
    },
    {
     "name": "stdout",
     "output_type": "stream",
     "text": [
      "TRAIN: \n",
      "VAE: 283.64404 | AE: 236.93942 | reconstruction: 236.93228 | L2: 7091.936 | \n",
      "EVALUATE: \n",
      "VAE: 284.86166 | AE: 238.67073 | reconstruction: 238.66315 | L2: 7515.7827 | \n",
      "\n",
      "EPOCH:  6\n"
     ]
    },
    {
     "name": "stderr",
     "output_type": "stream",
     "text": [
      "100%|████████████████████████████████████████████████████████████████████████████████| 875/875 [00:51<00:00, 16.88it/s]\n",
      "100%|████████████████████████████████████████████████████████████████████████████████| 218/218 [00:06<00:00, 34.31it/s]\n"
     ]
    },
    {
     "name": "stdout",
     "output_type": "stream",
     "text": [
      "TRAIN: \n",
      "VAE: 281.25104 | AE: 234.32677 | reconstruction: 234.31859 | L2: 7935.627 | \n",
      "EVALUATE: \n",
      "VAE: 282.91254 | AE: 235.47997 | reconstruction: 235.47159 | L2: 8370.991 | \n",
      "\n",
      "EPOCH:  7\n"
     ]
    },
    {
     "name": "stderr",
     "output_type": "stream",
     "text": [
      "100%|████████████████████████████████████████████████████████████████████████████████| 875/875 [00:52<00:00, 16.79it/s]\n",
      "100%|████████████████████████████████████████████████████████████████████████████████| 218/218 [00:06<00:00, 33.82it/s]\n"
     ]
    },
    {
     "name": "stdout",
     "output_type": "stream",
     "text": [
      "TRAIN: \n",
      "VAE: 279.23434 | AE: 232.11905 | reconstruction: 232.11041 | L2: 8817.482 | \n",
      "EVALUATE: \n",
      "VAE: 280.86295 | AE: 232.7232 | reconstruction: 232.7139 | L2: 9284.749 | \n",
      "\n",
      "EPOCH:  8\n"
     ]
    },
    {
     "name": "stderr",
     "output_type": "stream",
     "text": [
      "100%|████████████████████████████████████████████████████████████████████████████████| 875/875 [00:52<00:00, 16.62it/s]\n",
      "100%|████████████████████████████████████████████████████████████████████████████████| 218/218 [00:06<00:00, 34.24it/s]\n"
     ]
    },
    {
     "name": "stdout",
     "output_type": "stream",
     "text": [
      "TRAIN: \n",
      "VAE: 277.63715 | AE: 230.38947 | reconstruction: 230.37968 | L2: 9734.776 | \n",
      "EVALUATE: \n",
      "VAE: 279.90488 | AE: 232.35924 | reconstruction: 232.34909 | L2: 10209.616 | \n",
      "\n",
      "EPOCH:  9\n"
     ]
    },
    {
     "name": "stderr",
     "output_type": "stream",
     "text": [
      "100%|████████████████████████████████████████████████████████████████████████████████| 875/875 [00:52<00:00, 16.81it/s]\n",
      "100%|████████████████████████████████████████████████████████████████████████████████| 218/218 [00:06<00:00, 34.56it/s]\n"
     ]
    },
    {
     "name": "stdout",
     "output_type": "stream",
     "text": [
      "TRAIN: \n",
      "VAE: 276.1237 | AE: 228.86588 | reconstruction: 228.85522 | L2: 10681.766 | \n",
      "EVALUATE: \n",
      "VAE: 279.09506 | AE: 231.948 | reconstruction: 231.93681 | L2: 11156.163 | \n",
      "\n",
      "EPOCH:  10\n"
     ]
    },
    {
     "name": "stderr",
     "output_type": "stream",
     "text": [
      "100%|████████████████████████████████████████████████████████████████████████████████| 875/875 [00:52<00:00, 16.80it/s]\n",
      "100%|████████████████████████████████████████████████████████████████████████████████| 218/218 [00:06<00:00, 34.30it/s]\n"
     ]
    },
    {
     "name": "stdout",
     "output_type": "stream",
     "text": [
      "TRAIN: \n",
      "VAE: 274.9154 | AE: 227.55661 | reconstruction: 227.54486 | L2: 11624.759 | \n",
      "EVALUATE: \n",
      "VAE: 277.68567 | AE: 230.87708 | reconstruction: 230.86491 | L2: 12108.2295 | \n",
      "\n",
      "EPOCH:  11\n"
     ]
    },
    {
     "name": "stderr",
     "output_type": "stream",
     "text": [
      "100%|████████████████████████████████████████████████████████████████████████████████| 875/875 [00:52<00:00, 16.87it/s]\n",
      "100%|████████████████████████████████████████████████████████████████████████████████| 218/218 [00:06<00:00, 34.15it/s]\n"
     ]
    },
    {
     "name": "stdout",
     "output_type": "stream",
     "text": [
      "TRAIN: \n",
      "VAE: 273.8223 | AE: 226.33864 | reconstruction: 226.32623 | L2: 12602.761 | \n",
      "EVALUATE: \n",
      "VAE: 277.9682 | AE: 230.19307 | reconstruction: 230.1801 | L2: 13106.499 | \n",
      "\n",
      "total loss Patience count:  1\n",
      "EPOCH:  12\n"
     ]
    },
    {
     "name": "stderr",
     "output_type": "stream",
     "text": [
      "100%|████████████████████████████████████████████████████████████████████████████████| 875/875 [00:51<00:00, 16.92it/s]\n",
      "100%|████████████████████████████████████████████████████████████████████████████████| 218/218 [00:06<00:00, 34.20it/s]\n"
     ]
    },
    {
     "name": "stdout",
     "output_type": "stream",
     "text": [
      "TRAIN: \n",
      "VAE: 272.96448 | AE: 225.36853 | reconstruction: 225.3549 | L2: 13604.785 | \n",
      "EVALUATE: \n",
      "VAE: 277.10333 | AE: 228.31458 | reconstruction: 228.30043 | L2: 14109.232 | \n",
      "\n",
      "EPOCH:  13\n"
     ]
    },
    {
     "name": "stderr",
     "output_type": "stream",
     "text": [
      "100%|████████████████████████████████████████████████████████████████████████████████| 875/875 [00:53<00:00, 16.43it/s]\n",
      "100%|████████████████████████████████████████████████████████████████████████████████| 218/218 [00:06<00:00, 33.50it/s]\n"
     ]
    },
    {
     "name": "stdout",
     "output_type": "stream",
     "text": [
      "TRAIN: \n",
      "VAE: 271.9731 | AE: 224.3281 | reconstruction: 224.3134 | L2: 14611.468 | \n",
      "EVALUATE: \n",
      "VAE: 276.16687 | AE: 228.51265 | reconstruction: 228.49751 | L2: 15123.516 | \n",
      "\n",
      "EPOCH:  14\n"
     ]
    },
    {
     "name": "stderr",
     "output_type": "stream",
     "text": [
      "100%|████████████████████████████████████████████████████████████████████████████████| 875/875 [00:52<00:00, 16.69it/s]\n",
      "100%|████████████████████████████████████████████████████████████████████████████████| 218/218 [00:06<00:00, 34.34it/s]\n"
     ]
    },
    {
     "name": "stdout",
     "output_type": "stream",
     "text": [
      "TRAIN: \n",
      "VAE: 271.23758 | AE: 223.60771 | reconstruction: 223.59195 | L2: 15634.851 | \n",
      "EVALUATE: \n",
      "VAE: 275.54477 | AE: 227.57204 | reconstruction: 227.55576 | L2: 16163.427 | \n",
      "\n",
      "EPOCH:  15\n"
     ]
    },
    {
     "name": "stderr",
     "output_type": "stream",
     "text": [
      "100%|████████████████████████████████████████████████████████████████████████████████| 875/875 [00:51<00:00, 16.89it/s]\n",
      "100%|████████████████████████████████████████████████████████████████████████████████| 218/218 [00:06<00:00, 34.52it/s]\n"
     ]
    },
    {
     "name": "stdout",
     "output_type": "stream",
     "text": [
      "TRAIN: \n",
      "VAE: 270.45035 | AE: 222.78993 | reconstruction: 222.77339 | L2: 16675.63 | \n",
      "EVALUATE: \n",
      "VAE: 274.97528 | AE: 227.19826 | reconstruction: 227.18102 | L2: 17196.998 | \n",
      "\n",
      "EPOCH:  16\n"
     ]
    },
    {
     "name": "stderr",
     "output_type": "stream",
     "text": [
      "100%|████████████████████████████████████████████████████████████████████████████████| 875/875 [00:51<00:00, 17.08it/s]\n",
      "100%|████████████████████████████████████████████████████████████████████████████████| 218/218 [00:06<00:00, 34.61it/s]\n"
     ]
    },
    {
     "name": "stdout",
     "output_type": "stream",
     "text": [
      "TRAIN: \n",
      "VAE: 269.6052 | AE: 221.89453 | reconstruction: 221.87665 | L2: 17712.94 | \n",
      "EVALUATE: \n",
      "VAE: 274.26804 | AE: 226.02574 | reconstruction: 226.00754 | L2: 18254.262 | \n",
      "\n",
      "EPOCH:  17\n"
     ]
    },
    {
     "name": "stderr",
     "output_type": "stream",
     "text": [
      "100%|████████████████████████████████████████████████████████████████████████████████| 875/875 [00:51<00:00, 16.88it/s]\n",
      "100%|████████████████████████████████████████████████████████████████████████████████| 218/218 [00:06<00:00, 34.52it/s]\n"
     ]
    },
    {
     "name": "stdout",
     "output_type": "stream",
     "text": [
      "TRAIN: \n",
      "VAE: 269.16623 | AE: 221.39586 | reconstruction: 221.37686 | L2: 18777.36 | \n",
      "EVALUATE: \n",
      "VAE: 274.05353 | AE: 227.21165 | reconstruction: 227.19232 | L2: 19322.799 | \n",
      "\n",
      "EPOCH:  18\n"
     ]
    },
    {
     "name": "stderr",
     "output_type": "stream",
     "text": [
      "100%|████████████████████████████████████████████████████████████████████████████████| 875/875 [00:51<00:00, 17.08it/s]\n",
      "100%|████████████████████████████████████████████████████████████████████████████████| 218/218 [00:06<00:00, 33.32it/s]\n"
     ]
    },
    {
     "name": "stdout",
     "output_type": "stream",
     "text": [
      "TRAIN: \n",
      "VAE: 268.49023 | AE: 220.66266 | reconstruction: 220.64258 | L2: 19848.672 | \n",
      "EVALUATE: \n",
      "VAE: 274.30612 | AE: 226.59546 | reconstruction: 226.5751 | L2: 20392.486 | \n",
      "\n",
      "total loss Patience count:  1\n",
      "EPOCH:  19\n"
     ]
    },
    {
     "name": "stderr",
     "output_type": "stream",
     "text": [
      "100%|████████████████████████████████████████████████████████████████████████████████| 875/875 [00:51<00:00, 16.96it/s]\n",
      "100%|████████████████████████████████████████████████████████████████████████████████| 218/218 [00:06<00:00, 33.73it/s]\n"
     ]
    },
    {
     "name": "stdout",
     "output_type": "stream",
     "text": [
      "TRAIN: \n",
      "VAE: 268.13977 | AE: 220.34555 | reconstruction: 220.32442 | L2: 20929.676 | \n",
      "EVALUATE: \n",
      "VAE: 273.36905 | AE: 224.05489 | reconstruction: 224.0335 | L2: 21473.287 | \n",
      "\n",
      "EPOCH:  20\n"
     ]
    },
    {
     "name": "stderr",
     "output_type": "stream",
     "text": [
      "100%|████████████████████████████████████████████████████████████████████████████████| 875/875 [00:51<00:00, 16.84it/s]\n",
      "100%|████████████████████████████████████████████████████████████████████████████████| 218/218 [00:06<00:00, 34.52it/s]\n"
     ]
    },
    {
     "name": "stdout",
     "output_type": "stream",
     "text": [
      "TRAIN: \n",
      "VAE: 267.4466 | AE: 219.56201 | reconstruction: 219.54028 | L2: 22010.334 | \n",
      "EVALUATE: \n",
      "VAE: 272.83545 | AE: 224.93358 | reconstruction: 224.91092 | L2: 22548.447 | \n",
      "\n",
      "Saving model...\n",
      "Model saved\n",
      "Generating latent space ...\n",
      "Scaling dataset ... \n",
      "Creating dask array ... \n",
      "Loading model checkpoint experiments/checkpoint_dir/VAE__MNIST_lat15_h500_lay3/-18375 ...\n",
      "\n",
      "INFO:tensorflow:Restoring parameters from experiments/checkpoint_dir/VAE__MNIST_lat15_h500_lay3/-18375\n",
      "Model loaded\n",
      "EPOCHS trained:  20\n"
     ]
    },
    {
     "name": "stderr",
     "output_type": "stream",
     "text": [
      "100%|███████████████████████████████████████████████████████████████████████████████| 875/875 [00:03<00:00, 234.28it/s]\n"
     ]
    },
    {
     "name": "stdout",
     "output_type": "stream",
     "text": [
      "Latent space dimensions: (56000, 2)\n",
      "Plotting latent space ...\n",
      "data size (56000, 2)\n"
     ]
    },
    {
     "name": "stderr",
     "output_type": "stream",
     "text": [
      "100%|██████████████████████████████████████████████████████████████████████████| 56000/56000 [00:11<00:00, 4941.47it/s]\n"
     ]
    },
    {
     "name": "stdout",
     "output_type": "stream",
     "text": [
      "Saving Image experiments/log_dir/VAE__MNIST_lat15_h500_lay3/VAE__MNIST_lat15_h500_lay3 latent epoch 20.jpg ...\n",
      "latent space dimensions: (56000, 3)\n",
      "Plotting latent space ...\n",
      "data size (56000, 3)\n"
     ]
    },
    {
     "name": "stderr",
     "output_type": "stream",
     "text": [
      "100%|██████████████████████████████████████████████████████████████████████████████████| 10/10 [00:00<00:00, 87.94it/s]\n"
     ]
    },
    {
     "name": "stdout",
     "output_type": "stream",
     "text": [
      "Saving Image experiments/log_dir/VAE__MNIST_lat15_h500_lay3/VAE__MNIST_lat15_h500_lay3 latent_3d epoch 20.jpg ...\n",
      "Reconstructing samples from Data ...\n",
      "Scaling dataset ... \n",
      "Creating dask array ... \n",
      "Loading model checkpoint experiments/checkpoint_dir/VAE__MNIST_lat15_h500_lay3/-18375 ...\n",
      "\n",
      "INFO:tensorflow:Restoring parameters from experiments/checkpoint_dir/VAE__MNIST_lat15_h500_lay3/-18375\n",
      "Model loaded\n",
      "EPOCHS trained:  20\n"
     ]
    },
    {
     "name": "stderr",
     "output_type": "stream",
     "text": [
      "4it [00:00, 81.79it/s]                                                                                                 \n"
     ]
    },
    {
     "name": "stdout",
     "output_type": "stream",
     "text": [
      "Loading model checkpoint experiments/checkpoint_dir/VAE__MNIST_lat15_h500_lay3/-18375 ...\n",
      "\n",
      "INFO:tensorflow:Restoring parameters from experiments/checkpoint_dir/VAE__MNIST_lat15_h500_lay3/-18375\n",
      "Model loaded\n",
      "EPOCHS trained:  20\n"
     ]
    },
    {
     "name": "stderr",
     "output_type": "stream",
     "text": [
      "4it [00:00, 160.42it/s]                                                                                                \n"
     ]
    },
    {
     "name": "stdout",
     "output_type": "stream",
     "text": [
      "Saving Image  experiments/log_dir/VAE__MNIST_lat15_h500_lay3/VAE__MNIST_lat15_h500_lay3 samples reconstruction epoch 20.jpg\n",
      "EPOCH:  21\n"
     ]
    },
    {
     "name": "stderr",
     "output_type": "stream",
     "text": [
      "100%|████████████████████████████████████████████████████████████████████████████████| 875/875 [00:51<00:00, 17.13it/s]\n",
      "100%|████████████████████████████████████████████████████████████████████████████████| 218/218 [00:06<00:00, 34.37it/s]\n"
     ]
    },
    {
     "name": "stdout",
     "output_type": "stream",
     "text": [
      "TRAIN: \n",
      "VAE: 266.87808 | AE: 219.02039 | reconstruction: 218.997 | L2: 23092.219 | \n",
      "EVALUATE: \n",
      "VAE: 272.42294 | AE: 225.06422 | reconstruction: 225.04063 | L2: 23634.156 | \n",
      "\n",
      "EPOCH:  22\n"
     ]
    },
    {
     "name": "stderr",
     "output_type": "stream",
     "text": [
      "100%|████████████████████████████████████████████████████████████████████████████████| 875/875 [00:51<00:00, 17.03it/s]\n",
      "100%|████████████████████████████████████████████████████████████████████████████████| 218/218 [00:06<00:00, 33.73it/s]\n"
     ]
    },
    {
     "name": "stdout",
     "output_type": "stream",
     "text": [
      "TRAIN: \n",
      "VAE: 266.49304 | AE: 218.55547 | reconstruction: 218.53137 | L2: 24172.83 | \n",
      "EVALUATE: \n",
      "VAE: 272.52505 | AE: 224.59871 | reconstruction: 224.57402 | L2: 24708.545 | \n",
      "\n",
      "total loss Patience count:  1\n",
      "EPOCH:  23\n"
     ]
    },
    {
     "name": "stderr",
     "output_type": "stream",
     "text": [
      "100%|████████████████████████████████████████████████████████████████████████████████| 875/875 [00:51<00:00, 16.92it/s]\n",
      "100%|████████████████████████████████████████████████████████████████████████████████| 218/218 [00:06<00:00, 33.80it/s]\n"
     ]
    },
    {
     "name": "stdout",
     "output_type": "stream",
     "text": [
      "TRAIN: \n",
      "VAE: 265.9497 | AE: 218.03186 | reconstruction: 218.0065 | L2: 25253.65 | \n",
      "EVALUATE: \n",
      "VAE: 271.66412 | AE: 224.34746 | reconstruction: 224.32166 | L2: 25789.86 | \n",
      "\n",
      "EPOCH:  24\n"
     ]
    },
    {
     "name": "stderr",
     "output_type": "stream",
     "text": [
      "100%|████████████████████████████████████████████████████████████████████████████████| 875/875 [00:51<00:00, 16.84it/s]\n",
      "100%|████████████████████████████████████████████████████████████████████████████████| 218/218 [00:07<00:00, 28.70it/s]\n"
     ]
    },
    {
     "name": "stdout",
     "output_type": "stream",
     "text": [
      "TRAIN: \n",
      "VAE: 265.59915 | AE: 217.6901 | reconstruction: 217.66376 | L2: 26319.664 | \n",
      "EVALUATE: \n",
      "VAE: 272.6554 | AE: 224.42725 | reconstruction: 224.40036 | L2: 26863.99 | \n",
      "\n",
      "total loss Patience count:  1\n",
      "EPOCH:  25\n"
     ]
    },
    {
     "name": "stderr",
     "output_type": "stream",
     "text": [
      "100%|████████████████████████████████████████████████████████████████████████████████| 875/875 [00:51<00:00, 17.02it/s]\n",
      "100%|████████████████████████████████████████████████████████████████████████████████| 218/218 [00:06<00:00, 33.72it/s]\n"
     ]
    },
    {
     "name": "stdout",
     "output_type": "stream",
     "text": [
      "TRAIN: \n",
      "VAE: 265.03418 | AE: 217.05115 | reconstruction: 217.02382 | L2: 27385.654 | \n",
      "EVALUATE: \n",
      "VAE: 271.85287 | AE: 223.35971 | reconstruction: 223.33179 | L2: 27889.965 | \n",
      "\n",
      "total loss Patience count:  2\n",
      "EPOCH:  26\n"
     ]
    },
    {
     "name": "stderr",
     "output_type": "stream",
     "text": [
      "100%|████████████████████████████████████████████████████████████████████████████████| 875/875 [00:51<00:00, 16.93it/s]\n",
      "100%|████████████████████████████████████████████████████████████████████████████████| 218/218 [00:06<00:00, 34.56it/s]\n"
     ]
    },
    {
     "name": "stdout",
     "output_type": "stream",
     "text": [
      "TRAIN: \n",
      "VAE: 264.76013 | AE: 216.67503 | reconstruction: 216.64691 | L2: 28439.89 | \n",
      "EVALUATE: \n",
      "VAE: 271.15796 | AE: 223.184 | reconstruction: 223.15514 | L2: 28988.54 | \n",
      "\n",
      "EPOCH:  27\n"
     ]
    },
    {
     "name": "stderr",
     "output_type": "stream",
     "text": [
      "100%|████████████████████████████████████████████████████████████████████████████████| 875/875 [00:51<00:00, 17.11it/s]\n",
      "100%|████████████████████████████████████████████████████████████████████████████████| 218/218 [00:06<00:00, 34.67it/s]\n"
     ]
    },
    {
     "name": "stdout",
     "output_type": "stream",
     "text": [
      "TRAIN: \n",
      "VAE: 264.31723 | AE: 216.32446 | reconstruction: 216.2949 | L2: 29514.58 | \n",
      "EVALUATE: \n",
      "VAE: 271.1936 | AE: 223.53246 | reconstruction: 223.5026 | L2: 30060.998 | \n",
      "\n",
      "total loss Patience count:  1\n",
      "EPOCH:  28\n"
     ]
    },
    {
     "name": "stderr",
     "output_type": "stream",
     "text": [
      "100%|████████████████████████████████████████████████████████████████████████████████| 875/875 [00:52<00:00, 16.58it/s]\n",
      "100%|████████████████████████████████████████████████████████████████████████████████| 218/218 [00:06<00:00, 33.75it/s]\n"
     ]
    },
    {
     "name": "stdout",
     "output_type": "stream",
     "text": [
      "TRAIN: \n",
      "VAE: 263.9805 | AE: 215.88184 | reconstruction: 215.85112 | L2: 30582.752 | \n",
      "EVALUATE: \n",
      "VAE: 270.85492 | AE: 222.24509 | reconstruction: 222.21396 | L2: 31115.502 | \n",
      "\n",
      "EPOCH:  29\n"
     ]
    },
    {
     "name": "stderr",
     "output_type": "stream",
     "text": [
      "100%|████████████████████████████████████████████████████████████████████████████████| 875/875 [00:51<00:00, 17.05it/s]\n",
      "100%|████████████████████████████████████████████████████████████████████████████████| 218/218 [00:06<00:00, 34.32it/s]\n"
     ]
    },
    {
     "name": "stdout",
     "output_type": "stream",
     "text": [
      "TRAIN: \n",
      "VAE: 263.63232 | AE: 215.50504 | reconstruction: 215.4734 | L2: 31656.78 | \n",
      "EVALUATE: \n",
      "VAE: 271.21686 | AE: 223.02301 | reconstruction: 222.99084 | L2: 32219.148 | \n",
      "\n",
      "total loss Patience count:  1\n",
      "EPOCH:  30\n"
     ]
    },
    {
     "name": "stderr",
     "output_type": "stream",
     "text": [
      "100%|████████████████████████████████████████████████████████████████████████████████| 875/875 [00:51<00:00, 16.97it/s]\n",
      "100%|████████████████████████████████████████████████████████████████████████████████| 218/218 [00:06<00:00, 34.55it/s]\n"
     ]
    },
    {
     "name": "stdout",
     "output_type": "stream",
     "text": [
      "TRAIN: \n",
      "VAE: 263.35516 | AE: 215.26518 | reconstruction: 215.23239 | L2: 32747.559 | \n",
      "EVALUATE: \n",
      "VAE: 270.54816 | AE: 222.80406 | reconstruction: 222.77083 | L2: 33292.39 | \n",
      "\n",
      "EPOCH:  31\n"
     ]
    },
    {
     "name": "stderr",
     "output_type": "stream",
     "text": [
      "100%|████████████████████████████████████████████████████████████████████████████████| 875/875 [00:50<00:00, 17.22it/s]\n",
      "100%|████████████████████████████████████████████████████████████████████████████████| 218/218 [00:06<00:00, 34.24it/s]\n"
     ]
    },
    {
     "name": "stdout",
     "output_type": "stream",
     "text": [
      "TRAIN: \n",
      "VAE: 263.02737 | AE: 214.87332 | reconstruction: 214.83932 | L2: 33805.824 | \n",
      "EVALUATE: \n",
      "VAE: 270.14374 | AE: 222.5786 | reconstruction: 222.54427 | L2: 34318.973 | \n",
      "\n",
      "EPOCH:  32\n"
     ]
    },
    {
     "name": "stderr",
     "output_type": "stream",
     "text": [
      "100%|████████████████████████████████████████████████████████████████████████████████| 875/875 [00:52<00:00, 16.63it/s]\n",
      "100%|████████████████████████████████████████████████████████████████████████████████| 218/218 [00:06<00:00, 34.58it/s]\n"
     ]
    },
    {
     "name": "stdout",
     "output_type": "stream",
     "text": [
      "TRAIN: \n",
      "VAE: 262.67184 | AE: 214.50427 | reconstruction: 214.4694 | L2: 34841.133 | \n",
      "EVALUATE: \n",
      "VAE: 270.37177 | AE: 222.33852 | reconstruction: 222.30318 | L2: 35365.863 | \n",
      "\n",
      "total loss Patience count:  1\n",
      "EPOCH:  33\n"
     ]
    },
    {
     "name": "stderr",
     "output_type": "stream",
     "text": [
      "100%|████████████████████████████████████████████████████████████████████████████████| 875/875 [00:50<00:00, 17.20it/s]\n",
      "100%|████████████████████████████████████████████████████████████████████████████████| 218/218 [00:06<00:00, 34.40it/s]\n"
     ]
    },
    {
     "name": "stdout",
     "output_type": "stream",
     "text": [
      "TRAIN: \n",
      "VAE: 262.4657 | AE: 214.27534 | reconstruction: 214.23936 | L2: 35891.88 | \n",
      "EVALUATE: \n",
      "VAE: 269.62613 | AE: 221.81067 | reconstruction: 221.77415 | L2: 36406.87 | \n",
      "\n",
      "EPOCH:  34\n"
     ]
    },
    {
     "name": "stderr",
     "output_type": "stream",
     "text": [
      "100%|████████████████████████████████████████████████████████████████████████████████| 875/875 [00:52<00:00, 16.68it/s]\n",
      "100%|████████████████████████████████████████████████████████████████████████████████| 218/218 [00:06<00:00, 33.60it/s]\n"
     ]
    },
    {
     "name": "stdout",
     "output_type": "stream",
     "text": [
      "TRAIN: \n",
      "VAE: 262.22534 | AE: 214.00436 | reconstruction: 213.96756 | L2: 36944.99 | \n",
      "EVALUATE: \n",
      "VAE: 270.77185 | AE: 222.25175 | reconstruction: 222.2143 | L2: 37482.88 | \n",
      "\n",
      "total loss Patience count:  1\n",
      "EPOCH:  35\n"
     ]
    },
    {
     "name": "stderr",
     "output_type": "stream",
     "text": [
      "100%|████████████████████████████████████████████████████████████████████████████████| 875/875 [00:52<00:00, 16.73it/s]\n",
      "100%|████████████████████████████████████████████████████████████████████████████████| 218/218 [00:06<00:00, 34.13it/s]\n"
     ]
    },
    {
     "name": "stdout",
     "output_type": "stream",
     "text": [
      "TRAIN: \n",
      "VAE: 261.84256 | AE: 213.64247 | reconstruction: 213.60439 | L2: 38002.812 | \n",
      "EVALUATE: \n",
      "VAE: 269.9319 | AE: 222.2015 | reconstruction: 222.16292 | L2: 38527.598 | \n",
      "\n",
      "total loss Patience count:  2\n",
      "EPOCH:  36\n"
     ]
    },
    {
     "name": "stderr",
     "output_type": "stream",
     "text": [
      "100%|████████████████████████████████████████████████████████████████████████████████| 875/875 [00:52<00:00, 16.69it/s]\n",
      "100%|████████████████████████████████████████████████████████████████████████████████| 218/218 [00:06<00:00, 34.26it/s]\n"
     ]
    },
    {
     "name": "stdout",
     "output_type": "stream",
     "text": [
      "TRAIN: \n",
      "VAE: 261.62524 | AE: 213.45279 | reconstruction: 213.41382 | L2: 39058.85 | \n",
      "EVALUATE: \n",
      "VAE: 268.95496 | AE: 220.30493 | reconstruction: 220.26538 | L2: 39598.113 | \n",
      "\n",
      "EPOCH:  37\n"
     ]
    },
    {
     "name": "stderr",
     "output_type": "stream",
     "text": [
      "100%|████████████████████████████████████████████████████████████████████████████████| 875/875 [00:51<00:00, 17.00it/s]\n",
      "100%|████████████████████████████████████████████████████████████████████████████████| 218/218 [00:06<00:00, 34.54it/s]\n"
     ]
    },
    {
     "name": "stdout",
     "output_type": "stream",
     "text": [
      "TRAIN: \n",
      "VAE: 261.30908 | AE: 213.0682 | reconstruction: 213.02818 | L2: 40114.83 | \n",
      "EVALUATE: \n",
      "VAE: 268.422 | AE: 220.87889 | reconstruction: 220.83824 | L2: 40633.992 | \n",
      "\n",
      "EPOCH:  38\n"
     ]
    },
    {
     "name": "stderr",
     "output_type": "stream",
     "text": [
      "100%|████████████████████████████████████████████████████████████████████████████████| 875/875 [00:51<00:00, 16.96it/s]\n",
      "100%|████████████████████████████████████████████████████████████████████████████████| 218/218 [00:06<00:00, 34.37it/s]\n"
     ]
    },
    {
     "name": "stdout",
     "output_type": "stream",
     "text": [
      "TRAIN: \n",
      "VAE: 261.02762 | AE: 212.74374 | reconstruction: 212.70271 | L2: 41172.754 | \n",
      "EVALUATE: \n",
      "VAE: 268.79807 | AE: 220.75826 | reconstruction: 220.71655 | L2: 41688.65 | \n",
      "\n",
      "total loss Patience count:  1\n",
      "EPOCH:  39\n"
     ]
    },
    {
     "name": "stderr",
     "output_type": "stream",
     "text": [
      "100%|████████████████████████████████████████████████████████████████████████████████| 875/875 [00:51<00:00, 17.09it/s]\n",
      "100%|████████████████████████████████████████████████████████████████████████████████| 218/218 [00:06<00:00, 34.28it/s]\n"
     ]
    },
    {
     "name": "stdout",
     "output_type": "stream",
     "text": [
      "TRAIN: \n",
      "VAE: 261.0871 | AE: 212.72958 | reconstruction: 212.68729 | L2: 42234.496 | \n",
      "EVALUATE: \n",
      "VAE: 269.08694 | AE: 220.65984 | reconstruction: 220.617 | L2: 42763.91 | \n",
      "\n",
      "total loss Patience count:  2\n",
      "EPOCH:  40\n"
     ]
    },
    {
     "name": "stderr",
     "output_type": "stream",
     "text": [
      "100%|████████████████████████████████████████████████████████████████████████████████| 875/875 [00:53<00:00, 16.46it/s]\n",
      "100%|████████████████████████████████████████████████████████████████████████████████| 218/218 [00:06<00:00, 33.49it/s]\n"
     ]
    },
    {
     "name": "stdout",
     "output_type": "stream",
     "text": [
      "TRAIN: \n",
      "VAE: 260.5602 | AE: 212.23392 | reconstruction: 212.19057 | L2: 43309.11 | \n",
      "EVALUATE: \n",
      "VAE: 269.03564 | AE: 221.06679 | reconstruction: 221.02295 | L2: 43827.586 | \n",
      "\n",
      "Saving model...\n",
      "Model saved\n",
      "Generating latent space ...\n",
      "Scaling dataset ... \n",
      "Creating dask array ... \n",
      "Loading model checkpoint experiments/checkpoint_dir/VAE__MNIST_lat15_h500_lay3/-35875 ...\n",
      "\n",
      "INFO:tensorflow:Restoring parameters from experiments/checkpoint_dir/VAE__MNIST_lat15_h500_lay3/-35875\n",
      "Model loaded\n",
      "EPOCHS trained:  40\n"
     ]
    },
    {
     "name": "stderr",
     "output_type": "stream",
     "text": [
      "100%|███████████████████████████████████████████████████████████████████████████████| 875/875 [00:03<00:00, 234.98it/s]\n"
     ]
    },
    {
     "name": "stdout",
     "output_type": "stream",
     "text": [
      "Latent space dimensions: (56000, 2)\n",
      "Plotting latent space ...\n",
      "data size (56000, 2)\n"
     ]
    },
    {
     "name": "stderr",
     "output_type": "stream",
     "text": [
      "100%|██████████████████████████████████████████████████████████████████████████| 56000/56000 [00:11<00:00, 4983.83it/s]\n"
     ]
    },
    {
     "name": "stdout",
     "output_type": "stream",
     "text": [
      "Saving Image experiments/log_dir/VAE__MNIST_lat15_h500_lay3/VAE__MNIST_lat15_h500_lay3 latent epoch 40.jpg ...\n",
      "latent space dimensions: (56000, 3)\n",
      "Plotting latent space ...\n",
      "data size (56000, 3)\n"
     ]
    },
    {
     "name": "stderr",
     "output_type": "stream",
     "text": [
      "100%|██████████████████████████████████████████████████████████████████████████████████| 10/10 [00:00<00:00, 91.97it/s]\n"
     ]
    },
    {
     "name": "stdout",
     "output_type": "stream",
     "text": [
      "Saving Image experiments/log_dir/VAE__MNIST_lat15_h500_lay3/VAE__MNIST_lat15_h500_lay3 latent_3d epoch 40.jpg ...\n",
      "Reconstructing samples from Data ...\n",
      "Scaling dataset ... \n",
      "Creating dask array ... \n",
      "Loading model checkpoint experiments/checkpoint_dir/VAE__MNIST_lat15_h500_lay3/-35875 ...\n",
      "\n",
      "INFO:tensorflow:Restoring parameters from experiments/checkpoint_dir/VAE__MNIST_lat15_h500_lay3/-35875\n",
      "Model loaded\n",
      "EPOCHS trained:  40\n"
     ]
    },
    {
     "name": "stderr",
     "output_type": "stream",
     "text": [
      "4it [00:00, 76.92it/s]                                                                                                 \n"
     ]
    },
    {
     "name": "stdout",
     "output_type": "stream",
     "text": [
      "Loading model checkpoint experiments/checkpoint_dir/VAE__MNIST_lat15_h500_lay3/-35875 ...\n",
      "\n",
      "INFO:tensorflow:Restoring parameters from experiments/checkpoint_dir/VAE__MNIST_lat15_h500_lay3/-35875\n",
      "Model loaded\n",
      "EPOCHS trained:  40\n"
     ]
    },
    {
     "name": "stderr",
     "output_type": "stream",
     "text": [
      "4it [00:00, 143.01it/s]                                                                                                \n"
     ]
    },
    {
     "name": "stdout",
     "output_type": "stream",
     "text": [
      "Saving Image  experiments/log_dir/VAE__MNIST_lat15_h500_lay3/VAE__MNIST_lat15_h500_lay3 samples reconstruction epoch 40.jpg\n",
      "total loss Patience count:  3\n",
      "EPOCH:  41\n"
     ]
    },
    {
     "name": "stderr",
     "output_type": "stream",
     "text": [
      "100%|████████████████████████████████████████████████████████████████████████████████| 875/875 [00:52<00:00, 16.82it/s]\n",
      "100%|████████████████████████████████████████████████████████████████████████████████| 218/218 [00:06<00:00, 34.12it/s]\n"
     ]
    },
    {
     "name": "stdout",
     "output_type": "stream",
     "text": [
      "TRAIN: \n",
      "VAE: 260.34363 | AE: 212.08421 | reconstruction: 212.04005 | L2: 44374.984 | \n",
      "EVALUATE: \n",
      "VAE: 268.44452 | AE: 220.10616 | reconstruction: 220.06128 | L2: 44897.68 | \n",
      "\n",
      "total loss Patience count:  4\n",
      "EPOCH:  42\n"
     ]
    },
    {
     "name": "stderr",
     "output_type": "stream",
     "text": [
      "100%|████████████████████████████████████████████████████████████████████████████████| 875/875 [00:51<00:00, 17.06it/s]\n",
      "100%|████████████████████████████████████████████████████████████████████████████████| 218/218 [00:06<00:00, 34.60it/s]\n"
     ]
    },
    {
     "name": "stdout",
     "output_type": "stream",
     "text": [
      "TRAIN: \n",
      "VAE: 260.22247 | AE: 211.86276 | reconstruction: 211.8173 | L2: 45437.18 | \n",
      "EVALUATE: \n",
      "VAE: 267.7807 | AE: 220.27568 | reconstruction: 220.2295 | L2: 45951.4 | \n",
      "\n",
      "EPOCH:  43\n"
     ]
    },
    {
     "name": "stderr",
     "output_type": "stream",
     "text": [
      "100%|████████████████████████████████████████████████████████████████████████████████| 875/875 [00:50<00:00, 17.56it/s]\n",
      "100%|████████████████████████████████████████████████████████████████████████████████| 218/218 [00:06<00:00, 34.38it/s]\n"
     ]
    },
    {
     "name": "stdout",
     "output_type": "stream",
     "text": [
      "TRAIN: \n",
      "VAE: 259.95703 | AE: 211.6373 | reconstruction: 211.5909 | L2: 46475.008 | \n",
      "EVALUATE: \n",
      "VAE: 268.03546 | AE: 219.27306 | reconstruction: 219.22609 | L2: 46983.08 | \n",
      "\n",
      "total loss Patience count:  1\n",
      "EPOCH:  44\n"
     ]
    },
    {
     "name": "stderr",
     "output_type": "stream",
     "text": [
      "100%|████████████████████████████████████████████████████████████████████████████████| 875/875 [00:50<00:00, 17.23it/s]\n",
      "100%|████████████████████████████████████████████████████████████████████████████████| 218/218 [00:06<00:00, 33.84it/s]\n"
     ]
    },
    {
     "name": "stdout",
     "output_type": "stream",
     "text": [
      "TRAIN: \n",
      "VAE: 259.64078 | AE: 211.30359 | reconstruction: 211.25609 | L2: 47501.418 | \n",
      "EVALUATE: \n",
      "VAE: 268.25357 | AE: 220.75731 | reconstruction: 220.70943 | L2: 47993.31 | \n",
      "\n",
      "total loss Patience count:  2\n",
      "EPOCH:  45\n"
     ]
    },
    {
     "name": "stderr",
     "output_type": "stream",
     "text": [
      "100%|████████████████████████████████████████████████████████████████████████████████| 875/875 [00:51<00:00, 17.14it/s]\n",
      "100%|████████████████████████████████████████████████████████████████████████████████| 218/218 [00:06<00:00, 34.25it/s]\n"
     ]
    },
    {
     "name": "stdout",
     "output_type": "stream",
     "text": [
      "TRAIN: \n",
      "VAE: 259.58948 | AE: 211.25034 | reconstruction: 211.20163 | L2: 48530.26 | \n",
      "EVALUATE: \n",
      "VAE: 268.35077 | AE: 219.98544 | reconstruction: 219.9364 | L2: 49064.703 | \n",
      "\n",
      "total loss Patience count:  3\n",
      "EPOCH:  46\n"
     ]
    },
    {
     "name": "stderr",
     "output_type": "stream",
     "text": [
      "100%|████████████████████████████████████████████████████████████████████████████████| 875/875 [00:52<00:00, 16.69it/s]\n",
      "100%|████████████████████████████████████████████████████████████████████████████████| 218/218 [00:06<00:00, 34.45it/s]\n"
     ]
    },
    {
     "name": "stdout",
     "output_type": "stream",
     "text": [
      "TRAIN: \n",
      "VAE: 259.33157 | AE: 210.92453 | reconstruction: 210.87466 | L2: 49576.273 | \n",
      "EVALUATE: \n",
      "VAE: 267.632 | AE: 219.38663 | reconstruction: 219.33667 | L2: 50086.004 | \n",
      "\n",
      "EPOCH:  47\n"
     ]
    },
    {
     "name": "stderr",
     "output_type": "stream",
     "text": [
      "100%|████████████████████████████████████████████████████████████████████████████████| 875/875 [00:50<00:00, 17.48it/s]\n",
      "100%|████████████████████████████████████████████████████████████████████████████████| 218/218 [00:06<00:00, 34.63it/s]\n"
     ]
    },
    {
     "name": "stdout",
     "output_type": "stream",
     "text": [
      "TRAIN: \n",
      "VAE: 259.1567 | AE: 210.7953 | reconstruction: 210.74464 | L2: 50614.676 | \n",
      "EVALUATE: \n",
      "VAE: 267.9802 | AE: 219.5705 | reconstruction: 219.51936 | L2: 51139.92 | \n",
      "\n",
      "total loss Patience count:  1\n",
      "EPOCH:  48\n"
     ]
    },
    {
     "name": "stderr",
     "output_type": "stream",
     "text": [
      "100%|████████████████████████████████████████████████████████████████████████████████| 875/875 [00:50<00:00, 17.40it/s]\n",
      "100%|████████████████████████████████████████████████████████████████████████████████| 218/218 [00:06<00:00, 34.53it/s]\n"
     ]
    },
    {
     "name": "stdout",
     "output_type": "stream",
     "text": [
      "TRAIN: \n",
      "VAE: 259.00046 | AE: 210.59952 | reconstruction: 210.54782 | L2: 51666.684 | \n",
      "EVALUATE: \n",
      "VAE: 267.3626 | AE: 218.44604 | reconstruction: 218.3939 | L2: 52172.02 | \n",
      "\n",
      "EPOCH:  49\n"
     ]
    },
    {
     "name": "stderr",
     "output_type": "stream",
     "text": [
      "100%|████████████████████████████████████████████████████████████████████████████████| 875/875 [00:50<00:00, 17.40it/s]\n",
      "100%|████████████████████████████████████████████████████████████████████████████████| 218/218 [00:06<00:00, 34.53it/s]\n"
     ]
    },
    {
     "name": "stdout",
     "output_type": "stream",
     "text": [
      "TRAIN: \n",
      "VAE: 258.84274 | AE: 210.38568 | reconstruction: 210.33308 | L2: 52732.617 | \n",
      "EVALUATE: \n",
      "VAE: 267.25378 | AE: 219.07095 | reconstruction: 219.01772 | L2: 53248.926 | \n",
      "\n",
      "EPOCH:  50\n"
     ]
    },
    {
     "name": "stderr",
     "output_type": "stream",
     "text": [
      "100%|████████████████████████████████████████████████████████████████████████████████| 875/875 [00:50<00:00, 17.28it/s]\n",
      "100%|████████████████████████████████████████████████████████████████████████████████| 218/218 [00:06<00:00, 33.83it/s]\n"
     ]
    },
    {
     "name": "stdout",
     "output_type": "stream",
     "text": [
      "TRAIN: \n",
      "VAE: 258.62473 | AE: 210.21176 | reconstruction: 210.1579 | L2: 53771.215 | \n",
      "EVALUATE: \n",
      "VAE: 266.96954 | AE: 219.42445 | reconstruction: 219.37024 | L2: 54279.348 | \n",
      "\n",
      "EPOCH:  51\n"
     ]
    },
    {
     "name": "stderr",
     "output_type": "stream",
     "text": [
      "100%|████████████████████████████████████████████████████████████████████████████████| 875/875 [00:50<00:00, 17.20it/s]\n",
      "100%|████████████████████████████████████████████████████████████████████████████████| 218/218 [00:06<00:00, 34.42it/s]\n"
     ]
    },
    {
     "name": "stdout",
     "output_type": "stream",
     "text": [
      "TRAIN: \n",
      "VAE: 258.55197 | AE: 210.07266 | reconstruction: 210.0178 | L2: 54818.87 | \n",
      "EVALUATE: \n",
      "VAE: 267.836 | AE: 219.51553 | reconstruction: 219.4602 | L2: 55347.914 | \n",
      "\n",
      "total loss Patience count:  1\n",
      "EPOCH:  52\n"
     ]
    },
    {
     "name": "stderr",
     "output_type": "stream",
     "text": [
      "100%|████████████████████████████████████████████████████████████████████████████████| 875/875 [00:52<00:00, 16.75it/s]\n",
      "100%|████████████████████████████████████████████████████████████████████████████████| 218/218 [00:06<00:00, 34.68it/s]\n"
     ]
    },
    {
     "name": "stdout",
     "output_type": "stream",
     "text": [
      "TRAIN: \n",
      "VAE: 258.30072 | AE: 209.87794 | reconstruction: 209.82204 | L2: 55887.273 | \n",
      "EVALUATE: \n",
      "VAE: 267.3096 | AE: 218.13315 | reconstruction: 218.07672 | L2: 56447.258 | \n",
      "\n",
      "total loss Patience count:  2\n",
      "EPOCH:  53\n"
     ]
    },
    {
     "name": "stderr",
     "output_type": "stream",
     "text": [
      "100%|████████████████████████████████████████████████████████████████████████████████| 875/875 [00:50<00:00, 17.39it/s]\n",
      "100%|████████████████████████████████████████████████████████████████████████████████| 218/218 [00:06<00:00, 34.61it/s]\n"
     ]
    },
    {
     "name": "stdout",
     "output_type": "stream",
     "text": [
      "TRAIN: \n",
      "VAE: 258.20523 | AE: 209.72485 | reconstruction: 209.66817 | L2: 56969.164 | \n",
      "EVALUATE: \n",
      "VAE: 267.63535 | AE: 219.00533 | reconstruction: 218.94788 | L2: 57474.023 | \n",
      "\n",
      "total loss Patience count:  3\n",
      "EPOCH:  54\n"
     ]
    },
    {
     "name": "stderr",
     "output_type": "stream",
     "text": [
      "100%|████████████████████████████████████████████████████████████████████████████████| 875/875 [00:50<00:00, 17.40it/s]\n",
      "100%|████████████████████████████████████████████████████████████████████████████████| 218/218 [00:06<00:00, 34.57it/s]\n"
     ]
    },
    {
     "name": "stdout",
     "output_type": "stream",
     "text": [
      "TRAIN: \n",
      "VAE: 257.95935 | AE: 209.45209 | reconstruction: 209.39409 | L2: 58021.45 | \n",
      "EVALUATE: \n",
      "VAE: 266.88965 | AE: 217.56418 | reconstruction: 217.50565 | L2: 58534.31 | \n",
      "\n",
      "EPOCH:  55\n"
     ]
    },
    {
     "name": "stderr",
     "output_type": "stream",
     "text": [
      "100%|████████████████████████████████████████████████████████████████████████████████| 875/875 [00:50<00:00, 17.41it/s]\n",
      "100%|████████████████████████████████████████████████████████████████████████████████| 218/218 [00:06<00:00, 34.53it/s]\n"
     ]
    },
    {
     "name": "stdout",
     "output_type": "stream",
     "text": [
      "TRAIN: \n",
      "VAE: 257.84546 | AE: 209.40262 | reconstruction: 209.34332 | L2: 59060.137 | \n",
      "EVALUATE: \n",
      "VAE: 267.38083 | AE: 219.13156 | reconstruction: 219.07196 | L2: 59557.684 | \n",
      "\n",
      "total loss Patience count:  1\n",
      "EPOCH:  56\n"
     ]
    },
    {
     "name": "stderr",
     "output_type": "stream",
     "text": [
      "100%|████████████████████████████████████████████████████████████████████████████████| 875/875 [00:50<00:00, 17.39it/s]\n",
      "100%|████████████████████████████████████████████████████████████████████████████████| 218/218 [00:06<00:00, 34.54it/s]\n"
     ]
    },
    {
     "name": "stdout",
     "output_type": "stream",
     "text": [
      "TRAIN: \n",
      "VAE: 257.762 | AE: 209.22429 | reconstruction: 209.16415 | L2: 60091.0 | \n",
      "EVALUATE: \n",
      "VAE: 267.51483 | AE: 218.8876 | reconstruction: 218.82692 | L2: 60625.004 | \n",
      "\n",
      "total loss Patience count:  2\n",
      "EPOCH:  57\n"
     ]
    },
    {
     "name": "stderr",
     "output_type": "stream",
     "text": [
      "100%|████████████████████████████████████████████████████████████████████████████████| 875/875 [00:52<00:00, 17.39it/s]\n",
      "100%|████████████████████████████████████████████████████████████████████████████████| 218/218 [00:06<00:00, 34.53it/s]\n"
     ]
    },
    {
     "name": "stdout",
     "output_type": "stream",
     "text": [
      "TRAIN: \n",
      "VAE: 257.515 | AE: 209.03937 | reconstruction: 208.97823 | L2: 61173.414 | \n",
      "EVALUATE: \n",
      "VAE: 266.5614 | AE: 217.60345 | reconstruction: 217.54181 | L2: 61685.92 | \n",
      "\n",
      "EPOCH:  58\n"
     ]
    },
    {
     "name": "stderr",
     "output_type": "stream",
     "text": [
      "100%|████████████████████████████████████████████████████████████████████████████████| 875/875 [00:50<00:00, 17.34it/s]\n",
      "100%|████████████████████████████████████████████████████████████████████████████████| 218/218 [00:06<00:00, 34.49it/s]\n"
     ]
    },
    {
     "name": "stdout",
     "output_type": "stream",
     "text": [
      "TRAIN: \n",
      "VAE: 257.3577 | AE: 208.83139 | reconstruction: 208.76917 | L2: 62212.13 | \n",
      "EVALUATE: \n",
      "VAE: 266.64822 | AE: 218.8615 | reconstruction: 218.79877 | L2: 62713.074 | \n",
      "\n",
      "total loss Patience count:  1\n",
      "EPOCH:  59\n"
     ]
    },
    {
     "name": "stderr",
     "output_type": "stream",
     "text": [
      "100%|████████████████████████████████████████████████████████████████████████████████| 875/875 [00:50<00:00, 17.16it/s]\n",
      "100%|████████████████████████████████████████████████████████████████████████████████| 218/218 [00:06<00:00, 34.63it/s]\n"
     ]
    },
    {
     "name": "stdout",
     "output_type": "stream",
     "text": [
      "TRAIN: \n",
      "VAE: 257.27753 | AE: 208.75377 | reconstruction: 208.69055 | L2: 63251.97 | \n",
      "EVALUATE: \n",
      "VAE: 266.62894 | AE: 218.36983 | reconstruction: 218.306 | L2: 63761.695 | \n",
      "\n",
      "total loss Patience count:  2\n",
      "EPOCH:  60\n"
     ]
    },
    {
     "name": "stderr",
     "output_type": "stream",
     "text": [
      "100%|████████████████████████████████████████████████████████████████████████████████| 875/875 [00:50<00:00, 17.37it/s]\n",
      "100%|████████████████████████████████████████████████████████████████████████████████| 218/218 [00:06<00:00, 34.50it/s]\n"
     ]
    },
    {
     "name": "stdout",
     "output_type": "stream",
     "text": [
      "TRAIN: \n",
      "VAE: 257.11005 | AE: 208.6061 | reconstruction: 208.54192 | L2: 64295.75 | \n",
      "EVALUATE: \n",
      "VAE: 267.04367 | AE: 218.45496 | reconstruction: 218.39027 | L2: 64810.98 | \n",
      "\n",
      "Saving model...\n",
      "Model saved\n",
      "Generating latent space ...\n",
      "Scaling dataset ... \n",
      "Creating dask array ... \n",
      "Loading model checkpoint experiments/checkpoint_dir/VAE__MNIST_lat15_h500_lay3/-53375 ...\n",
      "\n",
      "INFO:tensorflow:Restoring parameters from experiments/checkpoint_dir/VAE__MNIST_lat15_h500_lay3/-53375\n",
      "Model loaded\n",
      "EPOCHS trained:  60\n"
     ]
    },
    {
     "name": "stderr",
     "output_type": "stream",
     "text": [
      "100%|███████████████████████████████████████████████████████████████████████████████| 875/875 [00:03<00:00, 234.35it/s]\n"
     ]
    },
    {
     "name": "stdout",
     "output_type": "stream",
     "text": [
      "Latent space dimensions: (56000, 2)\n",
      "Plotting latent space ...\n",
      "data size (56000, 2)\n"
     ]
    },
    {
     "name": "stderr",
     "output_type": "stream",
     "text": [
      "100%|██████████████████████████████████████████████████████████████████████████| 56000/56000 [00:11<00:00, 4732.20it/s]\n"
     ]
    },
    {
     "name": "stdout",
     "output_type": "stream",
     "text": [
      "Saving Image experiments/log_dir/VAE__MNIST_lat15_h500_lay3/VAE__MNIST_lat15_h500_lay3 latent epoch 60.jpg ...\n",
      "latent space dimensions: (56000, 3)\n",
      "Plotting latent space ...\n",
      "data size (56000, 3)\n"
     ]
    },
    {
     "name": "stderr",
     "output_type": "stream",
     "text": [
      "100%|██████████████████████████████████████████████████████████████████████████████████| 10/10 [00:00<00:00, 93.68it/s]\n"
     ]
    },
    {
     "name": "stdout",
     "output_type": "stream",
     "text": [
      "Saving Image experiments/log_dir/VAE__MNIST_lat15_h500_lay3/VAE__MNIST_lat15_h500_lay3 latent_3d epoch 60.jpg ...\n",
      "Reconstructing samples from Data ...\n",
      "Scaling dataset ... \n",
      "Creating dask array ... \n",
      "Loading model checkpoint experiments/checkpoint_dir/VAE__MNIST_lat15_h500_lay3/-53375 ...\n",
      "\n",
      "INFO:tensorflow:Restoring parameters from experiments/checkpoint_dir/VAE__MNIST_lat15_h500_lay3/-53375\n",
      "Model loaded\n",
      "EPOCHS trained:  60\n"
     ]
    },
    {
     "name": "stderr",
     "output_type": "stream",
     "text": [
      "4it [00:00, 75.75it/s]                                                                                                 \n"
     ]
    },
    {
     "name": "stdout",
     "output_type": "stream",
     "text": [
      "Loading model checkpoint experiments/checkpoint_dir/VAE__MNIST_lat15_h500_lay3/-53375 ...\n",
      "\n",
      "INFO:tensorflow:Restoring parameters from experiments/checkpoint_dir/VAE__MNIST_lat15_h500_lay3/-53375\n",
      "Model loaded\n",
      "EPOCHS trained:  60\n"
     ]
    },
    {
     "name": "stderr",
     "output_type": "stream",
     "text": [
      "4it [00:00, 142.94it/s]                                                                                                \n"
     ]
    },
    {
     "name": "stdout",
     "output_type": "stream",
     "text": [
      "Saving Image  experiments/log_dir/VAE__MNIST_lat15_h500_lay3/VAE__MNIST_lat15_h500_lay3 samples reconstruction epoch 60.jpg\n",
      "total loss Patience count:  3\n",
      "EPOCH:  61\n"
     ]
    },
    {
     "name": "stderr",
     "output_type": "stream",
     "text": [
      "100%|████████████████████████████████████████████████████████████████████████████████| 875/875 [00:50<00:00, 17.18it/s]\n",
      "100%|████████████████████████████████████████████████████████████████████████████████| 218/218 [00:06<00:00, 34.29it/s]\n"
     ]
    },
    {
     "name": "stdout",
     "output_type": "stream",
     "text": [
      "TRAIN: \n",
      "VAE: 257.01117 | AE: 208.4658 | reconstruction: 208.40018 | L2: 65344.97 | \n",
      "EVALUATE: \n",
      "VAE: 266.8039 | AE: 218.11232 | reconstruction: 218.04643 | L2: 65888.77 | \n",
      "\n",
      "total loss Patience count:  4\n",
      "EPOCH:  62\n"
     ]
    },
    {
     "name": "stderr",
     "output_type": "stream",
     "text": [
      "100%|████████████████████████████████████████████████████████████████████████████████| 875/875 [00:50<00:00, 17.28it/s]\n",
      "100%|████████████████████████████████████████████████████████████████████████████████| 218/218 [00:06<00:00, 34.26it/s]\n"
     ]
    },
    {
     "name": "stdout",
     "output_type": "stream",
     "text": [
      "TRAIN: \n",
      "VAE: 256.93243 | AE: 208.35745 | reconstruction: 208.2913 | L2: 66393.016 | \n",
      "EVALUATE: \n",
      "VAE: 266.46027 | AE: 217.27473 | reconstruction: 217.20778 | L2: 66918.945 | \n",
      "\n",
      "EPOCH:  63\n"
     ]
    },
    {
     "name": "stderr",
     "output_type": "stream",
     "text": [
      "100%|████████████████████████████████████████████████████████████████████████████████| 875/875 [00:50<00:00, 17.14it/s]\n",
      "100%|████████████████████████████████████████████████████████████████████████████████| 218/218 [00:06<00:00, 34.55it/s]\n"
     ]
    },
    {
     "name": "stdout",
     "output_type": "stream",
     "text": [
      "TRAIN: \n",
      "VAE: 256.817 | AE: 208.21161 | reconstruction: 208.14418 | L2: 67440.23 | \n",
      "EVALUATE: \n",
      "VAE: 266.65884 | AE: 218.08617 | reconstruction: 218.01817 | L2: 67936.93 | \n",
      "\n",
      "total loss Patience count:  1\n",
      "EPOCH:  64\n"
     ]
    },
    {
     "name": "stderr",
     "output_type": "stream",
     "text": [
      "100%|████████████████████████████████████████████████████████████████████████████████| 875/875 [00:50<00:00, 17.28it/s]\n",
      "100%|████████████████████████████████████████████████████████████████████████████████| 218/218 [00:06<00:00, 34.28it/s]\n"
     ]
    },
    {
     "name": "stdout",
     "output_type": "stream",
     "text": [
      "TRAIN: \n",
      "VAE: 256.6858 | AE: 208.1018 | reconstruction: 208.03325 | L2: 68481.375 | \n",
      "EVALUATE: \n",
      "VAE: 266.28778 | AE: 217.84142 | reconstruction: 217.7724 | L2: 68993.74 | \n",
      "\n",
      "EPOCH:  65\n"
     ]
    },
    {
     "name": "stderr",
     "output_type": "stream",
     "text": [
      "100%|████████████████████████████████████████████████████████████████████████████████| 875/875 [00:50<00:00, 17.29it/s]\n",
      "100%|████████████████████████████████████████████████████████████████████████████████| 218/218 [00:06<00:00, 34.43it/s]\n"
     ]
    },
    {
     "name": "stdout",
     "output_type": "stream",
     "text": [
      "TRAIN: \n",
      "VAE: 256.48782 | AE: 207.88797 | reconstruction: 207.81844 | L2: 69524.47 | \n",
      "EVALUATE: \n",
      "VAE: 266.07162 | AE: 218.28026 | reconstruction: 218.21014 | L2: 70034.27 | \n",
      "\n",
      "EPOCH:  66\n"
     ]
    },
    {
     "name": "stderr",
     "output_type": "stream",
     "text": [
      "100%|████████████████████████████████████████████████████████████████████████████████| 875/875 [00:50<00:00, 17.27it/s]\n",
      "100%|████████████████████████████████████████████████████████████████████████████████| 218/218 [00:06<00:00, 34.53it/s]\n"
     ]
    },
    {
     "name": "stdout",
     "output_type": "stream",
     "text": [
      "TRAIN: \n",
      "VAE: 256.39938 | AE: 207.80135 | reconstruction: 207.7309 | L2: 70566.56 | \n",
      "EVALUATE: \n",
      "VAE: 266.4333 | AE: 218.2551 | reconstruction: 218.184 | L2: 71094.984 | \n",
      "\n",
      "total loss Patience count:  1\n",
      "EPOCH:  67\n"
     ]
    },
    {
     "name": "stderr",
     "output_type": "stream",
     "text": [
      "100%|████████████████████████████████████████████████████████████████████████████████| 875/875 [00:50<00:00, 17.26it/s]\n",
      "100%|████████████████████████████████████████████████████████████████████████████████| 218/218 [00:06<00:00, 34.40it/s]\n"
     ]
    },
    {
     "name": "stdout",
     "output_type": "stream",
     "text": [
      "TRAIN: \n",
      "VAE: 256.25687 | AE: 207.68073 | reconstruction: 207.6091 | L2: 71604.93 | \n",
      "EVALUATE: \n",
      "VAE: 265.86475 | AE: 217.23714 | reconstruction: 217.16501 | L2: 72120.78 | \n",
      "\n",
      "EPOCH:  68\n"
     ]
    },
    {
     "name": "stderr",
     "output_type": "stream",
     "text": [
      "100%|████████████████████████████████████████████████████████████████████████████████| 875/875 [00:53<00:00, 17.21it/s]\n",
      "100%|████████████████████████████████████████████████████████████████████████████████| 218/218 [00:06<00:00, 34.44it/s]\n"
     ]
    },
    {
     "name": "stdout",
     "output_type": "stream",
     "text": [
      "TRAIN: \n",
      "VAE: 256.2145 | AE: 207.6087 | reconstruction: 207.53583 | L2: 72651.055 | \n",
      "EVALUATE: \n",
      "VAE: 267.0219 | AE: 218.55576 | reconstruction: 218.4827 | L2: 73146.05 | \n",
      "\n",
      "total loss Patience count:  1\n",
      "EPOCH:  69\n"
     ]
    },
    {
     "name": "stderr",
     "output_type": "stream",
     "text": [
      "100%|████████████████████████████████████████████████████████████████████████████████| 875/875 [00:50<00:00, 16.77it/s]\n",
      "100%|████████████████████████████████████████████████████████████████████████████████| 218/218 [00:06<00:00, 34.34it/s]\n"
     ]
    },
    {
     "name": "stdout",
     "output_type": "stream",
     "text": [
      "TRAIN: \n",
      "VAE: 256.02728 | AE: 207.409 | reconstruction: 207.33528 | L2: 73681.78 | \n",
      "EVALUATE: \n",
      "VAE: 265.78665 | AE: 216.67348 | reconstruction: 216.59929 | L2: 74195.24 | \n",
      "\n",
      "EPOCH:  70\n"
     ]
    },
    {
     "name": "stderr",
     "output_type": "stream",
     "text": [
      "100%|████████████████████████████████████████████████████████████████████████████████| 875/875 [00:50<00:00, 17.27it/s]\n",
      "100%|████████████████████████████████████████████████████████████████████████████████| 218/218 [00:06<00:00, 34.32it/s]\n"
     ]
    },
    {
     "name": "stdout",
     "output_type": "stream",
     "text": [
      "TRAIN: \n",
      "VAE: 255.85634 | AE: 207.32674 | reconstruction: 207.25201 | L2: 74726.8 | \n",
      "EVALUATE: \n",
      "VAE: 266.23486 | AE: 217.87129 | reconstruction: 217.79596 | L2: 75255.01 | \n",
      "\n",
      "total loss Patience count:  1\n",
      "EPOCH:  71\n"
     ]
    },
    {
     "name": "stderr",
     "output_type": "stream",
     "text": [
      "100%|████████████████████████████████████████████████████████████████████████████████| 875/875 [00:50<00:00, 17.28it/s]\n",
      "100%|████████████████████████████████████████████████████████████████████████████████| 218/218 [00:06<00:00, 34.31it/s]\n"
     ]
    },
    {
     "name": "stdout",
     "output_type": "stream",
     "text": [
      "TRAIN: \n",
      "VAE: 255.77948 | AE: 207.19337 | reconstruction: 207.11763 | L2: 75773.664 | \n",
      "EVALUATE: \n",
      "VAE: 266.48022 | AE: 218.08337 | reconstruction: 218.00708 | L2: 76283.05 | \n",
      "\n",
      "total loss Patience count:  2\n",
      "EPOCH:  72\n"
     ]
    },
    {
     "name": "stderr",
     "output_type": "stream",
     "text": [
      "100%|████████████████████████████████████████████████████████████████████████████████| 875/875 [00:50<00:00, 17.29it/s]\n",
      "100%|████████████████████████████████████████████████████████████████████████████████| 218/218 [00:06<00:00, 34.49it/s]\n"
     ]
    },
    {
     "name": "stdout",
     "output_type": "stream",
     "text": [
      "TRAIN: \n",
      "VAE: 255.66624 | AE: 207.08212 | reconstruction: 207.00545 | L2: 76820.02 | \n",
      "EVALUATE: \n",
      "VAE: 266.1647 | AE: 217.39748 | reconstruction: 217.32007 | L2: 77319.8 | \n",
      "\n",
      "total loss Patience count:  3\n",
      "EPOCH:  73\n"
     ]
    },
    {
     "name": "stderr",
     "output_type": "stream",
     "text": [
      "100%|████████████████████████████████████████████████████████████████████████████████| 875/875 [00:50<00:00, 17.31it/s]\n",
      "100%|████████████████████████████████████████████████████████████████████████████████| 218/218 [00:06<00:00, 34.41it/s]\n"
     ]
    },
    {
     "name": "stdout",
     "output_type": "stream",
     "text": [
      "TRAIN: \n",
      "VAE: 255.68811 | AE: 207.05136 | reconstruction: 206.97354 | L2: 77857.14 | \n",
      "EVALUATE: \n",
      "VAE: 265.88617 | AE: 217.48193 | reconstruction: 217.4036 | L2: 78359.25 | \n",
      "\n",
      "total loss Patience count:  4\n",
      "EPOCH:  74\n"
     ]
    },
    {
     "name": "stderr",
     "output_type": "stream",
     "text": [
      "100%|████████████████████████████████████████████████████████████████████████████████| 875/875 [00:50<00:00, 17.31it/s]\n",
      "100%|████████████████████████████████████████████████████████████████████████████████| 218/218 [00:06<00:00, 34.49it/s]\n"
     ]
    },
    {
     "name": "stdout",
     "output_type": "stream",
     "text": [
      "TRAIN: \n",
      "VAE: 255.54941 | AE: 206.9035 | reconstruction: 206.82466 | L2: 78884.79 | \n",
      "EVALUATE: \n",
      "VAE: 266.46182 | AE: 218.08107 | reconstruction: 218.0016 | L2: 79383.984 | \n",
      "\n",
      "total loss Patience count:  5\n",
      "EPOCH:  75\n"
     ]
    },
    {
     "name": "stderr",
     "output_type": "stream",
     "text": [
      "100%|████████████████████████████████████████████████████████████████████████████████| 875/875 [00:53<00:00, 16.49it/s]\n",
      "100%|████████████████████████████████████████████████████████████████████████████████| 218/218 [00:06<00:00, 34.51it/s]\n"
     ]
    },
    {
     "name": "stdout",
     "output_type": "stream",
     "text": [
      "TRAIN: \n",
      "VAE: 255.48146 | AE: 206.82391 | reconstruction: 206.744 | L2: 79923.445 | \n",
      "EVALUATE: \n",
      "VAE: 265.9886 | AE: 217.35147 | reconstruction: 217.2709 | L2: 80434.91 | \n",
      "\n",
      "total loss Patience count:  6\n",
      "EPOCH:  76\n"
     ]
    },
    {
     "name": "stderr",
     "output_type": "stream",
     "text": [
      "100%|████████████████████████████████████████████████████████████████████████████████| 875/875 [00:51<00:00, 17.11it/s]\n",
      "100%|████████████████████████████████████████████████████████████████████████████████| 218/218 [00:06<00:00, 34.23it/s]\n"
     ]
    },
    {
     "name": "stdout",
     "output_type": "stream",
     "text": [
      "TRAIN: \n",
      "VAE: 255.27196 | AE: 206.64671 | reconstruction: 206.56578 | L2: 80934.49 | \n",
      "EVALUATE: \n",
      "VAE: 265.68213 | AE: 215.77 | reconstruction: 215.68861 | L2: 81445.06 | \n",
      "\n",
      "EPOCH:  77\n"
     ]
    },
    {
     "name": "stderr",
     "output_type": "stream",
     "text": [
      "100%|████████████████████████████████████████████████████████████████████████████████| 875/875 [00:50<00:00, 17.39it/s]\n",
      "100%|████████████████████████████████████████████████████████████████████████████████| 218/218 [00:06<00:00, 34.38it/s]\n"
     ]
    },
    {
     "name": "stdout",
     "output_type": "stream",
     "text": [
      "TRAIN: \n",
      "VAE: 255.30981 | AE: 206.61209 | reconstruction: 206.52988 | L2: 81956.38 | \n",
      "EVALUATE: \n",
      "VAE: 266.05783 | AE: 217.82893 | reconstruction: 217.74643 | L2: 82472.01 | \n",
      "\n",
      "total loss Patience count:  1\n",
      "EPOCH:  78\n"
     ]
    },
    {
     "name": "stderr",
     "output_type": "stream",
     "text": [
      "100%|████████████████████████████████████████████████████████████████████████████████| 875/875 [00:50<00:00, 17.31it/s]\n",
      "100%|████████████████████████████████████████████████████████████████████████████████| 218/218 [00:06<00:00, 34.39it/s]\n"
     ]
    },
    {
     "name": "stdout",
     "output_type": "stream",
     "text": [
      "TRAIN: \n",
      "VAE: 255.24757 | AE: 206.53659 | reconstruction: 206.45372 | L2: 82988.1 | \n",
      "EVALUATE: \n",
      "VAE: 265.83707 | AE: 216.86351 | reconstruction: 216.78004 | L2: 83491.94 | \n",
      "\n",
      "total loss Patience count:  2\n",
      "EPOCH:  79\n"
     ]
    },
    {
     "name": "stderr",
     "output_type": "stream",
     "text": [
      "100%|████████████████████████████████████████████████████████████████████████████████| 875/875 [00:50<00:00, 17.31it/s]\n",
      "100%|████████████████████████████████████████████████████████████████████████████████| 218/218 [00:06<00:00, 34.45it/s]\n"
     ]
    },
    {
     "name": "stdout",
     "output_type": "stream",
     "text": [
      "TRAIN: \n",
      "VAE: 255.15007 | AE: 206.43 | reconstruction: 206.34587 | L2: 83998.914 | \n",
      "EVALUATE: \n",
      "VAE: 265.62195 | AE: 216.94504 | reconstruction: 216.86043 | L2: 84509.99 | \n",
      "\n",
      "EPOCH:  80\n"
     ]
    },
    {
     "name": "stderr",
     "output_type": "stream",
     "text": [
      "100%|████████████████████████████████████████████████████████████████████████████████| 875/875 [00:50<00:00, 17.29it/s]\n",
      "100%|████████████████████████████████████████████████████████████████████████████████| 218/218 [00:06<00:00, 34.32it/s]\n"
     ]
    },
    {
     "name": "stdout",
     "output_type": "stream",
     "text": [
      "TRAIN: \n",
      "VAE: 254.93002 | AE: 206.28636 | reconstruction: 206.20157 | L2: 85036.76 | \n",
      "EVALUATE: \n",
      "VAE: 265.63474 | AE: 216.391 | reconstruction: 216.30544 | L2: 85545.16 | \n",
      "\n",
      "Saving model...\n",
      "Model saved\n",
      "Generating latent space ...\n",
      "Scaling dataset ... \n",
      "Creating dask array ... \n",
      "Loading model checkpoint experiments/checkpoint_dir/VAE__MNIST_lat15_h500_lay3/-70875 ...\n",
      "\n",
      "INFO:tensorflow:Restoring parameters from experiments/checkpoint_dir/VAE__MNIST_lat15_h500_lay3/-70875\n",
      "Model loaded\n",
      "EPOCHS trained:  80\n"
     ]
    },
    {
     "name": "stderr",
     "output_type": "stream",
     "text": [
      "100%|███████████████████████████████████████████████████████████████████████████████| 875/875 [00:03<00:00, 224.11it/s]\n"
     ]
    },
    {
     "name": "stdout",
     "output_type": "stream",
     "text": [
      "Latent space dimensions: (56000, 2)\n",
      "Plotting latent space ...\n",
      "data size (56000, 2)\n"
     ]
    },
    {
     "name": "stderr",
     "output_type": "stream",
     "text": [
      "100%|██████████████████████████████████████████████████████████████████████████| 56000/56000 [00:09<00:00, 5761.09it/s]\n"
     ]
    },
    {
     "name": "stdout",
     "output_type": "stream",
     "text": [
      "Saving Image experiments/log_dir/VAE__MNIST_lat15_h500_lay3/VAE__MNIST_lat15_h500_lay3 latent epoch 80.jpg ...\n",
      "latent space dimensions: (56000, 3)\n",
      "Plotting latent space ...\n",
      "data size (56000, 3)\n"
     ]
    },
    {
     "name": "stderr",
     "output_type": "stream",
     "text": [
      "100%|██████████████████████████████████████████████████████████████████████████████████| 10/10 [00:00<00:00, 93.71it/s]\n"
     ]
    },
    {
     "name": "stdout",
     "output_type": "stream",
     "text": [
      "Saving Image experiments/log_dir/VAE__MNIST_lat15_h500_lay3/VAE__MNIST_lat15_h500_lay3 latent_3d epoch 80.jpg ...\n",
      "Reconstructing samples from Data ...\n",
      "Scaling dataset ... \n",
      "Creating dask array ... \n",
      "Loading model checkpoint experiments/checkpoint_dir/VAE__MNIST_lat15_h500_lay3/-70875 ...\n",
      "\n",
      "INFO:tensorflow:Restoring parameters from experiments/checkpoint_dir/VAE__MNIST_lat15_h500_lay3/-70875\n",
      "Model loaded\n",
      "EPOCHS trained:  80\n"
     ]
    },
    {
     "name": "stderr",
     "output_type": "stream",
     "text": [
      "4it [00:00, 70.48it/s]                                                                                                 \n"
     ]
    },
    {
     "name": "stdout",
     "output_type": "stream",
     "text": [
      "Loading model checkpoint experiments/checkpoint_dir/VAE__MNIST_lat15_h500_lay3/-70875 ...\n",
      "\n",
      "INFO:tensorflow:Restoring parameters from experiments/checkpoint_dir/VAE__MNIST_lat15_h500_lay3/-70875\n",
      "Model loaded\n",
      "EPOCHS trained:  80\n"
     ]
    },
    {
     "name": "stderr",
     "output_type": "stream",
     "text": [
      "4it [00:00, 140.94it/s]                                                                                                \n"
     ]
    },
    {
     "name": "stdout",
     "output_type": "stream",
     "text": [
      "Saving Image  experiments/log_dir/VAE__MNIST_lat15_h500_lay3/VAE__MNIST_lat15_h500_lay3 samples reconstruction epoch 80.jpg\n",
      "total loss Patience count:  1\n",
      "EPOCH:  81\n"
     ]
    },
    {
     "name": "stderr",
     "output_type": "stream",
     "text": [
      "100%|████████████████████████████████████████████████████████████████████████████████| 875/875 [00:50<00:00, 17.16it/s]\n",
      "100%|████████████████████████████████████████████████████████████████████████████████| 218/218 [00:06<00:00, 34.19it/s]\n"
     ]
    },
    {
     "name": "stdout",
     "output_type": "stream",
     "text": [
      "TRAIN: \n",
      "VAE: 254.99896 | AE: 206.31438 | reconstruction: 206.2281 | L2: 86069.055 | \n",
      "EVALUATE: \n",
      "VAE: 265.86383 | AE: 216.9816 | reconstruction: 216.895 | L2: 86553.79 | \n",
      "\n",
      "total loss Patience count:  2\n",
      "EPOCH:  82\n"
     ]
    },
    {
     "name": "stderr",
     "output_type": "stream",
     "text": [
      "100%|████████████████████████████████████████████████████████████████████████████████| 875/875 [00:50<00:00, 17.19it/s]\n",
      "100%|████████████████████████████████████████████████████████████████████████████████| 218/218 [00:06<00:00, 34.06it/s]\n"
     ]
    },
    {
     "name": "stdout",
     "output_type": "stream",
     "text": [
      "TRAIN: \n",
      "VAE: 254.82452 | AE: 206.17648 | reconstruction: 206.08931 | L2: 87068.19 | \n",
      "EVALUATE: \n",
      "VAE: 265.86478 | AE: 217.11545 | reconstruction: 217.02783 | L2: 87590.86 | \n",
      "\n",
      "total loss Patience count:  3\n",
      "EPOCH:  83\n"
     ]
    },
    {
     "name": "stderr",
     "output_type": "stream",
     "text": [
      "100%|████████████████████████████████████████████████████████████████████████████████| 875/875 [00:50<00:00, 17.19it/s]\n",
      "100%|████████████████████████████████████████████████████████████████████████████████| 218/218 [00:06<00:00, 34.10it/s]\n"
     ]
    },
    {
     "name": "stdout",
     "output_type": "stream",
     "text": [
      "TRAIN: \n",
      "VAE: 254.76265 | AE: 206.05821 | reconstruction: 205.97014 | L2: 88086.766 | \n",
      "EVALUATE: \n",
      "VAE: 265.90414 | AE: 216.63197 | reconstruction: 216.54341 | L2: 88574.01 | \n",
      "\n",
      "total loss Patience count:  4\n",
      "EPOCH:  84\n"
     ]
    },
    {
     "name": "stderr",
     "output_type": "stream",
     "text": [
      "100%|████████████████████████████████████████████████████████████████████████████████| 875/875 [00:51<00:00, 17.15it/s]\n",
      "100%|████████████████████████████████████████████████████████████████████████████████| 218/218 [00:06<00:00, 34.23it/s]\n"
     ]
    },
    {
     "name": "stdout",
     "output_type": "stream",
     "text": [
      "TRAIN: \n",
      "VAE: 254.68195 | AE: 206.01617 | reconstruction: 205.92679 | L2: 89090.16 | \n",
      "EVALUATE: \n",
      "VAE: 265.4669 | AE: 216.72156 | reconstruction: 216.63196 | L2: 89590.055 | \n",
      "\n",
      "EPOCH:  85\n"
     ]
    },
    {
     "name": "stderr",
     "output_type": "stream",
     "text": [
      "100%|████████████████████████████████████████████████████████████████████████████████| 875/875 [00:50<00:00, 17.18it/s]\n",
      "100%|████████████████████████████████████████████████████████████████████████████████| 218/218 [00:06<00:00, 34.13it/s]\n"
     ]
    },
    {
     "name": "stdout",
     "output_type": "stream",
     "text": [
      "TRAIN: \n",
      "VAE: 254.61829 | AE: 205.88426 | reconstruction: 205.79411 | L2: 90113.734 | \n",
      "EVALUATE: \n",
      "VAE: 265.86414 | AE: 216.98724 | reconstruction: 216.89645 | L2: 90616.01 | \n",
      "\n",
      "total loss Patience count:  1\n",
      "EPOCH:  86\n"
     ]
    },
    {
     "name": "stderr",
     "output_type": "stream",
     "text": [
      "100%|████████████████████████████████████████████████████████████████████████████████| 875/875 [00:50<00:00, 17.18it/s]\n",
      "100%|████████████████████████████████████████████████████████████████████████████████| 218/218 [00:06<00:00, 34.19it/s]\n"
     ]
    },
    {
     "name": "stdout",
     "output_type": "stream",
     "text": [
      "TRAIN: \n",
      "VAE: 254.52013 | AE: 205.80495 | reconstruction: 205.71388 | L2: 91121.47 | \n",
      "EVALUATE: \n",
      "VAE: 265.946 | AE: 217.04597 | reconstruction: 216.95438 | L2: 91615.36 | \n",
      "\n",
      "total loss Patience count:  2\n",
      "EPOCH:  87\n"
     ]
    },
    {
     "name": "stderr",
     "output_type": "stream",
     "text": [
      "100%|████████████████████████████████████████████████████████████████████████████████| 875/875 [00:50<00:00, 17.14it/s]\n",
      "100%|████████████████████████████████████████████████████████████████████████████████| 218/218 [00:06<00:00, 34.15it/s]\n"
     ]
    },
    {
     "name": "stdout",
     "output_type": "stream",
     "text": [
      "TRAIN: \n",
      "VAE: 254.39368 | AE: 205.70692 | reconstruction: 205.61475 | L2: 92142.83 | \n",
      "EVALUATE: \n",
      "VAE: 265.9454 | AE: 217.40518 | reconstruction: 217.31252 | L2: 92665.22 | \n",
      "\n",
      "total loss Patience count:  3\n",
      "EPOCH:  88\n"
     ]
    },
    {
     "name": "stderr",
     "output_type": "stream",
     "text": [
      "100%|████████████████████████████████████████████████████████████████████████████████| 875/875 [00:50<00:00, 17.16it/s]\n",
      "100%|████████████████████████████████████████████████████████████████████████████████| 218/218 [00:06<00:00, 34.04it/s]\n"
     ]
    },
    {
     "name": "stdout",
     "output_type": "stream",
     "text": [
      "TRAIN: \n",
      "VAE: 254.38776 | AE: 205.68678 | reconstruction: 205.59361 | L2: 93166.766 | \n",
      "EVALUATE: \n",
      "VAE: 265.37543 | AE: 216.62871 | reconstruction: 216.53503 | L2: 93657.22 | \n",
      "\n",
      "EPOCH:  89\n"
     ]
    },
    {
     "name": "stderr",
     "output_type": "stream",
     "text": [
      "100%|████████████████████████████████████████████████████████████████████████████████| 875/875 [00:54<00:00, 16.17it/s]\n",
      "100%|████████████████████████████████████████████████████████████████████████████████| 218/218 [00:06<00:00, 34.20it/s]\n"
     ]
    },
    {
     "name": "stdout",
     "output_type": "stream",
     "text": [
      "TRAIN: \n",
      "VAE: 254.31772 | AE: 205.59354 | reconstruction: 205.49933 | L2: 94163.35 | \n",
      "EVALUATE: \n",
      "VAE: 265.3207 | AE: 216.16396 | reconstruction: 216.06932 | L2: 94652.62 | \n",
      "\n",
      "EPOCH:  90\n"
     ]
    },
    {
     "name": "stderr",
     "output_type": "stream",
     "text": [
      "100%|████████████████████████████████████████████████████████████████████████████████| 875/875 [00:50<00:00, 17.19it/s]\n",
      "100%|████████████████████████████████████████████████████████████████████████████████| 218/218 [00:06<00:00, 34.17it/s]\n"
     ]
    },
    {
     "name": "stdout",
     "output_type": "stream",
     "text": [
      "TRAIN: \n",
      "VAE: 254.25732 | AE: 205.53282 | reconstruction: 205.43767 | L2: 95160.98 | \n",
      "EVALUATE: \n",
      "VAE: 265.05734 | AE: 216.20335 | reconstruction: 216.10764 | L2: 95657.21 | \n",
      "\n",
      "EPOCH:  91\n"
     ]
    },
    {
     "name": "stderr",
     "output_type": "stream",
     "text": [
      "100%|████████████████████████████████████████████████████████████████████████████████| 875/875 [00:50<00:00, 17.21it/s]\n",
      "100%|████████████████████████████████████████████████████████████████████████████████| 218/218 [00:06<00:00, 34.26it/s]\n"
     ]
    },
    {
     "name": "stdout",
     "output_type": "stream",
     "text": [
      "TRAIN: \n",
      "VAE: 254.12921 | AE: 205.40971 | reconstruction: 205.31343 | L2: 96174.086 | \n",
      "EVALUATE: \n",
      "VAE: 265.10913 | AE: 216.94864 | reconstruction: 216.85211 | L2: 96656.79 | \n",
      "\n",
      "total loss Patience count:  1\n",
      "EPOCH:  92\n"
     ]
    },
    {
     "name": "stderr",
     "output_type": "stream",
     "text": [
      "100%|████████████████████████████████████████████████████████████████████████████████| 875/875 [00:50<00:00, 17.21it/s]\n",
      "100%|████████████████████████████████████████████████████████████████████████████████| 218/218 [00:06<00:00, 34.34it/s]\n"
     ]
    },
    {
     "name": "stdout",
     "output_type": "stream",
     "text": [
      "TRAIN: \n",
      "VAE: 254.07487 | AE: 205.37035 | reconstruction: 205.2731 | L2: 97166.87 | \n",
      "EVALUATE: \n",
      "VAE: 265.49918 | AE: 216.23674 | reconstruction: 216.139 | L2: 97703.41 | \n",
      "\n",
      "total loss Patience count:  2\n",
      "EPOCH:  93\n"
     ]
    },
    {
     "name": "stderr",
     "output_type": "stream",
     "text": [
      "100%|████████████████████████████████████████████████████████████████████████████████| 875/875 [00:50<00:00, 17.18it/s]\n",
      "100%|████████████████████████████████████████████████████████████████████████████████| 218/218 [00:06<00:00, 34.25it/s]\n"
     ]
    },
    {
     "name": "stdout",
     "output_type": "stream",
     "text": [
      "TRAIN: \n",
      "VAE: 254.02759 | AE: 205.26305 | reconstruction: 205.16489 | L2: 98169.73 | \n",
      "EVALUATE: \n",
      "VAE: 265.94748 | AE: 216.9294 | reconstruction: 216.83078 | L2: 98648.15 | \n",
      "\n",
      "total loss Patience count:  3\n",
      "EPOCH:  94\n"
     ]
    },
    {
     "name": "stderr",
     "output_type": "stream",
     "text": [
      "100%|████████████████████████████████████████████████████████████████████████████████| 875/875 [00:50<00:00, 17.22it/s]\n",
      "100%|████████████████████████████████████████████████████████████████████████████████| 218/218 [00:06<00:00, 34.29it/s]\n"
     ]
    },
    {
     "name": "stdout",
     "output_type": "stream",
     "text": [
      "TRAIN: \n",
      "VAE: 254.03098 | AE: 205.29291 | reconstruction: 205.19386 | L2: 99140.23 | \n",
      "EVALUATE: \n",
      "VAE: 265.49646 | AE: 216.51024 | reconstruction: 216.41068 | L2: 99636.15 | \n",
      "\n",
      "total loss Patience count:  4\n",
      "EPOCH:  95\n"
     ]
    },
    {
     "name": "stderr",
     "output_type": "stream",
     "text": [
      "100%|████████████████████████████████████████████████████████████████████████████████| 875/875 [00:50<00:00, 17.23it/s]\n",
      "100%|████████████████████████████████████████████████████████████████████████████████| 218/218 [00:06<00:00, 34.10it/s]\n"
     ]
    },
    {
     "name": "stdout",
     "output_type": "stream",
     "text": [
      "TRAIN: \n",
      "VAE: 253.88527 | AE: 205.1371 | reconstruction: 205.03723 | L2: 100127.32 | \n",
      "EVALUATE: \n",
      "VAE: 265.89914 | AE: 217.67896 | reconstruction: 217.57831 | L2: 100618.73 | \n",
      "\n",
      "total loss Patience count:  5\n",
      "EPOCH:  96\n"
     ]
    },
    {
     "name": "stderr",
     "output_type": "stream",
     "text": [
      "100%|████████████████████████████████████████████████████████████████████████████████| 875/875 [00:50<00:00, 17.20it/s]\n",
      "100%|████████████████████████████████████████████████████████████████████████████████| 218/218 [00:06<00:00, 34.26it/s]\n"
     ]
    },
    {
     "name": "stdout",
     "output_type": "stream",
     "text": [
      "TRAIN: \n",
      "VAE: 253.8033 | AE: 205.08972 | reconstruction: 204.98868 | L2: 101143.64 | \n",
      "EVALUATE: \n",
      "VAE: 265.11752 | AE: 216.79727 | reconstruction: 216.69563 | L2: 101630.58 | \n",
      "\n",
      "total loss Patience count:  6\n",
      "EPOCH:  97\n"
     ]
    },
    {
     "name": "stderr",
     "output_type": "stream",
     "text": [
      "100%|████████████████████████████████████████████████████████████████████████████████| 875/875 [00:50<00:00, 17.20it/s]\n",
      "100%|████████████████████████████████████████████████████████████████████████████████| 218/218 [00:06<00:00, 34.03it/s]\n"
     ]
    },
    {
     "name": "stdout",
     "output_type": "stream",
     "text": [
      "TRAIN: \n",
      "VAE: 253.84634 | AE: 205.08336 | reconstruction: 204.9809 | L2: 102151.95 | \n",
      "EVALUATE: \n",
      "VAE: 265.3078 | AE: 216.47093 | reconstruction: 216.36824 | L2: 102672.72 | \n",
      "\n",
      "total loss Patience count:  7\n",
      "EPOCH:  98\n"
     ]
    },
    {
     "name": "stderr",
     "output_type": "stream",
     "text": [
      "100%|████████████████████████████████████████████████████████████████████████████████| 875/875 [00:53<00:00, 16.21it/s]\n",
      "100%|████████████████████████████████████████████████████████████████████████████████| 218/218 [00:06<00:00, 34.04it/s]\n"
     ]
    },
    {
     "name": "stdout",
     "output_type": "stream",
     "text": [
      "TRAIN: \n",
      "VAE: 253.5815 | AE: 204.9224 | reconstruction: 204.81929 | L2: 103147.08 | \n",
      "EVALUATE: \n",
      "VAE: 265.48526 | AE: 216.56712 | reconstruction: 216.46361 | L2: 103594.586 | \n",
      "\n",
      "total loss Patience count:  8\n",
      "decaying learning rate ... \n",
      "new learning rate: 9.999999747378752e-05\n",
      "EPOCH:  99\n"
     ]
    },
    {
     "name": "stderr",
     "output_type": "stream",
     "text": [
      "100%|████████████████████████████████████████████████████████████████████████████████| 875/875 [00:50<00:00, 17.22it/s]\n",
      "100%|████████████████████████████████████████████████████████████████████████████████| 218/218 [00:06<00:00, 34.13it/s]\n"
     ]
    },
    {
     "name": "stdout",
     "output_type": "stream",
     "text": [
      "TRAIN: \n",
      "VAE: 253.62209 | AE: 204.88463 | reconstruction: 204.78052 | L2: 104131.58 | \n",
      "EVALUATE: \n",
      "VAE: 265.26453 | AE: 215.66084 | reconstruction: 215.55634 | L2: 104622.05 | \n",
      "\n",
      "total loss Patience count:  9\n",
      "EPOCH:  100\n"
     ]
    },
    {
     "name": "stderr",
     "output_type": "stream",
     "text": [
      "100%|████████████████████████████████████████████████████████████████████████████████| 875/875 [00:50<00:00, 17.19it/s]\n",
      "100%|████████████████████████████████████████████████████████████████████████████████| 218/218 [00:06<00:00, 34.18it/s]\n"
     ]
    },
    {
     "name": "stdout",
     "output_type": "stream",
     "text": [
      "TRAIN: \n",
      "VAE: 253.63167 | AE: 204.85805 | reconstruction: 204.75305 | L2: 105112.75 | \n",
      "EVALUATE: \n",
      "VAE: 265.0262 | AE: 215.97546 | reconstruction: 215.8699 | L2: 105590.18 | \n",
      "\n",
      "Saving model...\n",
      "WARNING:tensorflow:From C:\\ProgramData\\Anaconda34\\envs\\gpu_env\\lib\\site-packages\\tensorflow\\python\\training\\saver.py:966: remove_checkpoint (from tensorflow.python.training.checkpoint_management) is deprecated and will be removed in a future version.\n",
      "Instructions for updating:\n",
      "Use standard file APIs to delete files with this prefix.\n",
      "Model saved\n",
      "Generating latent space ...\n",
      "Scaling dataset ... \n",
      "Creating dask array ... \n",
      "Loading model checkpoint experiments/checkpoint_dir/VAE__MNIST_lat15_h500_lay3/-88375 ...\n",
      "\n",
      "INFO:tensorflow:Restoring parameters from experiments/checkpoint_dir/VAE__MNIST_lat15_h500_lay3/-88375\n",
      "Model loaded\n",
      "EPOCHS trained:  100\n"
     ]
    },
    {
     "name": "stderr",
     "output_type": "stream",
     "text": [
      "100%|███████████████████████████████████████████████████████████████████████████████| 875/875 [00:03<00:00, 220.95it/s]\n"
     ]
    },
    {
     "name": "stdout",
     "output_type": "stream",
     "text": [
      "Latent space dimensions: (56000, 2)\n",
      "Plotting latent space ...\n",
      "data size (56000, 2)\n"
     ]
    },
    {
     "name": "stderr",
     "output_type": "stream",
     "text": [
      "100%|██████████████████████████████████████████████████████████████████████████| 56000/56000 [00:13<00:00, 4302.07it/s]\n"
     ]
    },
    {
     "name": "stdout",
     "output_type": "stream",
     "text": [
      "Saving Image experiments/log_dir/VAE__MNIST_lat15_h500_lay3/VAE__MNIST_lat15_h500_lay3 latent epoch 100.jpg ...\n",
      "latent space dimensions: (56000, 3)\n",
      "Plotting latent space ...\n",
      "data size (56000, 3)\n"
     ]
    },
    {
     "name": "stderr",
     "output_type": "stream",
     "text": [
      "100%|██████████████████████████████████████████████████████████████████████████████████| 10/10 [00:00<00:00, 93.39it/s]\n"
     ]
    },
    {
     "name": "stdout",
     "output_type": "stream",
     "text": [
      "Saving Image experiments/log_dir/VAE__MNIST_lat15_h500_lay3/VAE__MNIST_lat15_h500_lay3 latent_3d epoch 100.jpg ...\n",
      "Reconstructing samples from Data ...\n",
      "Scaling dataset ... \n",
      "Creating dask array ... \n",
      "Loading model checkpoint experiments/checkpoint_dir/VAE__MNIST_lat15_h500_lay3/-88375 ...\n",
      "\n",
      "INFO:tensorflow:Restoring parameters from experiments/checkpoint_dir/VAE__MNIST_lat15_h500_lay3/-88375\n",
      "Model loaded\n",
      "EPOCHS trained:  100\n"
     ]
    },
    {
     "name": "stderr",
     "output_type": "stream",
     "text": [
      "4it [00:00, 64.04it/s]                                                                                                 \n"
     ]
    },
    {
     "name": "stdout",
     "output_type": "stream",
     "text": [
      "Loading model checkpoint experiments/checkpoint_dir/VAE__MNIST_lat15_h500_lay3/-88375 ...\n",
      "\n",
      "INFO:tensorflow:Restoring parameters from experiments/checkpoint_dir/VAE__MNIST_lat15_h500_lay3/-88375\n",
      "Model loaded\n",
      "EPOCHS trained:  100\n"
     ]
    },
    {
     "name": "stderr",
     "output_type": "stream",
     "text": [
      "4it [00:00, 128.15it/s]                                                                                                \n"
     ]
    },
    {
     "name": "stdout",
     "output_type": "stream",
     "text": [
      "Saving Image  experiments/log_dir/VAE__MNIST_lat15_h500_lay3/VAE__MNIST_lat15_h500_lay3 samples reconstruction epoch 100.jpg\n",
      "EPOCH:  101\n"
     ]
    },
    {
     "name": "stderr",
     "output_type": "stream",
     "text": [
      "100%|████████████████████████████████████████████████████████████████████████████████| 875/875 [00:51<00:00, 17.11it/s]\n",
      "100%|████████████████████████████████████████████████████████████████████████████████| 218/218 [00:06<00:00, 33.99it/s]\n"
     ]
    },
    {
     "name": "stdout",
     "output_type": "stream",
     "text": [
      "TRAIN: \n",
      "VAE: 253.51004 | AE: 204.73445 | reconstruction: 204.62837 | L2: 106110.11 | \n",
      "EVALUATE: \n",
      "VAE: 264.45114 | AE: 216.39613 | reconstruction: 216.28938 | L2: 106603.96 | \n",
      "\n",
      "EPOCH:  102\n"
     ]
    },
    {
     "name": "stderr",
     "output_type": "stream",
     "text": [
      "100%|████████████████████████████████████████████████████████████████████████████████| 875/875 [00:51<00:00, 17.11it/s]\n",
      "100%|████████████████████████████████████████████████████████████████████████████████| 218/218 [00:06<00:00, 34.17it/s]\n"
     ]
    },
    {
     "name": "stdout",
     "output_type": "stream",
     "text": [
      "TRAIN: \n",
      "VAE: 253.42354 | AE: 204.67943 | reconstruction: 204.57225 | L2: 107117.22 | \n",
      "EVALUATE: \n",
      "VAE: 264.9359 | AE: 215.80238 | reconstruction: 215.69484 | L2: 107592.15 | \n",
      "\n",
      "total loss Patience count:  1\n",
      "EPOCH:  103\n"
     ]
    },
    {
     "name": "stderr",
     "output_type": "stream",
     "text": [
      "100%|████████████████████████████████████████████████████████████████████████████████| 875/875 [00:51<00:00, 17.10it/s]\n",
      "100%|████████████████████████████████████████████████████████████████████████████████| 218/218 [00:06<00:00, 34.13it/s]\n"
     ]
    },
    {
     "name": "stdout",
     "output_type": "stream",
     "text": [
      "TRAIN: \n",
      "VAE: 253.36441 | AE: 204.6012 | reconstruction: 204.4931 | L2: 108098.48 | \n",
      "EVALUATE: \n",
      "VAE: 265.16492 | AE: 217.1249 | reconstruction: 217.01643 | L2: 108582.05 | \n",
      "\n",
      "total loss Patience count:  2\n",
      "EPOCH:  104\n"
     ]
    },
    {
     "name": "stderr",
     "output_type": "stream",
     "text": [
      "100%|████████████████████████████████████████████████████████████████████████████████| 875/875 [00:51<00:00, 17.13it/s]\n",
      "100%|████████████████████████████████████████████████████████████████████████████████| 218/218 [00:06<00:00, 34.10it/s]\n"
     ]
    },
    {
     "name": "stdout",
     "output_type": "stream",
     "text": [
      "TRAIN: \n",
      "VAE: 253.33525 | AE: 204.58412 | reconstruction: 204.47498 | L2: 109094.37 | \n",
      "EVALUATE: \n",
      "VAE: 265.087 | AE: 215.76463 | reconstruction: 215.65506 | L2: 109611.44 | \n",
      "\n",
      "total loss Patience count:  3\n",
      "EPOCH:  105\n"
     ]
    },
    {
     "name": "stderr",
     "output_type": "stream",
     "text": [
      "100%|████████████████████████████████████████████████████████████████████████████████| 875/875 [00:51<00:00, 17.13it/s]\n",
      "100%|████████████████████████████████████████████████████████████████████████████████| 218/218 [00:06<00:00, 34.17it/s]\n"
     ]
    },
    {
     "name": "stdout",
     "output_type": "stream",
     "text": [
      "TRAIN: \n",
      "VAE: 253.24039 | AE: 204.47057 | reconstruction: 204.3604 | L2: 110073.55 | \n",
      "EVALUATE: \n",
      "VAE: 265.31586 | AE: 215.68549 | reconstruction: 215.57503 | L2: 110556.55 | \n",
      "\n",
      "total loss Patience count:  4\n",
      "EPOCH:  106\n"
     ]
    },
    {
     "name": "stderr",
     "output_type": "stream",
     "text": [
      "100%|████████████████████████████████████████████████████████████████████████████████| 875/875 [00:51<00:00, 17.07it/s]\n",
      "100%|████████████████████████████████████████████████████████████████████████████████| 218/218 [00:06<00:00, 33.87it/s]\n"
     ]
    },
    {
     "name": "stdout",
     "output_type": "stream",
     "text": [
      "TRAIN: \n",
      "VAE: 253.2753 | AE: 204.46848 | reconstruction: 204.35745 | L2: 111041.89 | \n",
      "EVALUATE: \n",
      "VAE: 265.72235 | AE: 216.48619 | reconstruction: 216.37465 | L2: 111544.65 | \n",
      "\n",
      "total loss Patience count:  5\n",
      "EPOCH:  107\n"
     ]
    },
    {
     "name": "stderr",
     "output_type": "stream",
     "text": [
      "100%|████████████████████████████████████████████████████████████████████████████████| 875/875 [00:51<00:00, 17.13it/s]\n",
      "100%|████████████████████████████████████████████████████████████████████████████████| 218/218 [00:06<00:00, 34.21it/s]\n"
     ]
    },
    {
     "name": "stdout",
     "output_type": "stream",
     "text": [
      "TRAIN: \n",
      "VAE: 253.2226 | AE: 204.40361 | reconstruction: 204.29166 | L2: 112026.836 | \n",
      "EVALUATE: \n",
      "VAE: 265.45535 | AE: 216.86157 | reconstruction: 216.74896 | L2: 112530.14 | \n",
      "\n",
      "total loss Patience count:  6\n",
      "EPOCH:  108\n"
     ]
    },
    {
     "name": "stderr",
     "output_type": "stream",
     "text": [
      "100%|████████████████████████████████████████████████████████████████████████████████| 875/875 [00:51<00:00, 17.12it/s]\n",
      "100%|████████████████████████████████████████████████████████████████████████████████| 218/218 [00:06<00:00, 34.17it/s]\n"
     ]
    },
    {
     "name": "stdout",
     "output_type": "stream",
     "text": [
      "TRAIN: \n",
      "VAE: 253.05554 | AE: 204.29079 | reconstruction: 204.17758 | L2: 112993.36 | \n",
      "EVALUATE: \n",
      "VAE: 264.75125 | AE: 215.61482 | reconstruction: 215.50137 | L2: 113459.836 | \n",
      "\n",
      "total loss Patience count:  7\n",
      "EPOCH:  109\n"
     ]
    },
    {
     "name": "stderr",
     "output_type": "stream",
     "text": [
      "100%|████████████████████████████████████████████████████████████████████████████████| 875/875 [00:51<00:00, 17.05it/s]\n",
      "100%|████████████████████████████████████████████████████████████████████████████████| 218/218 [00:06<00:00, 34.00it/s]\n"
     ]
    },
    {
     "name": "stdout",
     "output_type": "stream",
     "text": [
      "TRAIN: \n",
      "VAE: 253.0983 | AE: 204.29765 | reconstruction: 204.18375 | L2: 113948.26 | \n",
      "EVALUATE: \n",
      "VAE: 264.85715 | AE: 216.50545 | reconstruction: 216.39095 | L2: 114415.875 | \n",
      "\n",
      "total loss Patience count:  8\n",
      "decaying learning rate ... \n",
      "new learning rate: 9.999999747378752e-06\n",
      "EPOCH:  110\n"
     ]
    },
    {
     "name": "stderr",
     "output_type": "stream",
     "text": [
      "100%|████████████████████████████████████████████████████████████████████████████████| 875/875 [00:51<00:00, 17.10it/s]\n",
      "100%|████████████████████████████████████████████████████████████████████████████████| 218/218 [00:06<00:00, 34.02it/s]\n"
     ]
    },
    {
     "name": "stdout",
     "output_type": "stream",
     "text": [
      "TRAIN: \n",
      "VAE: 252.97765 | AE: 204.13913 | reconstruction: 204.02423 | L2: 114935.04 | \n",
      "EVALUATE: \n",
      "VAE: 265.62634 | AE: 216.82503 | reconstruction: 216.70964 | L2: 115426.16 | \n",
      "\n",
      "total loss Patience count:  9\n",
      "EPOCH:  111\n"
     ]
    },
    {
     "name": "stderr",
     "output_type": "stream",
     "text": [
      "100%|████████████████████████████████████████████████████████████████████████████████| 875/875 [00:54<00:00, 15.95it/s]\n",
      "100%|████████████████████████████████████████████████████████████████████████████████| 218/218 [00:06<00:00, 34.14it/s]\n"
     ]
    },
    {
     "name": "stdout",
     "output_type": "stream",
     "text": [
      "TRAIN: \n",
      "VAE: 252.98567 | AE: 204.14653 | reconstruction: 204.03079 | L2: 115897.13 | \n",
      "EVALUATE: \n",
      "VAE: 265.60828 | AE: 217.15073 | reconstruction: 217.03442 | L2: 116340.01 | \n",
      "\n",
      "total loss Patience count:  10\n",
      "EPOCH:  112\n"
     ]
    },
    {
     "name": "stderr",
     "output_type": "stream",
     "text": [
      "100%|████████████████████████████████████████████████████████████████████████████████| 875/875 [00:51<00:00, 17.11it/s]\n",
      "100%|████████████████████████████████████████████████████████████████████████████████| 218/218 [00:06<00:00, 34.01it/s]\n"
     ]
    },
    {
     "name": "stdout",
     "output_type": "stream",
     "text": [
      "TRAIN: \n",
      "VAE: 252.98082 | AE: 204.15915 | reconstruction: 204.04228 | L2: 116837.586 | \n",
      "EVALUATE: \n",
      "VAE: 265.036 | AE: 215.95123 | reconstruction: 215.83397 | L2: 117282.16 | \n",
      "\n",
      "total loss Patience count:  11\n",
      "EPOCH:  113\n"
     ]
    },
    {
     "name": "stderr",
     "output_type": "stream",
     "text": [
      "100%|████████████████████████████████████████████████████████████████████████████████| 875/875 [00:51<00:00, 17.14it/s]\n",
      "100%|████████████████████████████████████████████████████████████████████████████████| 218/218 [00:06<00:00, 34.17it/s]\n"
     ]
    },
    {
     "name": "stdout",
     "output_type": "stream",
     "text": [
      "TRAIN: \n",
      "VAE: 252.86125 | AE: 204.02193 | reconstruction: 203.90417 | L2: 117746.57 | \n",
      "EVALUATE: \n",
      "VAE: 265.04678 | AE: 216.3266 | reconstruction: 216.2084 | L2: 118200.64 | \n",
      "\n",
      "total loss Patience count:  12\n",
      "EPOCH:  114\n"
     ]
    },
    {
     "name": "stderr",
     "output_type": "stream",
     "text": [
      "100%|████████████████████████████████████████████████████████████████████████████████| 875/875 [00:51<00:00, 17.15it/s]\n",
      "100%|████████████████████████████████████████████████████████████████████████████████| 218/218 [00:06<00:00, 33.99it/s]\n"
     ]
    },
    {
     "name": "stdout",
     "output_type": "stream",
     "text": [
      "TRAIN: \n",
      "VAE: 252.78061 | AE: 204.0245 | reconstruction: 203.90564 | L2: 118717.055 | \n",
      "EVALUATE: \n",
      "VAE: 264.76077 | AE: 214.38548 | reconstruction: 214.26624 | L2: 119216.61 | \n",
      "\n",
      "total loss Patience count:  13\n",
      "EPOCH:  115\n"
     ]
    },
    {
     "name": "stderr",
     "output_type": "stream",
     "text": [
      "100%|████████████████████████████████████████████████████████████████████████████████| 875/875 [00:51<00:00, 17.13it/s]\n",
      "100%|████████████████████████████████████████████████████████████████████████████████| 218/218 [00:06<00:00, 34.16it/s]\n"
     ]
    },
    {
     "name": "stdout",
     "output_type": "stream",
     "text": [
      "TRAIN: \n",
      "VAE: 252.87238 | AE: 204.01244 | reconstruction: 203.89287 | L2: 119673.58 | \n",
      "EVALUATE: \n",
      "VAE: 264.99014 | AE: 216.17967 | reconstruction: 216.05951 | L2: 120131.84 | \n",
      "\n",
      "total loss Patience count:  14\n",
      "EPOCH:  116\n"
     ]
    },
    {
     "name": "stderr",
     "output_type": "stream",
     "text": [
      "100%|████████████████████████████████████████████████████████████████████████████████| 875/875 [00:51<00:00, 17.13it/s]\n",
      "100%|████████████████████████████████████████████████████████████████████████████████| 218/218 [00:06<00:00, 34.17it/s]\n"
     ]
    },
    {
     "name": "stdout",
     "output_type": "stream",
     "text": [
      "TRAIN: \n",
      "VAE: 252.83105 | AE: 203.9636 | reconstruction: 203.84323 | L2: 120607.6 | \n",
      "EVALUATE: \n",
      "VAE: 264.82465 | AE: 215.07321 | reconstruction: 214.95212 | L2: 121072.48 | \n",
      "\n",
      "total loss Patience count:  15\n",
      "EPOCH:  117\n"
     ]
    },
    {
     "name": "stderr",
     "output_type": "stream",
     "text": [
      "100%|████████████████████████████████████████████████████████████████████████████████| 875/875 [00:51<00:00, 17.14it/s]\n",
      "100%|████████████████████████████████████████████████████████████████████████████████| 218/218 [00:06<00:00, 34.13it/s]\n"
     ]
    },
    {
     "name": "stdout",
     "output_type": "stream",
     "text": [
      "TRAIN: \n",
      "VAE: 252.777 | AE: 203.9366 | reconstruction: 203.81505 | L2: 121551.586 | \n",
      "EVALUATE: \n",
      "VAE: 265.30115 | AE: 216.01262 | reconstruction: 215.89041 | L2: 122018.51 | \n",
      "\n",
      "total loss Patience count:  16\n",
      "Early Stopping!\n",
      "Saving model...\n",
      "Model saved\n",
      "Generating latent space ...\n",
      "Scaling dataset ... \n",
      "Creating dask array ... \n",
      "Loading model checkpoint experiments/checkpoint_dir/VAE__MNIST_lat15_h500_lay3/-103250 ...\n",
      "\n",
      "INFO:tensorflow:Restoring parameters from experiments/checkpoint_dir/VAE__MNIST_lat15_h500_lay3/-103250\n",
      "Model loaded\n",
      "EPOCHS trained:  118\n"
     ]
    },
    {
     "name": "stderr",
     "output_type": "stream",
     "text": [
      "100%|███████████████████████████████████████████████████████████████████████████████| 875/875 [00:03<00:00, 225.32it/s]\n"
     ]
    },
    {
     "name": "stdout",
     "output_type": "stream",
     "text": [
      "Latent space dimensions: (56000, 2)\n",
      "Plotting latent space ...\n",
      "data size (56000, 2)\n"
     ]
    },
    {
     "name": "stderr",
     "output_type": "stream",
     "text": [
      "100%|██████████████████████████████████████████████████████████████████████████| 56000/56000 [00:13<00:00, 4109.99it/s]\n"
     ]
    },
    {
     "name": "stdout",
     "output_type": "stream",
     "text": [
      "Saving Image experiments/log_dir/VAE__MNIST_lat15_h500_lay3/VAE__MNIST_lat15_h500_lay3 latent epoch 117.jpg ...\n",
      "latent space dimensions: (56000, 3)\n",
      "Plotting latent space ...\n",
      "data size (56000, 3)\n"
     ]
    },
    {
     "name": "stderr",
     "output_type": "stream",
     "text": [
      "100%|██████████████████████████████████████████████████████████████████████████████████| 10/10 [00:00<00:00, 91.15it/s]\n"
     ]
    },
    {
     "name": "stdout",
     "output_type": "stream",
     "text": [
      "Saving Image experiments/log_dir/VAE__MNIST_lat15_h500_lay3/VAE__MNIST_lat15_h500_lay3 latent_3d epoch 117.jpg ...\n",
      "Reconstructing samples from Data ...\n",
      "Scaling dataset ... \n",
      "Creating dask array ... \n",
      "Loading model checkpoint experiments/checkpoint_dir/VAE__MNIST_lat15_h500_lay3/-103250 ...\n",
      "\n",
      "INFO:tensorflow:Restoring parameters from experiments/checkpoint_dir/VAE__MNIST_lat15_h500_lay3/-103250\n",
      "Model loaded\n",
      "EPOCHS trained:  118\n"
     ]
    },
    {
     "name": "stderr",
     "output_type": "stream",
     "text": [
      "4it [00:00, 61.44it/s]                                                                                                 \n"
     ]
    },
    {
     "name": "stdout",
     "output_type": "stream",
     "text": [
      "Loading model checkpoint experiments/checkpoint_dir/VAE__MNIST_lat15_h500_lay3/-103250 ...\n",
      "\n",
      "INFO:tensorflow:Restoring parameters from experiments/checkpoint_dir/VAE__MNIST_lat15_h500_lay3/-103250\n",
      "Model loaded\n",
      "EPOCHS trained:  118\n"
     ]
    },
    {
     "name": "stderr",
     "output_type": "stream",
     "text": [
      "4it [00:00, 128.50it/s]                                                                                                \n"
     ]
    },
    {
     "name": "stdout",
     "output_type": "stream",
     "text": [
      "Saving Image  experiments/log_dir/VAE__MNIST_lat15_h500_lay3/VAE__MNIST_lat15_h500_lay3 samples reconstruction epoch 117.jpg\n"
     ]
    },
    {
     "data": {
      "image/png": "[encoded data removed]",
      "text/plain": [
       "<matplotlib.figure.Figure at 0x1d926a73630>"
      ]
     },
     "metadata": {
      "needs_background": "light"
     },
     "output_type": "display_data"
    }
   ],
   "source": [
    "ae.fit(X,y)"
   ]
  },
  {
   "cell_type": "code",
   "execution_count": null,
   "metadata": {},
   "outputs": [],
   "source": []
  },
  {
   "cell_type": "code",
   "execution_count": null,
   "metadata": {},
   "outputs": [],
   "source": []
  },
  {
   "cell_type": "code",
   "execution_count": null,
   "metadata": {},
   "outputs": [],
   "source": []
  }
 ],
 "metadata": {
  "kernelspec": {
   "display_name": "Python 3",
   "language": "python",
   "name": "python3"
  },
  "language_info": {
   "codemirror_mode": {
    "name": "ipython",
    "version": 3
   },
   "file_extension": ".py",
   "mimetype": "text/x-python",
   "name": "python",
   "nbconvert_exporter": "python",
   "pygments_lexer": "ipython3",
   "version": "3.6.7"
  }
 },
 "nbformat": 4,
 "nbformat_minor": 2
}
